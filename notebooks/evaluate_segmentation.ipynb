{
 "cells": [
  {
   "cell_type": "markdown",
   "id": "3e4b1474",
   "metadata": {},
   "source": [
    "# Evaluate segmentation model\n",
    "\n",
    "This notebook is used to evaluate and inspect the model performance on a test dataset"
   ]
  },
  {
   "cell_type": "code",
   "execution_count": null,
   "id": "520384b3",
   "metadata": {},
   "outputs": [],
   "source": [
    "%load_ext autoreload\n",
    "%autoreload 2"
   ]
  },
  {
   "cell_type": "code",
   "execution_count": null,
   "id": "3ac020d8",
   "metadata": {},
   "outputs": [],
   "source": [
    "import logging\n",
    "\n",
    "import torch\n",
    "import lightning as pl\n",
    "import matplotlib.pyplot as plt\n",
    "\n",
    "from utils.logging import get_client_logger\n",
    "from segmentation_model.dataset import PvSegmentationDataset\n",
    "from segmentation_model.model import PvSegmentationModel"
   ]
  },
  {
   "cell_type": "code",
   "execution_count": null,
   "id": "40de8360",
   "metadata": {},
   "outputs": [],
   "source": [
    "logger = get_client_logger(level=\"DEBUG\")\n",
    "\n",
    "logging.getLogger(\"PIL\").setLevel(logging.WARNING)\n",
    "logging.getLogger(\"matplotlib\").setLevel(logging.WARNING)"
   ]
  },
  {
   "cell_type": "markdown",
   "id": "50ffa9b4",
   "metadata": {},
   "source": [
    "## Load eval dataset"
   ]
  },
  {
   "cell_type": "code",
   "execution_count": null,
   "id": "1fadf0e2",
   "metadata": {},
   "outputs": [],
   "source": [
    "RESIZE_SHAPE = (256, 256)"
   ]
  },
  {
   "cell_type": "code",
   "execution_count": null,
   "id": "b4110bc9",
   "metadata": {},
   "outputs": [],
   "source": [
    "eval_dataset = PvSegmentationDataset(\n",
    "    \"../data/dop10rgbi_32_319_5654_1_nw_2023-20m\",\n",
    "    extension=\"bmp\",\n",
    "    mask_folder_name=\"masks\",\n",
    "    resize_shape=RESIZE_SHAPE,\n",
    ")\n"
   ]
  },
  {
   "cell_type": "code",
   "execution_count": null,
   "id": "d453cb55",
   "metadata": {},
   "outputs": [],
   "source": [
    "BATCH_SIZE = 16\n",
    "\n",
    "test_loader = torch.utils.data.DataLoader(eval_dataset, batch_size=BATCH_SIZE, shuffle=False)"
   ]
  },
  {
   "cell_type": "markdown",
   "id": "d40f1538",
   "metadata": {},
   "source": [
    "## Load model"
   ]
  },
  {
   "cell_type": "code",
   "execution_count": null,
   "id": "69d505af",
   "metadata": {},
   "outputs": [],
   "source": [
    "model_path = '/Users/kopytjuk/Library/CloudStorage/OneDrive-Persönlich/Projekte/Solar Energy Yield/models/training-20250619-0841/stored_model/'"
   ]
  },
  {
   "cell_type": "code",
   "execution_count": null,
   "id": "2c2022b7",
   "metadata": {},
   "outputs": [],
   "source": [
    "pv_model = PvSegmentationModel()\n",
    "pv_model.load_model(model_path)"
   ]
  },
  {
   "cell_type": "markdown",
   "id": "25d07dbc",
   "metadata": {},
   "source": [
    "## Compute overall metrics"
   ]
  },
  {
   "cell_type": "code",
   "execution_count": null,
   "id": "27139f5d",
   "metadata": {},
   "outputs": [],
   "source": [
    "trainer = pl.Trainer()"
   ]
  },
  {
   "cell_type": "code",
   "execution_count": null,
   "id": "0f6afe0f",
   "metadata": {},
   "outputs": [],
   "source": [
    "test_metrics = trainer.test(pv_model, dataloaders=test_loader, verbose=False)\n",
    "test_metrics = test_metrics[0]"
   ]
  },
  {
   "cell_type": "code",
   "execution_count": null,
   "id": "dc48fe47",
   "metadata": {},
   "outputs": [],
   "source": [
    "print(f\"{test_metrics}\")"
   ]
  },
  {
   "cell_type": "markdown",
   "id": "1d8cf3f1",
   "metadata": {},
   "source": [
    "## Visual inspection"
   ]
  },
  {
   "cell_type": "code",
   "execution_count": null,
   "id": "029ebe35",
   "metadata": {},
   "outputs": [],
   "source": [
    "mask_cmap = None# \"binary\""
   ]
  },
  {
   "cell_type": "code",
   "execution_count": null,
   "id": "80aa7641",
   "metadata": {},
   "outputs": [],
   "source": [
    "for batch_i, batch_data in enumerate(iter(test_loader)):\n",
    "    images, gt_masks = batch_data\n",
    "\n",
    "    num_samples = len(images)\n",
    "    assert num_samples == BATCH_SIZE, f\"Batch size mismatch: expected {BATCH_SIZE}, got {num_samples}\"\n",
    "    \n",
    "    with torch.inference_mode():\n",
    "        pv_model.eval()\n",
    "        logits = pv_model.forward(images)\n",
    "        pred_masks = logits.sigmoid()\n",
    "\n",
    "    fig, ax_matrix = plt.subplots(figsize=(15, 4*BATCH_SIZE), nrows=BATCH_SIZE, ncols=3)\n",
    "\n",
    "    fig.suptitle(f\"Batch {batch_i} - Test Predictions\", fontsize=15, y=1.01)\n",
    "\n",
    "    for idx, (image, pred_mask, gt_mask) in enumerate(\n",
    "        zip(images, pred_masks, gt_masks)\n",
    "    ):\n",
    "        \n",
    "        ax_row = ax_matrix[idx]\n",
    "\n",
    "        # from CHW to HWC\n",
    "        image_arr = image.numpy().transpose(1, 2, 0)\n",
    "\n",
    "        ax_row[0].imshow(image_arr)\n",
    "        \n",
    "        ax_row[1].imshow(pred_mask.numpy().squeeze(), vmin=0, vmax=1, cmap=mask_cmap)\n",
    "\n",
    "        ax_row[2].imshow(gt_mask.numpy().squeeze(), vmin=0, vmax=1, cmap=mask_cmap)\n",
    "\n",
    "        for ax in ax_row:\n",
    "            # ax.set_xticks([])\n",
    "            # ax.set_yticks([])\n",
    "\n",
    "            # Remove tick labels\n",
    "            ax.set_xticklabels([])\n",
    "            ax.set_yticklabels([])\n",
    "            \n",
    "            # ax.set_axis_off()\n",
    "        \n",
    "\n",
    "        if idx == 0:\n",
    "            ax_row[0].set_title(\"Input\")\n",
    "            ax_row[1].set_title(\"Prediction\")\n",
    "            ax_row[2].set_title(\"Ground Truth\")\n",
    "\n",
    "        # plt.savefig(f\"batch_{batch_i}_sample_{idx}.png\")\n",
    "    fig.tight_layout()\n",
    "    fig.show()\n",
    "\n",
    "    break"
   ]
  },
  {
   "cell_type": "code",
   "execution_count": null,
   "id": "3d5b7376",
   "metadata": {},
   "outputs": [],
   "source": []
  }
 ],
 "metadata": {
  "kernelspec": {
   "display_name": ".venv",
   "language": "python",
   "name": "python3"
  },
  "language_info": {
   "codemirror_mode": {
    "name": "ipython",
    "version": 3
   },
   "file_extension": ".py",
   "mimetype": "text/x-python",
   "name": "python",
   "nbconvert_exporter": "python",
   "pygments_lexer": "ipython3",
   "version": "3.12.7"
  }
 },
 "nbformat": 4,
 "nbformat_minor": 5
}
