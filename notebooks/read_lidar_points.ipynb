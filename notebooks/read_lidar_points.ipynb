{
 "cells": [
  {
   "cell_type": "code",
   "execution_count": 1,
   "metadata": {},
   "outputs": [],
   "source": [
    "import geopandas as gpd\n",
    "import pandas as pd\n",
    "import laspy"
   ]
  },
  {
   "cell_type": "markdown",
   "metadata": {},
   "source": [
    "## Read data"
   ]
  },
  {
   "cell_type": "code",
   "execution_count": 2,
   "metadata": {},
   "outputs": [],
   "source": [
    "path_to_data = \"../data/3dm_32_280_5652_1_nw.laz\""
   ]
  },
  {
   "cell_type": "code",
   "execution_count": 3,
   "metadata": {},
   "outputs": [
    {
     "name": "stdout",
     "output_type": "stream",
     "text": [
      "Point format:       <PointFormat(1, 0 bytes of extra dims)>\n",
      "Number of points:   15787378\n",
      "Number of vlrs:     2\n"
     ]
    }
   ],
   "source": [
    "with laspy.open(path_to_data) as f:\n",
    "    print(f\"Point format:       {f.header.point_format}\")\n",
    "    print(f\"Number of points:   {f.header.point_count}\")\n",
    "    print(f\"Number of vlrs:     {len(f.header.vlrs)}\")\n",
    "    header= f.header"
   ]
  },
  {
   "cell_type": "code",
   "execution_count": 4,
   "metadata": {},
   "outputs": [
    {
     "data": {
      "text/plain": [
       "Version(major=1, minor=2)"
      ]
     },
     "execution_count": 4,
     "metadata": {},
     "output_type": "execute_result"
    }
   ],
   "source": [
    "header.version"
   ]
  },
  {
   "cell_type": "code",
   "execution_count": 5,
   "metadata": {},
   "outputs": [
    {
     "data": {
      "text/plain": [
       "<Projected CRS: EPSG:25832>\n",
       "Name: ETRS89 / UTM zone 32N\n",
       "Axis Info [cartesian]:\n",
       "- E[east]: Easting (metre)\n",
       "- N[north]: Northing (metre)\n",
       "Area of Use:\n",
       "- name: Europe between 6°E and 12°E: Austria; Belgium; Denmark - onshore and offshore; Germany - onshore and offshore; Norway including - onshore and offshore; Spain - offshore.\n",
       "- bounds: (6.0, 38.76, 12.01, 84.33)\n",
       "Coordinate Operation:\n",
       "- name: UTM zone 32N\n",
       "- method: Transverse Mercator\n",
       "Datum: European Terrestrial Reference System 1989 ensemble\n",
       "- Ellipsoid: GRS 1980\n",
       "- Prime Meridian: Greenwich"
      ]
     },
     "execution_count": 5,
     "metadata": {},
     "output_type": "execute_result"
    }
   ],
   "source": [
    "crs_object = header.parse_crs()\n",
    "crs_object"
   ]
  },
  {
   "cell_type": "code",
   "execution_count": 6,
   "metadata": {},
   "outputs": [],
   "source": [
    "laz_data = laspy.read(path_to_data)"
   ]
  },
  {
   "cell_type": "code",
   "execution_count": 7,
   "metadata": {},
   "outputs": [
    {
     "name": "stdout",
     "output_type": "stream",
     "text": [
      "['__class__', '__delattr__', '__dict__', '__dir__', '__doc__', '__eq__', '__format__', '__ge__', '__getattr__', '__getattribute__', '__getitem__', '__getstate__', '__gt__', '__hash__', '__init__', '__init_subclass__', '__le__', '__len__', '__lt__', '__module__', '__ne__', '__new__', '__reduce__', '__reduce_ex__', '__repr__', '__setattr__', '__setitem__', '__sizeof__', '__str__', '__subclasshook__', '__weakref__', '_append_zeros_if_too_small', 'array', 'change_scaling', 'copy', 'copy_fields_from', 'empty', 'from_buffer', 'from_point_record', 'memoryview', 'offsets', 'point_format', 'point_size', 'resize', 'scales', 'sub_fields_dict', 'validate_dimension_name', 'zeros']\n"
     ]
    }
   ],
   "source": [
    "attributes = dir(laz_data.points[0])\n",
    "print(attributes)"
   ]
  },
  {
   "cell_type": "code",
   "execution_count": 8,
   "metadata": {},
   "outputs": [
    {
     "data": {
      "text/plain": [
       "<SubFieldView(1)>"
      ]
     },
     "execution_count": 8,
     "metadata": {},
     "output_type": "execute_result"
    }
   ],
   "source": [
    "laz_data.points[43].number_of_returns"
   ]
  },
  {
   "cell_type": "code",
   "execution_count": 9,
   "metadata": {},
   "outputs": [
    {
     "data": {
      "text/plain": [
       "15787378"
      ]
     },
     "execution_count": 9,
     "metadata": {},
     "output_type": "execute_result"
    }
   ],
   "source": [
    "len(laz_data.points.X)"
   ]
  },
  {
   "cell_type": "code",
   "execution_count": 10,
   "metadata": {},
   "outputs": [
    {
     "data": {
      "text/plain": [
       "array([41571, 45066, 40981, ..., 23483, 20403, 21932],\n",
       "      shape=(15787378,), dtype=uint16)"
      ]
     },
     "execution_count": 10,
     "metadata": {},
     "output_type": "execute_result"
    }
   ],
   "source": [
    "laz_data.points.intensity"
   ]
  },
  {
   "cell_type": "markdown",
   "metadata": {},
   "source": [
    "## Write data to a GDF"
   ]
  },
  {
   "cell_type": "code",
   "execution_count": 11,
   "metadata": {},
   "outputs": [],
   "source": [
    "lidar_points_gdf = gpd.GeoDataFrame({\"intensity\": laz_data.points.intensity},\n",
    "                                    geometry=gpd.points_from_xy(laz_data.points.x, laz_data.points.y, crs=crs_object))"
   ]
  },
  {
   "cell_type": "code",
   "execution_count": 12,
   "metadata": {},
   "outputs": [
    {
     "data": {
      "text/html": [
       "<div>\n",
       "<style scoped>\n",
       "    .dataframe tbody tr th:only-of-type {\n",
       "        vertical-align: middle;\n",
       "    }\n",
       "\n",
       "    .dataframe tbody tr th {\n",
       "        vertical-align: top;\n",
       "    }\n",
       "\n",
       "    .dataframe thead th {\n",
       "        text-align: right;\n",
       "    }\n",
       "</style>\n",
       "<table border=\"1\" class=\"dataframe\">\n",
       "  <thead>\n",
       "    <tr style=\"text-align: right;\">\n",
       "      <th></th>\n",
       "      <th>intensity</th>\n",
       "      <th>geometry</th>\n",
       "    </tr>\n",
       "  </thead>\n",
       "  <tbody>\n",
       "    <tr>\n",
       "      <th>0</th>\n",
       "      <td>41571</td>\n",
       "      <td>POINT (280000 5652013.19)</td>\n",
       "    </tr>\n",
       "    <tr>\n",
       "      <th>1</th>\n",
       "      <td>45066</td>\n",
       "      <td>POINT (280000 5652013.48)</td>\n",
       "    </tr>\n",
       "    <tr>\n",
       "      <th>2</th>\n",
       "      <td>40981</td>\n",
       "      <td>POINT (280000.32 5652013.23)</td>\n",
       "    </tr>\n",
       "    <tr>\n",
       "      <th>3</th>\n",
       "      <td>40959</td>\n",
       "      <td>POINT (280000.59 5652013.26)</td>\n",
       "    </tr>\n",
       "    <tr>\n",
       "      <th>4</th>\n",
       "      <td>45284</td>\n",
       "      <td>POINT (280000.32 5652013.52)</td>\n",
       "    </tr>\n",
       "  </tbody>\n",
       "</table>\n",
       "</div>"
      ],
      "text/plain": [
       "   intensity                      geometry\n",
       "0      41571     POINT (280000 5652013.19)\n",
       "1      45066     POINT (280000 5652013.48)\n",
       "2      40981  POINT (280000.32 5652013.23)\n",
       "3      40959  POINT (280000.59 5652013.26)\n",
       "4      45284  POINT (280000.32 5652013.52)"
      ]
     },
     "execution_count": 12,
     "metadata": {},
     "output_type": "execute_result"
    }
   ],
   "source": [
    "lidar_points_gdf.head()"
   ]
  },
  {
   "cell_type": "code",
   "execution_count": 13,
   "metadata": {},
   "outputs": [
    {
     "name": "stdout",
     "output_type": "stream",
     "text": [
      "<class 'geopandas.geodataframe.GeoDataFrame'>\n",
      "RangeIndex: 15787378 entries, 0 to 15787377\n",
      "Data columns (total 2 columns):\n",
      " #   Column     Dtype   \n",
      "---  ------     -----   \n",
      " 0   intensity  uint16  \n",
      " 1   geometry   geometry\n",
      "dtypes: geometry(1), uint16(1)\n",
      "memory usage: 150.6 MB\n"
     ]
    }
   ],
   "source": [
    "lidar_points_gdf.info()"
   ]
  },
  {
   "cell_type": "markdown",
   "metadata": {},
   "source": [
    "## Visualize map"
   ]
  },
  {
   "cell_type": "code",
   "execution_count": 14,
   "metadata": {},
   "outputs": [],
   "source": [
    "import plotly.express as px"
   ]
  },
  {
   "cell_type": "code",
   "execution_count": 15,
   "metadata": {},
   "outputs": [],
   "source": [
    "lidar_points_gps_gdf = lidar_points_gdf.to_crs(\"EPSG:4326\")"
   ]
  },
  {
   "cell_type": "code",
   "execution_count": 21,
   "metadata": {},
   "outputs": [
    {
     "data": {
      "application/vnd.plotly.v1+json": {
       "config": {
        "plotlyServerURL": "https://plot.ly"
       },
       "data": [
        {
         "hovertemplate": "intensity=41571<br>lat=%{lat}<br>lon=%{lon}<extra></extra>",
         "lat": {
          "bdata": "ykYowCJ9SUB6auvEJH1JQP3YSNwkfUlA",
          "dtype": "f8"
         },
         "legendgroup": "41571",
         "lon": {
          "bdata": "kyEOnbR2F0BDtqT01HYXQDS+9o7XdhdA",
          "dtype": "f8"
         },
         "marker": {
          "color": "#636efa"
         },
         "mode": "markers",
         "name": "41571",
         "showlegend": true,
         "subplot": "map",
         "type": "scattermap"
        },
        {
         "hovertemplate": "intensity=45066<br>lat=%{lat}<br>lon=%{lon}<extra></extra>",
         "lat": {
          "bdata": "viwA1iJ9SUApkNa8JH1JQA==",
          "dtype": "f8"
         },
         "legendgroup": "45066",
         "lon": {
          "bdata": "PsNHkbR2F0CK0NJh4nYXQA==",
          "dtype": "f8"
         },
         "marker": {
          "color": "#EF553B"
         },
         "mode": "markers",
         "name": "45066",
         "showlegend": true,
         "subplot": "map",
         "type": "scattermap"
        },
        {
         "hovertemplate": "intensity=40981<br>lat=%{lat}<br>lon=%{lon}<extra></extra>",
         "lat": {
          "bdata": "yg0yxCJ9SUD+TF3xI31JQA==",
          "dtype": "f8"
         },
         "legendgroup": "40981",
         "lon": {
          "bdata": "wivezLV2F0BSCNX6ynYXQA==",
          "dtype": "f8"
         },
         "marker": {
          "color": "#00cc96"
         },
         "mode": "markers",
         "name": "40981",
         "showlegend": true,
         "subplot": "map",
         "type": "scattermap"
        },
        {
         "hovertemplate": "intensity=40959<br>lat=%{lat}<br>lon=%{lon}<extra></extra>",
         "lat": {
          "bdata": "gv5RxyJ9SUCNBfKiI31JQA==",
          "dtype": "f8"
         },
         "legendgroup": "40959",
         "lon": {
          "bdata": "RK9czbZ2F0Apjd032HYXQA==",
          "dtype": "f8"
         },
         "marker": {
          "color": "#ab63fa"
         },
         "mode": "markers",
         "name": "40959",
         "showlegend": true,
         "subplot": "map",
         "type": "scattermap"
        },
        {
         "hovertemplate": "intensity=45284<br>lat=%{lat}<br>lon=%{lon}<extra></extra>",
         "lat": {
          "bdata": "v/MJ2iJ9SUBkZ1UmI31JQHczBVIjfUlA+vWm9iN9SUAiBTscJH1JQA==",
          "dtype": "f8"
         },
         "legendgroup": "45284",
         "lon": {
          "bdata": "iM4XwbV2F0CERrOnxXYXQA6pJpDFdhdA94Hlns12F0APuiJZ1XYXQA==",
          "dtype": "f8"
         },
         "marker": {
          "color": "#FFA15A"
         },
         "mode": "markers",
         "name": "45284",
         "showlegend": true,
         "subplot": "map",
         "type": "scattermap"
        },
        {
         "hovertemplate": "intensity=45328<br>lat=%{lat}<br>lon=%{lon}<extra></extra>",
         "lat": {
          "bdata": "lGvn2iJ9SUDQEyZVI31JQFHHbyYkfUlA",
          "dtype": "f8"
         },
         "legendgroup": "45328",
         "lon": {
          "bdata": "jifOwrZ2F0CMFrBGunYXQNveodXcdhdA",
          "dtype": "f8"
         },
         "marker": {
          "color": "#19d3f3"
         },
         "mode": "markers",
         "name": "45328",
         "showlegend": true,
         "subplot": "map",
         "type": "scattermap"
        },
        {
         "hovertemplate": "intensity=45677<br>lat=%{lat}<br>lon=%{lon}<extra></extra>",
         "lat": {
          "bdata": "sBLY6yJ9SUCN7egnJH1JQA==",
          "dtype": "f8"
         },
         "legendgroup": "45677",
         "lon": {
          "bdata": "zmSBhbR2F0BL8x5O4HYXQA==",
          "dtype": "f8"
         },
         "marker": {
          "color": "#FF6692"
         },
         "mode": "markers",
         "name": "45677",
         "showlegend": true,
         "subplot": "map",
         "type": "scattermap"
        },
        {
         "hovertemplate": "intensity=47425<br>lat=%{lat}<br>lon=%{lon}<extra></extra>",
         "lat": {
          "bdata": "0GCf7SJ9SUBSXJdvI31JQA==",
          "dtype": "f8"
         },
         "legendgroup": "47425",
         "lon": {
          "bdata": "4kWJtrV2F0DN5gwxu3YXQA==",
          "dtype": "f8"
         },
         "marker": {
          "color": "#B6E880"
         },
         "mode": "markers",
         "name": "47425",
         "showlegend": true,
         "subplot": "map",
         "type": "scattermap"
        },
        {
         "hovertemplate": "intensity=47796<br>lat=%{lat}<br>lon=%{lon}<extra></extra>",
         "lat": {
          "bdata": "rwW87SJ9SUA=",
          "dtype": "f8"
         },
         "legendgroup": "47796",
         "lon": {
          "bdata": "SZGnuLZ2F0A=",
          "dtype": "f8"
         },
         "marker": {
          "color": "#FF97FF"
         },
         "mode": "markers",
         "name": "47796",
         "showlegend": true,
         "subplot": "map",
         "type": "scattermap"
        },
        {
         "hovertemplate": "intensity=43253<br>lat=%{lat}<br>lon=%{lon}<extra></extra>",
         "lat": {
          "bdata": "Da9w/SJ9SUA=",
          "dtype": "f8"
         },
         "legendgroup": "43253",
         "lon": {
          "bdata": "/nQCrrV2F0A=",
          "dtype": "f8"
         },
         "marker": {
          "color": "#FECB52"
         },
         "mode": "markers",
         "name": "43253",
         "showlegend": true,
         "subplot": "map",
         "type": "scattermap"
        },
        {
         "hovertemplate": "intensity=46923<br>lat=%{lat}<br>lon=%{lon}<extra></extra>",
         "lat": {
          "bdata": "0MzP/yJ9SUBMkGBfJH1JQA==",
          "dtype": "f8"
         },
         "legendgroup": "46923",
         "lon": {
          "bdata": "eOzorrZ2F0DiLGN723YXQA==",
          "dtype": "f8"
         },
         "marker": {
          "color": "#636efa"
         },
         "mode": "markers",
         "name": "46923",
         "showlegend": true,
         "subplot": "map",
         "type": "scattermap"
        },
        {
         "hovertemplate": "intensity=44782<br>lat=%{lat}<br>lon=%{lon}<extra></extra>",
         "lat": {
          "bdata": "/hcozyJ9SUA=",
          "dtype": "f8"
         },
         "legendgroup": "44782",
         "lon": {
          "bdata": "WoGwBLh2F0A=",
          "dtype": "f8"
         },
         "marker": {
          "color": "#EF553B"
         },
         "mode": "markers",
         "name": "44782",
         "showlegend": true,
         "subplot": "map",
         "type": "scattermap"
        },
        {
         "hovertemplate": "intensity=43471<br>lat=%{lat}<br>lon=%{lon}<extra></extra>",
         "lat": {
          "bdata": "3lWY0yJ9SUB9zRE0JH1JQP9sy/wjfUlAH2tHViR9SUB75SZYJH1JQOfpFXkkfUlA",
          "dtype": "f8"
         },
         "legendgroup": "43471",
         "lon": {
          "bdata": "WEqGjLp2F0BsavXEuXYXQGxu9tC+dhdAUonJYc12F0DitLjz03YXQN99GsPSdhdA",
          "dtype": "f8"
         },
         "marker": {
          "color": "#00cc96"
         },
         "mode": "markers",
         "name": "43471",
         "showlegend": true,
         "subplot": "map",
         "type": "scattermap"
        },
        {
         "hovertemplate": "intensity=40435<br>lat=%{lat}<br>lon=%{lon}<extra></extra>",
         "lat": {
          "bdata": "s9Pf1yJ9SUDUwVV2JH1JQA==",
          "dtype": "f8"
         },
         "legendgroup": "40435",
         "lon": {
          "bdata": "FV3KYbl2F0AGhG/Bv3YXQA==",
          "dtype": "f8"
         },
         "marker": {
          "color": "#ab63fa"
         },
         "mode": "markers",
         "name": "40435",
         "showlegend": true,
         "subplot": "map",
         "type": "scattermap"
        },
        {
         "hovertemplate": "intensity=47578<br>lat=%{lat}<br>lon=%{lon}<extra></extra>",
         "lat": {
          "bdata": "G7L84SJ9SUB58IdxI31JQOoTjz0jfUlA",
          "dtype": "f8"
         },
         "legendgroup": "47578",
         "lon": {
          "bdata": "IuyJ+rd2F0Cv8/UOuXYXQOsI+iq5dhdA",
          "dtype": "f8"
         },
         "marker": {
          "color": "#FFA15A"
         },
         "mode": "markers",
         "name": "47578",
         "showlegend": true,
         "subplot": "map",
         "type": "scattermap"
        },
        {
         "hovertemplate": "intensity=44126<br>lat=%{lat}<br>lon=%{lon}<extra></extra>",
         "lat": {
          "bdata": "Dz0hySJ9SUCD+t9NJH1JQCJPD3EkfUlA",
          "dtype": "f8"
         },
         "legendgroup": "44126",
         "lon": {
          "bdata": "bUnIirt2F0BlXzV14XYXQLdVZIvIdhdA",
          "dtype": "f8"
         },
         "marker": {
          "color": "#19d3f3"
         },
         "mode": "markers",
         "name": "44126",
         "showlegend": true,
         "subplot": "map",
         "type": "scattermap"
        },
        {
         "hovertemplate": "intensity=43537<br>lat=%{lat}<br>lon=%{lon}<extra></extra>",
         "lat": {
          "bdata": "z+c+5CJ9SUBl7rcNI31JQA==",
          "dtype": "f8"
         },
         "legendgroup": "43537",
         "lon": {
          "bdata": "7lcqfLt2F0C9WY1aw3YXQA==",
          "dtype": "f8"
         },
         "marker": {
          "color": "#FF6692"
         },
         "mode": "markers",
         "name": "43537",
         "showlegend": true,
         "subplot": "map",
         "type": "scattermap"
        },
        {
         "hovertemplate": "intensity=43493<br>lat=%{lat}<br>lon=%{lon}<extra></extra>",
         "lat": {
          "bdata": "fIBx1CJ9SUDKoW/hI31JQN4CB0YjfUlA",
          "dtype": "f8"
         },
         "legendgroup": "43493",
         "lon": {
          "bdata": "uBKZK752F0ADDWV+xnYXQJRL9jfXdhdA",
          "dtype": "f8"
         },
         "marker": {
          "color": "#B6E880"
         },
         "mode": "markers",
         "name": "43493",
         "showlegend": true,
         "subplot": "map",
         "type": "scattermap"
        },
        {
         "hovertemplate": "intensity=42248<br>lat=%{lat}<br>lon=%{lon}<extra></extra>",
         "lat": {
          "bdata": "0JN/2CJ9SUA=",
          "dtype": "f8"
         },
         "legendgroup": "42248",
         "lon": {
          "bdata": "/68Mvrx2F0A=",
          "dtype": "f8"
         },
         "marker": {
          "color": "#FF97FF"
         },
         "mode": "markers",
         "name": "42248",
         "showlegend": true,
         "subplot": "map",
         "type": "scattermap"
        },
        {
         "hovertemplate": "intensity=40085<br>lat=%{lat}<br>lon=%{lon}<extra></extra>",
         "lat": {
          "bdata": "x+Hx6iJ9SUA=",
          "dtype": "f8"
         },
         "legendgroup": "40085",
         "lon": {
          "bdata": "sg7wf7p2F0A=",
          "dtype": "f8"
         },
         "marker": {
          "color": "#FECB52"
         },
         "mode": "markers",
         "name": "40085",
         "showlegend": true,
         "subplot": "map",
         "type": "scattermap"
        },
        {
         "hovertemplate": "intensity=40544<br>lat=%{lat}<br>lon=%{lon}<extra></extra>",
         "lat": {
          "bdata": "w8fJACN9SUA=",
          "dtype": "f8"
         },
         "legendgroup": "40544",
         "lon": {
          "bdata": "wbUpdLp2F0A=",
          "dtype": "f8"
         },
         "marker": {
          "color": "#636efa"
         },
         "mode": "markers",
         "name": "40544",
         "showlegend": true,
         "subplot": "map",
         "type": "scattermap"
        },
        {
         "hovertemplate": "intensity=45612<br>lat=%{lat}<br>lon=%{lon}<extra></extra>",
         "lat": {
          "bdata": "tub27CJ9SUBDjL/0In1JQCDppr8jfUlA",
          "dtype": "f8"
         },
         "legendgroup": "45612",
         "lon": {
          "bdata": "mvRrVrl2F0BfqoVryXYXQNgjoRXLdhdA",
          "dtype": "f8"
         },
         "marker": {
          "color": "#EF553B"
         },
         "mode": "markers",
         "name": "45612",
         "showlegend": true,
         "subplot": "map",
         "type": "scattermap"
        },
        {
         "hovertemplate": "intensity=46224<br>lat=%{lat}<br>lon=%{lon}<extra></extra>",
         "lat": {
          "bdata": "jBjSBSN9SUDj5aTcIn1JQHBZzUAkfUlAqnqFSCR9SUBdJvKpJH1JQPhG03gkfUlA",
          "dtype": "f8"
         },
         "legendgroup": "46224",
         "lon": {
          "bdata": "wNQFSbl2F0CfCFz7zHYXQEbYTgDUdhdAyo1SAuR2F0AfNjFT23YXQJJDtMDedhdA",
          "dtype": "f8"
         },
         "marker": {
          "color": "#00cc96"
         },
         "mode": "markers",
         "name": "46224",
         "showlegend": true,
         "subplot": "map",
         "type": "scattermap"
        },
        {
         "hovertemplate": "intensity=45874<br>lat=%{lat}<br>lon=%{lon}<extra></extra>",
         "lat": {
          "bdata": "xtrgFSN9SUDshvJpI31JQNzSK4gjfUlA/QPumyN9SUDIWRIPJH1JQOQHOjgkfUlA",
          "dtype": "f8"
         },
         "legendgroup": "45874",
         "lon": {
          "bdata": "HU7LaLp2F0AUOPNtxHYXQIxiMP3HdhdAfZevisx2F0Bj5U872nYXQIdnI/PYdhdA",
          "dtype": "f8"
         },
         "marker": {
          "color": "#ab63fa"
         },
         "mode": "markers",
         "name": "45874",
         "showlegend": true,
         "subplot": "map",
         "type": "scattermap"
        },
        {
         "hovertemplate": "intensity=47600<br>lat=%{lat}<br>lon=%{lon}<extra></extra>",
         "lat": {
          "bdata": "N0zR9CJ9SUBk9FY2JH1JQA==",
          "dtype": "f8"
         },
         "legendgroup": "47600",
         "lon": {
          "bdata": "1VZj8Ld2F0Art3M3zHYXQA==",
          "dtype": "f8"
         },
         "marker": {
          "color": "#FFA15A"
         },
         "mode": "markers",
         "name": "47600",
         "showlegend": true,
         "subplot": "map",
         "type": "scattermap"
        },
        {
         "hovertemplate": "intensity=46813<br>lat=%{lat}<br>lon=%{lon}<extra></extra>",
         "lat": {
          "bdata": "LjKpCiN9SUA=",
          "dtype": "f8"
         },
         "legendgroup": "46813",
         "lon": {
          "bdata": "dPuc5Ld2F0A=",
          "dtype": "f8"
         },
         "marker": {
          "color": "#19d3f3"
         },
         "mode": "markers",
         "name": "46813",
         "showlegend": true,
         "subplot": "map",
         "type": "scattermap"
        },
        {
         "hovertemplate": "intensity=47316<br>lat=%{lat}<br>lon=%{lon}<extra></extra>",
         "lat": {
          "bdata": "8hqgEiN9SUCG0Oe9I31JQA==",
          "dtype": "f8"
         },
         "legendgroup": "47316",
         "lon": {
          "bdata": "CsweQrl2F0C8tCTuyXYXQA==",
          "dtype": "f8"
         },
         "marker": {
          "color": "#FF6692"
         },
         "mode": "markers",
         "name": "47316",
         "showlegend": true,
         "subplot": "map",
         "type": "scattermap"
        },
        {
         "hovertemplate": "intensity=45787<br>lat=%{lat}<br>lon=%{lon}<extra></extra>",
         "lat": {
          "bdata": "AfxyJiN9SUDSVPH9I31JQA==",
          "dtype": "f8"
         },
         "legendgroup": "45787",
         "lon": {
          "bdata": "447cX7p2F0CBaM620XYXQA==",
          "dtype": "f8"
         },
         "marker": {
          "color": "#B6E880"
         },
         "mode": "markers",
         "name": "45787",
         "showlegend": true,
         "subplot": "map",
         "type": "scattermap"
        },
        {
         "hovertemplate": "intensity=43012<br>lat=%{lat}<br>lon=%{lon}<extra></extra>",
         "lat": {
          "bdata": "uXOY+yJ9SUC6fL/pI31JQA==",
          "dtype": "f8"
         },
         "legendgroup": "43012",
         "lon": {
          "bdata": "Kx2Ub7t2F0B2QLMR2HYXQA==",
          "dtype": "f8"
         },
         "marker": {
          "color": "#FF97FF"
         },
         "mode": "markers",
         "name": "43012",
         "showlegend": true,
         "subplot": "map",
         "type": "scattermap"
        },
        {
         "hovertemplate": "intensity=42182<br>lat=%{lat}<br>lon=%{lon}<extra></extra>",
         "lat": {
          "bdata": "q8Va8SJ9SUCckUu6I31JQA==",
          "dtype": "f8"
         },
         "legendgroup": "42182",
         "lon": {
          "bdata": "3ZOmsLx2F0CObkcr2HYXQA==",
          "dtype": "f8"
         },
         "marker": {
          "color": "#FECB52"
         },
         "mode": "markers",
         "name": "42182",
         "showlegend": true,
         "subplot": "map",
         "type": "scattermap"
        },
        {
         "hovertemplate": "intensity=41112<br>lat=%{lat}<br>lon=%{lon}<extra></extra>",
         "lat": {
          "bdata": "Y9+L7CJ9SUB0g5vvI31JQA==",
          "dtype": "f8"
         },
         "legendgroup": "41112",
         "lon": {
          "bdata": "aumaHr52F0DPrqJft3YXQA==",
          "dtype": "f8"
         },
         "marker": {
          "color": "#636efa"
         },
         "mode": "markers",
         "name": "41112",
         "showlegend": true,
         "subplot": "map",
         "type": "scattermap"
        },
        {
         "hovertemplate": "intensity=41658<br>lat=%{lat}<br>lon=%{lon}<extra></extra>",
         "lat": {
          "bdata": "p6syByN9SUA=",
          "dtype": "f8"
         },
         "legendgroup": "41658",
         "lon": {
          "bdata": "9TzgpLx2F0A=",
          "dtype": "f8"
         },
         "marker": {
          "color": "#EF553B"
         },
         "mode": "markers",
         "name": "41658",
         "showlegend": true,
         "subplot": "map",
         "type": "scattermap"
        },
        {
         "hovertemplate": "intensity=45262<br>lat=%{lat}<br>lon=%{lon}<extra></extra>",
         "lat": {
          "bdata": "NuQnBiN9SUDcHQcrI31JQFRi/2okfUlA9kE3XyR9SUA=",
          "dtype": "f8"
         },
         "legendgroup": "45262",
         "lon": {
          "bdata": "YN3MEL52F0BeOFE9ynYXQABTepDWdhdAEi2Czt52F0A=",
          "dtype": "f8"
         },
         "marker": {
          "color": "#00cc96"
         },
         "mode": "markers",
         "name": "45262",
         "showlegend": true,
         "subplot": "map",
         "type": "scattermap"
        },
        {
         "hovertemplate": "intensity=41636<br>lat=%{lat}<br>lon=%{lon}<extra></extra>",
         "lat": {
          "bdata": "kaVzFCN9SUCMLO0YJH1JQA==",
          "dtype": "f8"
         },
         "legendgroup": "41636",
         "lon": {
          "bdata": "gv8tYrt2F0ASIPjL3XYXQA==",
          "dtype": "f8"
         },
         "marker": {
          "color": "#ab63fa"
         },
         "mode": "markers",
         "name": "41636",
         "showlegend": true,
         "subplot": "map",
         "type": "scattermap"
        },
        {
         "hovertemplate": "intensity=40304<br>lat=%{lat}<br>lon=%{lon}<extra></extra>",
         "lat": {
          "bdata": "o3zGICN9SUBO4rUHJH1JQA==",
          "dtype": "f8"
         },
         "legendgroup": "40304",
         "lon": {
          "bdata": "gbCGjbx2F0BwfaRSt3YXQA==",
          "dtype": "f8"
         },
         "marker": {
          "color": "#FFA15A"
         },
         "mode": "markers",
         "name": "40304",
         "showlegend": true,
         "subplot": "map",
         "type": "scattermap"
        },
        {
         "hovertemplate": "intensity=45240<br>lat=%{lat}<br>lon=%{lon}<extra></extra>",
         "lat": {
          "bdata": "cQSOLCN9SUAyK3KPI31JQA==",
          "dtype": "f8"
         },
         "legendgroup": "45240",
         "lon": {
          "bdata": "FtMvVbt2F0D/XJ0vy3YXQA==",
          "dtype": "f8"
         },
         "marker": {
          "color": "#19d3f3"
         },
         "mode": "markers",
         "name": "45240",
         "showlegend": true,
         "subplot": "map",
         "type": "scattermap"
        },
        {
         "hovertemplate": "intensity=41003<br>lat=%{lat}<br>lon=%{lon}<extra></extra>",
         "lat": {
          "bdata": "LZ3AHCN9SUCfNaMNJH1JQA==",
          "dtype": "f8"
         },
         "legendgroup": "41003",
         "lon": {
          "bdata": "YpaeBL52F0BChd/5v3YXQA==",
          "dtype": "f8"
         },
         "marker": {
          "color": "#FF6692"
         },
         "mode": "markers",
         "name": "41003",
         "showlegend": true,
         "subplot": "map",
         "type": "scattermap"
        },
        {
         "hovertemplate": "intensity=41855<br>lat=%{lat}<br>lon=%{lon}<extra></extra>",
         "lat": {
          "bdata": "LIOYMiN9SUDI/OdWJH1JQEesR/gjfUlA",
          "dtype": "f8"
         },
         "legendgroup": "41855",
         "lon": {
          "bdata": "lUDY+L12F0BnqII1xnYXQO8nVtXidhdA",
          "dtype": "f8"
         },
         "marker": {
          "color": "#B6E880"
         },
         "mode": "markers",
         "name": "41855",
         "showlegend": true,
         "subplot": "map",
         "type": "scattermap"
        },
        {
         "hovertemplate": "intensity=45459<br>lat=%{lat}<br>lon=%{lon}<extra></extra>",
         "lat": {
          "bdata": "n0ANyyJ9SUBbehElI31JQFQBYFQjfUlAZ72DciR9SUA=",
          "dtype": "f8"
         },
         "legendgroup": "45459",
         "lon": {
          "bdata": "kBDmiL92F0C5JvdNw3YXQJikaS7JdhdA1c6C5dN2F0A=",
          "dtype": "f8"
         },
         "marker": {
          "color": "#FF97FF"
         },
         "mode": "markers",
         "name": "45459",
         "showlegend": true,
         "subplot": "map",
         "type": "scattermap"
        },
        {
         "hovertemplate": "intensity=44279<br>lat=%{lat}<br>lon=%{lon}<extra></extra>",
         "lat": {
          "bdata": "j8xm4iJ9SUDh0BgMI31JQIZlT6skfUlA",
          "dtype": "f8"
         },
         "legendgroup": "44279",
         "lon": {
          "bdata": "9dlPfL92F0BMxcfhzHYXQNeqcgLVdhdA",
          "dtype": "f8"
         },
         "marker": {
          "color": "#FECB52"
         },
         "mode": "markers",
         "name": "44279",
         "showlegend": true,
         "subplot": "map",
         "type": "scattermap"
        },
        {
         "hovertemplate": "intensity=46005<br>lat=%{lat}<br>lon=%{lon}<extra></extra>",
         "lat": {
          "bdata": "NGg50yJ9SUAbPZo9I31JQNR5wWsjfUlAg5hsRyN9SUC8G1tZI31JQLrhkUMkfUlA",
          "dtype": "f8"
         },
         "legendgroup": "46005",
         "lon": {
          "bdata": "n6YoBcJ2F0AClGIlyHYXQDNMN67MdhdAmndXL892F0DNkzNe03YXQHvaMKPidhdA",
          "dtype": "f8"
         },
         "marker": {
          "color": "#636efa"
         },
         "mode": "markers",
         "name": "46005",
         "showlegend": true,
         "subplot": "map",
         "type": "scattermap"
        },
        {
         "hovertemplate": "intensity=47338<br>lat=%{lat}<br>lon=%{lon}<extra></extra>",
         "lat": {
          "bdata": "WNXc2yJ9SUA=",
          "dtype": "f8"
         },
         "legendgroup": "47338",
         "lon": {
          "bdata": "appDqMB2F0A=",
          "dtype": "f8"
         },
         "marker": {
          "color": "#EF553B"
         },
         "mode": "markers",
         "name": "47338",
         "showlegend": true,
         "subplot": "map",
         "type": "scattermap"
        },
        {
         "hovertemplate": "intensity=46529<br>lat=%{lat}<br>lon=%{lon}<extra></extra>",
         "lat": {
          "bdata": "edYE3yJ9SUBEbT1fI31JQA==",
          "dtype": "f8"
         },
         "legendgroup": "46529",
         "lon": {
          "bdata": "X7+5c8N2F0CUlZlJy3YXQA==",
          "dtype": "f8"
         },
         "marker": {
          "color": "#00cc96"
         },
         "mode": "markers",
         "name": "46529",
         "showlegend": true,
         "subplot": "map",
         "type": "scattermap"
        },
        {
         "hovertemplate": "intensity=47097<br>lat=%{lat}<br>lon=%{lon}<extra></extra>",
         "lat": {
          "bdata": "KWwY3SJ9SUAzZJcwI31JQLjOO+wjfUlA",
          "dtype": "f8"
         },
         "legendgroup": "47097",
         "lon": {
          "bdata": "9FPgucR2F0CHVkTJwXYXQL9IBw/TdhdA",
          "dtype": "f8"
         },
         "marker": {
          "color": "#ab63fa"
         },
         "mode": "markers",
         "name": "47097",
         "showlegend": true,
         "subplot": "map",
         "type": "scattermap"
        },
        {
         "hovertemplate": "intensity=47731<br>lat=%{lat}<br>lon=%{lon}<extra></extra>",
         "lat": {
          "bdata": "ecNI4CJ9SUA=",
          "dtype": "f8"
         },
         "legendgroup": "47731",
         "lon": {
          "bdata": "Gth1zcV2F0A=",
          "dtype": "f8"
         },
         "marker": {
          "color": "#FFA15A"
         },
         "mode": "markers",
         "name": "47731",
         "showlegend": true,
         "subplot": "map",
         "type": "scattermap"
        },
        {
         "hovertemplate": "intensity=44978<br>lat=%{lat}<br>lon=%{lon}<extra></extra>",
         "lat": {
          "bdata": "tVH3+CJ9SUAWSMelJH1JQA==",
          "dtype": "f8"
         },
         "legendgroup": "44978",
         "lon": {
          "bdata": "1hWWZr92F0A4lQuA3XYXQA==",
          "dtype": "f8"
         },
         "marker": {
          "color": "#19d3f3"
         },
         "mode": "markers",
         "name": "44978",
         "showlegend": true,
         "subplot": "map",
         "type": "scattermap"
        },
        {
         "hovertemplate": "intensity=46420<br>lat=%{lat}<br>lon=%{lon}<extra></extra>",
         "lat": {
          "bdata": "Jq059iJ9SUCKUz9bI31JQA==",
          "dtype": "f8"
         },
         "legendgroup": "46420",
         "lon": {
          "bdata": "BKANmsB2F0BUeoEO0nYXQA==",
          "dtype": "f8"
         },
         "marker": {
          "color": "#FF6692"
         },
         "mode": "markers",
         "name": "46420",
         "showlegend": true,
         "subplot": "map",
         "type": "scattermap"
        },
        {
         "hovertemplate": "intensity=45503<br>lat=%{lat}<br>lon=%{lon}<extra></extra>",
         "lat": {
          "bdata": "MsBQCyN9SUArY4mHJH1JQA==",
          "dtype": "f8"
         },
         "legendgroup": "45503",
         "lon": {
          "bdata": "+j2vjsB2F0CYRgMR4HYXQA==",
          "dtype": "f8"
         },
         "marker": {
          "color": "#B6E880"
         },
         "mode": "markers",
         "name": "45503",
         "showlegend": true,
         "subplot": "map",
         "type": "scattermap"
        },
        {
         "hovertemplate": "intensity=46027<br>lat=%{lat}<br>lon=%{lon}<extra></extra>",
         "lat": {
          "bdata": "S0zkASN9SUAjJecOI31JQHjsnWgjfUlA9Xe8hyR9SUA=",
          "dtype": "f8"
         },
         "legendgroup": "46027",
         "lon": {
          "bdata": "jL9w4sF2F0Be8I4+yHYXQBZp+IPFdhdAHPbId8l2F0A=",
          "dtype": "f8"
         },
         "marker": {
          "color": "#FF97FF"
         },
         "mode": "markers",
         "name": "46027",
         "showlegend": true,
         "subplot": "map",
         "type": "scattermap"
        },
        {
         "hovertemplate": "intensity=43406<br>lat=%{lat}<br>lon=%{lon}<extra></extra>",
         "lat": {
          "bdata": "i1aTEiN9SUB6kS4pI31JQA==",
          "dtype": "f8"
         },
         "legendgroup": "43406",
         "lon": {
          "bdata": "KQvIWL92F0DOObuB03YXQA==",
          "dtype": "f8"
         },
         "marker": {
          "color": "#FECB52"
         },
         "mode": "markers",
         "name": "43406",
         "showlegend": true,
         "subplot": "map",
         "type": "scattermap"
        },
        {
         "hovertemplate": "intensity=42335<br>lat=%{lat}<br>lon=%{lon}<extra></extra>",
         "lat": {
          "bdata": "dLWtKiN9SUA=",
          "dtype": "f8"
         },
         "legendgroup": "42335",
         "lon": {
          "bdata": "1+LJS792F0A=",
          "dtype": "f8"
         },
         "marker": {
          "color": "#636efa"
         },
         "mode": "markers",
         "name": "42335",
         "showlegend": true,
         "subplot": "map",
         "type": "scattermap"
        },
        {
         "hovertemplate": "intensity=44257<br>lat=%{lat}<br>lon=%{lon}<extra></extra>",
         "lat": {
          "bdata": "NqYoISN9SUAPueHlI31JQA==",
          "dtype": "f8"
         },
         "legendgroup": "44257",
         "lon": {
          "bdata": "nerogsB2F0Ch6Q1B5HYXQA==",
          "dtype": "f8"
         },
         "marker": {
          "color": "#EF553B"
         },
         "mode": "markers",
         "name": "44257",
         "showlegend": true,
         "subplot": "map",
         "type": "scattermap"
        },
        {
         "hovertemplate": "intensity=46944<br>lat=%{lat}<br>lon=%{lon}<extra></extra>",
         "lat": {
          "bdata": "SAV9GCN9SUA2YiaGJH1JQA==",
          "dtype": "f8"
         },
         "legendgroup": "46944",
         "lon": {
          "bdata": "R3xC1sF2F0Cs+QWAyHYXQA==",
          "dtype": "f8"
         },
         "marker": {
          "color": "#00cc96"
         },
         "mode": "markers",
         "name": "46944",
         "showlegend": true,
         "subplot": "map",
         "type": "scattermap"
        },
        {
         "hovertemplate": "intensity=45350<br>lat=%{lat}<br>lon=%{lon}<extra></extra>",
         "lat": {
          "bdata": "eY+d9SJ9SUC7rFCKI31JQL9+CZ8jfUlAn/KBPiR9SUA=",
          "dtype": "f8"
         },
         "legendgroup": "45350",
         "lon": {
          "bdata": "vX2LZ8N2F0Bce89D03YXQFje9unRdhdA3lQYv9x2F0A=",
          "dtype": "f8"
         },
         "marker": {
          "color": "#ab63fa"
         },
         "mode": "markers",
         "name": "45350",
         "showlegend": true,
         "subplot": "map",
         "type": "scattermap"
        },
        {
         "hovertemplate": "intensity=47381<br>lat=%{lat}<br>lon=%{lon}<extra></extra>",
         "lat": {
          "bdata": "Dp7z9SJ9SUA=",
          "dtype": "f8"
         },
         "legendgroup": "47381",
         "lon": {
          "bdata": "VEB6rMR2F0A=",
          "dtype": "f8"
         },
         "marker": {
          "color": "#FFA15A"
         },
         "mode": "markers",
         "name": "47381",
         "showlegend": true,
         "subplot": "map",
         "type": "scattermap"
        },
        {
         "hovertemplate": "intensity=45306<br>lat=%{lat}<br>lon=%{lon}<extra></extra>",
         "lat": {
          "bdata": "g6kg9iJ9SUA=",
          "dtype": "f8"
         },
         "legendgroup": "45306",
         "lon": {
          "bdata": "zYmvwcV2F0A=",
          "dtype": "f8"
         },
         "marker": {
          "color": "#19d3f3"
         },
         "mode": "markers",
         "name": "45306",
         "showlegend": true,
         "subplot": "map",
         "type": "scattermap"
        },
        {
         "hovertemplate": "intensity=44563<br>lat=%{lat}<br>lon=%{lon}<extra></extra>",
         "lat": {
          "bdata": "D1eMDCN9SUBH7NODI31JQMJerigkfUlAPi6fuyR9SUBP+RrSJH1JQA==",
          "dtype": "f8"
         },
         "legendgroup": "44563",
         "lon": {
          "bdata": "0P9LoMR2F0CsWNUUyXYXQCn3gS3adhdAqltFdN12F0ARXtHo33YXQA==",
          "dtype": "f8"
         },
         "marker": {
          "color": "#FF6692"
         },
         "mode": "markers",
         "name": "44563",
         "showlegend": true,
         "subplot": "map",
         "type": "scattermap"
        },
        {
         "hovertemplate": "intensity=46398<br>lat=%{lat}<br>lon=%{lon}<extra></extra>",
         "lat": {
          "bdata": "dQg7DiN9SUDjvuwSI31JQDu5BKYkfUlA",
          "dtype": "f8"
         },
         "legendgroup": "46398",
         "lon": {
          "bdata": "OmixtMV2F0BaVU9KynYXQGnyV6jedhdA",
          "dtype": "f8"
         },
         "marker": {
          "color": "#B6E880"
         },
         "mode": "markers",
         "name": "46398",
         "showlegend": true,
         "subplot": "map",
         "type": "scattermap"
        },
        {
         "hovertemplate": "intensity=46464<br>lat=%{lat}<br>lon=%{lon}<extra></extra>",
         "lat": {
          "bdata": "GT1kIiN9SUAFOHLGI31JQA==",
          "dtype": "f8"
         },
         "legendgroup": "46464",
         "lon": {
          "bdata": "QLCFlMR2F0BDtuG4zXYXQA==",
          "dtype": "f8"
         },
         "marker": {
          "color": "#FF97FF"
         },
         "mode": "markers",
         "name": "46464",
         "showlegend": true,
         "subplot": "map",
         "type": "scattermap"
        },
        {
         "hovertemplate": "intensity=46770<br>lat=%{lat}<br>lon=%{lon}<extra></extra>",
         "lat": {
          "bdata": "7zrKFCN9SUA=",
          "dtype": "f8"
         },
         "legendgroup": "46770",
         "lon": {
          "bdata": "UTRsobV2F0A=",
          "dtype": "f8"
         },
         "marker": {
          "color": "#FECB52"
         },
         "mode": "markers",
         "name": "46770",
         "showlegend": true,
         "subplot": "map",
         "type": "scattermap"
        },
        {
         "hovertemplate": "intensity=46158<br>lat=%{lat}<br>lon=%{lon}<extra></extra>",
         "lat": {
          "bdata": "5DllEyN9SUAY9vw4I31JQA==",
          "dtype": "f8"
         },
         "legendgroup": "46158",
         "lon": {
          "bdata": "fmRapLZ2F0B9b1eIxHYXQA==",
          "dtype": "f8"
         },
         "marker": {
          "color": "#636efa"
         },
         "mode": "markers",
         "name": "46158",
         "showlegend": true,
         "subplot": "map",
         "type": "scattermap"
        },
        {
         "hovertemplate": "intensity=45109<br>lat=%{lat}<br>lon=%{lon}<extra></extra>",
         "lat": {
          "bdata": "5CCiKiN9SUC28q+HI31JQA==",
          "dtype": "f8"
         },
         "legendgroup": "45109",
         "lon": {
          "bdata": "qtallbV2F0AhA4320XYXQA==",
          "dtype": "f8"
         },
         "marker": {
          "color": "#EF553B"
         },
         "mode": "markers",
         "name": "45109",
         "showlegend": true,
         "subplot": "map",
         "type": "scattermap"
        },
        {
         "hovertemplate": "intensity=47534<br>lat=%{lat}<br>lon=%{lon}<extra></extra>",
         "lat": {
          "bdata": "40x8KCN9SUA=",
          "dtype": "f8"
         },
         "legendgroup": "47534",
         "lon": {
          "bdata": "Vvn7mLZ2F0A=",
          "dtype": "f8"
         },
         "marker": {
          "color": "#00cc96"
         },
         "mode": "markers",
         "name": "47534",
         "showlegend": true,
         "subplot": "map",
         "type": "scattermap"
        },
        {
         "hovertemplate": "intensity=46333<br>lat=%{lat}<br>lon=%{lon}<extra></extra>",
         "lat": {
          "bdata": "WBG4HyN9SUDifIHUI31JQPiOLo8kfUlA",
          "dtype": "f8"
         },
         "legendgroup": "46333",
         "lon": {
          "bdata": "yxKzz7d2F0C8FQGYvXYXQPu+OYzddhdA",
          "dtype": "f8"
         },
         "marker": {
          "color": "#ab63fa"
         },
         "mode": "markers",
         "name": "46333",
         "showlegend": true,
         "subplot": "map",
         "type": "scattermap"
        },
        {
         "hovertemplate": "intensity=47753<br>lat=%{lat}<br>lon=%{lon}<extra></extra>",
         "lat": {
          "bdata": "Bog1JiN9SUA=",
          "dtype": "f8"
         },
         "legendgroup": "47753",
         "lon": {
          "bdata": "LkaQN7l2F0A=",
          "dtype": "f8"
         },
         "marker": {
          "color": "#FFA15A"
         },
         "mode": "markers",
         "name": "47753",
         "showlegend": true,
         "subplot": "map",
         "type": "scattermap"
        },
        {
         "hovertemplate": "intensity=45699<br>lat=%{lat}<br>lon=%{lon}<extra></extra>",
         "lat": {
          "bdata": "OX/S3CJ9SUD9LffhIn1JQMjo1sojfUlAHGrk1SN9SUA=",
          "dtype": "f8"
         },
         "legendgroup": "45699",
         "lon": {
          "bdata": "CdDgCsd2F0DKf7NkynYXQHJMk4rGdhdAUdtp6tZ2F0A=",
          "dtype": "f8"
         },
         "marker": {
          "color": "#19d3f3"
         },
         "mode": "markers",
         "name": "45699",
         "showlegend": true,
         "subplot": "map",
         "type": "scattermap"
        },
        {
         "hovertemplate": "intensity=44585<br>lat=%{lat}<br>lon=%{lon}<extra></extra>",
         "lat": {
          "bdata": "Mjpz3yJ9SUCX4ifvI31JQPBX4ZkjfUlAcwLD1iN9SUDeOLp4JH1JQA==",
          "dtype": "f8"
         },
         "legendgroup": "44585",
         "lon": {
          "bdata": "Jz0jWMh2F0Ab94piwXYXQB6A96TGdhdA06W+4Ml2F0C0hlbo43YXQA==",
          "dtype": "f8"
         },
         "marker": {
          "color": "#FF6692"
         },
         "mode": "markers",
         "name": "44585",
         "showlegend": true,
         "subplot": "map",
         "type": "scattermap"
        },
        {
         "hovertemplate": "intensity=46486<br>lat=%{lat}<br>lon=%{lon}<extra></extra>",
         "lat": {
          "bdata": "XYcj2yJ9SUCUayDJI31JQCqKjKcjfUlA",
          "dtype": "f8"
         },
         "legendgroup": "46486",
         "lon": {
          "bdata": "26lTecl2F0DRxl0owHYXQHxAnyLLdhdA",
          "dtype": "f8"
         },
         "marker": {
          "color": "#B6E880"
         },
         "mode": "markers",
         "name": "46486",
         "showlegend": true,
         "subplot": "map",
         "type": "scattermap"
        },
        {
         "hovertemplate": "intensity=47512<br>lat=%{lat}<br>lon=%{lon}<extra></extra>",
         "lat": {
          "bdata": "/yvt0yJ9SUC7f7xCI31JQCnxb50jfUlAmXYQtiR9SUA=",
          "dtype": "f8"
         },
         "legendgroup": "47512",
         "lon": {
          "bdata": "nSRCnst2F0AopKeItXYXQB1YBwfJdhdAyNermNJ2F0A=",
          "dtype": "f8"
         },
         "marker": {
          "color": "#FF97FF"
         },
         "mode": "markers",
         "name": "47512",
         "showlegend": true,
         "subplot": "map",
         "type": "scattermap"
        },
        {
         "hovertemplate": "intensity=46071<br>lat=%{lat}<br>lon=%{lon}<extra></extra>",
         "lat": {
          "bdata": "ExLF6SJ9SUAZXvujJH1JQA==",
          "dtype": "f8"
         },
         "legendgroup": "46071",
         "lon": {
          "bdata": "ztt7kst2F0Alxjhv4nYXQA==",
          "dtype": "f8"
         },
         "marker": {
          "color": "#FECB52"
         },
         "mode": "markers",
         "name": "46071",
         "showlegend": true,
         "subplot": "map",
         "type": "scattermap"
        },
        {
         "hovertemplate": "intensity=44323<br>lat=%{lat}<br>lon=%{lon}<extra></extra>",
         "lat": {
          "bdata": "I7Gt9SJ9SUA=",
          "dtype": "f8"
         },
         "legendgroup": "44323",
         "lon": {
          "bdata": "4b56/cZ2F0A=",
          "dtype": "f8"
         },
         "marker": {
          "color": "#636efa"
         },
         "mode": "markers",
         "name": "44323",
         "showlegend": true,
         "subplot": "map",
         "type": "scattermap"
        },
        {
         "hovertemplate": "intensity=44148<br>lat=%{lat}<br>lon=%{lon}<extra></extra>",
         "lat": {
          "bdata": "FBDIDSN9SUDWibyyI31JQNufhzEkfUlATFBTxCR9SUA=",
          "dtype": "f8"
         },
         "legendgroup": "44148",
         "lon": {
          "bdata": "l5588MZ2F0DVbZGXxnYXQObMrOnSdhdALK+ep9h2F0A=",
          "dtype": "f8"
         },
         "marker": {
          "color": "#EF553B"
         },
         "mode": "markers",
         "name": "44148",
         "showlegend": true,
         "subplot": "map",
         "type": "scattermap"
        },
        {
         "hovertemplate": "intensity=43427<br>lat=%{lat}<br>lon=%{lon}<extra></extra>",
         "lat": {
          "bdata": "JpmN9yJ9SUC6kVovJH1JQO39AQUkfUlALjzDiiR9SUBgWM3CJH1JQBK03cwkfUlA",
          "dtype": "f8"
         },
         "legendgroup": "43427",
         "lon": {
          "bdata": "WR4lS8h2F0D+44GZx3YXQKZGvw7ZdhdAzxVWYdF2F0DnOMtF23YXQCPiW3LcdhdA",
          "dtype": "f8"
         },
         "marker": {
          "color": "#00cc96"
         },
         "mode": "markers",
         "name": "43427",
         "showlegend": true,
         "subplot": "map",
         "type": "scattermap"
        },
        {
         "hovertemplate": "intensity=46879<br>lat=%{lat}<br>lon=%{lon}<extra></extra>",
         "lat": {
          "bdata": "ML6aDSN9SUChy0ukI31JQA==",
          "dtype": "f8"
         },
         "legendgroup": "46879",
         "lon": {
          "bdata": "q5sfXsl2F0ButPL7yXYXQA==",
          "dtype": "f8"
         },
         "marker": {
          "color": "#ab63fa"
         },
         "mode": "markers",
         "name": "46879",
         "showlegend": true,
         "subplot": "map",
         "type": "scattermap"
        },
        {
         "hovertemplate": "intensity=45481<br>lat=%{lat}<br>lon=%{lon}<extra></extra>",
         "lat": {
          "bdata": "9RRkJyN9SUCay6E+I31JQNMzHl8kfUlA",
          "dtype": "f8"
         },
         "legendgroup": "45481",
         "lon": {
          "bdata": "IZyu4sZ2F0CtMXFLu3YXQIpqJPbjdhdA",
          "dtype": "f8"
         },
         "marker": {
          "color": "#FFA15A"
         },
         "mode": "markers",
         "name": "45481",
         "showlegend": true,
         "subplot": "map",
         "type": "scattermap"
        },
        {
         "hovertemplate": "intensity=45131<br>lat=%{lat}<br>lon=%{lon}<extra></extra>",
         "lat": {
          "bdata": "akMrJCN9SUA=",
          "dtype": "f8"
         },
         "legendgroup": "45131",
         "lon": {
          "bdata": "6eBlSMl2F0A=",
          "dtype": "f8"
         },
         "marker": {
          "color": "#19d3f3"
         },
         "mode": "markers",
         "name": "45131",
         "showlegend": true,
         "subplot": "map",
         "type": "scattermap"
        },
        {
         "hovertemplate": "intensity=48037<br>lat=%{lat}<br>lon=%{lon}<extra></extra>",
         "lat": {
          "bdata": "F4QBJyN9SUA=",
          "dtype": "f8"
         },
         "legendgroup": "48037",
         "lon": {
          "bdata": "RtGQMch2F0A=",
          "dtype": "f8"
         },
         "marker": {
          "color": "#FF6692"
         },
         "mode": "markers",
         "name": "48037",
         "showlegend": true,
         "subplot": "map",
         "type": "scattermap"
        },
        {
         "hovertemplate": "intensity=46835<br>lat=%{lat}<br>lon=%{lon}<extra></extra>",
         "lat": {
          "bdata": "9YwR+iJ9SUDVca2UJH1JQELdxr4kfUlA",
          "dtype": "f8"
         },
         "legendgroup": "46835",
         "lon": {
          "bdata": "F2O1V8p2F0D7LAtP4XYXQGpLlMLjdhdA",
          "dtype": "f8"
         },
         "marker": {
          "color": "#B6E880"
         },
         "mode": "markers",
         "name": "46835",
         "showlegend": true,
         "subplot": "map",
         "type": "scattermap"
        },
        {
         "hovertemplate": "intensity=44825<br>lat=%{lat}<br>lon=%{lon}<extra></extra>",
         "lat": {
          "bdata": "YPHT/iJ9SUCd6GPWI31JQA==",
          "dtype": "f8"
         },
         "legendgroup": "44825",
         "lon": {
          "bdata": "FwWSfct2F0Bhi80a03YXQA==",
          "dtype": "f8"
         },
         "marker": {
          "color": "#FF97FF"
         },
         "mode": "markers",
         "name": "44825",
         "showlegend": true,
         "subplot": "map",
         "type": "scattermap"
        },
        {
         "hovertemplate": "intensity=43711<br>lat=%{lat}<br>lon=%{lon}<extra></extra>",
         "lat": {
          "bdata": "zupA9iJ9SUAbnrGCI31JQOcfsMUkfUlA",
          "dtype": "f8"
         },
         "legendgroup": "43711",
         "lon": {
          "bdata": "/gyO7cx2F0DpH75YvHYXQOrtJJvXdhdA",
          "dtype": "f8"
         },
         "marker": {
          "color": "#FECB52"
         },
         "mode": "markers",
         "name": "43711",
         "showlegend": true,
         "subplot": "map",
         "type": "scattermap"
        },
        {
         "hovertemplate": "intensity=44236<br>lat=%{lat}<br>lon=%{lon}<extra></extra>",
         "lat": {
          "bdata": "QskwGSN9SUD5XBwdJH1JQA==",
          "dtype": "f8"
         },
         "legendgroup": "44236",
         "lon": {
          "bdata": "0hZcb8t2F0AUOMEB2XYXQA==",
          "dtype": "f8"
         },
         "marker": {
          "color": "#636efa"
         },
         "mode": "markers",
         "name": "44236",
         "showlegend": true,
         "subplot": "map",
         "type": "scattermap"
        },
        {
         "hovertemplate": "intensity=45743<br>lat=%{lat}<br>lon=%{lon}<extra></extra>",
         "lat": {
          "bdata": "Q1WKMCN9SUDtCeDGJH1JQA==",
          "dtype": "f8"
         },
         "legendgroup": "45743",
         "lon": {
          "bdata": "3+vFYst2F0Amhwm403YXQA==",
          "dtype": "f8"
         },
         "marker": {
          "color": "#EF553B"
         },
         "mode": "markers",
         "name": "45743",
         "showlegend": true,
         "subplot": "map",
         "type": "scattermap"
        },
        {
         "hovertemplate": "intensity=47054<br>lat=%{lat}<br>lon=%{lon}<extra></extra>",
         "lat": {
          "bdata": "5VxyIyN9SUAAHKHKI31JQA==",
          "dtype": "f8"
         },
         "legendgroup": "47054",
         "lon": {
          "bdata": "2psx1cx2F0DFQoNxzHYXQA==",
          "dtype": "f8"
         },
         "marker": {
          "color": "#00cc96"
         },
         "mode": "markers",
         "name": "47054",
         "showlegend": true,
         "subplot": "map",
         "type": "scattermap"
        },
        {
         "hovertemplate": "intensity=43209<br>lat=%{lat}<br>lon=%{lon}<extra></extra>",
         "lat": {
          "bdata": "51v01iJ9SUBLcevxIn1JQA==",
          "dtype": "f8"
         },
         "legendgroup": "43209",
         "lon": {
          "bdata": "a1CKQ852F0ATR1Q64nYXQA==",
          "dtype": "f8"
         },
         "marker": {
          "color": "#ab63fa"
         },
         "mode": "markers",
         "name": "43209",
         "showlegend": true,
         "subplot": "map",
         "type": "scattermap"
        },
        {
         "hovertemplate": "intensity=43624<br>lat=%{lat}<br>lon=%{lon}<extra></extra>",
         "lat": {
          "bdata": "YTvH6iJ9SUA=",
          "dtype": "f8"
         },
         "legendgroup": "43624",
         "lon": {
          "bdata": "9SJIYc92F0A=",
          "dtype": "f8"
         },
         "marker": {
          "color": "#FFA15A"
         },
         "mode": "markers",
         "name": "43624",
         "showlegend": true,
         "subplot": "map",
         "type": "scattermap"
        },
        {
         "hovertemplate": "intensity=42990<br>lat=%{lat}<br>lon=%{lon}<extra></extra>",
         "lat": {
          "bdata": "Q6zD4iJ9SUBqdN/gIn1JQMLb2QEkfUlA",
          "dtype": "f8"
         },
         "legendgroup": "42990",
         "lon": {
          "bdata": "4GADWdJ2F0CIc7Wo03YXQPkwtQTYdhdA",
          "dtype": "f8"
         },
         "marker": {
          "color": "#19d3f3"
         },
         "mode": "markers",
         "name": "42990",
         "showlegend": true,
         "subplot": "map",
         "type": "scattermap"
        },
        {
         "hovertemplate": "intensity=44891<br>lat=%{lat}<br>lon=%{lon}<extra></extra>",
         "lat": {
          "bdata": "ILRF7iJ9SUBw/MM6I31JQAXWMFAjfUlAEhmTGCR9SUDv6DiTJH1JQBKx4pckfUlA",
          "dtype": "f8"
         },
         "legendgroup": "44891",
         "lon": {
          "bdata": "56loLc52F0C1pDc8yXYXQC5koPjNdhdAdHCNodt2F0CT4Fi213YXQLcbk7/YdhdA",
          "dtype": "f8"
         },
         "marker": {
          "color": "#FF6692"
         },
         "mode": "markers",
         "name": "44891",
         "showlegend": true,
         "subplot": "map",
         "type": "scattermap"
        },
        {
         "hovertemplate": "intensity=43777<br>lat=%{lat}<br>lon=%{lon}<extra></extra>",
         "lat": {
          "bdata": "KECfBSN9SUAJsgSCI31JQNkiFuUjfUlA+KKujyR9SUA=",
          "dtype": "f8"
         },
         "legendgroup": "43777",
         "lon": {
          "bdata": "24HSIM52F0DdlWlXxHYXQDJvNMTRdhdAtknsttJ2F0A=",
          "dtype": "f8"
         },
         "marker": {
          "color": "#B6E880"
         },
         "mode": "markers",
         "name": "43777",
         "showlegend": true,
         "subplot": "map",
         "type": "scattermap"
        },
        {
         "hovertemplate": "intensity=43362<br>lat=%{lat}<br>lon=%{lon}<extra></extra>",
         "lat": {
          "bdata": "WW2iAyN9SUC4il5nJH1JQH/H5UMjfUlA",
          "dtype": "f8"
         },
         "legendgroup": "43362",
         "lon": {
          "bdata": "phriU892F0AjqBMft3YXQLyeFxvSdhdA",
          "dtype": "f8"
         },
         "marker": {
          "color": "#FF97FF"
         },
         "mode": "markers",
         "name": "43362",
         "showlegend": true,
         "subplot": "map",
         "type": "scattermap"
        },
        {
         "hovertemplate": "intensity=43165<br>lat=%{lat}<br>lon=%{lon}<extra></extra>",
         "lat": {
          "bdata": "i0dL9yJ9SUA=",
          "dtype": "f8"
         },
         "legendgroup": "43165",
         "lon": {
          "bdata": "CNXlxdB2F0A=",
          "dtype": "f8"
         },
         "marker": {
          "color": "#FECB52"
         },
         "mode": "markers",
         "name": "43165",
         "showlegend": true,
         "subplot": "map",
         "type": "scattermap"
        },
        {
         "hovertemplate": "intensity=42706<br>lat=%{lat}<br>lon=%{lon}<extra></extra>",
         "lat": {
          "bdata": "xnJdDyN9SUA=",
          "dtype": "f8"
         },
         "legendgroup": "42706",
         "lon": {
          "bdata": "J0Bcr9B2F0A=",
          "dtype": "f8"
         },
         "marker": {
          "color": "#636efa"
         },
         "mode": "markers",
         "name": "42706",
         "showlegend": true,
         "subplot": "map",
         "type": "scattermap"
        },
        {
         "hovertemplate": "intensity=44039<br>lat=%{lat}<br>lon=%{lon}<extra></extra>",
         "lat": {
          "bdata": "HHJ6HiN9SUA=",
          "dtype": "f8"
         },
         "legendgroup": "44039",
         "lon": {
          "bdata": "HXhsE852F0A=",
          "dtype": "f8"
         },
         "marker": {
          "color": "#EF553B"
         },
         "mode": "markers",
         "name": "44039",
         "showlegend": true,
         "subplot": "map",
         "type": "scattermap"
        },
        {
         "hovertemplate": "intensity=46376<br>lat=%{lat}<br>lon=%{lon}<extra></extra>",
         "lat": {
          "bdata": "ZyY7GiN9SUA=",
          "dtype": "f8"
         },
         "legendgroup": "46376",
         "lon": {
          "bdata": "bOSzR892F0A=",
          "dtype": "f8"
         },
         "marker": {
          "color": "#00cc96"
         },
         "mode": "markers",
         "name": "46376",
         "showlegend": true,
         "subplot": "map",
         "type": "scattermap"
        },
        {
         "hovertemplate": "intensity=45393<br>lat=%{lat}<br>lon=%{lon}<extra></extra>",
         "lat": {
          "bdata": "GNGUNiN9SUDdM7mdI31JQA==",
          "dtype": "f8"
         },
         "legendgroup": "45393",
         "lon": {
          "bdata": "A19uBs52F0Ajip9i0HYXQA==",
          "dtype": "f8"
         },
         "marker": {
          "color": "#ab63fa"
         },
         "mode": "markers",
         "name": "45393",
         "showlegend": true,
         "subplot": "map",
         "type": "scattermap"
        },
        {
         "hovertemplate": "intensity=44476<br>lat=%{lat}<br>lon=%{lon}<extra></extra>",
         "lat": {
          "bdata": "brKUMSN9SUCZBAYeI31JQA==",
          "dtype": "f8"
         },
         "legendgroup": "44476",
         "lon": {
          "bdata": "VL0dO892F0BUKXHd4HYXQA==",
          "dtype": "f8"
         },
         "marker": {
          "color": "#FFA15A"
         },
         "mode": "markers",
         "name": "44476",
         "showlegend": true,
         "subplot": "map",
         "type": "scattermap"
        },
        {
         "hovertemplate": "intensity=43930<br>lat=%{lat}<br>lon=%{lon}<extra></extra>",
         "lat": {
          "bdata": "xtF3JyN9SUDVMH1iJH1JQA==",
          "dtype": "f8"
         },
         "legendgroup": "43930",
         "lon": {
          "bdata": "0CleotB2F0DnsUjP0nYXQA==",
          "dtype": "f8"
         },
         "marker": {
          "color": "#19d3f3"
         },
         "mode": "markers",
         "name": "43930",
         "showlegend": true,
         "subplot": "map",
         "type": "scattermap"
        },
        {
         "hovertemplate": "intensity=41221<br>lat=%{lat}<br>lon=%{lon}<extra></extra>",
         "lat": {
          "bdata": "cX1X/CJ9SUAzIaDfI31JQDQ5AXMkfUlAimJJvCR9SUCZtvmxI31JQAcjY+AjfUlA",
          "dtype": "f8"
         },
         "legendgroup": "41221",
         "lon": {
          "bdata": "dOypQdJ2F0CxntFDxXYXQEnbEtu0dhdAVCpPw8R2F0A4CeQr33YXQGMtZPvcdhdA",
          "dtype": "f8"
         },
         "marker": {
          "color": "#FF6692"
         },
         "mode": "markers",
         "name": "41221",
         "showlegend": true,
         "subplot": "map",
         "type": "scattermap"
        },
        {
         "hovertemplate": "intensity=39058<br>lat=%{lat}<br>lon=%{lon}<extra></extra>",
         "lat": {
          "bdata": "dTIUESN9SUCEXm9zJH1JQA==",
          "dtype": "f8"
         },
         "legendgroup": "39058",
         "lon": {
          "bdata": "Mk25jtN2F0DDKFVCvXYXQA==",
          "dtype": "f8"
         },
         "marker": {
          "color": "#B6E880"
         },
         "mode": "markers",
         "name": "39058",
         "showlegend": true,
         "subplot": "map",
         "type": "scattermap"
        },
        {
         "hovertemplate": "intensity=40478<br>lat=%{lat}<br>lon=%{lon}<extra></extra>",
         "lat": {
          "bdata": "cNP5+CJ9SUDGSCJDJH1JQL2GElkkfUlA",
          "dtype": "f8"
         },
         "legendgroup": "40478",
         "lon": {
          "bdata": "bmC3m9N2F0D6jNa8uXYXQHQoi1C9dhdA",
          "dtype": "f8"
         },
         "marker": {
          "color": "#FF97FF"
         },
         "mode": "markers",
         "name": "40478",
         "showlegend": true,
         "subplot": "map",
         "type": "scattermap"
        },
        {
         "hovertemplate": "intensity=38447<br>lat=%{lat}<br>lon=%{lon}<extra></extra>",
         "lat": {
          "bdata": "+oej7iJ9SUDESW4vI31JQMH6oWokfUlAxnnK+yN9SUA=",
          "dtype": "f8"
         },
         "legendgroup": "38447",
         "lon": {
          "bdata": "F1EnwNR2F0BAeiRE13YXQKOEdrnKdhdAehAaBN92F0A=",
          "dtype": "f8"
         },
         "marker": {
          "color": "#FECB52"
         },
         "mode": "markers",
         "name": "38447",
         "showlegend": true,
         "subplot": "map",
         "type": "scattermap"
        },
        {
         "hovertemplate": "intensity=42881<br>lat=%{lat}<br>lon=%{lon}<extra></extra>",
         "lat": {
          "bdata": "AOe9BiN9SUCrj901I31JQEgM+EQjfUlA",
          "dtype": "f8"
         },
         "legendgroup": "42881",
         "lon": {
          "bdata": "Ez8ps9R2F0CqSiiCvHYXQI1E03/ZdhdA",
          "dtype": "f8"
         },
         "marker": {
          "color": "#636efa"
         },
         "mode": "markers",
         "name": "42881",
         "showlegend": true,
         "subplot": "map",
         "type": "scattermap"
        },
        {
         "hovertemplate": "intensity=38840<br>lat=%{lat}<br>lon=%{lon}<extra></extra>",
         "lat": {
          "bdata": "ddxxFCN9SUB/Fe+yI31JQHlaZookfUlA",
          "dtype": "f8"
         },
         "legendgroup": "38840",
         "lon": {
          "bdata": "zterNNJ2F0A+iJxCtXYXQGQ3oYS+dhdA",
          "dtype": "f8"
         },
         "marker": {
          "color": "#EF553B"
         },
         "mode": "markers",
         "name": "38840",
         "showlegend": true,
         "subplot": "map",
         "type": "scattermap"
        },
        {
         "hovertemplate": "intensity=42466<br>lat=%{lat}<br>lon=%{lon}<extra></extra>",
         "lat": {
          "bdata": "bQ5NLSN9SUA=",
          "dtype": "f8"
         },
         "legendgroup": "42466",
         "lon": {
          "bdata": "XdJFJ9J2F0A=",
          "dtype": "f8"
         },
         "marker": {
          "color": "#00cc96"
         },
         "mode": "markers",
         "name": "42466",
         "showlegend": true,
         "subplot": "map",
         "type": "scattermap"
        },
        {
         "hovertemplate": "intensity=39976<br>lat=%{lat}<br>lon=%{lon}<extra></extra>",
         "lat": {
          "bdata": "JfrUGyN9SUC44p0EJH1JQA==",
          "dtype": "f8"
         },
         "legendgroup": "39976",
         "lon": {
          "bdata": "Me/Kp9R2F0DQ1oneuXYXQA==",
          "dtype": "f8"
         },
         "marker": {
          "color": "#ab63fa"
         },
         "mode": "markers",
         "name": "39976",
         "showlegend": true,
         "subplot": "map",
         "type": "scattermap"
        },
        {
         "hovertemplate": "intensity=41418<br>lat=%{lat}<br>lon=%{lon}<extra></extra>",
         "lat": {
          "bdata": "LFnvMyN9SUBavScpJH1JQPmTRe0jfUlA",
          "dtype": "f8"
         },
         "legendgroup": "41418",
         "lon": {
          "bdata": "6NzMmtR2F0BovgL/u3YXQHAQEO3ddhdA",
          "dtype": "f8"
         },
         "marker": {
          "color": "#FFA15A"
         },
         "mode": "markers",
         "name": "41418",
         "showlegend": true,
         "subplot": "map",
         "type": "scattermap"
        },
        {
         "hovertemplate": "intensity=37027<br>lat=%{lat}<br>lon=%{lon}<extra></extra>",
         "lat": {
          "bdata": "k5Ir4iJ9SUADBFIdI31JQP02HlIjfUlAy2taqCN9SUCJ6ZRjJH1JQA==",
          "dtype": "f8"
         },
         "legendgroup": "37027",
         "lon": {
          "bdata": "5wz9C9Z2F0C10i/H2nYXQO2qhGjAdhdA3Ii1iMF2F0CfJEaLyXYXQA==",
          "dtype": "f8"
         },
         "marker": {
          "color": "#19d3f3"
         },
         "mode": "markers",
         "name": "37027",
         "showlegend": true,
         "subplot": "map",
         "type": "scattermap"
        },
        {
         "hovertemplate": "intensity=35279<br>lat=%{lat}<br>lon=%{lon}<extra></extra>",
         "lat": {
          "bdata": "nP/f5yJ9SUA=",
          "dtype": "f8"
         },
         "legendgroup": "35279",
         "lon": {
          "bdata": "47e2atd2F0A=",
          "dtype": "f8"
         },
         "marker": {
          "color": "#FF6692"
         },
         "mode": "markers",
         "name": "35279",
         "showlegend": true,
         "subplot": "map",
         "type": "scattermap"
        },
        {
         "hovertemplate": "intensity=38097<br>lat=%{lat}<br>lon=%{lon}<extra></extra>",
         "lat": {
          "bdata": "6hPo4iJ9SUD51piMI31JQA==",
          "dtype": "f8"
         },
         "legendgroup": "38097",
         "lon": {
          "bdata": "AI/xqNh2F0ClXQEXv3YXQA==",
          "dtype": "f8"
         },
         "marker": {
          "color": "#B6E880"
         },
         "mode": "markers",
         "name": "38097",
         "showlegend": true,
         "subplot": "map",
         "type": "scattermap"
        },
        {
         "hovertemplate": "intensity=30561<br>lat=%{lat}<br>lon=%{lon}<extra></extra>",
         "lat": {
          "bdata": "CmNP5SJ9SUCrZjMzJH1JQA==",
          "dtype": "f8"
         },
         "legendgroup": "30561",
         "lon": {
          "bdata": "aohjs9l2F0DOlTQNxXYXQA==",
          "dtype": "f8"
         },
         "marker": {
          "color": "#FF97FF"
         },
         "mode": "markers",
         "name": "30561",
         "showlegend": true,
         "subplot": "map",
         "type": "scattermap"
        },
        {
         "hovertemplate": "intensity=35672<br>lat=%{lat}<br>lon=%{lon}<extra></extra>",
         "lat": {
          "bdata": "0WrJ4yJ9SUA=",
          "dtype": "f8"
         },
         "legendgroup": "35672",
         "lon": {
          "bdata": "KdyPUdx2F0A=",
          "dtype": "f8"
         },
         "marker": {
          "color": "#FECB52"
         },
         "mode": "markers",
         "name": "35672",
         "showlegend": true,
         "subplot": "map",
         "type": "scattermap"
        },
        {
         "hovertemplate": "intensity=37442<br>lat=%{lat}<br>lon=%{lon}<extra></extra>",
         "lat": {
          "bdata": "qkvE+CJ9SUBQhyDgI31JQLuuXO0jfUlA",
          "dtype": "f8"
         },
         "legendgroup": "37442",
         "lon": {
          "bdata": "T93O/9V2F0Dg5z8qtXYXQJH5moq9dhdA",
          "dtype": "f8"
         },
         "marker": {
          "color": "#636efa"
         },
         "mode": "markers",
         "name": "37442",
         "showlegend": true,
         "subplot": "map",
         "type": "scattermap"
        },
        {
         "hovertemplate": "intensity=41811<br>lat=%{lat}<br>lon=%{lon}<extra></extra>",
         "lat": {
          "bdata": "sIs5/yJ9SUCqlrwSJH1JQA==",
          "dtype": "f8"
         },
         "legendgroup": "41811",
         "lon": {
          "bdata": "IZkgXtd2F0DUgrUatnYXQA==",
          "dtype": "f8"
         },
         "marker": {
          "color": "#EF553B"
         },
         "mode": "markers",
         "name": "41811",
         "showlegend": true,
         "subplot": "map",
         "type": "scattermap"
        },
        {
         "hovertemplate": "intensity=42291<br>lat=%{lat}<br>lon=%{lon}<extra></extra>",
         "lat": {
          "bdata": "7nbWECN9SUCCAnagJH1JQA==",
          "dtype": "f8"
         },
         "legendgroup": "42291",
         "lon": {
          "bdata": "1U1F6dV2F0AAeL7M03YXQA==",
          "dtype": "f8"
         },
         "marker": {
          "color": "#00cc96"
         },
         "mode": "markers",
         "name": "42291",
         "showlegend": true,
         "subplot": "map",
         "type": "scattermap"
        },
        {
         "hovertemplate": "intensity=37311<br>lat=%{lat}<br>lon=%{lon}<extra></extra>",
         "lat": {
          "bdata": "70XD+yJ9SUAr78VMI31JQAqLp7EjfUlA",
          "dtype": "f8"
         },
         "legendgroup": "37311",
         "lon": {
          "bdata": "opCLm9h2F0AMq5ut2nYXQIpE3Y3gdhdA",
          "dtype": "f8"
         },
         "marker": {
          "color": "#ab63fa"
         },
         "mode": "markers",
         "name": "37311",
         "showlegend": true,
         "subplot": "map",
         "type": "scattermap"
        },
        {
         "hovertemplate": "intensity=38927<br>lat=%{lat}<br>lon=%{lon}<extra></extra>",
         "lat": {
          "bdata": "A9IcEyN9SUA0XpFPJH1JQDMOIJckfUlA",
          "dtype": "f8"
         },
         "legendgroup": "38927",
         "lon": {
          "bdata": "/3L1jth2F0BHWpIuwXYXQOwQu8O7dhdA",
          "dtype": "f8"
         },
         "marker": {
          "color": "#FFA15A"
         },
         "mode": "markers",
         "name": "38927",
         "showlegend": true,
         "subplot": "map",
         "type": "scattermap"
        },
        {
         "hovertemplate": "intensity=40347<br>lat=%{lat}<br>lon=%{lon}<extra></extra>",
         "lat": {
          "bdata": "uupTFyN9SUBRVYaaI31JQMVuSFMkfUlA",
          "dtype": "f8"
         },
         "legendgroup": "40347",
         "lon": {
          "bdata": "wYkiUdd2F0CiJugZu3YXQFixDMbKdhdA",
          "dtype": "f8"
         },
         "marker": {
          "color": "#19d3f3"
         },
         "mode": "markers",
         "name": "40347",
         "showlegend": true,
         "subplot": "map",
         "type": "scattermap"
        },
        {
         "hovertemplate": "intensity=38556<br>lat=%{lat}<br>lon=%{lon}<extra></extra>",
         "lat": {
          "bdata": "5ntyKiN9SUBs12vPJH1JQA==",
          "dtype": "f8"
         },
         "legendgroup": "38556",
         "lon": {
          "bdata": "01t329V2F0Ac+4v0xXYXQA==",
          "dtype": "f8"
         },
         "marker": {
          "color": "#FF6692"
         },
         "mode": "markers",
         "name": "38556",
         "showlegend": true,
         "subplot": "map",
         "type": "scattermap"
        },
        {
         "hovertemplate": "intensity=38250<br>lat=%{lat}<br>lon=%{lon}<extra></extra>",
         "lat": {
          "bdata": "F152KiN9SUCe55WgI31JQA==",
          "dtype": "f8"
         },
         "legendgroup": "38250",
         "lon": {
          "bdata": "PFVfgth2F0AVMWhm5HYXQA==",
          "dtype": "f8"
         },
         "marker": {
          "color": "#B6E880"
         },
         "mode": "markers",
         "name": "38250",
         "showlegend": true,
         "subplot": "map",
         "type": "scattermap"
        },
        {
         "hovertemplate": "intensity=35039<br>lat=%{lat}<br>lon=%{lon}<extra></extra>",
         "lat": {
          "bdata": "EZUq/iJ9SUA=",
          "dtype": "f8"
         },
         "legendgroup": "35039",
         "lon": {
          "bdata": "JYv9pdl2F0A=",
          "dtype": "f8"
         },
         "marker": {
          "color": "#FF97FF"
         },
         "mode": "markers",
         "name": "35039",
         "showlegend": true,
         "subplot": "map",
         "type": "scattermap"
        },
        {
         "hovertemplate": "intensity=32483<br>lat=%{lat}<br>lon=%{lon}<extra></extra>",
         "lat": {
          "bdata": "zr5f7yJ9SUA=",
          "dtype": "f8"
         },
         "legendgroup": "32483",
         "lon": {
          "bdata": "GRn039p2F0A=",
          "dtype": "f8"
         },
         "marker": {
          "color": "#FECB52"
         },
         "mode": "markers",
         "name": "32483",
         "showlegend": true,
         "subplot": "map",
         "type": "scattermap"
        },
        {
         "hovertemplate": "intensity=29294<br>lat=%{lat}<br>lon=%{lon}<extra></extra>",
         "lat": {
          "bdata": "8SNi+iJ9SUA=",
          "dtype": "f8"
         },
         "legendgroup": "29294",
         "lon": {
          "bdata": "qbJhRdx2F0A=",
          "dtype": "f8"
         },
         "marker": {
          "color": "#636efa"
         },
         "mode": "markers",
         "name": "29294",
         "showlegend": true,
         "subplot": "map",
         "type": "scattermap"
        },
        {
         "hovertemplate": "intensity=38600<br>lat=%{lat}<br>lon=%{lon}<extra></extra>",
         "lat": {
          "bdata": "NHsCFCN9SUD+T0+gJH1JQA==",
          "dtype": "f8"
         },
         "legendgroup": "38600",
         "lon": {
          "bdata": "X083mtl2F0ANl9TEtXYXQA==",
          "dtype": "f8"
         },
         "marker": {
          "color": "#EF553B"
         },
         "mode": "markers",
         "name": "38600",
         "showlegend": true,
         "subplot": "map",
         "type": "scattermap"
        },
        {
         "hovertemplate": "intensity=32920<br>lat=%{lat}<br>lon=%{lon}<extra></extra>",
         "lat": {
          "bdata": "SgdcKyN9SUA=",
          "dtype": "f8"
         },
         "legendgroup": "32920",
         "lon": {
          "bdata": "pjKhjdl2F0A=",
          "dtype": "f8"
         },
         "marker": {
          "color": "#00cc96"
         },
         "mode": "markers",
         "name": "32920",
         "showlegend": true,
         "subplot": "map",
         "type": "scattermap"
        },
        {
         "hovertemplate": "intensity=39888<br>lat=%{lat}<br>lon=%{lon}<extra></extra>",
         "lat": {
          "bdata": "FGNsNSN9SUDnYSFeI31JQA==",
          "dtype": "f8"
         },
         "legendgroup": "39888",
         "lon": {
          "bdata": "wsYxutp2F0DMO/gq13YXQA==",
          "dtype": "f8"
         },
         "marker": {
          "color": "#ab63fa"
         },
         "mode": "markers",
         "name": "39888",
         "showlegend": true,
         "subplot": "map",
         "type": "scattermap"
        },
        {
         "hovertemplate": "intensity=25820<br>lat=%{lat}<br>lon=%{lon}<extra></extra>",
         "lat": {
          "bdata": "7vu+FCN9SUA=",
          "dtype": "f8"
         },
         "legendgroup": "25820",
         "lon": {
          "bdata": "aNcrN9x2F0A=",
          "dtype": "f8"
         },
         "marker": {
          "color": "#FFA15A"
         },
         "mode": "markers",
         "name": "25820",
         "showlegend": true,
         "subplot": "map",
         "type": "scattermap"
        },
        {
         "hovertemplate": "intensity=20468<br>lat=%{lat}<br>lon=%{lon}<extra></extra>",
         "lat": {
          "bdata": "/VrZLCN9SUA=",
          "dtype": "f8"
         },
         "legendgroup": "20468",
         "lon": {
          "bdata": "/MwtKtx2F0A=",
          "dtype": "f8"
         },
         "marker": {
          "color": "#19d3f3"
         },
         "mode": "markers",
         "name": "20468",
         "showlegend": true,
         "subplot": "map",
         "type": "scattermap"
        },
        {
         "hovertemplate": "intensity=32439<br>lat=%{lat}<br>lon=%{lon}<extra></extra>",
         "lat": {
          "bdata": "Z/MY7SJ9SUDnnAlAJH1JQA==",
          "dtype": "f8"
         },
         "legendgroup": "32439",
         "lon": {
          "bdata": "QV6Ift12F0AnEtkPxXYXQA==",
          "dtype": "f8"
         },
         "marker": {
          "color": "#FF6692"
         },
         "mode": "markers",
         "name": "32439",
         "showlegend": true,
         "subplot": "map",
         "type": "scattermap"
        },
        {
         "hovertemplate": "intensity=34952<br>lat=%{lat}<br>lon=%{lon}<extra></extra>",
         "lat": {
          "bdata": "ahj49iJ9SUA=",
          "dtype": "f8"
         },
         "legendgroup": "34952",
         "lon": {
          "bdata": "5/jTcd52F0A=",
          "dtype": "f8"
         },
         "marker": {
          "color": "#B6E880"
         },
         "mode": "markers",
         "name": "34952",
         "showlegend": true,
         "subplot": "map",
         "type": "scattermap"
        },
        {
         "hovertemplate": "intensity=38665<br>lat=%{lat}<br>lon=%{lon}<extra></extra>",
         "lat": {
          "bdata": "lv7PDCN9SUCa39LtI31JQA==",
          "dtype": "f8"
         },
         "legendgroup": "38665",
         "lon": {
          "bdata": "pMENZt52F0B0zNS8x3YXQA==",
          "dtype": "f8"
         },
         "marker": {
          "color": "#FF97FF"
         },
         "mode": "markers",
         "name": "38665",
         "showlegend": true,
         "subplot": "map",
         "type": "scattermap"
        },
        {
         "hovertemplate": "intensity=29709<br>lat=%{lat}<br>lon=%{lon}<extra></extra>",
         "lat": {
          "bdata": "mpew8iJ9SUCvYoY+I31JQA==",
          "dtype": "f8"
         },
         "legendgroup": "29709",
         "lon": {
          "bdata": "9eGPnN92F0C10EFL3nYXQA==",
          "dtype": "f8"
         },
         "marker": {
          "color": "#FECB52"
         },
         "mode": "markers",
         "name": "29709",
         "showlegend": true,
         "subplot": "map",
         "type": "scattermap"
        },
        {
         "hovertemplate": "intensity=40172<br>lat=%{lat}<br>lon=%{lon}<extra></extra>",
         "lat": {
          "bdata": "qcmLCyN9SUCkFY21JH1JQA==",
          "dtype": "f8"
         },
         "legendgroup": "40172",
         "lon": {
          "bdata": "8+opj992F0ACJmDB03YXQA==",
          "dtype": "f8"
         },
         "marker": {
          "color": "#636efa"
         },
         "mode": "markers",
         "name": "40172",
         "showlegend": true,
         "subplot": "map",
         "type": "scattermap"
        },
        {
         "hovertemplate": "intensity=30517<br>lat=%{lat}<br>lon=%{lon}<extra></extra>",
         "lat": {
          "bdata": "RO/VJCN9SUA=",
          "dtype": "f8"
         },
         "legendgroup": "30517",
         "lon": {
          "bdata": "Uel8YN12F0A=",
          "dtype": "f8"
         },
         "marker": {
          "color": "#EF553B"
         },
         "mode": "markers",
         "name": "30517",
         "showlegend": true,
         "subplot": "map",
         "type": "scattermap"
        },
        {
         "hovertemplate": "intensity=21320<br>lat=%{lat}<br>lon=%{lon}<extra></extra>",
         "lat": {
          "bdata": "jKntJyN9SUA=",
          "dtype": "f8"
         },
         "legendgroup": "21320",
         "lon": {
          "bdata": "e/hvV952F0A=",
          "dtype": "f8"
         },
         "marker": {
          "color": "#00cc96"
         },
         "mode": "markers",
         "name": "21320",
         "showlegend": true,
         "subplot": "map",
         "type": "scattermap"
        },
        {
         "hovertemplate": "intensity=37835<br>lat=%{lat}<br>lon=%{lon}<extra></extra>",
         "lat": {
          "bdata": "xlXlIiN9SUDsfjgKJH1JQD/NClojfUlAZxi/2yN9SUA=",
          "dtype": "f8"
         },
         "legendgroup": "37835",
         "lon": {
          "bdata": "PdSTgt92F0BW+m7tynYXQAx50RHcdhdAq2STxsd2F0A=",
          "dtype": "f8"
         },
         "marker": {
          "color": "#ab63fa"
         },
         "mode": "markers",
         "name": "37835",
         "showlegend": true,
         "subplot": "map",
         "type": "scattermap"
        },
        {
         "hovertemplate": "intensity=35345<br>lat=%{lat}<br>lon=%{lon}<extra></extra>",
         "lat": {
          "bdata": "3bT/OiN9SUA=",
          "dtype": "f8"
         },
         "legendgroup": "35345",
         "lon": {
          "bdata": "K82Vdd92F0A=",
          "dtype": "f8"
         },
         "marker": {
          "color": "#FFA15A"
         },
         "mode": "markers",
         "name": "35345",
         "showlegend": true,
         "subplot": "map",
         "type": "scattermap"
        },
        {
         "hovertemplate": "intensity=36087<br>lat=%{lat}<br>lon=%{lon}<extra></extra>",
         "lat": {
          "bdata": "qjbhNiN9SUA=",
          "dtype": "f8"
         },
         "legendgroup": "36087",
         "lon": {
          "bdata": "gTML0OB2F0A=",
          "dtype": "f8"
         },
         "marker": {
          "color": "#19d3f3"
         },
         "mode": "markers",
         "name": "36087",
         "showlegend": true,
         "subplot": "map",
         "type": "scattermap"
        },
        {
         "hovertemplate": "intensity=33248<br>lat=%{lat}<br>lon=%{lon}<extra></extra>",
         "lat": {
          "bdata": "MX91ByN9SUA=",
          "dtype": "f8"
         },
         "legendgroup": "33248",
         "lon": {
          "bdata": "Oc0q8+B2F0A=",
          "dtype": "f8"
         },
         "marker": {
          "color": "#FF6692"
         },
         "mode": "markers",
         "name": "33248",
         "showlegend": true,
         "subplot": "map",
         "type": "scattermap"
        },
        {
         "hovertemplate": "intensity=35519<br>lat=%{lat}<br>lon=%{lon}<extra></extra>",
         "lat": {
          "bdata": "G7mrLCN9SUD5oCy+JH1JQA==",
          "dtype": "f8"
         },
         "legendgroup": "35519",
         "lon": {
          "bdata": "4xypGuJ2F0A63JK9z3YXQA==",
          "dtype": "f8"
         },
         "marker": {
          "color": "#B6E880"
         },
         "mode": "markers",
         "name": "35519",
         "showlegend": true,
         "subplot": "map",
         "type": "scattermap"
        },
        {
         "hovertemplate": "intensity=33444<br>lat=%{lat}<br>lon=%{lon}<extra></extra>",
         "lat": {
          "bdata": "T9I4OyN9SUDzUvOBJH1JQA==",
          "dtype": "f8"
         },
         "legendgroup": "33444",
         "lon": {
          "bdata": "l5U+O+N2F0CE2FSjynYXQA==",
          "dtype": "f8"
         },
         "marker": {
          "color": "#FF97FF"
         },
         "mode": "markers",
         "name": "33444",
         "showlegend": true,
         "subplot": "map",
         "type": "scattermap"
        },
        {
         "hovertemplate": "intensity=24313<br>lat=%{lat}<br>lon=%{lon}<extra></extra>",
         "lat": {
          "bdata": "Fi+G7CJ9SUA=",
          "dtype": "f8"
         },
         "legendgroup": "24313",
         "lon": {
          "bdata": "76kwStJ2F0A=",
          "dtype": "f8"
         },
         "marker": {
          "color": "#FECB52"
         },
         "mode": "markers",
         "name": "24313",
         "showlegend": true,
         "subplot": "map",
         "type": "scattermap"
        },
        {
         "hovertemplate": "intensity=17323<br>lat=%{lat}<br>lon=%{lon}<extra></extra>",
         "lat": {
          "bdata": "ALXi7SJ9SUBypuytI31JQA==",
          "dtype": "f8"
         },
         "legendgroup": "17323",
         "lon": {
          "bdata": "qEGPwNR2F0A/H3tP1HYXQA==",
          "dtype": "f8"
         },
         "marker": {
          "color": "#636efa"
         },
         "mode": "markers",
         "name": "17323",
         "showlegend": true,
         "subplot": "map",
         "type": "scattermap"
        },
        {
         "hovertemplate": "intensity=16121<br>lat=%{lat}<br>lon=%{lon}<extra></extra>",
         "lat": {
          "bdata": "VTpzBCN9SUA=",
          "dtype": "f8"
         },
         "legendgroup": "16121",
         "lon": {
          "bdata": "EpLVqtR2F0A=",
          "dtype": "f8"
         },
         "marker": {
          "color": "#EF553B"
         },
         "mode": "markers",
         "name": "16121",
         "showlegend": true,
         "subplot": "map",
         "type": "scattermap"
        },
        {
         "hovertemplate": "intensity=33772<br>lat=%{lat}<br>lon=%{lon}<extra></extra>",
         "lat": {
          "bdata": "pFxO6CJ9SUA=",
          "dtype": "f8"
         },
         "legendgroup": "33772",
         "lon": {
          "bdata": "RTogT9x2F0A=",
          "dtype": "f8"
         },
         "marker": {
          "color": "#00cc96"
         },
         "mode": "markers",
         "name": "33772",
         "showlegend": true,
         "subplot": "map",
         "type": "scattermap"
        },
        {
         "hovertemplate": "intensity=24444<br>lat=%{lat}<br>lon=%{lon}<extra></extra>",
         "lat": {
          "bdata": "vein/yJ9SUA=",
          "dtype": "f8"
         },
         "legendgroup": "24444",
         "lon": {
          "bdata": "ayCKQtx2F0A=",
          "dtype": "f8"
         },
         "marker": {
          "color": "#ab63fa"
         },
         "mode": "markers",
         "name": "24444",
         "showlegend": true,
         "subplot": "map",
         "type": "scattermap"
        },
        {
         "hovertemplate": "intensity=24990<br>lat=%{lat}<br>lon=%{lon}<extra></extra>",
         "lat": {
          "bdata": "3aFAFiN9SUA=",
          "dtype": "f8"
         },
         "legendgroup": "24990",
         "lon": {
          "bdata": "w/ZbNtx2F0A=",
          "dtype": "f8"
         },
         "marker": {
          "color": "#FFA15A"
         },
         "mode": "markers",
         "name": "24990",
         "showlegend": true,
         "subplot": "map",
         "type": "scattermap"
        },
        {
         "hovertemplate": "intensity=38753<br>lat=%{lat}<br>lon=%{lon}<extra></extra>",
         "lat": {
          "bdata": "CLbW8SJ9SUC3mCfAI31JQA==",
          "dtype": "f8"
         },
         "legendgroup": "38753",
         "lon": {
          "bdata": "vr6ZxOR2F0CXHzd5t3YXQA==",
          "dtype": "f8"
         },
         "marker": {
          "color": "#19d3f3"
         },
         "mode": "markers",
         "name": "38753",
         "showlegend": true,
         "subplot": "map",
         "type": "scattermap"
        },
        {
         "hovertemplate": "intensity=32767<br>lat=%{lat}<br>lon=%{lon}<extra></extra>",
         "lat": {
          "bdata": "sQhJ5iJ9SUAqH5qVI31JQA==",
          "dtype": "f8"
         },
         "legendgroup": "32767",
         "lon": {
          "bdata": "25V8++B2F0AAGdtMxHYXQA==",
          "dtype": "f8"
         },
         "marker": {
          "color": "#FF6692"
         },
         "mode": "markers",
         "name": "32767",
         "showlegend": true,
         "subplot": "map",
         "type": "scattermap"
        },
        {
         "hovertemplate": "intensity=42313<br>lat=%{lat}<br>lon=%{lon}<extra></extra>",
         "lat": {
          "bdata": "SqSg6iJ9SUA=",
          "dtype": "f8"
         },
         "legendgroup": "42313",
         "lon": {
          "bdata": "n++vZuN2F0A=",
          "dtype": "f8"
         },
         "marker": {
          "color": "#B6E880"
         },
         "mode": "markers",
         "name": "42313",
         "showlegend": true,
         "subplot": "map",
         "type": "scattermap"
        },
        {
         "hovertemplate": "intensity=33553<br>lat=%{lat}<br>lon=%{lon}<extra></extra>",
         "lat": {
          "bdata": "UGxb7yJ9SUA=",
          "dtype": "f8"
         },
         "legendgroup": "33553",
         "lon": {
          "bdata": "bI1Qfd12F0A=",
          "dtype": "f8"
         },
         "marker": {
          "color": "#FF97FF"
         },
         "mode": "markers",
         "name": "33553",
         "showlegend": true,
         "subplot": "map",
         "type": "scattermap"
        },
        {
         "hovertemplate": "intensity=19966<br>lat=%{lat}<br>lon=%{lon}<extra></extra>",
         "lat": {
          "bdata": "WHaHCyN9SUA=",
          "dtype": "f8"
         },
         "legendgroup": "19966",
         "lon": {
          "bdata": "vGKGLOJ2F0A=",
          "dtype": "f8"
         },
         "marker": {
          "color": "#FECB52"
         },
         "mode": "markers",
         "name": "19966",
         "showlegend": true,
         "subplot": "map",
         "type": "scattermap"
        },
        {
         "hovertemplate": "intensity=43296<br>lat=%{lat}<br>lon=%{lon}<extra></extra>",
         "lat": {
          "bdata": "USNsBSN9SUBtrI2yJH1JQA==",
          "dtype": "f8"
         },
         "legendgroup": "43296",
         "lon": {
          "bdata": "k10LuuR2F0CVDuhp1nYXQA==",
          "dtype": "f8"
         },
         "marker": {
          "color": "#636efa"
         },
         "mode": "markers",
         "name": "43296",
         "showlegend": true,
         "subplot": "map",
         "type": "scattermap"
        },
        {
         "hovertemplate": "intensity=45088<br>lat=%{lat}<br>lon=%{lon}<extra></extra>",
         "lat": {
          "bdata": "eop4ACN9SUAM7uN+I31JQP8fv5cjfUlAT2GyqyN9SUCCHwhSJH1JQBK2ELsjfUlA",
          "dtype": "f8"
         },
         "legendgroup": "45088",
         "lon": {
          "bdata": "Eb3pWuN2F0DbEnTfzXYXQGQIDtLNdhdA/28+WtR2F0D3BRGWznYXQDDzgo3VdhdA",
          "dtype": "f8"
         },
         "marker": {
          "color": "#EF553B"
         },
         "mode": "markers",
         "name": "45088",
         "showlegend": true,
         "subplot": "map",
         "type": "scattermap"
        },
        {
         "hovertemplate": "intensity=31718<br>lat=%{lat}<br>lon=%{lon}<extra></extra>",
         "lat": {
          "bdata": "memSGCN9SUA=",
          "dtype": "f8"
         },
         "legendgroup": "31718",
         "lon": {
          "bdata": "GbrrTeN2F0A=",
          "dtype": "f8"
         },
         "marker": {
          "color": "#00cc96"
         },
         "mode": "markers",
         "name": "31718",
         "showlegend": true,
         "subplot": "map",
         "type": "scattermap"
        },
        {
         "hovertemplate": "intensity=13674<br>lat=%{lat}<br>lon=%{lon}<extra></extra>",
         "lat": {
          "bdata": "fociNyN9SUA=",
          "dtype": "f8"
         },
         "legendgroup": "13674",
         "lon": {
          "bdata": "NXo/n+R2F0A=",
          "dtype": "f8"
         },
         "marker": {
          "color": "#ab63fa"
         },
         "mode": "markers",
         "name": "13674",
         "showlegend": true,
         "subplot": "map",
         "type": "scattermap"
        },
        {
         "hovertemplate": "intensity=42619<br>lat=%{lat}<br>lon=%{lon}<extra></extra>",
         "lat": {
          "bdata": "b4KGHSN9SUA=",
          "dtype": "f8"
         },
         "legendgroup": "42619",
         "lon": {
          "bdata": "BVwNreR2F0A=",
          "dtype": "f8"
         },
         "marker": {
          "color": "#FFA15A"
         },
         "mode": "markers",
         "name": "42619",
         "showlegend": true,
         "subplot": "map",
         "type": "scattermap"
        },
        {
         "hovertemplate": "intensity=24204<br>lat=%{lat}<br>lon=%{lon}<extra></extra>",
         "lat": {
          "bdata": "gZyr6SJ9SUA=",
          "dtype": "f8"
         },
         "legendgroup": "24204",
         "lon": {
          "bdata": "ESli/tV2F0A=",
          "dtype": "f8"
         },
         "marker": {
          "color": "#19d3f3"
         },
         "mode": "markers",
         "name": "24204",
         "showlegend": true,
         "subplot": "map",
         "type": "scattermap"
        },
        {
         "hovertemplate": "intensity=14701<br>lat=%{lat}<br>lon=%{lon}<extra></extra>",
         "lat": {
          "bdata": "WWqn7iJ9SUA=",
          "dtype": "f8"
         },
         "legendgroup": "14701",
         "lon": {
          "bdata": "nUMPZ9d2F0A=",
          "dtype": "f8"
         },
         "marker": {
          "color": "#FF6692"
         },
         "mode": "markers",
         "name": "14701",
         "showlegend": true,
         "subplot": "map",
         "type": "scattermap"
        },
        {
         "hovertemplate": "intensity=16973<br>lat=%{lat}<br>lon=%{lon}<extra></extra>",
         "lat": {
          "bdata": "n7Vu8CJ9SUA=",
          "dtype": "f8"
         },
         "legendgroup": "16973",
         "lon": {
          "bdata": "gigXmNh2F0A=",
          "dtype": "f8"
         },
         "marker": {
          "color": "#B6E880"
         },
         "mode": "markers",
         "name": "16973",
         "showlegend": true,
         "subplot": "map",
         "type": "scattermap"
        },
        {
         "hovertemplate": "intensity=26082<br>lat=%{lat}<br>lon=%{lon}<extra></extra>",
         "lat": {
          "bdata": "gQBiGyN9SUA=",
          "dtype": "f8"
         },
         "legendgroup": "26082",
         "lon": {
          "bdata": "cCaW49V2F0A=",
          "dtype": "f8"
         },
         "marker": {
          "color": "#FF97FF"
         },
         "mode": "markers",
         "name": "26082",
         "showlegend": true,
         "subplot": "map",
         "type": "scattermap"
        },
        {
         "hovertemplate": "intensity=30779<br>lat=%{lat}<br>lon=%{lon}<extra></extra>",
         "lat": {
          "bdata": "ZvucHyN9SUA=",
          "dtype": "f8"
         },
         "legendgroup": "30779",
         "lon": {
          "bdata": "cDSrTNd2F0A=",
          "dtype": "f8"
         },
         "marker": {
          "color": "#FECB52"
         },
         "mode": "markers",
         "name": "30779",
         "showlegend": true,
         "subplot": "map",
         "type": "scattermap"
        },
        {
         "hovertemplate": "intensity=30211<br>lat=%{lat}<br>lon=%{lon}<extra></extra>",
         "lat": {
          "bdata": "m7n6MSN9SUC62MEYJH1JQA==",
          "dtype": "f8"
         },
         "legendgroup": "30211",
         "lon": {
          "bdata": "gPZn19V2F0CcIrClx3YXQA==",
          "dtype": "f8"
         },
         "marker": {
          "color": "#636efa"
         },
         "mode": "markers",
         "name": "30211",
         "showlegend": true,
         "subplot": "map",
         "type": "scattermap"
        },
        {
         "hovertemplate": "intensity=25711<br>lat=%{lat}<br>lon=%{lon}<extra></extra>",
         "lat": {
          "bdata": "aC14OCN9SUA=",
          "dtype": "f8"
         },
         "legendgroup": "25711",
         "lon": {
          "bdata": "ZTRFP9d2F0A=",
          "dtype": "f8"
         },
         "marker": {
          "color": "#EF553B"
         },
         "mode": "markers",
         "name": "25711",
         "showlegend": true,
         "subplot": "map",
         "type": "scattermap"
        },
        {
         "hovertemplate": "intensity=29403<br>lat=%{lat}<br>lon=%{lon}<extra></extra>",
         "lat": {
          "bdata": "Cyz1AiN9SUA=",
          "dtype": "f8"
         },
         "legendgroup": "29403",
         "lon": {
          "bdata": "nq9l1dp2F0A=",
          "dtype": "f8"
         },
         "marker": {
          "color": "#00cc96"
         },
         "mode": "markers",
         "name": "29403",
         "showlegend": true,
         "subplot": "map",
         "type": "scattermap"
        },
        {
         "hovertemplate": "intensity=22675<br>lat=%{lat}<br>lon=%{lon}<extra></extra>",
         "lat": {
          "bdata": "AUkV3iJ9SUA=",
          "dtype": "f8"
         },
         "legendgroup": "22675",
         "lon": {
          "bdata": "Ce79b9d2F0A=",
          "dtype": "f8"
         },
         "marker": {
          "color": "#ab63fa"
         },
         "mode": "markers",
         "name": "22675",
         "showlegend": true,
         "subplot": "map",
         "type": "scattermap"
        },
        {
         "hovertemplate": "intensity=22369<br>lat=%{lat}<br>lon=%{lon}<extra></extra>",
         "lat": {
          "bdata": "qK/C/iJ9SUA=",
          "dtype": "f8"
         },
         "legendgroup": "22369",
         "lon": {
          "bdata": "c9oD89V2F0A=",
          "dtype": "f8"
         },
         "marker": {
          "color": "#FFA15A"
         },
         "mode": "markers",
         "name": "22369",
         "showlegend": true,
         "subplot": "map",
         "type": "scattermap"
        },
        {
         "hovertemplate": "intensity=19289<br>lat=%{lat}<br>lon=%{lon}<extra></extra>",
         "lat": {
          "bdata": "PKOwLCN9SUA=",
          "dtype": "f8"
         },
         "legendgroup": "19289",
         "lon": {
          "bdata": "IwWcd9h2F0A=",
          "dtype": "f8"
         },
         "marker": {
          "color": "#19d3f3"
         },
         "mode": "markers",
         "name": "19289",
         "showlegend": true,
         "subplot": "map",
         "type": "scattermap"
        },
        {
         "hovertemplate": "intensity=23942<br>lat=%{lat}<br>lon=%{lon}<extra></extra>",
         "lat": {
          "bdata": "edQy9CJ9SUA=",
          "dtype": "f8"
         },
         "legendgroup": "23942",
         "lon": {
          "bdata": "VHYPlth2F0A=",
          "dtype": "f8"
         },
         "marker": {
          "color": "#FF6692"
         },
         "mode": "markers",
         "name": "23942",
         "showlegend": true,
         "subplot": "map",
         "type": "scattermap"
        },
        {
         "hovertemplate": "intensity=21408<br>lat=%{lat}<br>lon=%{lon}<extra></extra>",
         "lat": {
          "bdata": "tEHIByN9SUAF+NuKI31JQA==",
          "dtype": "f8"
         },
         "legendgroup": "21408",
         "lon": {
          "bdata": "5wqBi9h2F0CeFn+n1XYXQA==",
          "dtype": "f8"
         },
         "marker": {
          "color": "#B6E880"
         },
         "mode": "markers",
         "name": "21408",
         "showlegend": true,
         "subplot": "map",
         "type": "scattermap"
        },
        {
         "hovertemplate": "intensity=22565<br>lat=%{lat}<br>lon=%{lon}<extra></extra>",
         "lat": {
          "bdata": "Z+jf+yJ9SUA=",
          "dtype": "f8"
         },
         "legendgroup": "22565",
         "lon": {
          "bdata": "qt2pndl2F0A=",
          "dtype": "f8"
         },
         "marker": {
          "color": "#FF97FF"
         },
         "mode": "markers",
         "name": "22565",
         "showlegend": true,
         "subplot": "map",
         "type": "scattermap"
        },
        {
         "hovertemplate": "intensity=29075<br>lat=%{lat}<br>lon=%{lon}<extra></extra>",
         "lat": {
          "bdata": "fHQ5EyN9SUA=",
          "dtype": "f8"
         },
         "legendgroup": "29075",
         "lon": {
          "bdata": "C8ETkdl2F0A=",
          "dtype": "f8"
         },
         "marker": {
          "color": "#FECB52"
         },
         "mode": "markers",
         "name": "29075",
         "showlegend": true,
         "subplot": "map",
         "type": "scattermap"
        },
        {
         "hovertemplate": "intensity=31413<br>lat=%{lat}<br>lon=%{lon}<extra></extra>",
         "lat": {
          "bdata": "idNTKyN9SUA=",
          "dtype": "f8"
         },
         "legendgroup": "31413",
         "lon": {
          "bdata": "4bMVhNl2F0A=",
          "dtype": "f8"
         },
         "marker": {
          "color": "#636efa"
         },
         "mode": "markers",
         "name": "31413",
         "showlegend": true,
         "subplot": "map",
         "type": "scattermap"
        },
        {
         "hovertemplate": "intensity=18043<br>lat=%{lat}<br>lon=%{lon}<extra></extra>",
         "lat": {
          "bdata": "ZAgNKSN9SUA=",
          "dtype": "f8"
         },
         "legendgroup": "18043",
         "lon": {
          "bdata": "2v+pItx2F0A=",
          "dtype": "f8"
         },
         "marker": {
          "color": "#EF553B"
         },
         "mode": "markers",
         "name": "18043",
         "showlegend": true,
         "subplot": "map",
         "type": "scattermap"
        },
        {
         "hovertemplate": "intensity=17432<br>lat=%{lat}<br>lon=%{lon}<extra></extra>",
         "lat": {
          "bdata": "Nbma8yJ9SUCf3hucJH1JQA==",
          "dtype": "f8"
         },
         "legendgroup": "17432",
         "lon": {
          "bdata": "hSUJSdx2F0DbPmgsvXYXQA==",
          "dtype": "f8"
         },
         "marker": {
          "color": "#00cc96"
         },
         "mode": "markers",
         "name": "17432",
         "showlegend": true,
         "subplot": "map",
         "type": "scattermap"
        },
        {
         "hovertemplate": "intensity=33837<br>lat=%{lat}<br>lon=%{lon}<extra></extra>",
         "lat": {
          "bdata": "JV7g8yJ9SUA=",
          "dtype": "f8"
         },
         "legendgroup": "33837",
         "lon": {
          "bdata": "v+vget12F0A=",
          "dtype": "f8"
         },
         "marker": {
          "color": "#ab63fa"
         },
         "mode": "markers",
         "name": "33837",
         "showlegend": true,
         "subplot": "map",
         "type": "scattermap"
        },
        {
         "hovertemplate": "intensity=26235<br>lat=%{lat}<br>lon=%{lon}<extra></extra>",
         "lat": {
          "bdata": "5e2GBCN9SUA=",
          "dtype": "f8"
         },
         "legendgroup": "26235",
         "lon": {
          "bdata": "aRSFat52F0A=",
          "dtype": "f8"
         },
         "marker": {
          "color": "#FFA15A"
         },
         "mode": "markers",
         "name": "26235",
         "showlegend": true,
         "subplot": "map",
         "type": "scattermap"
        },
        {
         "hovertemplate": "intensity=18240<br>lat=%{lat}<br>lon=%{lon}<extra></extra>",
         "lat": {
          "bdata": "yGEt7SJ9SUA=",
          "dtype": "f8"
         },
         "legendgroup": "18240",
         "lon": {
          "bdata": "Hiwbd952F0A=",
          "dtype": "f8"
         },
         "marker": {
          "color": "#19d3f3"
         },
         "mode": "markers",
         "name": "18240",
         "showlegend": true,
         "subplot": "map",
         "type": "scattermap"
        },
        {
         "hovertemplate": "intensity=27830<br>lat=%{lat}<br>lon=%{lon}<extra></extra>",
         "lat": {
          "bdata": "LFNf6iJ9SUDXKl5iJH1JQA==",
          "dtype": "f8"
         },
         "legendgroup": "27830",
         "lon": {
          "bdata": "lbV7l992F0CblJvWu3YXQA==",
          "dtype": "f8"
         },
         "marker": {
          "color": "#FF6692"
         },
         "mode": "markers",
         "name": "27830",
         "showlegend": true,
         "subplot": "map",
         "type": "scattermap"
        },
        {
         "hovertemplate": "intensity=31391<br>lat=%{lat}<br>lon=%{lon}<extra></extra>",
         "lat": {
          "bdata": "2pto+yJ9SUA=",
          "dtype": "f8"
         },
         "legendgroup": "31391",
         "lon": {
          "bdata": "84jRdt12F0A=",
          "dtype": "f8"
         },
         "marker": {
          "color": "#B6E880"
         },
         "mode": "markers",
         "name": "31391",
         "showlegend": true,
         "subplot": "map",
         "type": "scattermap"
        },
        {
         "hovertemplate": "intensity=30124<br>lat=%{lat}<br>lon=%{lon}<extra></extra>",
         "lat": {
          "bdata": "Rhd5CiN9SUA=",
          "dtype": "f8"
         },
         "legendgroup": "30124",
         "lon": {
          "bdata": "T8Oybt12F0A=",
          "dtype": "f8"
         },
         "marker": {
          "color": "#FF97FF"
         },
         "mode": "markers",
         "name": "30124",
         "showlegend": true,
         "subplot": "map",
         "type": "scattermap"
        },
        {
         "hovertemplate": "intensity=25143<br>lat=%{lat}<br>lon=%{lon}<extra></extra>",
         "lat": {
          "bdata": "v4cIECN9SUAky82aI31JQA==",
          "dtype": "f8"
         },
         "legendgroup": "25143",
         "lon": {
          "bdata": "7soug992F0Astf5H2XYXQA==",
          "dtype": "f8"
         },
         "marker": {
          "color": "#FECB52"
         },
         "mode": "markers",
         "name": "25143",
         "showlegend": true,
         "subplot": "map",
         "type": "scattermap"
        },
        {
         "hovertemplate": "intensity=31828<br>lat=%{lat}<br>lon=%{lon}<extra></extra>",
         "lat": {
          "bdata": "u7/IGCN9SUA=",
          "dtype": "f8"
         },
         "legendgroup": "31828",
         "lon": {
          "bdata": "6O37Zt12F0A=",
          "dtype": "f8"
         },
         "marker": {
          "color": "#636efa"
         },
         "mode": "markers",
         "name": "31828",
         "showlegend": true,
         "subplot": "map",
         "type": "scattermap"
        },
        {
         "hovertemplate": "intensity=19616<br>lat=%{lat}<br>lon=%{lon}<extra></extra>",
         "lat": {
          "bdata": "IAfUKiN9SUA=",
          "dtype": "f8"
         },
         "legendgroup": "19616",
         "lon": {
          "bdata": "WTaK1uB2F0A=",
          "dtype": "f8"
         },
         "marker": {
          "color": "#EF553B"
         },
         "mode": "markers",
         "name": "19616",
         "showlegend": true,
         "subplot": "map",
         "type": "scattermap"
        },
        {
         "hovertemplate": "intensity=40194<br>lat=%{lat}<br>lon=%{lon}<extra></extra>",
         "lat": {
          "bdata": "ihccmiN9SUDVuvvmI31JQA==",
          "dtype": "f8"
         },
         "legendgroup": "40194",
         "lon": {
          "bdata": "5SuOWbV2F0AaQ0jmvnYXQA==",
          "dtype": "f8"
         },
         "marker": {
          "color": "#00cc96"
         },
         "mode": "markers",
         "name": "40194",
         "showlegend": true,
         "subplot": "map",
         "type": "scattermap"
        },
        {
         "hovertemplate": "intensity=36262<br>lat=%{lat}<br>lon=%{lon}<extra></extra>",
         "lat": {
          "bdata": "YWK6myN9SUBqK91ZI31JQA==",
          "dtype": "f8"
         },
         "legendgroup": "36262",
         "lon": {
          "bdata": "pJvcWrZ2F0B+1EwC4nYXQA==",
          "dtype": "f8"
         },
         "marker": {
          "color": "#ab63fa"
         },
         "mode": "markers",
         "name": "36262",
         "showlegend": true,
         "subplot": "map",
         "type": "scattermap"
        },
        {
         "hovertemplate": "intensity=37551<br>lat=%{lat}<br>lon=%{lon}<extra></extra>",
         "lat": {
          "bdata": "SxtTsiN9SUCP0s+1JH1JQA==",
          "dtype": "f8"
         },
         "legendgroup": "37551",
         "lon": {
          "bdata": "qUyuTrZ2F0A7AFoCxnYXQA==",
          "dtype": "f8"
         },
         "marker": {
          "color": "#FFA15A"
         },
         "mode": "markers",
         "name": "37551",
         "showlegend": true,
         "subplot": "map",
         "type": "scattermap"
        },
        {
         "hovertemplate": "intensity=37922<br>lat=%{lat}<br>lon=%{lon}<extra></extra>",
         "lat": {
          "bdata": "Z86HySN9SUCGrDS8JH1JQA==",
          "dtype": "f8"
         },
         "legendgroup": "37922",
         "lon": {
          "bdata": "HjhuNrV2F0Bb0pRNx3YXQA==",
          "dtype": "f8"
         },
         "marker": {
          "color": "#19d3f3"
         },
         "mode": "markers",
         "name": "37922",
         "showlegend": true,
         "subplot": "map",
         "type": "scattermap"
        },
        {
         "hovertemplate": "intensity=39932<br>lat=%{lat}<br>lon=%{lon}<extra></extra>",
         "lat": {
          "bdata": "CfOvzCN9SUA=",
          "dtype": "f8"
         },
         "legendgroup": "39932",
         "lon": {
          "bdata": "sUV4QLZ2F0A=",
          "dtype": "f8"
         },
         "marker": {
          "color": "#FF6692"
         },
         "mode": "markers",
         "name": "39932",
         "showlegend": true,
         "subplot": "map",
         "type": "scattermap"
        },
        {
         "hovertemplate": "intensity=39124<br>lat=%{lat}<br>lon=%{lon}<extra></extra>",
         "lat": {
          "bdata": "8qtI4yN9SUA=",
          "dtype": "f8"
         },
         "legendgroup": "39124",
         "lon": {
          "bdata": "c/ZJNLZ2F0A=",
          "dtype": "f8"
         },
         "marker": {
          "color": "#B6E880"
         },
         "mode": "markers",
         "name": "39124",
         "showlegend": true,
         "subplot": "map",
         "type": "scattermap"
        },
        {
         "hovertemplate": "intensity=43274<br>lat=%{lat}<br>lon=%{lon}<extra></extra>",
         "lat": {
          "bdata": "6JEg+SN9SUA=",
          "dtype": "f8"
         },
         "legendgroup": "43274",
         "lon": {
          "bdata": "p5iDKLZ2F0A=",
          "dtype": "f8"
         },
         "marker": {
          "color": "#FF97FF"
         },
         "mode": "markers",
         "name": "43274",
         "showlegend": true,
         "subplot": "map",
         "type": "scattermap"
        },
        {
         "hovertemplate": "intensity=14330<br>lat=%{lat}<br>lon=%{lon}<extra></extra>",
         "lat": {
          "bdata": "1pBYEyR9SUA=",
          "dtype": "f8"
         },
         "legendgroup": "14330",
         "lon": {
          "bdata": "EbqjDrV2F0A=",
          "dtype": "f8"
         },
         "marker": {
          "color": "#FECB52"
         },
         "mode": "markers",
         "name": "14330",
         "showlegend": true,
         "subplot": "map",
         "type": "scattermap"
        },
        {
         "hovertemplate": "intensity=31260<br>lat=%{lat}<br>lon=%{lon}<extra></extra>",
         "lat": {
          "bdata": "tRyyKiR9SUA=",
          "dtype": "f8"
         },
         "legendgroup": "31260",
         "lon": {
          "bdata": "zHcNArV2F0A=",
          "dtype": "f8"
         },
         "marker": {
          "color": "#636efa"
         },
         "mode": "markers",
         "name": "31260",
         "showlegend": true,
         "subplot": "map",
         "type": "scattermap"
        },
        {
         "hovertemplate": "intensity=39604<br>lat=%{lat}<br>lon=%{lon}<extra></extra>",
         "lat": {
          "bdata": "gvXWKiR9SUBoEUCGJH1JQA==",
          "dtype": "f8"
         },
         "legendgroup": "39604",
         "lon": {
          "bdata": "BVC3DbZ2F0BJd0aRunYXQA==",
          "dtype": "f8"
         },
         "marker": {
          "color": "#EF553B"
         },
         "mode": "markers",
         "name": "39604",
         "showlegend": true,
         "subplot": "map",
         "type": "scattermap"
        },
        {
         "hovertemplate": "intensity=40937<br>lat=%{lat}<br>lon=%{lon}<extra></extra>",
         "lat": {
          "bdata": "bK5vQSR9SUDFEQrrI31JQA==",
          "dtype": "f8"
         },
         "legendgroup": "40937",
         "lon": {
          "bdata": "QgCJAbZ2F0ByZ+P1uXYXQA==",
          "dtype": "f8"
         },
         "marker": {
          "color": "#00cc96"
         },
         "mode": "markers",
         "name": "40937",
         "showlegend": true,
         "subplot": "map",
         "type": "scattermap"
        },
        {
         "hovertemplate": "intensity=38032<br>lat=%{lat}<br>lon=%{lon}<extra></extra>",
         "lat": {
          "bdata": "dyFORCR9SUA=",
          "dtype": "f8"
         },
         "legendgroup": "38032",
         "lon": {
          "bdata": "g2A/9LR2F0A=",
          "dtype": "f8"
         },
         "marker": {
          "color": "#ab63fa"
         },
         "mode": "markers",
         "name": "38032",
         "showlegend": true,
         "subplot": "map",
         "type": "scattermap"
        },
        {
         "hovertemplate": "intensity=43034<br>lat=%{lat}<br>lon=%{lon}<extra></extra>",
         "lat": {
          "bdata": "RFMpXSR9SUBLhKQSJH1JQA==",
          "dtype": "f8"
         },
         "legendgroup": "43034",
         "lon": {
          "bdata": "szrZ5rR2F0AcUyDH4nYXQA==",
          "dtype": "f8"
         },
         "marker": {
          "color": "#FFA15A"
         },
         "mode": "markers",
         "name": "43034",
         "showlegend": true,
         "subplot": "map",
         "type": "scattermap"
        },
        {
         "hovertemplate": "intensity=42073<br>lat=%{lat}<br>lon=%{lon}<extra></extra>",
         "lat": {
          "bdata": "X6xCWiR9SUCeT49fJH1JQPWdXYwjfUlA",
          "dtype": "f8"
         },
         "legendgroup": "42073",
         "lon": {
          "bdata": "alyX6rV2F0BBooV/x3YXQIc1r6bVdhdA",
          "dtype": "f8"
         },
         "marker": {
          "color": "#19d3f3"
         },
         "mode": "markers",
         "name": "42073",
         "showlegend": true,
         "subplot": "map",
         "type": "scattermap"
        },
        {
         "hovertemplate": "intensity=44301<br>lat=%{lat}<br>lon=%{lon}<extra></extra>",
         "lat": {
          "bdata": "q/JMbSN9SUA=",
          "dtype": "f8"
         },
         "legendgroup": "44301",
         "lon": {
          "bdata": "ROfgpbd2F0A=",
          "dtype": "f8"
         },
         "marker": {
          "color": "#FF6692"
         },
         "mode": "markers",
         "name": "44301",
         "showlegend": true,
         "subplot": "map",
         "type": "scattermap"
        },
        {
         "hovertemplate": "intensity=46966<br>lat=%{lat}<br>lon=%{lon}<extra></extra>",
         "lat": {
          "bdata": "ir5DcCN9SUCpiluqI31JQCzDb0wkfUlA",
          "dtype": "f8"
         },
         "legendgroup": "46966",
         "lon": {
          "bdata": "AiMSOLp2F0BBX0m4vXYXQO+UJj/VdhdA",
          "dtype": "f8"
         },
         "marker": {
          "color": "#B6E880"
         },
         "mode": "markers",
         "name": "46966",
         "showlegend": true,
         "subplot": "map",
         "type": "scattermap"
        },
        {
         "hovertemplate": "intensity=48168<br>lat=%{lat}<br>lon=%{lon}<extra></extra>",
         "lat": {
          "bdata": "eyq8ViN9SUA=",
          "dtype": "f8"
         },
         "legendgroup": "48168",
         "lon": {
          "bdata": "AgVzPrt2F0A=",
          "dtype": "f8"
         },
         "marker": {
          "color": "#FF97FF"
         },
         "mode": "markers",
         "name": "48168",
         "showlegend": true,
         "subplot": "map",
         "type": "scattermap"
        },
        {
         "hovertemplate": "intensity=47906<br>lat=%{lat}<br>lon=%{lon}<extra></extra>",
         "lat": {
          "bdata": "ju73TSN9SUA=",
          "dtype": "f8"
         },
         "legendgroup": "47906",
         "lon": {
          "bdata": "SB8qdbx2F0A=",
          "dtype": "f8"
         },
         "marker": {
          "color": "#FECB52"
         },
         "mode": "markers",
         "name": "47906",
         "showlegend": true,
         "subplot": "map",
         "type": "scattermap"
        },
        {
         "hovertemplate": "intensity=40784<br>lat=%{lat}<br>lon=%{lon}<extra></extra>",
         "lat": {
          "bdata": "CLVzSyN9SUDrWINOJH1JQA==",
          "dtype": "f8"
         },
         "legendgroup": "40784",
         "lon": {
          "bdata": "ayVy6712F0Cdy3kst3YXQA==",
          "dtype": "f8"
         },
         "marker": {
          "color": "#636efa"
         },
         "mode": "markers",
         "name": "40784",
         "showlegend": true,
         "subplot": "map",
         "type": "scattermap"
        },
        {
         "hovertemplate": "intensity=41833<br>lat=%{lat}<br>lon=%{lon}<extra></extra>",
         "lat": {
          "bdata": "QWzWaSN9SUADPTiLJH1JQNgPTMsjfUlA",
          "dtype": "f8"
         },
         "legendgroup": "41833",
         "lon": {
          "bdata": "9TwkZrx2F0AlBDPQtXYXQFl2wgbddhdA",
          "dtype": "f8"
         },
         "marker": {
          "color": "#EF553B"
         },
         "mode": "markers",
         "name": "41833",
         "showlegend": true,
         "subplot": "map",
         "type": "scattermap"
        },
        {
         "hovertemplate": "intensity=38971<br>lat=%{lat}<br>lon=%{lon}<extra></extra>",
         "lat": {
          "bdata": "04zQZSN9SUA=",
          "dtype": "f8"
         },
         "legendgroup": "38971",
         "lon": {
          "bdata": "eSc83b12F0A=",
          "dtype": "f8"
         },
         "marker": {
          "color": "#00cc96"
         },
         "mode": "markers",
         "name": "38971",
         "showlegend": true,
         "subplot": "map",
         "type": "scattermap"
        },
        {
         "hovertemplate": "intensity=37158<br>lat=%{lat}<br>lon=%{lon}<extra></extra>",
         "lat": {
          "bdata": "x0VpfCN9SUA=",
          "dtype": "f8"
         },
         "legendgroup": "37158",
         "lon": {
          "bdata": "9t8N0b12F0A=",
          "dtype": "f8"
         },
         "marker": {
          "color": "#ab63fa"
         },
         "mode": "markers",
         "name": "37158",
         "showlegend": true,
         "subplot": "map",
         "type": "scattermap"
        },
        {
         "hovertemplate": "intensity=48430<br>lat=%{lat}<br>lon=%{lon}<extra></extra>",
         "lat": {
          "bdata": "T5agiiN9SUA=",
          "dtype": "f8"
         },
         "legendgroup": "48430",
         "lon": {
          "bdata": "uyDcKbp2F0A=",
          "dtype": "f8"
         },
         "marker": {
          "color": "#FFA15A"
         },
         "mode": "markers",
         "name": "48430",
         "showlegend": true,
         "subplot": "map",
         "type": "scattermap"
        },
        {
         "hovertemplate": "intensity=33204<br>lat=%{lat}<br>lon=%{lon}<extra></extra>",
         "lat": {
          "bdata": "1AzOqCN9SUA=",
          "dtype": "f8"
         },
         "legendgroup": "33204",
         "lon": {
          "bdata": "Al/Nhbd2F0A=",
          "dtype": "f8"
         },
         "marker": {
          "color": "#19d3f3"
         },
         "mode": "markers",
         "name": "33204",
         "showlegend": true,
         "subplot": "map",
         "type": "scattermap"
        },
        {
         "hovertemplate": "intensity=33117<br>lat=%{lat}<br>lon=%{lon}<extra></extra>",
         "lat": {
          "bdata": "t2JaxCN9SUA=",
          "dtype": "f8"
         },
         "legendgroup": "33117",
         "lon": {
          "bdata": "CbLA2Lh2F0A=",
          "dtype": "f8"
         },
         "marker": {
          "color": "#FF6692"
         },
         "mode": "markers",
         "name": "33117",
         "showlegend": true,
         "subplot": "map",
         "type": "scattermap"
        },
        {
         "hovertemplate": "intensity=37791<br>lat=%{lat}<br>lon=%{lon}<extra></extra>",
         "lat": {
          "bdata": "o8+WhiN9SUA1975KJH1JQA==",
          "dtype": "f8"
         },
         "legendgroup": "37791",
         "lon": {
          "bdata": "lgsM+rh2F0C++VmxunYXQA==",
          "dtype": "f8"
         },
         "marker": {
          "color": "#B6E880"
         },
         "mode": "markers",
         "name": "37791",
         "showlegend": true,
         "subplot": "map",
         "type": "scattermap"
        },
        {
         "hovertemplate": "intensity=50374<br>lat=%{lat}<br>lon=%{lon}<extra></extra>",
         "lat": {
          "bdata": "O+jwhiN9SUA=",
          "dtype": "f8"
         },
         "legendgroup": "50374",
         "lon": {
          "bdata": "Qqt2JLt2F0A=",
          "dtype": "f8"
         },
         "marker": {
          "color": "#FF97FF"
         },
         "mode": "markers",
         "name": "50374",
         "showlegend": true,
         "subplot": "map",
         "type": "scattermap"
        },
        {
         "hovertemplate": "intensity=47862<br>lat=%{lat}<br>lon=%{lon}<extra></extra>",
         "lat": {
          "bdata": "P/sHnCN9SUA=",
          "dtype": "f8"
         },
         "legendgroup": "47862",
         "lon": {
          "bdata": "0EMYGbt2F0A=",
          "dtype": "f8"
         },
         "marker": {
          "color": "#FECB52"
         },
         "mode": "markers",
         "name": "47862",
         "showlegend": true,
         "subplot": "map",
         "type": "scattermap"
        },
        {
         "hovertemplate": "intensity=48211<br>lat=%{lat}<br>lon=%{lon}<extra></extra>",
         "lat": {
          "bdata": "F4SJmCN9SUA=",
          "dtype": "f8"
         },
         "legendgroup": "48211",
         "lon": {
          "bdata": "NMj3TLx2F0A=",
          "dtype": "f8"
         },
         "marker": {
          "color": "#636efa"
         },
         "mode": "markers",
         "name": "48211",
         "showlegend": true,
         "subplot": "map",
         "type": "scattermap"
        },
        {
         "hovertemplate": "intensity=36939<br>lat=%{lat}<br>lon=%{lon}<extra></extra>",
         "lat": {
          "bdata": "ondElSN9SUCexsKYJH1JQIG4EFEjfUlA",
          "dtype": "f8"
         },
         "legendgroup": "36939",
         "lon": {
          "bdata": "XsSnw712F0ABqUBmuHYXQJpieC/jdhdA",
          "dtype": "f8"
         },
         "marker": {
          "color": "#EF553B"
         },
         "mode": "markers",
         "name": "36939",
         "showlegend": true,
         "subplot": "map",
         "type": "scattermap"
        },
        {
         "hovertemplate": "intensity=48059<br>lat=%{lat}<br>lon=%{lon}<extra></extra>",
         "lat": {
          "bdata": "FGphriN9SUA=",
          "dtype": "f8"
         },
         "legendgroup": "48059",
         "lon": {
          "bdata": "YHAxQbx2F0A=",
          "dtype": "f8"
         },
         "marker": {
          "color": "#00cc96"
         },
         "mode": "markers",
         "name": "48059",
         "showlegend": true,
         "subplot": "map",
         "type": "scattermap"
        },
        {
         "hovertemplate": "intensity=49282<br>lat=%{lat}<br>lon=%{lon}<extra></extra>",
         "lat": {
          "bdata": "1DwrwCN9SUA=",
          "dtype": "f8"
         },
         "legendgroup": "49282",
         "lon": {
          "bdata": "won3or12F0A=",
          "dtype": "f8"
         },
         "marker": {
          "color": "#ab63fa"
         },
         "mode": "markers",
         "name": "49282",
         "showlegend": true,
         "subplot": "map",
         "type": "scattermap"
        },
        {
         "hovertemplate": "intensity=38359<br>lat=%{lat}<br>lon=%{lon}<extra></extra>",
         "lat": {
          "bdata": "YkEHQiN9SUA=",
          "dtype": "f8"
         },
         "legendgroup": "38359",
         "lon": {
          "bdata": "qqszP792F0A=",
          "dtype": "f8"
         },
         "marker": {
          "color": "#FFA15A"
         },
         "mode": "markers",
         "name": "38359",
         "showlegend": true,
         "subplot": "map",
         "type": "scattermap"
        },
        {
         "hovertemplate": "intensity=37813<br>lat=%{lat}<br>lon=%{lon}<extra></extra>",
         "lat": {
          "bdata": "NUajWyN9SUA=",
          "dtype": "f8"
         },
         "legendgroup": "37813",
         "lon": {
          "bdata": "iqBlMb92F0A=",
          "dtype": "f8"
         },
         "marker": {
          "color": "#19d3f3"
         },
         "mode": "markers",
         "name": "37813",
         "showlegend": true,
         "subplot": "map",
         "type": "scattermap"
        },
        {
         "hovertemplate": "intensity=39364<br>lat=%{lat}<br>lon=%{lon}<extra></extra>",
         "lat": {
          "bdata": "/FBGPCN9SUA=",
          "dtype": "f8"
         },
         "legendgroup": "39364",
         "lon": {
          "bdata": "jP5KdMB2F0A=",
          "dtype": "f8"
         },
         "marker": {
          "color": "#FF6692"
         },
         "mode": "markers",
         "name": "39364",
         "showlegend": true,
         "subplot": "map",
         "type": "scattermap"
        },
        {
         "hovertemplate": "intensity=43755<br>lat=%{lat}<br>lon=%{lon}<extra></extra>",
         "lat": {
          "bdata": "Lx0wRyN9SUA=",
          "dtype": "f8"
         },
         "legendgroup": "43755",
         "lon": {
          "bdata": "ABMWvcF2F0A=",
          "dtype": "f8"
         },
         "marker": {
          "color": "#B6E880"
         },
         "mode": "markers",
         "name": "43755",
         "showlegend": true,
         "subplot": "map",
         "type": "scattermap"
        },
        {
         "hovertemplate": "intensity=39189<br>lat=%{lat}<br>lon=%{lon}<extra></extra>",
         "lat": {
          "bdata": "CEo1ZyN9SUA=",
          "dtype": "f8"
         },
         "legendgroup": "39189",
         "lon": {
          "bdata": "bEgmXcB2F0A=",
          "dtype": "f8"
         },
         "marker": {
          "color": "#FF97FF"
         },
         "mode": "markers",
         "name": "39189",
         "showlegend": true,
         "subplot": "map",
         "type": "scattermap"
        },
        {
         "hovertemplate": "intensity=37267<br>lat=%{lat}<br>lon=%{lon}<extra></extra>",
         "lat": {
          "bdata": "E3h+dCN9SUA=",
          "dtype": "f8"
         },
         "legendgroup": "37267",
         "lon": {
          "bdata": "hob/I792F0A=",
          "dtype": "f8"
         },
         "marker": {
          "color": "#FECB52"
         },
         "mode": "markers",
         "name": "37267",
         "showlegend": true,
         "subplot": "map",
         "type": "scattermap"
        },
        {
         "hovertemplate": "intensity=38316<br>lat=%{lat}<br>lon=%{lon}<extra></extra>",
         "lat": {
          "bdata": "zfRSgiN9SUA=",
          "dtype": "f8"
         },
         "legendgroup": "38316",
         "lon": {
          "bdata": "5VuITsB2F0A=",
          "dtype": "f8"
         },
         "marker": {
          "color": "#636efa"
         },
         "mode": "markers",
         "name": "38316",
         "showlegend": true,
         "subplot": "map",
         "type": "scattermap"
        },
        {
         "hovertemplate": "intensity=43318<br>lat=%{lat}<br>lon=%{lon}<extra></extra>",
         "lat": {
          "bdata": "F3xKXyN9SUBb908BJH1JQD0FNOsjfUlAa2LxtCR9SUAkG26dJH1JQIQ+pdgkfUlA",
          "dtype": "f8"
         },
         "legendgroup": "43318",
         "lon": {
          "bdata": "+uwXsMF2F0CSaMsSxHYXQAxHZarhdhdAdm2ZStF2F0BLZJPu2XYXQCr9BDrbdhdA",
          "dtype": "f8"
         },
         "marker": {
          "color": "#EF553B"
         },
         "mode": "markers",
         "name": "43318",
         "showlegend": true,
         "subplot": "map",
         "type": "scattermap"
        },
        {
         "hovertemplate": "intensity=39583<br>lat=%{lat}<br>lon=%{lon}<extra></extra>",
         "lat": {
          "bdata": "8YDmeCN9SUA=",
          "dtype": "f8"
         },
         "legendgroup": "39583",
         "lon": {
          "bdata": "bORJosF2F0A=",
          "dtype": "f8"
         },
         "marker": {
          "color": "#00cc96"
         },
         "mode": "markers",
         "name": "39583",
         "showlegend": true,
         "subplot": "map",
         "type": "scattermap"
        },
        {
         "hovertemplate": "intensity=44454<br>lat=%{lat}<br>lon=%{lon}<extra></extra>",
         "lat": {
          "bdata": "dqUjPSN9SUCBSr0qJH1JQAxX9qIjfUlA+mAu1iN9SUDvtl16JH1JQA==",
          "dtype": "f8"
         },
         "legendgroup": "44454",
         "lon": {
          "bdata": "s4NtN8N2F0Ahmnb8w3YXQPoEgZrVdhdAAR/lftV2F0Bp4b7D13YXQA==",
          "dtype": "f8"
         },
         "marker": {
          "color": "#ab63fa"
         },
         "mode": "markers",
         "name": "44454",
         "showlegend": true,
         "subplot": "map",
         "type": "scattermap"
        },
        {
         "hovertemplate": "intensity=45546<br>lat=%{lat}<br>lon=%{lon}<extra></extra>",
         "lat": {
          "bdata": "Uqq/ViN9SUBBMzttI31JQKpRn1kkfUlA",
          "dtype": "f8"
         },
         "legendgroup": "45546",
         "lon": {
          "bdata": "9XyfKcN2F0BHlQMhyXYXQE8EUzPgdhdA",
          "dtype": "f8"
         },
         "marker": {
          "color": "#FFA15A"
         },
         "mode": "markers",
         "name": "45546",
         "showlegend": true,
         "subplot": "map",
         "type": "scattermap"
        },
        {
         "hovertemplate": "intensity=47250<br>lat=%{lat}<br>lon=%{lon}<extra></extra>",
         "lat": {
          "bdata": "bk0tPCN9SUA13JpvI31JQFQ7YkYjfUlA",
          "dtype": "f8"
         },
         "legendgroup": "47250",
         "lon": {
          "bdata": "1/fsm8V2F0A0Zzkcw3YXQIui/1bLdhdA",
          "dtype": "f8"
         },
         "marker": {
          "color": "#19d3f3"
         },
         "mode": "markers",
         "name": "47250",
         "showlegend": true,
         "subplot": "map",
         "type": "scattermap"
        },
        {
         "hovertemplate": "intensity=45415<br>lat=%{lat}<br>lon=%{lon}<extra></extra>",
         "lat": {
          "bdata": "/yfYUSN9SUDuQbnkI31JQIcOP9QjfUlABvJSjyR9SUA=",
          "dtype": "f8"
         },
         "legendgroup": "45415",
         "lon": {
          "bdata": "T1vxesR2F0D+FoDnvnYXQL1NLtTHdhdAMWMo3ON2F0A=",
          "dtype": "f8"
         },
         "marker": {
          "color": "#FF6692"
         },
         "mode": "markers",
         "name": "45415",
         "showlegend": true,
         "subplot": "map",
         "type": "scattermap"
        },
        {
         "hovertemplate": "intensity=46245<br>lat=%{lat}<br>lon=%{lon}<extra></extra>",
         "lat": {
          "bdata": "TMT6giN9SUA=",
          "dtype": "f8"
         },
         "legendgroup": "46245",
         "lon": {
          "bdata": "onPCdcV2F0A=",
          "dtype": "f8"
         },
         "marker": {
          "color": "#B6E880"
         },
         "mode": "markers",
         "name": "46245",
         "showlegend": true,
         "subplot": "map",
         "type": "scattermap"
        },
        {
         "hovertemplate": "intensity=36721<br>lat=%{lat}<br>lon=%{lon}<extra></extra>",
         "lat": {
          "bdata": "6GLyoyN9SUA2SepZI31JQB1BX6QkfUlA",
          "dtype": "f8"
         },
         "legendgroup": "36721",
         "lon": {
          "bdata": "6SVrCr92F0DcKMto2HYXQFwdiFPRdhdA",
          "dtype": "f8"
         },
         "marker": {
          "color": "#FF97FF"
         },
         "mode": "markers",
         "name": "36721",
         "showlegend": true,
         "subplot": "map",
         "type": "scattermap"
        },
        {
         "hovertemplate": "intensity=38862<br>lat=%{lat}<br>lon=%{lon}<extra></extra>",
         "lat": {
          "bdata": "vYCsmSN9SUCV6utpI31JQA==",
          "dtype": "f8"
         },
         "legendgroup": "38862",
         "lon": {
          "bdata": "ayXyQcB2F0ARbxIi43YXQA==",
          "dtype": "f8"
         },
         "marker": {
          "color": "#FECB52"
         },
         "mode": "markers",
         "name": "38862",
         "showlegend": true,
         "subplot": "map",
         "type": "scattermap"
        },
        {
         "hovertemplate": "intensity=42007<br>lat=%{lat}<br>lon=%{lon}<extra></extra>",
         "lat": {
          "bdata": "yYWCkiN9SUApaPSGI31JQA==",
          "dtype": "f8"
         },
         "legendgroup": "42007",
         "lon": {
          "bdata": "tdt7lMF2F0CaM6MPw3YXQA==",
          "dtype": "f8"
         },
         "marker": {
          "color": "#636efa"
         },
         "mode": "markers",
         "name": "42007",
         "showlegend": true,
         "subplot": "map",
         "type": "scattermap"
        },
        {
         "hovertemplate": "intensity=47359<br>lat=%{lat}<br>lon=%{lon}<extra></extra>",
         "lat": {
          "bdata": "1u5LuyN9SUA=",
          "dtype": "f8"
         },
         "legendgroup": "47359",
         "lon": {
          "bdata": "C+7U/b52F0A=",
          "dtype": "f8"
         },
         "marker": {
          "color": "#EF553B"
         },
         "mode": "markers",
         "name": "47359",
         "showlegend": true,
         "subplot": "map",
         "type": "scattermap"
        },
        {
         "hovertemplate": "intensity=36240<br>lat=%{lat}<br>lon=%{lon}<extra></extra>",
         "lat": {
          "bdata": "rAwGsSN9SUA=",
          "dtype": "f8"
         },
         "legendgroup": "36240",
         "lon": {
          "bdata": "0O5bNcB2F0A=",
          "dtype": "f8"
         },
         "marker": {
          "color": "#00cc96"
         },
         "mode": "markers",
         "name": "36240",
         "showlegend": true,
         "subplot": "map",
         "type": "scattermap"
        },
        {
         "hovertemplate": "intensity=36437<br>lat=%{lat}<br>lon=%{lon}<extra></extra>",
         "lat": {
          "bdata": "xSTzviN9SUA=",
          "dtype": "f8"
         },
         "legendgroup": "36437",
         "lon": {
          "bdata": "sESHfMF2F0A=",
          "dtype": "f8"
         },
         "marker": {
          "color": "#ab63fa"
         },
         "mode": "markers",
         "name": "36437",
         "showlegend": true,
         "subplot": "map",
         "type": "scattermap"
        },
        {
         "hovertemplate": "intensity=40020<br>lat=%{lat}<br>lon=%{lon}<extra></extra>",
         "lat": {
          "bdata": "DprPnyN9SUC/tyuhJH1JQFOpKK8kfUlA",
          "dtype": "f8"
         },
         "legendgroup": "40020",
         "lon": {
          "bdata": "jx09AsN2F0DvEu3RxHYXQEGF4DHNdhdA",
          "dtype": "f8"
         },
         "marker": {
          "color": "#FFA15A"
         },
         "mode": "markers",
         "name": "40020",
         "showlegend": true,
         "subplot": "map",
         "type": "scattermap"
        },
        {
         "hovertemplate": "intensity=44214<br>lat=%{lat}<br>lon=%{lon}<extra></extra>",
         "lat": {
          "bdata": "B2udmCN9SUDM8+S8I31JQN4XRz8kfUlA",
          "dtype": "f8"
         },
         "legendgroup": "44214",
         "lon": {
          "bdata": "jVQ7S8R2F0DOQXXmznYXQHnKUyHadhdA",
          "dtype": "f8"
         },
         "marker": {
          "color": "#19d3f3"
         },
         "mode": "markers",
         "name": "44214",
         "showlegend": true,
         "subplot": "map",
         "type": "scattermap"
        },
        {
         "hovertemplate": "intensity=43449<br>lat=%{lat}<br>lon=%{lon}<extra></extra>",
         "lat": {
          "bdata": "NPbVmyN9SUA=",
          "dtype": "f8"
         },
         "legendgroup": "43449",
         "lon": {
          "bdata": "K2BcaMV2F0A=",
          "dtype": "f8"
         },
         "marker": {
          "color": "#FF6692"
         },
         "mode": "markers",
         "name": "43449",
         "showlegend": true,
         "subplot": "map",
         "type": "scattermap"
        },
        {
         "hovertemplate": "intensity=37901<br>lat=%{lat}<br>lon=%{lon}<extra></extra>",
         "lat": {
          "bdata": "CVNotiN9SUA=",
          "dtype": "f8"
         },
         "legendgroup": "37901",
         "lon": {
          "bdata": "2NoO9sJ2F0A=",
          "dtype": "f8"
         },
         "marker": {
          "color": "#B6E880"
         },
         "mode": "markers",
         "name": "37901",
         "showlegend": true,
         "subplot": "map",
         "type": "scattermap"
        },
        {
         "hovertemplate": "intensity=42641<br>lat=%{lat}<br>lon=%{lon}<extra></extra>",
         "lat": {
          "bdata": "BQwBzSN9SUA=",
          "dtype": "f8"
         },
         "legendgroup": "42641",
         "lon": {
          "bdata": "A5jg6cJ2F0A=",
          "dtype": "f8"
         },
         "marker": {
          "color": "#FF97FF"
         },
         "mode": "markers",
         "name": "42641",
         "showlegend": true,
         "subplot": "map",
         "type": "scattermap"
        },
        {
         "hovertemplate": "intensity=43842<br>lat=%{lat}<br>lon=%{lon}<extra></extra>",
         "lat": {
          "bdata": "/vb2ryN9SUA83K2xI31JQDzE+awkfUlA",
          "dtype": "f8"
         },
         "legendgroup": "43842",
         "lon": {
          "bdata": "/SGlPsR2F0DgEJZcxXYXQDrONLTYdhdA",
          "dtype": "f8"
         },
         "marker": {
          "color": "#FECB52"
         },
         "mode": "markers",
         "name": "43842",
         "showlegend": true,
         "subplot": "map",
         "type": "scattermap"
        },
        {
         "hovertemplate": "intensity=38534<br>lat=%{lat}<br>lon=%{lon}<extra></extra>",
         "lat": {
          "bdata": "+6+PxiN9SUA=",
          "dtype": "f8"
         },
         "legendgroup": "38534",
         "lon": {
          "bdata": "bOB2MsR2F0A=",
          "dtype": "f8"
         },
         "marker": {
          "color": "#636efa"
         },
         "mode": "markers",
         "name": "38534",
         "showlegend": true,
         "subplot": "map",
         "type": "scattermap"
        },
        {
         "hovertemplate": "intensity=43668<br>lat=%{lat}<br>lon=%{lon}<extra></extra>",
         "lat": {
          "bdata": "PJVGyCN9SUDn7dSsJH1JQA==",
          "dtype": "f8"
         },
         "legendgroup": "43668",
         "lon": {
          "bdata": "ZNBnUMV2F0AQ74qo13YXQA==",
          "dtype": "f8"
         },
         "marker": {
          "color": "#EF553B"
         },
         "mode": "markers",
         "name": "43668",
         "showlegend": true,
         "subplot": "map",
         "type": "scattermap"
        },
        {
         "hovertemplate": "intensity=38578<br>lat=%{lat}<br>lon=%{lon}<extra></extra>",
         "lat": {
          "bdata": "mySB1yN9SUDok/x2I31JQE5CqnkkfUlA",
          "dtype": "f8"
         },
         "legendgroup": "38578",
         "lon": {
          "bdata": "COCgbLd2F0BhO5Id13YXQMcyzKfKdhdA",
          "dtype": "f8"
         },
         "marker": {
          "color": "#00cc96"
         },
         "mode": "markers",
         "name": "38578",
         "showlegend": true,
         "subplot": "map",
         "type": "scattermap"
        },
        {
         "hovertemplate": "intensity=41243<br>lat=%{lat}<br>lon=%{lon}<extra></extra>",
         "lat": {
          "bdata": "k8F03CN9SUDh3VIiJH1JQA==",
          "dtype": "f8"
         },
         "legendgroup": "41243",
         "lon": {
          "bdata": "WoLCy7h2F0Af3XDgynYXQA==",
          "dtype": "f8"
         },
         "marker": {
          "color": "#ab63fa"
         },
         "mode": "markers",
         "name": "41243",
         "showlegend": true,
         "subplot": "map",
         "type": "scattermap"
        },
        {
         "hovertemplate": "intensity=26476<br>lat=%{lat}<br>lon=%{lon}<extra></extra>",
         "lat": {
          "bdata": "zSsy1SN9SUDduiUvJH1JQA==",
          "dtype": "f8"
         },
         "legendgroup": "26476",
         "lon": {
          "bdata": "nsGpAbp2F0AVYHw2wXYXQA==",
          "dtype": "f8"
         },
         "marker": {
          "color": "#FFA15A"
         },
         "mode": "markers",
         "name": "26476",
         "showlegend": true,
         "subplot": "map",
         "type": "scattermap"
        },
        {
         "hovertemplate": "intensity=42029<br>lat=%{lat}<br>lon=%{lon}<extra></extra>",
         "lat": {
          "bdata": "XMYQ9iN9SUA=",
          "dtype": "f8"
         },
         "legendgroup": "42029",
         "lon": {
          "bdata": "iG/0vbh2F0A=",
          "dtype": "f8"
         },
         "marker": {
          "color": "#19d3f3"
         },
         "mode": "markers",
         "name": "42029",
         "showlegend": true,
         "subplot": "map",
         "type": "scattermap"
        },
        {
         "hovertemplate": "intensity=38228<br>lat=%{lat}<br>lon=%{lon}<extra></extra>",
         "lat": {
          "bdata": "JcusDyR9SUA=",
          "dtype": "f8"
         },
         "legendgroup": "38228",
         "lon": {
          "bdata": "jlwmsLh2F0A=",
          "dtype": "f8"
         },
         "marker": {
          "color": "#FF6692"
         },
         "mode": "markers",
         "name": "38228",
         "showlegend": true,
         "subplot": "map",
         "type": "scattermap"
        },
        {
         "hovertemplate": "intensity=38490<br>lat=%{lat}<br>lon=%{lon}<extra></extra>",
         "lat": {
          "bdata": "qps2GyR9SUA=",
          "dtype": "f8"
         },
         "legendgroup": "38490",
         "lon": {
          "bdata": "4Ypb0rl2F0A=",
          "dtype": "f8"
         },
         "marker": {
          "color": "#B6E880"
         },
         "mode": "markers",
         "name": "38490",
         "showlegend": true,
         "subplot": "map",
         "type": "scattermap"
        },
        {
         "hovertemplate": "intensity=29163<br>lat=%{lat}<br>lon=%{lon}<extra></extra>",
         "lat": {
          "bdata": "uGNa5yN9SUA=",
          "dtype": "f8"
         },
         "legendgroup": "29163",
         "lon": {
          "bdata": "FPZ98Lp2F0A=",
          "dtype": "f8"
         },
         "marker": {
          "color": "#FF97FF"
         },
         "mode": "markers",
         "name": "29163",
         "showlegend": true,
         "subplot": "map",
         "type": "scattermap"
        },
        {
         "hovertemplate": "intensity=37573<br>lat=%{lat}<br>lon=%{lon}<extra></extra>",
         "lat": {
          "bdata": "u3Zx/CN9SUAe0k6DI31JQA==",
          "dtype": "f8"
         },
         "legendgroup": "37573",
         "lon": {
          "bdata": "JY4f5bp2F0Agt5tO33YXQA==",
          "dtype": "f8"
         },
         "marker": {
          "color": "#FECB52"
         },
         "mode": "markers",
         "name": "37573",
         "showlegend": true,
         "subplot": "map",
         "type": "scattermap"
        },
        {
         "hovertemplate": "intensity=37660<br>lat=%{lat}<br>lon=%{lon}<extra></extra>",
         "lat": {
          "bdata": "h6V0+iN9SUA=",
          "dtype": "f8"
         },
         "legendgroup": "37660",
         "lon": {
          "bdata": "yTQvGLx2F0A=",
          "dtype": "f8"
         },
         "marker": {
          "color": "#636efa"
         },
         "mode": "markers",
         "name": "37660",
         "showlegend": true,
         "subplot": "map",
         "type": "scattermap"
        },
        {
         "hovertemplate": "intensity=37682<br>lat=%{lat}<br>lon=%{lon}<extra></extra>",
         "lat": {
          "bdata": "zM7CEyR9SUA=",
          "dtype": "f8"
         },
         "legendgroup": "37682",
         "lon": {
          "bdata": "v9L9zrp2F0A=",
          "dtype": "f8"
         },
         "marker": {
          "color": "#EF553B"
         },
         "mode": "markers",
         "name": "37682",
         "showlegend": true,
         "subplot": "map",
         "type": "scattermap"
        },
        {
         "hovertemplate": "intensity=38425<br>lat=%{lat}<br>lon=%{lon}<extra></extra>",
         "lat": {
          "bdata": "cjHOESR9SUA=",
          "dtype": "f8"
         },
         "legendgroup": "38425",
         "lon": {
          "bdata": "qfmYC7x2F0A=",
          "dtype": "f8"
         },
         "marker": {
          "color": "#00cc96"
         },
         "mode": "markers",
         "name": "38425",
         "showlegend": true,
         "subplot": "map",
         "type": "scattermap"
        },
        {
         "hovertemplate": "intensity=31609<br>lat=%{lat}<br>lon=%{lon}<extra></extra>",
         "lat": {
          "bdata": "M/GADiR9SUA=",
          "dtype": "f8"
         },
         "legendgroup": "31609",
         "lon": {
          "bdata": "cX69eL12F0A=",
          "dtype": "f8"
         },
         "marker": {
          "color": "#ab63fa"
         },
         "mode": "markers",
         "name": "31609",
         "showlegend": true,
         "subplot": "map",
         "type": "scattermap"
        },
        {
         "hovertemplate": "intensity=40041<br>lat=%{lat}<br>lon=%{lon}<extra></extra>",
         "lat": {
          "bdata": "FedRISR9SUA=",
          "dtype": "f8"
         },
         "legendgroup": "40041",
         "lon": {
          "bdata": "1WjWRLd2F0A=",
          "dtype": "f8"
         },
         "marker": {
          "color": "#FFA15A"
         },
         "mode": "markers",
         "name": "40041",
         "showlegend": true,
         "subplot": "map",
         "type": "scattermap"
        },
        {
         "hovertemplate": "intensity=39233<br>lat=%{lat}<br>lon=%{lon}<extra></extra>",
         "lat": {
          "bdata": "G7GEJSR9SUCucDZ9JH1JQA==",
          "dtype": "f8"
         },
         "legendgroup": "39233",
         "lon": {
          "bdata": "9ABgpLh2F0DGSk0Tt3YXQA==",
          "dtype": "f8"
         },
         "marker": {
          "color": "#19d3f3"
         },
         "mode": "markers",
         "name": "39233",
         "showlegend": true,
         "subplot": "map",
         "type": "scattermap"
        },
        {
         "hovertemplate": "intensity=41898<br>lat=%{lat}<br>lon=%{lon}<extra></extra>",
         "lat": {
          "bdata": "7eJfPiR9SUAamuLhI31JQA==",
          "dtype": "f8"
         },
         "legendgroup": "41898",
         "lon": {
          "bdata": "Mt/5lrh2F0Bry5lCxXYXQA==",
          "dtype": "f8"
         },
         "marker": {
          "color": "#FF6692"
         },
         "mode": "markers",
         "name": "41898",
         "showlegend": true,
         "subplot": "map",
         "type": "scattermap"
        },
        {
         "hovertemplate": "intensity=40871<br>lat=%{lat}<br>lon=%{lon}<extra></extra>",
         "lat": {
          "bdata": "93KrOCR9SUDPVT9bJH1JQNREae4jfUlA",
          "dtype": "f8"
         },
         "legendgroup": "40871",
         "lon": {
          "bdata": "uihAOLd2F0ArnI4jzHYXQC507RrZdhdA",
          "dtype": "f8"
         },
         "marker": {
          "color": "#B6E880"
         },
         "mode": "markers",
         "name": "40871",
         "showlegend": true,
         "subplot": "map",
         "type": "scattermap"
        },
        {
         "hovertemplate": "intensity=40762<br>lat=%{lat}<br>lon=%{lon}<extra></extra>",
         "lat": {
          "bdata": "0G65VSR9SUA=",
          "dtype": "f8"
         },
         "legendgroup": "40762",
         "lon": {
          "bdata": "UaBjirh2F0A=",
          "dtype": "f8"
         },
         "marker": {
          "color": "#FF97FF"
         },
         "mode": "markers",
         "name": "40762",
         "showlegend": true,
         "subplot": "map",
         "type": "scattermap"
        },
        {
         "hovertemplate": "intensity=39714<br>lat=%{lat}<br>lon=%{lon}<extra></extra>",
         "lat": {
          "bdata": "l9NeLSR9SUAFDdgNJH1JQA==",
          "dtype": "f8"
         },
         "legendgroup": "39714",
         "lon": {
          "bdata": "7sEvwbp2F0DD/+RcxnYXQA==",
          "dtype": "f8"
         },
         "marker": {
          "color": "#FECB52"
         },
         "mode": "markers",
         "name": "39714",
         "showlegend": true,
         "subplot": "map",
         "type": "scattermap"
        },
        {
         "hovertemplate": "intensity=39211<br>lat=%{lat}<br>lon=%{lon}<extra></extra>",
         "lat": {
          "bdata": "VKP/PiR9SUA=",
          "dtype": "f8"
         },
         "legendgroup": "39211",
         "lon": {
          "bdata": "02U887t2F0A=",
          "dtype": "f8"
         },
         "marker": {
          "color": "#636efa"
         },
         "mode": "markers",
         "name": "39211",
         "showlegend": true,
         "subplot": "map",
         "type": "scattermap"
        },
        {
         "hovertemplate": "intensity=40806<br>lat=%{lat}<br>lon=%{lon}<extra></extra>",
         "lat": {
          "bdata": "E1CbJiR9SUA=",
          "dtype": "f8"
         },
         "legendgroup": "40806",
         "lon": {
          "bdata": "R1O/a712F0A=",
          "dtype": "f8"
         },
         "marker": {
          "color": "#EF553B"
         },
         "mode": "markers",
         "name": "40806",
         "showlegend": true,
         "subplot": "map",
         "type": "scattermap"
        },
        {
         "hovertemplate": "intensity=40500<br>lat=%{lat}<br>lon=%{lon}<extra></extra>",
         "lat": {
          "bdata": "9q61PiR9SUAI6vhbJH1JQA==",
          "dtype": "f8"
         },
         "legendgroup": "40500",
         "lon": {
          "bdata": "+ifBXr12F0DngKXPv3YXQA==",
          "dtype": "f8"
         },
         "marker": {
          "color": "#00cc96"
         },
         "mode": "markers",
         "name": "40500",
         "showlegend": true,
         "subplot": "map",
         "type": "scattermap"
        },
        {
         "hovertemplate": "intensity=42575<br>lat=%{lat}<br>lon=%{lon}<extra></extra>",
         "lat": {
          "bdata": "iIz3QyR9SUA=",
          "dtype": "f8"
         },
         "legendgroup": "42575",
         "lon": {
          "bdata": "uXYBtbp2F0A=",
          "dtype": "f8"
         },
         "marker": {
          "color": "#ab63fa"
         },
         "mode": "markers",
         "name": "42575",
         "showlegend": true,
         "subplot": "map",
         "type": "scattermap"
        },
        {
         "hovertemplate": "intensity=40609<br>lat=%{lat}<br>lon=%{lon}<extra></extra>",
         "lat": {
          "bdata": "NAIaVyR9SUBU/djeI31JQA==",
          "dtype": "f8"
         },
         "legendgroup": "40609",
         "lon": {
          "bdata": "5zg+5rt2F0A6+IB14HYXQA==",
          "dtype": "f8"
         },
         "marker": {
          "color": "#FFA15A"
         },
         "mode": "markers",
         "name": "40609",
         "showlegend": true,
         "subplot": "map",
         "type": "scattermap"
        },
        {
         "hovertemplate": "intensity=48692<br>lat=%{lat}<br>lon=%{lon}<extra></extra>",
         "lat": {
          "bdata": "u01m0yN9SUA=",
          "dtype": "f8"
         },
         "legendgroup": "48692",
         "lon": {
          "bdata": "wcTW8L52F0A=",
          "dtype": "f8"
         },
         "marker": {
          "color": "#19d3f3"
         },
         "mode": "markers",
         "name": "48692",
         "showlegend": true,
         "subplot": "map",
         "type": "scattermap"
        },
        {
         "hovertemplate": "intensity=48801<br>lat=%{lat}<br>lon=%{lon}<extra></extra>",
         "lat": {
          "bdata": "cZ374SN9SUA=",
          "dtype": "f8"
         },
         "legendgroup": "48801",
         "lon": {
          "bdata": "bq33GsB2F0A=",
          "dtype": "f8"
         },
         "marker": {
          "color": "#FF6692"
         },
         "mode": "markers",
         "name": "48801",
         "showlegend": true,
         "subplot": "map",
         "type": "scattermap"
        },
        {
         "hovertemplate": "intensity=43143<br>lat=%{lat}<br>lon=%{lon}<extra></extra>",
         "lat": {
          "bdata": "k/xP2SN9SUA=",
          "dtype": "f8"
         },
         "legendgroup": "43143",
         "lon": {
          "bdata": "VkpRbsF2F0A=",
          "dtype": "f8"
         },
         "marker": {
          "color": "#B6E880"
         },
         "mode": "markers",
         "name": "43143",
         "showlegend": true,
         "subplot": "map",
         "type": "scattermap"
        },
        {
         "hovertemplate": "intensity=39801<br>lat=%{lat}<br>lon=%{lon}<extra></extra>",
         "lat": {
          "bdata": "n0/L9yN9SUASmTDjI31JQA==",
          "dtype": "f8"
         },
         "legendgroup": "39801",
         "lon": {
          "bdata": "59mlBcB2F0Cra7Tg4nYXQA==",
          "dtype": "f8"
         },
         "marker": {
          "color": "#FF97FF"
         },
         "mode": "markers",
         "name": "39801",
         "showlegend": true,
         "subplot": "map",
         "type": "scattermap"
        },
        {
         "hovertemplate": "intensity=41461<br>lat=%{lat}<br>lon=%{lon}<extra></extra>",
         "lat": {
          "bdata": "tE+9AiR9SUCZlufTI31JQA==",
          "dtype": "f8"
         },
         "legendgroup": "41461",
         "lon": {
          "bdata": "bnf8V8F2F0Bhfnkd2HYXQA==",
          "dtype": "f8"
         },
         "marker": {
          "color": "#FECB52"
         },
         "mode": "markers",
         "name": "41461",
         "showlegend": true,
         "subplot": "map",
         "type": "scattermap"
        },
        {
         "hovertemplate": "intensity=34864<br>lat=%{lat}<br>lon=%{lon}<extra></extra>",
         "lat": {
          "bdata": "CmzB7iN9SUA=",
          "dtype": "f8"
         },
         "legendgroup": "34864",
         "lon": {
          "bdata": "BymFCsB2F0A=",
          "dtype": "f8"
         },
         "marker": {
          "color": "#636efa"
         },
         "mode": "markers",
         "name": "34864",
         "showlegend": true,
         "subplot": "map",
         "type": "scattermap"
        },
        {
         "hovertemplate": "intensity=35541<br>lat=%{lat}<br>lon=%{lon}<extra></extra>",
         "lat": {
          "bdata": "Eh8Y4iN9SUA0MWmbI31JQA==",
          "dtype": "f8"
         },
         "legendgroup": "35541",
         "lon": {
          "bdata": "ZDeC3sJ2F0B+r51B33YXQA==",
          "dtype": "f8"
         },
         "marker": {
          "color": "#EF553B"
         },
         "mode": "markers",
         "name": "35541",
         "showlegend": true,
         "subplot": "map",
         "type": "scattermap"
        },
        {
         "hovertemplate": "intensity=36874<br>lat=%{lat}<br>lon=%{lon}<extra></extra>",
         "lat": {
          "bdata": "1rQr4CN9SUDklqm+I31JQA==",
          "dtype": "f8"
         },
         "legendgroup": "36874",
         "lon": {
          "bdata": "O9qoJMR2F0BvbMejvXYXQA==",
          "dtype": "f8"
         },
         "marker": {
          "color": "#00cc96"
         },
         "mode": "markers",
         "name": "36874",
         "showlegend": true,
         "subplot": "map",
         "type": "scattermap"
        },
        {
         "hovertemplate": "intensity=30146<br>lat=%{lat}<br>lon=%{lon}<extra></extra>",
         "lat": {
          "bdata": "Dt/UDyR9SUA=",
          "dtype": "f8"
         },
         "legendgroup": "30146",
         "lon": {
          "bdata": "sljVKcV2F0A=",
          "dtype": "f8"
         },
         "marker": {
          "color": "#ab63fa"
         },
         "mode": "markers",
         "name": "30146",
         "showlegend": true,
         "subplot": "map",
         "type": "scattermap"
        },
        {
         "hovertemplate": "intensity=41680<br>lat=%{lat}<br>lon=%{lon}<extra></extra>",
         "lat": {
          "bdata": "IgP97yN9SUAbvatnJH1JQA==",
          "dtype": "f8"
         },
         "legendgroup": "41680",
         "lon": {
          "bdata": "kBIiHMR2F0C3MpQhwXYXQA==",
          "dtype": "f8"
         },
         "marker": {
          "color": "#FFA15A"
         },
         "mode": "markers",
         "name": "41680",
         "showlegend": true,
         "subplot": "map",
         "type": "scattermap"
        },
        {
         "hovertemplate": "intensity=40260<br>lat=%{lat}<br>lon=%{lon}<extra></extra>",
         "lat": {
          "bdata": "7gmMESR9SUBMPEIvJH1JQOIH7NUjfUlA",
          "dtype": "f8"
         },
         "legendgroup": "40260",
         "lon": {
          "bdata": "mN3txMJ2F0BL8wb6w3YXQHIppvnddhdA",
          "dtype": "f8"
         },
         "marker": {
          "color": "#19d3f3"
         },
         "mode": "markers",
         "name": "40260",
         "showlegend": true,
         "subplot": "map",
         "type": "scattermap"
        },
        {
         "hovertemplate": "intensity=28638<br>lat=%{lat}<br>lon=%{lon}<extra></extra>",
         "lat": {
          "bdata": "JaUGLiR9SUA=",
          "dtype": "f8"
         },
         "legendgroup": "28638",
         "lon": {
          "bdata": "tv5p6L92F0A=",
          "dtype": "f8"
         },
         "marker": {
          "color": "#FF6692"
         },
         "mode": "markers",
         "name": "28638",
         "showlegend": true,
         "subplot": "map",
         "type": "scattermap"
        },
        {
         "hovertemplate": "intensity=39757<br>lat=%{lat}<br>lon=%{lon}<extra></extra>",
         "lat": {
          "bdata": "Q5yQNCR9SUC6i9DXI31JQA==",
          "dtype": "f8"
         },
         "legendgroup": "39757",
         "lon": {
          "bdata": "4yx2vL52F0CVoRsn2XYXQA==",
          "dtype": "f8"
         },
         "marker": {
          "color": "#B6E880"
         },
         "mode": "markers",
         "name": "39757",
         "showlegend": true,
         "subplot": "map",
         "type": "scattermap"
        },
        {
         "hovertemplate": "intensity=38774<br>lat=%{lat}<br>lon=%{lon}<extra></extra>",
         "lat": {
          "bdata": "UseiTCR9SUA=",
          "dtype": "f8"
         },
         "legendgroup": "38774",
         "lon": {
          "bdata": "vIPspb52F0A=",
          "dtype": "f8"
         },
         "marker": {
          "color": "#FF97FF"
         },
         "mode": "markers",
         "name": "38774",
         "showlegend": true,
         "subplot": "map",
         "type": "scattermap"
        },
        {
         "hovertemplate": "intensity=39495<br>lat=%{lat}<br>lon=%{lon}<extra></extra>",
         "lat": {
          "bdata": "GV6fRCR9SUCAJMjDI31JQA==",
          "dtype": "f8"
         },
         "legendgroup": "39495",
         "lon": {
          "bdata": "grg73L92F0BWTXVt2nYXQA==",
          "dtype": "f8"
         },
         "marker": {
          "color": "#FECB52"
         },
         "mode": "markers",
         "name": "39495",
         "showlegend": true,
         "subplot": "map",
         "type": "scattermap"
        },
        {
         "hovertemplate": "intensity=42816<br>lat=%{lat}<br>lon=%{lon}<extra></extra>",
         "lat": {
          "bdata": "LPl9ZSR9SUA=",
          "dtype": "f8"
         },
         "legendgroup": "42816",
         "lon": {
          "bdata": "PmiGmL52F0A=",
          "dtype": "f8"
         },
         "marker": {
          "color": "#636efa"
         },
         "mode": "markers",
         "name": "42816",
         "showlegend": true,
         "subplot": "map",
         "type": "scattermap"
        },
        {
         "hovertemplate": "intensity=27721<br>lat=%{lat}<br>lon=%{lon}<extra></extra>",
         "lat": {
          "bdata": "4LYxKiR9SUA=",
          "dtype": "f8"
         },
         "legendgroup": "27721",
         "lon": {
          "bdata": "MGKfG8V2F0A=",
          "dtype": "f8"
         },
         "marker": {
          "color": "#EF553B"
         },
         "mode": "markers",
         "name": "27721",
         "showlegend": true,
         "subplot": "map",
         "type": "scattermap"
        },
        {
         "hovertemplate": "intensity=38709<br>lat=%{lat}<br>lon=%{lon}<extra></extra>",
         "lat": {
          "bdata": "dxhgXiR9SUA=",
          "dtype": "f8"
         },
         "legendgroup": "38709",
         "lon": {
          "bdata": "+MSDm8J2F0A=",
          "dtype": "f8"
         },
         "marker": {
          "color": "#00cc96"
         },
         "mode": "markers",
         "name": "38709",
         "showlegend": true,
         "subplot": "map",
         "type": "scattermap"
        },
        {
         "hovertemplate": "intensity=41090<br>lat=%{lat}<br>lon=%{lon}<extra></extra>",
         "lat": {
          "bdata": "G/KZiSR9SUABhFu7JH1JQPqHnecjfUlA",
          "dtype": "f8"
         },
         "legendgroup": "41090",
         "lon": {
          "bdata": "H4rkzrR2F0DovIGuw3YXQFp48bvbdhdA",
          "dtype": "f8"
         },
         "marker": {
          "color": "#ab63fa"
         },
         "mode": "markers",
         "name": "41090",
         "showlegend": true,
         "subplot": "map",
         "type": "scattermap"
        },
        {
         "hovertemplate": "intensity=41308<br>lat=%{lat}<br>lon=%{lon}<extra></extra>",
         "lat": {
          "bdata": "NgtdciR9SUCu1StJJH1JQA==",
          "dtype": "f8"
         },
         "legendgroup": "41308",
         "lon": {
          "bdata": "KCmZ3bV2F0CvuXSqyHYXQA==",
          "dtype": "f8"
         },
         "marker": {
          "color": "#FFA15A"
         },
         "mode": "markers",
         "name": "41308",
         "showlegend": true,
         "subplot": "map",
         "type": "scattermap"
        },
        {
         "hovertemplate": "intensity=43340<br>lat=%{lat}<br>lon=%{lon}<extra></extra>",
         "lat": {
          "bdata": "0sn2oyR9SUD4BhX6I31JQO+AbkMkfUlA",
          "dtype": "f8"
         },
         "legendgroup": "43340",
         "lon": {
          "bdata": "m4CuwLR2F0Cq/O5XzHYXQACoTAnQdhdA",
          "dtype": "f8"
         },
         "marker": {
          "color": "#19d3f3"
         },
         "mode": "markers",
         "name": "43340",
         "showlegend": true,
         "subplot": "map",
         "type": "scattermap"
        },
        {
         "hovertemplate": "intensity=39561<br>lat=%{lat}<br>lon=%{lon}<extra></extra>",
         "lat": {
          "bdata": "uoKPuiR9SUDeQ8vHJH1JQHYUAwgkfUlAWxnWAyR9SUA=",
          "dtype": "f8"
         },
         "legendgroup": "39561",
         "lon": {
          "bdata": "LC+AtLR2F0C5XSBZwnYXQOTeJFXBdhdAeWhW1912F0A=",
          "dtype": "f8"
         },
         "marker": {
          "color": "#FF6692"
         },
         "mode": "markers",
         "name": "39561",
         "showlegend": true,
         "subplot": "map",
         "type": "scattermap"
        },
        {
         "hovertemplate": "intensity=32199<br>lat=%{lat}<br>lon=%{lon}<extra></extra>",
         "lat": {
          "bdata": "Yn+ZdSR9SUA=",
          "dtype": "f8"
         },
         "legendgroup": "32199",
         "lon": {
          "bdata": "9Fmiobl2F0A=",
          "dtype": "f8"
         },
         "marker": {
          "color": "#B6E880"
         },
         "mode": "markers",
         "name": "32199",
         "showlegend": true,
         "subplot": "map",
         "type": "scattermap"
        },
        {
         "hovertemplate": "intensity=37202<br>lat=%{lat}<br>lon=%{lon}<extra></extra>",
         "lat": {
          "bdata": "I1f2jyR9SUA=",
          "dtype": "f8"
         },
         "legendgroup": "37202",
         "lon": {
          "bdata": "+lVsk7l2F0A=",
          "dtype": "f8"
         },
         "marker": {
          "color": "#FF97FF"
         },
         "mode": "markers",
         "name": "37202",
         "showlegend": true,
         "subplot": "map",
         "type": "scattermap"
        },
        {
         "hovertemplate": "intensity=36350<br>lat=%{lat}<br>lon=%{lon}<extra></extra>",
         "lat": {
          "bdata": "gFIcsCR9SUA=",
          "dtype": "f8"
         },
         "legendgroup": "36350",
         "lon": {
          "bdata": "nmmqWbh2F0A=",
          "dtype": "f8"
         },
         "marker": {
          "color": "#FECB52"
         },
         "mode": "markers",
         "name": "36350",
         "showlegend": true,
         "subplot": "map",
         "type": "scattermap"
        },
        {
         "hovertemplate": "intensity=39823<br>lat=%{lat}<br>lon=%{lon}<extra></extra>",
         "lat": {
          "bdata": "Tp2ZnSR9SUA=",
          "dtype": "f8"
         },
         "legendgroup": "39823",
         "lon": {
          "bdata": "JDqwhLp2F0A=",
          "dtype": "f8"
         },
         "marker": {
          "color": "#636efa"
         },
         "mode": "markers",
         "name": "39823",
         "showlegend": true,
         "subplot": "map",
         "type": "scattermap"
        },
        {
         "hovertemplate": "intensity=37333<br>lat=%{lat}<br>lon=%{lon}<extra></extra>",
         "lat": {
          "bdata": "/LUQqCR9SUA=",
          "dtype": "f8"
         },
         "legendgroup": "37333",
         "lon": {
          "bdata": "USZuhrl2F0A=",
          "dtype": "f8"
         },
         "marker": {
          "color": "#EF553B"
         },
         "mode": "markers",
         "name": "37333",
         "showlegend": true,
         "subplot": "map",
         "type": "scattermap"
        },
        {
         "hovertemplate": "intensity=38381<br>lat=%{lat}<br>lon=%{lon}<extra></extra>",
         "lat": {
          "bdata": "MinztCR9SUA=",
          "dtype": "f8"
         },
         "legendgroup": "38381",
         "lon": {
          "bdata": "3vwZeLp2F0A=",
          "dtype": "f8"
         },
         "marker": {
          "color": "#00cc96"
         },
         "mode": "markers",
         "name": "38381",
         "showlegend": true,
         "subplot": "map",
         "type": "scattermap"
        },
        {
         "hovertemplate": "intensity=41964<br>lat=%{lat}<br>lon=%{lon}<extra></extra>",
         "lat": {
          "bdata": "qBJscCR9SUA=",
          "dtype": "f8"
         },
         "legendgroup": "41964",
         "lon": {
          "bdata": "OO70Q712F0A=",
          "dtype": "f8"
         },
         "marker": {
          "color": "#ab63fa"
         },
         "mode": "markers",
         "name": "41964",
         "showlegend": true,
         "subplot": "map",
         "type": "scattermap"
        },
        {
         "hovertemplate": "intensity=17672<br>lat=%{lat}<br>lon=%{lon}<extra></extra>",
         "lat": {
          "bdata": "OihIgSR9SUA=",
          "dtype": "f8"
         },
         "legendgroup": "17672",
         "lon": {
          "bdata": "92mBz7t2F0A=",
          "dtype": "f8"
         },
         "marker": {
          "color": "#FFA15A"
         },
         "mode": "markers",
         "name": "17672",
         "showlegend": true,
         "subplot": "map",
         "type": "scattermap"
        },
        {
         "hovertemplate": "intensity=39277<br>lat=%{lat}<br>lon=%{lon}<extra></extra>",
         "lat": {
          "bdata": "RmZxriR9SUA=",
          "dtype": "f8"
         },
         "legendgroup": "39277",
         "lon": {
          "bdata": "mlWZrbt2F0A=",
          "dtype": "f8"
         },
         "marker": {
          "color": "#19d3f3"
         },
         "mode": "markers",
         "name": "39277",
         "showlegend": true,
         "subplot": "map",
         "type": "scattermap"
        },
        {
         "hovertemplate": "intensity=38993<br>lat=%{lat}<br>lon=%{lon}<extra></extra>",
         "lat": {
          "bdata": "mcTzsSR9SUA=",
          "dtype": "f8"
         },
         "legendgroup": "38993",
         "lon": {
          "bdata": "AOehIL12F0A=",
          "dtype": "f8"
         },
         "marker": {
          "color": "#FF6692"
         },
         "mode": "markers",
         "name": "38993",
         "showlegend": true,
         "subplot": "map",
         "type": "scattermap"
        },
        {
         "hovertemplate": "intensity=37507<br>lat=%{lat}<br>lon=%{lon}<extra></extra>",
         "lat": {
          "bdata": "YW7BwSR9SUA=",
          "dtype": "f8"
         },
         "legendgroup": "37507",
         "lon": {
          "bdata": "sWta7rZ2F0A=",
          "dtype": "f8"
         },
         "marker": {
          "color": "#B6E880"
         },
         "mode": "markers",
         "name": "37507",
         "showlegend": true,
         "subplot": "map",
         "type": "scattermap"
        },
        {
         "hovertemplate": "intensity=36502<br>lat=%{lat}<br>lon=%{lon}<extra></extra>",
         "lat": {
          "bdata": "xbqswSR9SUA=",
          "dtype": "f8"
         },
         "legendgroup": "36502",
         "lon": {
          "bdata": "gxOgeLl2F0A=",
          "dtype": "f8"
         },
         "marker": {
          "color": "#FF97FF"
         },
         "mode": "markers",
         "name": "36502",
         "showlegend": true,
         "subplot": "map",
         "type": "scattermap"
        },
        {
         "hovertemplate": "intensity=39626<br>lat=%{lat}<br>lon=%{lon}<extra></extra>",
         "lat": {
          "bdata": "HJhMxyR9SUCzGrDjI31JQA==",
          "dtype": "f8"
         },
         "legendgroup": "39626",
         "lon": {
          "bdata": "kjYzoLt2F0CzGBgR33YXQA==",
          "dtype": "f8"
         },
         "marker": {
          "color": "#FECB52"
         },
         "mode": "markers",
         "name": "39626",
         "showlegend": true,
         "subplot": "map",
         "type": "scattermap"
        },
        {
         "hovertemplate": "intensity=37944<br>lat=%{lat}<br>lon=%{lon}<extra></extra>",
         "lat": {
          "bdata": "lKrLxyR9SUA=",
          "dtype": "f8"
         },
         "legendgroup": "37944",
         "lon": {
          "bdata": "B4/bFL12F0A=",
          "dtype": "f8"
         },
         "marker": {
          "color": "#636efa"
         },
         "mode": "markers",
         "name": "37944",
         "showlegend": true,
         "subplot": "map",
         "type": "scattermap"
        },
        {
         "hovertemplate": "intensity=41942<br>lat=%{lat}<br>lon=%{lon}<extra></extra>",
         "lat": {
          "bdata": "IbIWfCR9SUA=",
          "dtype": "f8"
         },
         "legendgroup": "41942",
         "lon": {
          "bdata": "kyBYjL52F0A=",
          "dtype": "f8"
         },
         "marker": {
          "color": "#EF553B"
         },
         "mode": "markers",
         "name": "41942",
         "showlegend": true,
         "subplot": "map",
         "type": "scattermap"
        },
        {
         "hovertemplate": "intensity=40325<br>lat=%{lat}<br>lon=%{lon}<extra></extra>",
         "lat": {
          "bdata": "v02vjSR9SUAANQtBI31JQFRrEl0jfUlARVXv3SR9SUA=",
          "dtype": "f8"
         },
         "legendgroup": "40325",
         "lon": {
          "bdata": "JUzZtL92F0DOK0nP1XYXQCI31XLZdhdAhL7Qmdh2F0A=",
          "dtype": "f8"
         },
         "marker": {
          "color": "#00cc96"
         },
         "mode": "markers",
         "name": "40325",
         "showlegend": true,
         "subplot": "map",
         "type": "scattermap"
        },
        {
         "hovertemplate": "intensity=40522<br>lat=%{lat}<br>lon=%{lon}<extra></extra>",
         "lat": {
          "bdata": "Mei9fyR9SUA=",
          "dtype": "f8"
         },
         "legendgroup": "40522",
         "lon": {
          "bdata": "w4sKC8F2F0A=",
          "dtype": "f8"
         },
         "marker": {
          "color": "#ab63fa"
         },
         "mode": "markers",
         "name": "40522",
         "showlegend": true,
         "subplot": "map",
         "type": "scattermap"
        },
        {
         "hovertemplate": "intensity=40697<br>lat=%{lat}<br>lon=%{lon}<extra></extra>",
         "lat": {
          "bdata": "DxqZmCR9SUCMQAUJJH1JQA==",
          "dtype": "f8"
         },
         "legendgroup": "40697",
         "lon": {
          "bdata": "o3Kk/cB2F0B/U/EjxXYXQA==",
          "dtype": "f8"
         },
         "marker": {
          "color": "#FFA15A"
         },
         "mode": "markers",
         "name": "40697",
         "showlegend": true,
         "subplot": "map",
         "type": "scattermap"
        },
        {
         "hovertemplate": "intensity=37857<br>lat=%{lat}<br>lon=%{lon}<extra></extra>",
         "lat": {
          "bdata": "DgBxriR9SUCXjlbMI31JQA==",
          "dtype": "f8"
         },
         "legendgroup": "37857",
         "lon": {
          "bdata": "YB7e8cB2F0CJMK4d33YXQA==",
          "dtype": "f8"
         },
         "marker": {
          "color": "#19d3f3"
         },
         "mode": "markers",
         "name": "37857",
         "showlegend": true,
         "subplot": "map",
         "type": "scattermap"
        },
        {
         "hovertemplate": "intensity=39146<br>lat=%{lat}<br>lon=%{lon}<extra></extra>",
         "lat": {
          "bdata": "BpyAnSR9SUA5TuBkI31JQA==",
          "dtype": "f8"
         },
         "legendgroup": "39146",
         "lon": {
          "bdata": "C4FSrL92F0DTnp2g2nYXQA==",
          "dtype": "f8"
         },
         "marker": {
          "color": "#FF6692"
         },
         "mode": "markers",
         "name": "39146",
         "showlegend": true,
         "subplot": "map",
         "type": "scattermap"
        },
        {
         "hovertemplate": "intensity=39692<br>lat=%{lat}<br>lon=%{lon}<extra></extra>",
         "lat": {
          "bdata": "Vko7dyR9SUA=",
          "dtype": "f8"
         },
         "legendgroup": "39692",
         "lon": {
          "bdata": "pa0djsJ2F0A=",
          "dtype": "f8"
         },
         "marker": {
          "color": "#B6E880"
         },
         "mode": "markers",
         "name": "39692",
         "showlegend": true,
         "subplot": "map",
         "type": "scattermap"
        },
        {
         "hovertemplate": "intensity=32133<br>lat=%{lat}<br>lon=%{lon}<extra></extra>",
         "lat": {
          "bdata": "SpRLciR9SUA=",
          "dtype": "f8"
         },
         "legendgroup": "32133",
         "lon": {
          "bdata": "TR3k1cN2F0A=",
          "dtype": "f8"
         },
         "marker": {
          "color": "#FF97FF"
         },
         "mode": "markers",
         "name": "32133",
         "showlegend": true,
         "subplot": "map",
         "type": "scattermap"
        },
        {
         "hovertemplate": "intensity=38621<br>lat=%{lat}<br>lon=%{lon}<extra></extra>",
         "lat": {
          "bdata": "UQPUjSR9SUA=",
          "dtype": "f8"
         },
         "legendgroup": "38621",
         "lon": {
          "bdata": "wWnvgcJ2F0A=",
          "dtype": "f8"
         },
         "marker": {
          "color": "#FECB52"
         },
         "mode": "markers",
         "name": "38621",
         "showlegend": true,
         "subplot": "map",
         "type": "scattermap"
        },
        {
         "hovertemplate": "intensity=39867<br>lat=%{lat}<br>lon=%{lon}<extra></extra>",
         "lat": {
          "bdata": "Rk3kiCR9SUA=",
          "dtype": "f8"
         },
         "legendgroup": "39867",
         "lon": {
          "bdata": "rNq1ycN2F0A=",
          "dtype": "f8"
         },
         "marker": {
          "color": "#636efa"
         },
         "mode": "markers",
         "name": "39867",
         "showlegend": true,
         "subplot": "map",
         "type": "scattermap"
        },
        {
         "hovertemplate": "intensity=36306<br>lat=%{lat}<br>lon=%{lon}<extra></extra>",
         "lat": {
          "bdata": "xf6SiiR9SUBvGn5zI31JQA==",
          "dtype": "f8"
         },
         "legendgroup": "36306",
         "lon": {
          "bdata": "olQb3sR2F0ByunFR2HYXQA==",
          "dtype": "f8"
         },
         "marker": {
          "color": "#EF553B"
         },
         "mode": "markers",
         "name": "36306",
         "showlegend": true,
         "subplot": "map",
         "type": "scattermap"
        },
        {
         "hovertemplate": "intensity=38796<br>lat=%{lat}<br>lon=%{lon}<extra></extra>",
         "lat": {
          "bdata": "HlKAoiR9SUA=",
          "dtype": "f8"
         },
         "legendgroup": "38796",
         "lon": {
          "bdata": "StPnu8N2F0A=",
          "dtype": "f8"
         },
         "marker": {
          "color": "#00cc96"
         },
         "mode": "markers",
         "name": "38796",
         "showlegend": true,
         "subplot": "map",
         "type": "scattermap"
        },
        {
         "hovertemplate": "intensity=41330<br>lat=%{lat}<br>lon=%{lon}<extra></extra>",
         "lat": {
          "bdata": "Qo8tpSR9SUAGxgByI31JQA==",
          "dtype": "f8"
         },
         "legendgroup": "41330",
         "lon": {
          "bdata": "jTRZdcJ2F0CuGOW01XYXQA==",
          "dtype": "f8"
         },
         "marker": {
          "color": "#ab63fa"
         },
         "mode": "markers",
         "name": "41330",
         "showlegend": true,
         "subplot": "map",
         "type": "scattermap"
        },
        {
         "hovertemplate": "intensity=38294<br>lat=%{lat}<br>lon=%{lon}<extra></extra>",
         "lat": {
          "bdata": "7IJiwSR9SUA=",
          "dtype": "f8"
         },
         "legendgroup": "38294",
         "lon": {
          "bdata": "K2b9Zr52F0A=",
          "dtype": "f8"
         },
         "marker": {
          "color": "#FFA15A"
         },
         "mode": "markers",
         "name": "38294",
         "showlegend": true,
         "subplot": "map",
         "type": "scattermap"
        },
        {
         "hovertemplate": "intensity=41287<br>lat=%{lat}<br>lon=%{lon}<extra></extra>",
         "lat": {
          "bdata": "F5TJviR9SUBf6FZiI31JQO4/mv4jfUlAvrCodSR9SUA=",
          "dtype": "f8"
         },
         "legendgroup": "41287",
         "lon": {
          "bdata": "mCuLZ8J2F0Dhgg5utXYXQCPrptLIdhdAZ42Hgcl2F0A=",
          "dtype": "f8"
         },
         "marker": {
          "color": "#19d3f3"
         },
         "mode": "markers",
         "name": "41287",
         "showlegend": true,
         "subplot": "map",
         "type": "scattermap"
        },
        {
         "hovertemplate": "intensity=47687<br>lat=%{lat}<br>lon=%{lon}<extra></extra>",
         "lat": {
          "bdata": "qVEYQiN9SUA=",
          "dtype": "f8"
         },
         "legendgroup": "47687",
         "lon": {
          "bdata": "y+Qti7Z2F0A=",
          "dtype": "f8"
         },
         "marker": {
          "color": "#FF6692"
         },
         "mode": "markers",
         "name": "47687",
         "showlegend": true,
         "subplot": "map",
         "type": "scattermap"
        },
        {
         "hovertemplate": "intensity=46311<br>lat=%{lat}<br>lon=%{lon}<extra></extra>",
         "lat": {
          "bdata": "eYPzWiN9SUC+RWpWI31JQA==",
          "dtype": "f8"
         },
         "legendgroup": "46311",
         "lon": {
          "bdata": "pcHHfbZ2F0CV6JMduXYXQA==",
          "dtype": "f8"
         },
         "marker": {
          "color": "#B6E880"
         },
         "mode": "markers",
         "name": "46311",
         "showlegend": true,
         "subplot": "map",
         "type": "scattermap"
        },
        {
         "hovertemplate": "intensity=42554<br>lat=%{lat}<br>lon=%{lon}<extra></extra>",
         "lat": {
          "bdata": "WqgATiN9SUA=",
          "dtype": "f8"
         },
         "legendgroup": "42554",
         "lon": {
          "bdata": "sf0EebV2F0A=",
          "dtype": "f8"
         },
         "marker": {
          "color": "#FF97FF"
         },
         "mode": "markers",
         "name": "42554",
         "showlegend": true,
         "subplot": "map",
         "type": "scattermap"
        },
        {
         "hovertemplate": "intensity=41352<br>lat=%{lat}<br>lon=%{lon}<extra></extra>",
         "lat": {
          "bdata": "w/4DaiN9SUA=",
          "dtype": "f8"
         },
         "legendgroup": "41352",
         "lon": {
          "bdata": "kuKodbZ2F0A=",
          "dtype": "f8"
         },
         "marker": {
          "color": "#FECB52"
         },
         "mode": "markers",
         "name": "41352",
         "showlegend": true,
         "subplot": "map",
         "type": "scattermap"
        },
        {
         "hovertemplate": "intensity=28289<br>lat=%{lat}<br>lon=%{lon}<extra></extra>",
         "lat": {
          "bdata": "3JjYfCN9SUA=",
          "dtype": "f8"
         },
         "legendgroup": "28289",
         "lon": {
          "bdata": "p0uCa7Z2F0A=",
          "dtype": "f8"
         },
         "marker": {
          "color": "#636efa"
         },
         "mode": "markers",
         "name": "28289",
         "showlegend": true,
         "subplot": "map",
         "type": "scattermap"
        },
        {
         "hovertemplate": "intensity=37180<br>lat=%{lat}<br>lon=%{lon}<extra></extra>",
         "lat": {
          "bdata": "NABj4iN9SUA=",
          "dtype": "f8"
         },
         "legendgroup": "37180",
         "lon": {
          "bdata": "ChMIKbV2F0A=",
          "dtype": "f8"
         },
         "marker": {
          "color": "#EF553B"
         },
         "mode": "markers",
         "name": "37180",
         "showlegend": true,
         "subplot": "map",
         "type": "scattermap"
        },
        {
         "hovertemplate": "intensity=34493<br>lat=%{lat}<br>lon=%{lon}<extra></extra>",
         "lat": {
          "bdata": "GXml5CN9SUA=",
          "dtype": "f8"
         },
         "legendgroup": "34493",
         "lon": {
          "bdata": "Nj7QJ7V2F0A=",
          "dtype": "f8"
         },
         "marker": {
          "color": "#00cc96"
         },
         "mode": "markers",
         "name": "34493",
         "showlegend": true,
         "subplot": "map",
         "type": "scattermap"
        },
        {
         "hovertemplate": "intensity=34908<br>lat=%{lat}<br>lon=%{lon}<extra></extra>",
         "lat": {
          "bdata": "Q2349SN9SUA=",
          "dtype": "f8"
         },
         "legendgroup": "34908",
         "lon": {
          "bdata": "Hol5HrV2F0A=",
          "dtype": "f8"
         },
         "marker": {
          "color": "#ab63fa"
         },
         "mode": "markers",
         "name": "34908",
         "showlegend": true,
         "subplot": "map",
         "type": "scattermap"
        },
        {
         "hovertemplate": "intensity=48758<br>lat=%{lat}<br>lon=%{lon}<extra></extra>",
         "lat": {
          "bdata": "NXDSNyN9SUA=",
          "dtype": "f8"
         },
         "legendgroup": "48758",
         "lon": {
          "bdata": "oOK0wrd2F0A=",
          "dtype": "f8"
         },
         "marker": {
          "color": "#FFA15A"
         },
         "mode": "markers",
         "name": "48758",
         "showlegend": true,
         "subplot": "map",
         "type": "scattermap"
        },
        {
         "hovertemplate": "intensity=49326<br>lat=%{lat}<br>lon=%{lon}<extra></extra>",
         "lat": {
          "bdata": "/XRuUSN9SUA=",
          "dtype": "f8"
         },
         "legendgroup": "49326",
         "lon": {
          "bdata": "Ts/mtLd2F0A=",
          "dtype": "f8"
         },
         "marker": {
          "color": "#19d3f3"
         },
         "mode": "markers",
         "name": "49326",
         "showlegend": true,
         "subplot": "map",
         "type": "scattermap"
        },
        {
         "hovertemplate": "intensity=45940<br>lat=%{lat}<br>lon=%{lon}<extra></extra>",
         "lat": {
          "bdata": "H5ZHOSN9SUBr7oFkJH1JQA==",
          "dtype": "f8"
         },
         "legendgroup": "45940",
         "lon": {
          "bdata": "VPu1Vbp2F0DnAp0o1XYXQA==",
          "dtype": "f8"
         },
         "marker": {
          "color": "#FF6692"
         },
         "mode": "markers",
         "name": "45940",
         "showlegend": true,
         "subplot": "map",
         "type": "scattermap"
        },
        {
         "hovertemplate": "intensity=42750<br>lat=%{lat}<br>lon=%{lon}<extra></extra>",
         "lat": {
          "bdata": "abeSciN9SUBIQBQJJH1JQA==",
          "dtype": "f8"
         },
         "legendgroup": "42750",
         "lon": {
          "bdata": "pkwJo7d2F0C7eELF1nYXQA==",
          "dtype": "f8"
         },
         "marker": {
          "color": "#B6E880"
         },
         "mode": "markers",
         "name": "42750",
         "showlegend": true,
         "subplot": "map",
         "type": "scattermap"
        },
        {
         "hovertemplate": "intensity=37879<br>lat=%{lat}<br>lon=%{lon}<extra></extra>",
         "lat": {
          "bdata": "YZ1qiCN9SUAglnZaJH1JQA==",
          "dtype": "f8"
         },
         "legendgroup": "37879",
         "lon": {
          "bdata": "kvBCl7d2F0Cjk5KXyHYXQA==",
          "dtype": "f8"
         },
         "marker": {
          "color": "#FF97FF"
         },
         "mode": "markers",
         "name": "37879",
         "showlegend": true,
         "subplot": "map",
         "type": "scattermap"
        },
        {
         "hovertemplate": "intensity=40456<br>lat=%{lat}<br>lon=%{lon}<extra></extra>",
         "lat": {
          "bdata": "YvAeiSN9SUA=",
          "dtype": "f8"
         },
         "legendgroup": "40456",
         "lon": {
          "bdata": "nAOsKrp2F0A=",
          "dtype": "f8"
         },
         "marker": {
          "color": "#FECB52"
         },
         "mode": "markers",
         "name": "40456",
         "showlegend": true,
         "subplot": "map",
         "type": "scattermap"
        },
        {
         "hovertemplate": "intensity=34515<br>lat=%{lat}<br>lon=%{lon}<extra></extra>",
         "lat": {
          "bdata": "N8a3pCN9SUA=",
          "dtype": "f8"
         },
         "legendgroup": "34515",
         "lon": {
          "bdata": "aVDO6bh2F0A=",
          "dtype": "f8"
         },
         "marker": {
          "color": "#636efa"
         },
         "mode": "markers",
         "name": "34515",
         "showlegend": true,
         "subplot": "map",
         "type": "scattermap"
        },
        {
         "hovertemplate": "intensity=42401<br>lat=%{lat}<br>lon=%{lon}<extra></extra>",
         "lat": {
          "bdata": "HZegrSN9SUCPMYkyJH1JQA==",
          "dtype": "f8"
         },
         "legendgroup": "42401",
         "lon": {
          "bdata": "wWGZQbx2F0C5NSq+3XYXQA==",
          "dtype": "f8"
         },
         "marker": {
          "color": "#EF553B"
         },
         "mode": "markers",
         "name": "42401",
         "showlegend": true,
         "subplot": "map",
         "type": "scattermap"
        },
        {
         "hovertemplate": "intensity=47665<br>lat=%{lat}<br>lon=%{lon}<extra></extra>",
         "lat": {
          "bdata": "bMEbiyN9SUA=",
          "dtype": "f8"
         },
         "legendgroup": "47665",
         "lon": {
          "bdata": "uWKc97h2F0A=",
          "dtype": "f8"
         },
         "marker": {
          "color": "#00cc96"
         },
         "mode": "markers",
         "name": "47665",
         "showlegend": true,
         "subplot": "map",
         "type": "scattermap"
        },
        {
         "hovertemplate": "intensity=47469<br>lat=%{lat}<br>lon=%{lon}<extra></extra>",
         "lat": {
          "bdata": "nimsnCN9SUA=",
          "dtype": "f8"
         },
         "legendgroup": "47469",
         "lon": {
          "bdata": "Sf+RFrp2F0A=",
          "dtype": "f8"
         },
         "marker": {
          "color": "#ab63fa"
         },
         "mode": "markers",
         "name": "47469",
         "showlegend": true,
         "subplot": "map",
         "type": "scattermap"
        },
        {
         "hovertemplate": "intensity=39408<br>lat=%{lat}<br>lon=%{lon}<extra></extra>",
         "lat": {
          "bdata": "fIjGtCN9SUA=",
          "dtype": "f8"
         },
         "legendgroup": "39408",
         "lon": {
          "bdata": "B9GTCbp2F0A=",
          "dtype": "f8"
         },
         "marker": {
          "color": "#FFA15A"
         },
         "mode": "markers",
         "name": "39408",
         "showlegend": true,
         "subplot": "map",
         "type": "scattermap"
        },
        {
         "hovertemplate": "intensity=46748<br>lat=%{lat}<br>lon=%{lon}<extra></extra>",
         "lat": {
          "bdata": "h2HUriN9SUArTpuWI31JQBJ/B38kfUlA",
          "dtype": "f8"
         },
         "legendgroup": "46748",
         "lon": {
          "bdata": "mzFmBbt2F0CbwJxl1HYXQHcb+czYdhdA",
          "dtype": "f8"
         },
         "marker": {
          "color": "#19d3f3"
         },
         "mode": "markers",
         "name": "46748",
         "showlegend": true,
         "subplot": "map",
         "type": "scattermap"
        },
        {
         "hovertemplate": "intensity=39255<br>lat=%{lat}<br>lon=%{lon}<extra></extra>",
         "lat": {
          "bdata": "b+0txiN9SUBjAaSnI31JQA==",
          "dtype": "f8"
         },
         "legendgroup": "39255",
         "lon": {
          "bdata": "q/XP+Lp2F0C+PKNK2XYXQA==",
          "dtype": "f8"
         },
         "marker": {
          "color": "#FF6692"
         },
         "mode": "markers",
         "name": "39255",
         "showlegend": true,
         "subplot": "map",
         "type": "scattermap"
        },
        {
         "hovertemplate": "intensity=46639<br>lat=%{lat}<br>lon=%{lon}<extra></extra>",
         "lat": {
          "bdata": "Gn14wyN9SUA=",
          "dtype": "f8"
         },
         "legendgroup": "46639",
         "lon": {
          "bdata": "zwnTNbx2F0A=",
          "dtype": "f8"
         },
         "marker": {
          "color": "#B6E880"
         },
         "mode": "markers",
         "name": "46639",
         "showlegend": true,
         "subplot": "map",
         "type": "scattermap"
        },
        {
         "hovertemplate": "intensity=14024<br>lat=%{lat}<br>lon=%{lon}<extra></extra>",
         "lat": {
          "bdata": "zszpeyN9SUAQOYkpJH1JQA==",
          "dtype": "f8"
         },
         "legendgroup": "14024",
         "lon": {
          "bdata": "ox+qoMF2F0AwQ4K7yHYXQA==",
          "dtype": "f8"
         },
         "marker": {
          "color": "#FF97FF"
         },
         "mode": "markers",
         "name": "14024",
         "showlegend": true,
         "subplot": "map",
         "type": "scattermap"
        },
        {
         "hovertemplate": "intensity=19726<br>lat=%{lat}<br>lon=%{lon}<extra></extra>",
         "lat": {
          "bdata": "+KDgdCN9SUA=",
          "dtype": "f8"
         },
         "legendgroup": "19726",
         "lon": {
          "bdata": "LM9hGcN2F0A=",
          "dtype": "f8"
         },
         "marker": {
          "color": "#FECB52"
         },
         "mode": "markers",
         "name": "19726",
         "showlegend": true,
         "subplot": "map",
         "type": "scattermap"
        },
        {
         "hovertemplate": "intensity=25514<br>lat=%{lat}<br>lon=%{lon}<extra></extra>",
         "lat": {
          "bdata": "tSsElCN9SUA=",
          "dtype": "f8"
         },
         "legendgroup": "25514",
         "lon": {
          "bdata": "UPmrk8F2F0A=",
          "dtype": "f8"
         },
         "marker": {
          "color": "#636efa"
         },
         "mode": "markers",
         "name": "25514",
         "showlegend": true,
         "subplot": "map",
         "type": "scattermap"
        },
        {
         "hovertemplate": "intensity=22609<br>lat=%{lat}<br>lon=%{lon}<extra></extra>",
         "lat": {
          "bdata": "AHrVoyN9SUA=",
          "dtype": "f8"
         },
         "legendgroup": "22609",
         "lon": {
          "bdata": "FDAli8F2F0A=",
          "dtype": "f8"
         },
         "marker": {
          "color": "#EF553B"
         },
         "mode": "markers",
         "name": "22609",
         "showlegend": true,
         "subplot": "map",
         "type": "scattermap"
        },
        {
         "hovertemplate": "intensity=19267<br>lat=%{lat}<br>lon=%{lon}<extra></extra>",
         "lat": {
          "bdata": "8QUvuyN9SUA=",
          "dtype": "f8"
         },
         "legendgroup": "19267",
         "lon": {
          "bdata": "ufqOfsF2F0A=",
          "dtype": "f8"
         },
         "marker": {
          "color": "#00cc96"
         },
         "mode": "markers",
         "name": "19267",
         "showlegend": true,
         "subplot": "map",
         "type": "scattermap"
        },
        {
         "hovertemplate": "intensity=25689<br>lat=%{lat}<br>lon=%{lon}<extra></extra>",
         "lat": {
          "bdata": "3nrFjCN9SUAvTsycI31JQA==",
          "dtype": "f8"
         },
         "legendgroup": "25689",
         "lon": {
          "bdata": "rjV7cMV2F0At4twDw3YXQA==",
          "dtype": "f8"
         },
         "marker": {
          "color": "#ab63fa"
         },
         "mode": "markers",
         "name": "25689",
         "showlegend": true,
         "subplot": "map",
         "type": "scattermap"
        },
        {
         "hovertemplate": "intensity=22456<br>lat=%{lat}<br>lon=%{lon}<extra></extra>",
         "lat": {
          "bdata": "3tDIhSN9SUCe8E2qJH1JQA==",
          "dtype": "f8"
         },
         "legendgroup": "22456",
         "lon": {
          "bdata": "U+BhVcR2F0BayYhsyHYXQA==",
          "dtype": "f8"
         },
         "marker": {
          "color": "#FFA15A"
         },
         "mode": "markers",
         "name": "22456",
         "showlegend": true,
         "subplot": "map",
         "type": "scattermap"
        },
        {
         "hovertemplate": "intensity=23832<br>lat=%{lat}<br>lon=%{lon}<extra></extra>",
         "lat": {
          "bdata": "9yxNziN9SUA=",
          "dtype": "f8"
         },
         "legendgroup": "23832",
         "lon": {
          "bdata": "tEcoTcV2F0A=",
          "dtype": "f8"
         },
         "marker": {
          "color": "#19d3f3"
         },
         "mode": "markers",
         "name": "23832",
         "showlegend": true,
         "subplot": "map",
         "type": "scattermap"
        },
        {
         "hovertemplate": "intensity=15138<br>lat=%{lat}<br>lon=%{lon}<extra></extra>",
         "lat": {
          "bdata": "9/jptyN9SUA=",
          "dtype": "f8"
         },
         "legendgroup": "15138",
         "lon": {
          "bdata": "h/g+9cJ2F0A=",
          "dtype": "f8"
         },
         "marker": {
          "color": "#FF6692"
         },
         "mode": "markers",
         "name": "15138",
         "showlegend": true,
         "subplot": "map",
         "type": "scattermap"
        },
        {
         "hovertemplate": "intensity=14155<br>lat=%{lat}<br>lon=%{lon}<extra></extra>",
         "lat": {
          "bdata": "bCj3wyN9SUA=",
          "dtype": "f8"
         },
         "legendgroup": "14155",
         "lon": {
          "bdata": "9eW/7sJ2F0A=",
          "dtype": "f8"
         },
         "marker": {
          "color": "#B6E880"
         },
         "mode": "markers",
         "name": "14155",
         "showlegend": true,
         "subplot": "map",
         "type": "scattermap"
        },
        {
         "hovertemplate": "intensity=38206<br>lat=%{lat}<br>lon=%{lon}<extra></extra>",
         "lat": {
          "bdata": "daxBXSR9SUA=",
          "dtype": "f8"
         },
         "legendgroup": "38206",
         "lon": {
          "bdata": "KjFUhrh2F0A=",
          "dtype": "f8"
         },
         "marker": {
          "color": "#FF97FF"
         },
         "mode": "markers",
         "name": "38206",
         "showlegend": true,
         "subplot": "map",
         "type": "scattermap"
        },
        {
         "hovertemplate": "intensity=33968<br>lat=%{lat}<br>lon=%{lon}<extra></extra>",
         "lat": {
          "bdata": "qsFkRSR9SUA=",
          "dtype": "f8"
         },
         "legendgroup": "33968",
         "lon": {
          "bdata": "jrieu7l2F0A=",
          "dtype": "f8"
         },
         "marker": {
          "color": "#FECB52"
         },
         "mode": "markers",
         "name": "33968",
         "showlegend": true,
         "subplot": "map",
         "type": "scattermap"
        },
        {
         "hovertemplate": "intensity=37136<br>lat=%{lat}<br>lon=%{lon}<extra></extra>",
         "lat": {
          "bdata": "7JkgXSR9SUA=",
          "dtype": "f8"
         },
         "legendgroup": "37136",
         "lon": {
          "bdata": "p63+4rt2F0A=",
          "dtype": "f8"
         },
         "marker": {
          "color": "#636efa"
         },
         "mode": "markers",
         "name": "37136",
         "showlegend": true,
         "subplot": "map",
         "type": "scattermap"
        },
        {
         "hovertemplate": "intensity=29993<br>lat=%{lat}<br>lon=%{lon}<extra></extra>",
         "lat": {
          "bdata": "FGNQ2SN9SUA=",
          "dtype": "f8"
         },
         "legendgroup": "29993",
         "lon": {
          "bdata": "xLEMKrx2F0A=",
          "dtype": "f8"
         },
         "marker": {
          "color": "#EF553B"
         },
         "mode": "markers",
         "name": "29993",
         "showlegend": true,
         "subplot": "map",
         "type": "scattermap"
        },
        {
         "hovertemplate": "intensity=33401<br>lat=%{lat}<br>lon=%{lon}<extra></extra>",
         "lat": {
          "bdata": "R8sFYSR9SUA=",
          "dtype": "f8"
         },
         "legendgroup": "33401",
         "lon": {
          "bdata": "lnlMhLh2F0A=",
          "dtype": "f8"
         },
         "marker": {
          "color": "#00cc96"
         },
         "mode": "markers",
         "name": "33401",
         "showlegend": true,
         "subplot": "map",
         "type": "scattermap"
        },
        {
         "hovertemplate": "intensity=22107<br>lat=%{lat}<br>lon=%{lon}<extra></extra>",
         "lat": {
          "bdata": "4eL2VSR9SUA=",
          "dtype": "f8"
         },
         "legendgroup": "22107",
         "lon": {
          "bdata": "Gfivsrl2F0A=",
          "dtype": "f8"
         },
         "marker": {
          "color": "#ab63fa"
         },
         "mode": "markers",
         "name": "22107",
         "showlegend": true,
         "subplot": "map",
         "type": "scattermap"
        },
        {
         "hovertemplate": "intensity=31347<br>lat=%{lat}<br>lon=%{lon}<extra></extra>",
         "lat": {
          "bdata": "97sEUCR9SUA=",
          "dtype": "f8"
         },
         "legendgroup": "31347",
         "lon": {
          "bdata": "ol+Crrp2F0A=",
          "dtype": "f8"
         },
         "marker": {
          "color": "#FFA15A"
         },
         "mode": "markers",
         "name": "31347",
         "showlegend": true,
         "subplot": "map",
         "type": "scattermap"
        },
        {
         "hovertemplate": "intensity=44869<br>lat=%{lat}<br>lon=%{lon}<extra></extra>",
         "lat": {
          "bdata": "wwPI9CN9SUD5perKI31JQA==",
          "dtype": "f8"
         },
         "legendgroup": "44869",
         "lon": {
          "bdata": "8p5FB8B2F0CTHkNK0HYXQA==",
          "dtype": "f8"
         },
         "marker": {
          "color": "#19d3f3"
         },
         "mode": "markers",
         "name": "44869",
         "showlegend": true,
         "subplot": "map",
         "type": "scattermap"
        },
        {
         "hovertemplate": "intensity=34449<br>lat=%{lat}<br>lon=%{lon}<extra></extra>",
         "lat": {
          "bdata": "UEyy9yN9SUA=",
          "dtype": "f8"
         },
         "legendgroup": "34449",
         "lon": {
          "bdata": "t/xHLcV2F0A=",
          "dtype": "f8"
         },
         "marker": {
          "color": "#FF6692"
         },
         "mode": "markers",
         "name": "34449",
         "showlegend": true,
         "subplot": "map",
         "type": "scattermap"
        },
        {
         "hovertemplate": "intensity=36459<br>lat=%{lat}<br>lon=%{lon}<extra></extra>",
         "lat": {
          "bdata": "3K8NEyR9SUA=",
          "dtype": "f8"
         },
         "legendgroup": "36459",
         "lon": {
          "bdata": "P/sdxMJ2F0A=",
          "dtype": "f8"
         },
         "marker": {
          "color": "#B6E880"
         },
         "mode": "markers",
         "name": "36459",
         "showlegend": true,
         "subplot": "map",
         "type": "scattermap"
        },
        {
         "hovertemplate": "intensity=42947<br>lat=%{lat}<br>lon=%{lon}<extra></extra>",
         "lat": {
          "bdata": "TXd8OyR9SUCbDNhxI31JQHptWewjfUlA",
          "dtype": "f8"
         },
         "legendgroup": "42947",
         "lon": {
          "bdata": "ojm9CMV2F0B1RlMC0nYXQIEtMMfHdhdA",
          "dtype": "f8"
         },
         "marker": {
          "color": "#FF97FF"
         },
         "mode": "markers",
         "name": "42947",
         "showlegend": true,
         "subplot": "map",
         "type": "scattermap"
        },
        {
         "hovertemplate": "intensity=45219<br>lat=%{lat}<br>lon=%{lon}<extra></extra>",
         "lat": {
          "bdata": "/ohKFiR9SUA=",
          "dtype": "f8"
         },
         "legendgroup": "45219",
         "lon": {
          "bdata": "lHjiQ8F2F0A=",
          "dtype": "f8"
         },
         "marker": {
          "color": "#FECB52"
         },
         "mode": "markers",
         "name": "45219",
         "showlegend": true,
         "subplot": "map",
         "type": "scattermap"
        },
        {
         "hovertemplate": "intensity=16798<br>lat=%{lat}<br>lon=%{lon}<extra></extra>",
         "lat": {
          "bdata": "ahsU3SN9SUA=",
          "dtype": "f8"
         },
         "legendgroup": "16798",
         "lon": {
          "bdata": "Q5RJbMF2F0A=",
          "dtype": "f8"
         },
         "marker": {
          "color": "#636efa"
         },
         "mode": "markers",
         "name": "16798",
         "showlegend": true,
         "subplot": "map",
         "type": "scattermap"
        },
        {
         "hovertemplate": "intensity=42357<br>lat=%{lat}<br>lon=%{lon}<extra></extra>",
         "lat": {
          "bdata": "YLRQ2yN9SUA=",
          "dtype": "f8"
         },
         "legendgroup": "42357",
         "lon": {
          "bdata": "4rEp4sJ2F0A=",
          "dtype": "f8"
         },
         "marker": {
          "color": "#EF553B"
         },
         "mode": "markers",
         "name": "42357",
         "showlegend": true,
         "subplot": "map",
         "type": "scattermap"
        },
        {
         "hovertemplate": "intensity=25230<br>lat=%{lat}<br>lon=%{lon}<extra></extra>",
         "lat": {
          "bdata": "WFjf1CN9SUBde4G9JH1JQA==",
          "dtype": "f8"
         },
         "legendgroup": "25230",
         "lon": {
          "bdata": "Gvu/KsR2F0BNRb/pwHYXQA==",
          "dtype": "f8"
         },
         "marker": {
          "color": "#00cc96"
         },
         "mode": "markers",
         "name": "25230",
         "showlegend": true,
         "subplot": "map",
         "type": "scattermap"
        },
        {
         "hovertemplate": "intensity=13303<br>lat=%{lat}<br>lon=%{lon}<extra></extra>",
         "lat": {
          "bdata": "8hWUFiR9SUA=",
          "dtype": "f8"
         },
         "legendgroup": "13303",
         "lon": {
          "bdata": "t1+iHMV2F0A=",
          "dtype": "f8"
         },
         "marker": {
          "color": "#ab63fa"
         },
         "mode": "markers",
         "name": "13303",
         "showlegend": true,
         "subplot": "map",
         "type": "scattermap"
        },
        {
         "hovertemplate": "intensity=47032<br>lat=%{lat}<br>lon=%{lon}<extra></extra>",
         "lat": {
          "bdata": "BEriJSR9SUA=",
          "dtype": "f8"
         },
         "legendgroup": "47032",
         "lon": {
          "bdata": "zm33ucJ2F0A=",
          "dtype": "f8"
         },
         "marker": {
          "color": "#FFA15A"
         },
         "mode": "markers",
         "name": "47032",
         "showlegend": true,
         "subplot": "map",
         "type": "scattermap"
        },
        {
         "hovertemplate": "intensity=34209<br>lat=%{lat}<br>lon=%{lon}<extra></extra>",
         "lat": {
          "bdata": "5Hu9PiR9SUA=",
          "dtype": "f8"
         },
         "legendgroup": "34209",
         "lon": {
          "bdata": "0FaRrMJ2F0A=",
          "dtype": "f8"
         },
         "marker": {
          "color": "#19d3f3"
         },
         "mode": "markers",
         "name": "34209",
         "showlegend": true,
         "subplot": "map",
         "type": "scattermap"
        },
        {
         "hovertemplate": "intensity=44760<br>lat=%{lat}<br>lon=%{lon}<extra></extra>",
         "lat": {
          "bdata": "wmtPOyR9SUA2BvzVJH1JQA==",
          "dtype": "f8"
         },
         "legendgroup": "44760",
         "lon": {
          "bdata": "CuGH88N2F0D7fw9m3XYXQA==",
          "dtype": "f8"
         },
         "marker": {
          "color": "#FF6692"
         },
         "mode": "markers",
         "name": "44760",
         "showlegend": true,
         "subplot": "map",
         "type": "scattermap"
        },
        {
         "hovertemplate": "intensity=37223<br>lat=%{lat}<br>lon=%{lon}<extra></extra>",
         "lat": {
          "bdata": "vSToUSR9SUA=",
          "dtype": "f8"
         },
         "legendgroup": "37223",
         "lon": {
          "bdata": "tZ5Z58N2F0A=",
          "dtype": "f8"
         },
         "marker": {
          "color": "#B6E880"
         },
         "mode": "markers",
         "name": "37223",
         "showlegend": true,
         "subplot": "map",
         "type": "scattermap"
        },
        {
         "hovertemplate": "intensity=45590<br>lat=%{lat}<br>lon=%{lon}<extra></extra>",
         "lat": {
          "bdata": "beQRTyR9SUD7ftmvI31JQGobmIEkfUlA",
          "dtype": "f8"
         },
         "legendgroup": "45590",
         "lon": {
          "bdata": "zbwu/sR2F0CV7g/FzXYXQJMiTITWdhdA",
          "dtype": "f8"
         },
         "marker": {
          "color": "#FF97FF"
         },
         "mode": "markers",
         "name": "45590",
         "showlegend": true,
         "subplot": "map",
         "type": "scattermap"
        },
        {
         "hovertemplate": "intensity=29315<br>lat=%{lat}<br>lon=%{lon}<extra></extra>",
         "lat": {
          "bdata": "N48vaiR9SUA=",
          "dtype": "f8"
         },
         "legendgroup": "29315",
         "lon": {
          "bdata": "u9SQ78R2F0A=",
          "dtype": "f8"
         },
         "marker": {
          "color": "#FECB52"
         },
         "mode": "markers",
         "name": "29315",
         "showlegend": true,
         "subplot": "map",
         "type": "scattermap"
        },
        {
         "hovertemplate": "intensity=29359<br>lat=%{lat}<br>lon=%{lon}<extra></extra>",
         "lat": {
          "bdata": "w0v+jyN9SUA=",
          "dtype": "f8"
         },
         "legendgroup": "29359",
         "lon": {
          "bdata": "yOXDCsN2F0A=",
          "dtype": "f8"
         },
         "marker": {
          "color": "#636efa"
         },
         "mode": "markers",
         "name": "29359",
         "showlegend": true,
         "subplot": "map",
         "type": "scattermap"
        },
        {
         "hovertemplate": "intensity=39321<br>lat=%{lat}<br>lon=%{lon}<extra></extra>",
         "lat": {
          "bdata": "jvQooyN9SUA=",
          "dtype": "f8"
         },
         "legendgroup": "39321",
         "lon": {
          "bdata": "9SSMRcR2F0A=",
          "dtype": "f8"
         },
         "marker": {
          "color": "#EF553B"
         },
         "mode": "markers",
         "name": "39321",
         "showlegend": true,
         "subplot": "map",
         "type": "scattermap"
        },
        {
         "hovertemplate": "intensity=30539<br>lat=%{lat}<br>lon=%{lon}<extra></extra>",
         "lat": {
          "bdata": "4biToyN9SUAfb7h7JH1JQA==",
          "dtype": "f8"
         },
         "legendgroup": "30539",
         "lon": {
          "bdata": "yGc1AMN2F0C+yd09vXYXQA==",
          "dtype": "f8"
         },
         "marker": {
          "color": "#00cc96"
         },
         "mode": "markers",
         "name": "30539",
         "showlegend": true,
         "subplot": "map",
         "type": "scattermap"
        },
        {
         "hovertemplate": "intensity=33859<br>lat=%{lat}<br>lon=%{lon}<extra></extra>",
         "lat": {
          "bdata": "/k9PoCR9SUA=",
          "dtype": "f8"
         },
         "legendgroup": "33859",
         "lon": {
          "bdata": "DZfUxLV2F0A=",
          "dtype": "f8"
         },
         "marker": {
          "color": "#ab63fa"
         },
         "mode": "markers",
         "name": "33859",
         "showlegend": true,
         "subplot": "map",
         "type": "scattermap"
        },
        {
         "hovertemplate": "intensity=37704<br>lat=%{lat}<br>lon=%{lon}<extra></extra>",
         "lat": {
          "bdata": "pygRvCR9SUBkay+tI31JQA==",
          "dtype": "f8"
         },
         "legendgroup": "37704",
         "lon": {
          "bdata": "4Euws7R2F0BReaN52nYXQA==",
          "dtype": "f8"
         },
         "marker": {
          "color": "#FFA15A"
         },
         "mode": "markers",
         "name": "37704",
         "showlegend": true,
         "subplot": "map",
         "type": "scattermap"
        },
        {
         "hovertemplate": "intensity=23002<br>lat=%{lat}<br>lon=%{lon}<extra></extra>",
         "lat": {
          "bdata": "MHHhsCR9SUA=",
          "dtype": "f8"
         },
         "legendgroup": "23002",
         "lon": {
          "bdata": "i9Plu7V2F0A=",
          "dtype": "f8"
         },
         "marker": {
          "color": "#19d3f3"
         },
         "mode": "markers",
         "name": "23002",
         "showlegend": true,
         "subplot": "map",
         "type": "scattermap"
        },
        {
         "hovertemplate": "intensity=34646<br>lat=%{lat}<br>lon=%{lon}<extra></extra>",
         "lat": {
          "bdata": "hrw5gCR9SUA=",
          "dtype": "f8"
         },
         "legendgroup": "34646",
         "lon": {
          "bdata": "g4StEbd2F0A=",
          "dtype": "f8"
         },
         "marker": {
          "color": "#FF6692"
         },
         "mode": "markers",
         "name": "34646",
         "showlegend": true,
         "subplot": "map",
         "type": "scattermap"
        },
        {
         "hovertemplate": "intensity=31762<br>lat=%{lat}<br>lon=%{lon}<extra></extra>",
         "lat": {
          "bdata": "B0bFiiR9SUA=",
          "dtype": "f8"
         },
         "legendgroup": "31762",
         "lon": {
          "bdata": "kE7+C7d2F0A=",
          "dtype": "f8"
         },
         "marker": {
          "color": "#B6E880"
         },
         "mode": "markers",
         "name": "31762",
         "showlegend": true,
         "subplot": "map",
         "type": "scattermap"
        },
        {
         "hovertemplate": "intensity=18371<br>lat=%{lat}<br>lon=%{lon}<extra></extra>",
         "lat": {
          "bdata": "MoSedyR9SUA=",
          "dtype": "f8"
         },
         "legendgroup": "18371",
         "lon": {
          "bdata": "CSweeLh2F0A=",
          "dtype": "f8"
         },
         "marker": {
          "color": "#FF97FF"
         },
         "mode": "markers",
         "name": "18371",
         "showlegend": true,
         "subplot": "map",
         "type": "scattermap"
        },
        {
         "hovertemplate": "intensity=35148<br>lat=%{lat}<br>lon=%{lon}<extra></extra>",
         "lat": {
          "bdata": "Q0zrjiR9SUA=",
          "dtype": "f8"
         },
         "legendgroup": "35148",
         "lon": {
          "bdata": "bI8xgr52F0A=",
          "dtype": "f8"
         },
         "marker": {
          "color": "#FECB52"
         },
         "mode": "markers",
         "name": "35148",
         "showlegend": true,
         "subplot": "map",
         "type": "scattermap"
        },
        {
         "hovertemplate": "intensity=35803<br>lat=%{lat}<br>lon=%{lon}<extra></extra>",
         "lat": {
          "bdata": "/W5BniR9SUA=",
          "dtype": "f8"
         },
         "legendgroup": "35803",
         "lon": {
          "bdata": "wY/qq792F0A=",
          "dtype": "f8"
         },
         "marker": {
          "color": "#636efa"
         },
         "mode": "markers",
         "name": "35803",
         "showlegend": true,
         "subplot": "map",
         "type": "scattermap"
        },
        {
         "hovertemplate": "intensity=37529<br>lat=%{lat}<br>lon=%{lon}<extra></extra>",
         "lat": {
          "bdata": "/KXyryR9SUA=",
          "dtype": "f8"
         },
         "legendgroup": "37529",
         "lon": {
          "bdata": "3zsO8cB2F0A=",
          "dtype": "f8"
         },
         "marker": {
          "color": "#EF553B"
         },
         "mode": "markers",
         "name": "37529",
         "showlegend": true,
         "subplot": "map",
         "type": "scattermap"
        },
        {
         "hovertemplate": "intensity=14461<br>lat=%{lat}<br>lon=%{lon}<extra></extra>",
         "lat": {
          "bdata": "bRP/oCR9SUA=",
          "dtype": "f8"
         },
         "legendgroup": "14461",
         "lon": {
          "bdata": "hO9yeL52F0A=",
          "dtype": "f8"
         },
         "marker": {
          "color": "#00cc96"
         },
         "mode": "markers",
         "name": "14461",
         "showlegend": true,
         "subplot": "map",
         "type": "scattermap"
        },
        {
         "hovertemplate": "intensity=14002<br>lat=%{lat}<br>lon=%{lon}<extra></extra>",
         "lat": {
          "bdata": "IAkWsSR9SUA=",
          "dtype": "f8"
         },
         "legendgroup": "14002",
         "lon": {
          "bdata": "av/Dob92F0A=",
          "dtype": "f8"
         },
         "marker": {
          "color": "#ab63fa"
         },
         "mode": "markers",
         "name": "14002",
         "showlegend": true,
         "subplot": "map",
         "type": "scattermap"
        },
        {
         "hovertemplate": "intensity=33182<br>lat=%{lat}<br>lon=%{lon}<extra></extra>",
         "lat": {
          "bdata": "xrwNyiR9SUA=",
          "dtype": "f8"
         },
         "legendgroup": "33182",
         "lon": {
          "bdata": "GIroV8J2F0A=",
          "dtype": "f8"
         },
         "marker": {
          "color": "#FFA15A"
         },
         "mode": "markers",
         "name": "33182",
         "showlegend": true,
         "subplot": "map",
         "type": "scattermap"
        },
        {
         "hovertemplate": "intensity=48408<br>lat=%{lat}<br>lon=%{lon}<extra></extra>",
         "lat": {
          "bdata": "+c38PSN9SUA=",
          "dtype": "f8"
         },
         "legendgroup": "48408",
         "lon": {
          "bdata": "lV2A1sZ2F0A=",
          "dtype": "f8"
         },
         "marker": {
          "color": "#19d3f3"
         },
         "mode": "markers",
         "name": "48408",
         "showlegend": true,
         "subplot": "map",
         "type": "scattermap"
        },
        {
         "hovertemplate": "intensity=46136<br>lat=%{lat}<br>lon=%{lon}<extra></extra>",
         "lat": {
          "bdata": "+4aVVCN9SUBND2weJH1JQA==",
          "dtype": "f8"
         },
         "legendgroup": "46136",
         "lon": {
          "bdata": "6x5SysZ2F0AQe8mO4XYXQA==",
          "dtype": "f8"
         },
         "marker": {
          "color": "#FF6692"
         },
         "mode": "markers",
         "name": "46136",
         "showlegend": true,
         "subplot": "map",
         "type": "scattermap"
        },
        {
         "hovertemplate": "intensity=44541<br>lat=%{lat}<br>lon=%{lon}<extra></extra>",
         "lat": {
          "bdata": "9hT3VyN9SUA=",
          "dtype": "f8"
         },
         "legendgroup": "44541",
         "lon": {
          "bdata": "s6EsF8h2F0A=",
          "dtype": "f8"
         },
         "marker": {
          "color": "#B6E880"
         },
         "mode": "markers",
         "name": "44541",
         "showlegend": true,
         "subplot": "map",
         "type": "scattermap"
        },
        {
         "hovertemplate": "intensity=45808<br>lat=%{lat}<br>lon=%{lon}<extra></extra>",
         "lat": {
          "bdata": "9hLvayN9SUDf+ChKJH1JQEUK0AQkfUlA",
          "dtype": "f8"
         },
         "legendgroup": "45808",
         "lon": {
          "bdata": "Gu+7vcZ2F0CnAbvd13YXQCNhl5zhdhdA",
          "dtype": "f8"
         },
         "marker": {
          "color": "#FF97FF"
         },
         "mode": "markers",
         "name": "45808",
         "showlegend": true,
         "subplot": "map",
         "type": "scattermap"
        },
        {
         "hovertemplate": "intensity=45961<br>lat=%{lat}<br>lon=%{lon}<extra></extra>",
         "lat": {
          "bdata": "7p5IgyN9SUDyoFBvI31JQLgtVgQkfUlAqC+pzCR9SUA=",
          "dtype": "f8"
         },
         "legendgroup": "45961",
         "lon": {
          "bdata": "J78lscZ2F0Auc5YKyHYXQBA0CQLTdhdAQqN9jNJ2F0A=",
          "dtype": "f8"
         },
         "marker": {
          "color": "#FECB52"
         },
         "mode": "markers",
         "name": "45961",
         "showlegend": true,
         "subplot": "map",
         "type": "scattermap"
        },
        {
         "hovertemplate": "intensity=45765<br>lat=%{lat}<br>lon=%{lon}<extra></extra>",
         "lat": {
          "bdata": "0XwhQyN9SUBzyAQ1JH1JQN5pT4UkfUlA",
          "dtype": "f8"
         },
         "legendgroup": "45765",
         "lon": {
          "bdata": "PhtTMMp2F0CTVZuC4XYXQEkU7pjcdhdA",
          "dtype": "f8"
         },
         "marker": {
          "color": "#636efa"
         },
         "mode": "markers",
         "name": "45765",
         "showlegend": true,
         "subplot": "map",
         "type": "scattermap"
        },
        {
         "hovertemplate": "intensity=44673<br>lat=%{lat}<br>lon=%{lon}<extra></extra>",
         "lat": {
          "bdata": "yds7WyN9SUAMUl1sJH1JQA==",
          "dtype": "f8"
         },
         "legendgroup": "44673",
         "lon": {
          "bdata": "/P1UI8p2F0C0oJ54x3YXQA==",
          "dtype": "f8"
         },
         "marker": {
          "color": "#EF553B"
         },
         "mode": "markers",
         "name": "44673",
         "showlegend": true,
         "subplot": "map",
         "type": "scattermap"
        },
        {
         "hovertemplate": "intensity=45524<br>lat=%{lat}<br>lon=%{lon}<extra></extra>",
         "lat": {
          "bdata": "/m+JOCN9SUA=",
          "dtype": "f8"
         },
         "legendgroup": "45524",
         "lon": {
          "bdata": "wUTTycx2F0A=",
          "dtype": "f8"
         },
         "marker": {
          "color": "#00cc96"
         },
         "mode": "markers",
         "name": "45524",
         "showlegend": true,
         "subplot": "map",
         "type": "scattermap"
        },
        {
         "hovertemplate": "intensity=45022<br>lat=%{lat}<br>lon=%{lon}<extra></extra>",
         "lat": {
          "bdata": "4UfmUiN9SUBiaSDWJH1JQA==",
          "dtype": "f8"
         },
         "legendgroup": "45022",
         "lon": {
          "bdata": "uVedu8x2F0BjN/6143YXQA==",
          "dtype": "f8"
         },
         "marker": {
          "color": "#ab63fa"
         },
         "mode": "markers",
         "name": "45022",
         "showlegend": true,
         "subplot": "map",
         "type": "scattermap"
        },
        {
         "hovertemplate": "intensity=48561<br>lat=%{lat}<br>lon=%{lon}<extra></extra>",
         "lat": {
          "bdata": "o7OYdSN9SUA=",
          "dtype": "f8"
         },
         "legendgroup": "48561",
         "lon": {
          "bdata": "0g0fFcp2F0A=",
          "dtype": "f8"
         },
         "marker": {
          "color": "#FFA15A"
         },
         "mode": "markers",
         "name": "48561",
         "showlegend": true,
         "subplot": "map",
         "type": "scattermap"
        },
        {
         "hovertemplate": "intensity=46114<br>lat=%{lat}<br>lon=%{lon}<extra></extra>",
         "lat": {
          "bdata": "Q/mWdiN9SUAfNxY1JH1JQFhot+4jfUlA",
          "dtype": "f8"
         },
         "legendgroup": "46114",
         "lon": {
          "bdata": "PmoDPct2F0D9trxL1XYXQBtbeNPWdhdA",
          "dtype": "f8"
         },
         "marker": {
          "color": "#19d3f3"
         },
         "mode": "markers",
         "name": "46114",
         "showlegend": true,
         "subplot": "map",
         "type": "scattermap"
        },
        {
         "hovertemplate": "intensity=47556<br>lat=%{lat}<br>lon=%{lon}<extra></extra>",
         "lat": {
          "bdata": "BKXTgyN9SUA=",
          "dtype": "f8"
         },
         "legendgroup": "47556",
         "lon": {
          "bdata": "f7Ktl8x2F0A=",
          "dtype": "f8"
         },
         "marker": {
          "color": "#FF6692"
         },
         "mode": "markers",
         "name": "47556",
         "showlegend": true,
         "subplot": "map",
         "type": "scattermap"
        },
        {
         "hovertemplate": "intensity=42597<br>lat=%{lat}<br>lon=%{lon}<extra></extra>",
         "lat": {
          "bdata": "taqIoiN9SUA=",
          "dtype": "f8"
         },
         "legendgroup": "42597",
         "lon": {
          "bdata": "xG/67sd2F0A=",
          "dtype": "f8"
         },
         "marker": {
          "color": "#B6E880"
         },
         "mode": "markers",
         "name": "42597",
         "showlegend": true,
         "subplot": "map",
         "type": "scattermap"
        },
        {
         "hovertemplate": "intensity=44367<br>lat=%{lat}<br>lon=%{lon}<extra></extra>",
         "lat": {
          "bdata": "lq8kvCN9SUA=",
          "dtype": "f8"
         },
         "legendgroup": "44367",
         "lon": {
          "bdata": "020s4cd2F0A=",
          "dtype": "f8"
         },
         "marker": {
          "color": "#FF97FF"
         },
         "mode": "markers",
         "name": "44367",
         "showlegend": true,
         "subplot": "map",
         "type": "scattermap"
        },
        {
         "hovertemplate": "intensity=45721<br>lat=%{lat}<br>lon=%{lon}<extra></extra>",
         "lat": {
          "bdata": "Jn3JtCN9SUDK5u4aJH1JQFnvenckfUlA",
          "dtype": "f8"
         },
         "legendgroup": "45721",
         "lon": {
          "bdata": "Sipx+sh2F0CKANv10nYXQIAgZW7bdhdA",
          "dtype": "f8"
         },
         "marker": {
          "color": "#FECB52"
         },
         "mode": "markers",
         "name": "45721",
         "showlegend": true,
         "subplot": "map",
         "type": "scattermap"
        },
        {
         "hovertemplate": "intensity=43100<br>lat=%{lat}<br>lon=%{lon}<extra></extra>",
         "lat": {
          "bdata": "GdzjzCN9SUA=",
          "dtype": "f8"
         },
         "legendgroup": "43100",
         "lon": {
          "bdata": "XQtz7ch2F0A=",
          "dtype": "f8"
         },
         "marker": {
          "color": "#636efa"
         },
         "mode": "markers",
         "name": "43100",
         "showlegend": true,
         "subplot": "map",
         "type": "scattermap"
        },
        {
         "hovertemplate": "intensity=48889<br>lat=%{lat}<br>lon=%{lon}<extra></extra>",
         "lat": {
          "bdata": "q2wxjCN9SUA=",
          "dtype": "f8"
         },
         "legendgroup": "48889",
         "lon": {
          "bdata": "HdLwCMp2F0A=",
          "dtype": "f8"
         },
         "marker": {
          "color": "#EF553B"
         },
         "mode": "markers",
         "name": "48889",
         "showlegend": true,
         "subplot": "map",
         "type": "scattermap"
        },
        {
         "hovertemplate": "intensity=46573<br>lat=%{lat}<br>lon=%{lon}<extra></extra>",
         "lat": {
          "bdata": "Br2GsiN9SUD50aGMJH1JQA==",
          "dtype": "f8"
         },
         "legendgroup": "46573",
         "lon": {
          "bdata": "DF6Bfsx2F0BH28574nYXQA==",
          "dtype": "f8"
         },
         "marker": {
          "color": "#00cc96"
         },
         "mode": "markers",
         "name": "46573",
         "showlegend": true,
         "subplot": "map",
         "type": "scattermap"
        },
        {
         "hovertemplate": "intensity=44410<br>lat=%{lat}<br>lon=%{lon}<extra></extra>",
         "lat": {
          "bdata": "1ooQPiN9SUAnpewvJH1JQA==",
          "dtype": "f8"
         },
         "legendgroup": "44410",
         "lon": {
          "bdata": "u/QvltB2F0DcVPeU23YXQA==",
          "dtype": "f8"
         },
         "marker": {
          "color": "#ab63fa"
         },
         "mode": "markers",
         "name": "44410",
         "showlegend": true,
         "subplot": "map",
         "type": "scattermap"
        },
        {
         "hovertemplate": "intensity=43995<br>lat=%{lat}<br>lon=%{lon}<extra></extra>",
         "lat": {
          "bdata": "7XDoUyN9SUCENJQiJH1JQJcabDgkfUlAXNrREiR9SUA=",
          "dtype": "f8"
         },
         "legendgroup": "43995",
         "lon": {
          "bdata": "PrBpitB2F0AhSKWvznYXQBwB36POdhdAeDl9WeB2F0A=",
          "dtype": "f8"
         },
         "marker": {
          "color": "#FFA15A"
         },
         "mode": "markers",
         "name": "43995",
         "showlegend": true,
         "subplot": "map",
         "type": "scattermap"
        },
        {
         "hovertemplate": "intensity=44651<br>lat=%{lat}<br>lon=%{lon}<extra></extra>",
         "lat": {
          "bdata": "/zRLaCN9SUAQG4LYI31JQA==",
          "dtype": "f8"
         },
         "legendgroup": "44651",
         "lon": {
          "bdata": "y0qi6812F0AnFjsIy3YXQA==",
          "dtype": "f8"
         },
         "marker": {
          "color": "#19d3f3"
         },
         "mode": "markers",
         "name": "44651",
         "showlegend": true,
         "subplot": "map",
         "type": "scattermap"
        },
        {
         "hovertemplate": "intensity=45372<br>lat=%{lat}<br>lon=%{lon}<extra></extra>",
         "lat": {
          "bdata": "gfeGXyN9SUCF8Hr1I31JQMh2e2AkfUlAYlI4liR9SUA=",
          "dtype": "f8"
         },
         "legendgroup": "45372",
         "lon": {
          "bdata": "gF9ZIs92F0Dw1ego1HYXQMXyZaXddhdAqvvQDdV2F0A=",
          "dtype": "f8"
         },
         "marker": {
          "color": "#FF6692"
         },
         "mode": "markers",
         "name": "45372",
         "showlegend": true,
         "subplot": "map",
         "type": "scattermap"
        },
        {
         "hovertemplate": "intensity=45197<br>lat=%{lat}<br>lon=%{lon}<extra></extra>",
         "lat": {
          "bdata": "h4PgdiN9SUDhx9UsJH1JQA==",
          "dtype": "f8"
         },
         "legendgroup": "45197",
         "lon": {
          "bdata": "BDjDFc92F0CA3noV0HYXQA==",
          "dtype": "f8"
         },
         "marker": {
          "color": "#B6E880"
         },
         "mode": "markers",
         "name": "45197",
         "showlegend": true,
         "subplot": "map",
         "type": "scattermap"
        },
        {
         "hovertemplate": "intensity=43515<br>lat=%{lat}<br>lon=%{lon}<extra></extra>",
         "lat": {
          "bdata": "7s8CbCN9SUA=",
          "dtype": "f8"
         },
         "legendgroup": "43515",
         "lon": {
          "bdata": "fZlrfdB2F0A=",
          "dtype": "f8"
         },
         "marker": {
          "color": "#FF97FF"
         },
         "mode": "markers",
         "name": "43515",
         "showlegend": true,
         "subplot": "map",
         "type": "scattermap"
        },
        {
         "hovertemplate": "intensity=45634<br>lat=%{lat}<br>lon=%{lon}<extra></extra>",
         "lat": {
          "bdata": "5gHehCN9SUDbtd1HJH1JQAeq8HAkfUlA3XZJriR9SUA=",
          "dtype": "f8"
         },
         "legendgroup": "45634",
         "lon": {
          "bdata": "5JEFcNB2F0CaRRjb3nYXQMNtMR3gdhdABUY9QeF2F0A=",
          "dtype": "f8"
         },
         "marker": {
          "color": "#FECB52"
         },
         "mode": "markers",
         "name": "45634",
         "showlegend": true,
         "subplot": "map",
         "type": "scattermap"
        },
        {
         "hovertemplate": "intensity=43558<br>lat=%{lat}<br>lon=%{lon}<extra></extra>",
         "lat": {
          "bdata": "hh2IQCN9SUDRcUBGJH1JQB+DKnQkfUlA",
          "dtype": "f8"
         },
         "legendgroup": "43558",
         "lon": {
          "bdata": "5xYlddN2F0ClJdSP0XYXQD1LhG3RdhdA",
          "dtype": "f8"
         },
         "marker": {
          "color": "#636efa"
         },
         "mode": "markers",
         "name": "43558",
         "showlegend": true,
         "subplot": "map",
         "type": "scattermap"
        },
        {
         "hovertemplate": "intensity=41483<br>lat=%{lat}<br>lon=%{lon}<extra></extra>",
         "lat": {
          "bdata": "KovKTCN9SUA=",
          "dtype": "f8"
         },
         "legendgroup": "41483",
         "lon": {
          "bdata": "6NlmjdR2F0A=",
          "dtype": "f8"
         },
         "marker": {
          "color": "#EF553B"
         },
         "mode": "markers",
         "name": "41483",
         "showlegend": true,
         "subplot": "map",
         "type": "scattermap"
        },
        {
         "hovertemplate": "intensity=44847<br>lat=%{lat}<br>lon=%{lon}<extra></extra>",
         "lat": {
          "bdata": "sCD3ciN9SUA7MUZHJH1JQA==",
          "dtype": "f8"
         },
         "legendgroup": "44847",
         "lon": {
          "bdata": "uZ5lUNN2F0AiOWGI23YXQA==",
          "dtype": "f8"
         },
         "marker": {
          "color": "#00cc96"
         },
         "mode": "markers",
         "name": "44847",
         "showlegend": true,
         "subplot": "map",
         "type": "scattermap"
        },
        {
         "hovertemplate": "intensity=45852<br>lat=%{lat}<br>lon=%{lon}<extra></extra>",
         "lat": {
          "bdata": "MOrkZCN9SUC3V5vuI31JQA==",
          "dtype": "f8"
         },
         "legendgroup": "45852",
         "lon": {
          "bdata": "V8dogNR2F0BzLqnLznYXQA==",
          "dtype": "f8"
         },
         "marker": {
          "color": "#ab63fa"
         },
         "mode": "markers",
         "name": "45852",
         "showlegend": true,
         "subplot": "map",
         "type": "scattermap"
        },
        {
         "hovertemplate": "intensity=42925<br>lat=%{lat}<br>lon=%{lon}<extra></extra>",
         "lat": {
          "bdata": "PXY+fCN9SUA=",
          "dtype": "f8"
         },
         "legendgroup": "42925",
         "lon": {
          "bdata": "N6XSc9R2F0A=",
          "dtype": "f8"
         },
         "marker": {
          "color": "#FFA15A"
         },
         "mode": "markers",
         "name": "42925",
         "showlegend": true,
         "subplot": "map",
         "type": "scattermap"
        },
        {
         "hovertemplate": "intensity=48823<br>lat=%{lat}<br>lon=%{lon}<extra></extra>",
         "lat": {
          "bdata": "oyc1kSN9SUA=",
          "dtype": "f8"
         },
         "legendgroup": "48823",
         "lon": {
          "bdata": "cc4B/s52F0A=",
          "dtype": "f8"
         },
         "marker": {
          "color": "#19d3f3"
         },
         "mode": "markers",
         "name": "48823",
         "showlegend": true,
         "subplot": "map",
         "type": "scattermap"
        },
        {
         "hovertemplate": "intensity=45437<br>lat=%{lat}<br>lon=%{lon}<extra></extra>",
         "lat": {
          "bdata": "yGeLpSN9SUAjUuXPJH1JQLC4FH4kfUlA",
          "dtype": "f8"
         },
         "legendgroup": "45437",
         "lon": {
          "bdata": "uGkL8852F0Bfdl/T2XYXQP5SOVvhdhdA",
          "dtype": "f8"
         },
         "marker": {
          "color": "#FF6692"
         },
         "mode": "markers",
         "name": "45437",
         "showlegend": true,
         "subplot": "map",
         "type": "scattermap"
        },
        {
         "hovertemplate": "intensity=44083<br>lat=%{lat}<br>lon=%{lon}<extra></extra>",
         "lat": {
          "bdata": "8xmRsyN9SUD8gwzAI31JQCPrvP4jfUlA",
          "dtype": "f8"
         },
         "legendgroup": "44083",
         "lon": {
          "bdata": "JUXZVtB2F0BAGjD21nYXQK72pzPkdhdA",
          "dtype": "f8"
         },
         "marker": {
          "color": "#B6E880"
         },
         "mode": "markers",
         "name": "44083",
         "showlegend": true,
         "subplot": "map",
         "type": "scattermap"
        },
        {
         "hovertemplate": "intensity=47403<br>lat=%{lat}<br>lon=%{lon}<extra></extra>",
         "lat": {
          "bdata": "td4royN9SUAuq+ulJH1JQDvPmsUkfUlA",
          "dtype": "f8"
         },
         "legendgroup": "47403",
         "lon": {
          "bdata": "nXZpNtN2F0CPP/rP43YXQBqwGyvhdhdA",
          "dtype": "f8"
         },
         "marker": {
          "color": "#FF97FF"
         },
         "mode": "markers",
         "name": "47403",
         "showlegend": true,
         "subplot": "map",
         "type": "scattermap"
        },
        {
         "hovertemplate": "intensity=43821<br>lat=%{lat}<br>lon=%{lon}<extra></extra>",
         "lat": {
          "bdata": "p1ZmuSN9SUA=",
          "dtype": "f8"
         },
         "legendgroup": "43821",
         "lon": {
          "bdata": "t/bA29F2F0A=",
          "dtype": "f8"
         },
         "marker": {
          "color": "#FECB52"
         },
         "mode": "markers",
         "name": "43821",
         "showlegend": true,
         "subplot": "map",
         "type": "scattermap"
        },
        {
         "hovertemplate": "intensity=44935<br>lat=%{lat}<br>lon=%{lon}<extra></extra>",
         "lat": {
          "bdata": "q+PHvCN9SUDJaX3OI31JQBDxCt0jfUlAZljHNyR9SUA=",
          "dtype": "f8"
         },
         "legendgroup": "44935",
         "lon": {
          "bdata": "E4GbKNN2F0Cxo2LQ0XYXQNJ9s6zNdhdAwTcWrNZ2F0A=",
          "dtype": "f8"
         },
         "marker": {
          "color": "#636efa"
         },
         "mode": "markers",
         "name": "44935",
         "showlegend": true,
         "subplot": "map",
         "type": "scattermap"
        },
        {
         "hovertemplate": "intensity=45000<br>lat=%{lat}<br>lon=%{lon}<extra></extra>",
         "lat": {
          "bdata": "S5ONxCN9SUBmpHjVJH1JQA==",
          "dtype": "f8"
         },
         "legendgroup": "45000",
         "lon": {
          "bdata": "R2zYTNR2F0Dez8OO3nYXQA==",
          "dtype": "f8"
         },
         "marker": {
          "color": "#EF553B"
         },
         "mode": "markers",
         "name": "45000",
         "showlegend": true,
         "subplot": "map",
         "type": "scattermap"
        },
        {
         "hovertemplate": "intensity=42838<br>lat=%{lat}<br>lon=%{lon}<extra></extra>",
         "lat": {
          "bdata": "FWg95CN9SUA=",
          "dtype": "f8"
         },
         "legendgroup": "42838",
         "lon": {
          "bdata": "Rt3c4Mh2F0A=",
          "dtype": "f8"
         },
         "marker": {
          "color": "#00cc96"
         },
         "mode": "markers",
         "name": "42838",
         "showlegend": true,
         "subplot": "map",
         "type": "scattermap"
        },
        {
         "hovertemplate": "intensity=41134<br>lat=%{lat}<br>lon=%{lon}<extra></extra>",
         "lat": {
          "bdata": "f+ia7CN9SUA=",
          "dtype": "f8"
         },
         "legendgroup": "41134",
         "lon": {
          "bdata": "i1r41Ml2F0A=",
          "dtype": "f8"
         },
         "marker": {
          "color": "#ab63fa"
         },
         "mode": "markers",
         "name": "41134",
         "showlegend": true,
         "subplot": "map",
         "type": "scattermap"
        },
        {
         "hovertemplate": "intensity=32308<br>lat=%{lat}<br>lon=%{lon}<extra></extra>",
         "lat": {
          "bdata": "fCbyAiR9SUA=",
          "dtype": "f8"
         },
         "legendgroup": "32308",
         "lon": {
          "bdata": "Ku8Bu8d2F0A=",
          "dtype": "f8"
         },
         "marker": {
          "color": "#FFA15A"
         },
         "mode": "markers",
         "name": "32308",
         "showlegend": true,
         "subplot": "map",
         "type": "scattermap"
        },
        {
         "hovertemplate": "intensity=35782<br>lat=%{lat}<br>lon=%{lon}<extra></extra>",
         "lat": {
          "bdata": "f9+KGSR9SUA=",
          "dtype": "f8"
         },
         "legendgroup": "35782",
         "lon": {
          "bdata": "s7DTrsd2F0A=",
          "dtype": "f8"
         },
         "marker": {
          "color": "#19d3f3"
         },
         "mode": "markers",
         "name": "35782",
         "showlegend": true,
         "subplot": "map",
         "type": "scattermap"
        },
        {
         "hovertemplate": "intensity=34777<br>lat=%{lat}<br>lon=%{lon}<extra></extra>",
         "lat": {
          "bdata": "oOZtBSR9SUATlGiIJH1JQA==",
          "dtype": "f8"
         },
         "legendgroup": "34777",
         "lon": {
          "bdata": "RcwGvsl2F0DJp6YBzHYXQA==",
          "dtype": "f8"
         },
         "marker": {
          "color": "#FF6692"
         },
         "mode": "markers",
         "name": "34777",
         "showlegend": true,
         "subplot": "map",
         "type": "scattermap"
        },
        {
         "hovertemplate": "intensity=23112<br>lat=%{lat}<br>lon=%{lon}<extra></extra>",
         "lat": {
          "bdata": "4p60FiR9SUA=",
          "dtype": "f8"
         },
         "legendgroup": "23112",
         "lon": {
          "bdata": "ycuoxch2F0A=",
          "dtype": "f8"
         },
         "marker": {
          "color": "#B6E880"
         },
         "mode": "markers",
         "name": "23112",
         "showlegend": true,
         "subplot": "map",
         "type": "scattermap"
        },
        {
         "hovertemplate": "intensity=36546<br>lat=%{lat}<br>lon=%{lon}<extra></extra>",
         "lat": {
          "bdata": "g+sJHyR9SUA=",
          "dtype": "f8"
         },
         "legendgroup": "36546",
         "lon": {
          "bdata": "78s4sMl2F0A=",
          "dtype": "f8"
         },
         "marker": {
          "color": "#FF97FF"
         },
         "mode": "markers",
         "name": "36546",
         "showlegend": true,
         "subplot": "map",
         "type": "scattermap"
        },
        {
         "hovertemplate": "intensity=44017<br>lat=%{lat}<br>lon=%{lon}<extra></extra>",
         "lat": {
          "bdata": "Aaj64SN9SUDxZS8SJH1JQA==",
          "dtype": "f8"
         },
         "legendgroup": "44017",
         "lon": {
          "bdata": "NhjtZMx2F0D34PBKzHYXQA==",
          "dtype": "f8"
         },
         "marker": {
          "color": "#FECB52"
         },
         "mode": "markers",
         "name": "44017",
         "showlegend": true,
         "subplot": "map",
         "type": "scattermap"
        },
        {
         "hovertemplate": "intensity=44629<br>lat=%{lat}<br>lon=%{lon}<extra></extra>",
         "lat": {
          "bdata": "7CeCDyR9SUDwzAVzJH1JQA==",
          "dtype": "f8"
         },
         "legendgroup": "44629",
         "lon": {
          "bdata": "yXZ/kc12F0DAwJyJ4nYXQA==",
          "dtype": "f8"
         },
         "marker": {
          "color": "#636efa"
         },
         "mode": "markers",
         "name": "44629",
         "showlegend": true,
         "subplot": "map",
         "type": "scattermap"
        },
        {
         "hovertemplate": "intensity=41046<br>lat=%{lat}<br>lon=%{lon}<extra></extra>",
         "lat": {
          "bdata": "4hF0JyR9SUA=",
          "dtype": "f8"
         },
         "legendgroup": "41046",
         "lon": {
          "bdata": "r/sWT8Z2F0A=",
          "dtype": "f8"
         },
         "marker": {
          "color": "#EF553B"
         },
         "mode": "markers",
         "name": "41046",
         "showlegend": true,
         "subplot": "map",
         "type": "scattermap"
        },
        {
         "hovertemplate": "intensity=43384<br>lat=%{lat}<br>lon=%{lon}<extra></extra>",
         "lat": {
          "bdata": "zNCPLyR9SUA=",
          "dtype": "f8"
         },
         "legendgroup": "43384",
         "lon": {
          "bdata": "TbtCuMh2F0A=",
          "dtype": "f8"
         },
         "marker": {
          "color": "#00cc96"
         },
         "mode": "markers",
         "name": "43384",
         "showlegend": true,
         "subplot": "map",
         "type": "scattermap"
        },
        {
         "hovertemplate": "intensity=39998<br>lat=%{lat}<br>lon=%{lon}<extra></extra>",
         "lat": {
          "bdata": "iKSiNSR9SUAPnSJvJH1JQA==",
          "dtype": "f8"
         },
         "legendgroup": "39998",
         "lon": {
          "bdata": "Ro8KpMl2F0CHfWNUzXYXQA==",
          "dtype": "f8"
         },
         "marker": {
          "color": "#ab63fa"
         },
         "mode": "markers",
         "name": "39998",
         "showlegend": true,
         "subplot": "map",
         "type": "scattermap"
        },
        {
         "hovertemplate": "intensity=31500<br>lat=%{lat}<br>lon=%{lon}<extra></extra>",
         "lat": {
          "bdata": "q/B0RyR9SUDyYbmwI31JQA==",
          "dtype": "f8"
         },
         "legendgroup": "31500",
         "lon": {
          "bdata": "MsODjMd2F0ArROj74nYXQA==",
          "dtype": "f8"
         },
         "marker": {
          "color": "#FFA15A"
         },
         "mode": "markers",
         "name": "31500",
         "showlegend": true,
         "subplot": "map",
         "type": "scattermap"
        },
        {
         "hovertemplate": "intensity=36284<br>lat=%{lat}<br>lon=%{lon}<extra></extra>",
         "lat": {
          "bdata": "fAO9TSR9SUA=",
          "dtype": "f8"
         },
         "legendgroup": "36284",
         "lon": {
          "bdata": "knAMl8l2F0A=",
          "dtype": "f8"
         },
         "marker": {
          "color": "#19d3f3"
         },
         "mode": "markers",
         "name": "36284",
         "showlegend": true,
         "subplot": "map",
         "type": "scattermap"
        },
        {
         "hovertemplate": "intensity=29556<br>lat=%{lat}<br>lon=%{lon}<extra></extra>",
         "lat": {
          "bdata": "nzRGYSR9SUA=",
          "dtype": "f8"
         },
         "legendgroup": "29556",
         "lon": {
          "bdata": "5pl2nch2F0A=",
          "dtype": "f8"
         },
         "marker": {
          "color": "#FF6692"
         },
         "mode": "markers",
         "name": "29556",
         "showlegend": true,
         "subplot": "map",
         "type": "scattermap"
        },
        {
         "hovertemplate": "intensity=23483<br>lat=%{lat}<br>lon=%{lon}<extra></extra>",
         "lat": {
          "bdata": "cGLXZSR9SUA=",
          "dtype": "f8"
         },
         "legendgroup": "23483",
         "lon": {
          "bdata": "uVEOisl2F0A=",
          "dtype": "f8"
         },
         "marker": {
          "color": "#B6E880"
         },
         "mode": "markers",
         "name": "23483",
         "showlegend": true,
         "subplot": "map",
         "type": "scattermap"
        },
        {
         "hovertemplate": "intensity=38905<br>lat=%{lat}<br>lon=%{lon}<extra></extra>",
         "lat": {
          "bdata": "1zxtOiR9SUA=",
          "dtype": "f8"
         },
         "legendgroup": "38905",
         "lon": {
          "bdata": "xL9y08p2F0A=",
          "dtype": "f8"
         },
         "marker": {
          "color": "#FF97FF"
         },
         "mode": "markers",
         "name": "38905",
         "showlegend": true,
         "subplot": "map",
         "type": "scattermap"
        },
        {
         "hovertemplate": "intensity=41024<br>lat=%{lat}<br>lon=%{lon}<extra></extra>",
         "lat": {
          "bdata": "9+AaJiR9SUA=",
          "dtype": "f8"
         },
         "legendgroup": "41024",
         "lon": {
          "bdata": "8T1Rhc12F0A=",
          "dtype": "f8"
         },
         "marker": {
          "color": "#FECB52"
         },
         "mode": "markers",
         "name": "41024",
         "showlegend": true,
         "subplot": "map",
         "type": "scattermap"
        },
        {
         "hovertemplate": "intensity=47207<br>lat=%{lat}<br>lon=%{lon}<extra></extra>",
         "lat": {
          "bdata": "sstB1yN9SUA=",
          "dtype": "f8"
         },
         "legendgroup": "47207",
         "lon": {
          "bdata": "pFY/2M52F0A=",
          "dtype": "f8"
         },
         "marker": {
          "color": "#636efa"
         },
         "mode": "markers",
         "name": "47207",
         "showlegend": true,
         "subplot": "map",
         "type": "scattermap"
        },
        {
         "hovertemplate": "intensity=46355<br>lat=%{lat}<br>lon=%{lon}<extra></extra>",
         "lat": {
          "bdata": "/zFE4iN9SUA=",
          "dtype": "f8"
         },
         "legendgroup": "46355",
         "lon": {
          "bdata": "4PesPdB2F0A=",
          "dtype": "f8"
         },
         "marker": {
          "color": "#EF553B"
         },
         "mode": "markers",
         "name": "46355",
         "showlegend": true,
         "subplot": "map",
         "type": "scattermap"
        },
        {
         "hovertemplate": "intensity=45175<br>lat=%{lat}<br>lon=%{lon}<extra></extra>",
         "lat": {
          "bdata": "oVw3CCR9SUA=",
          "dtype": "f8"
         },
         "legendgroup": "45175",
         "lon": {
          "bdata": "xDPbvc52F0A=",
          "dtype": "f8"
         },
         "marker": {
          "color": "#00cc96"
         },
         "mode": "markers",
         "name": "45175",
         "showlegend": true,
         "subplot": "map",
         "type": "scattermap"
        },
        {
         "hovertemplate": "intensity=44804<br>lat=%{lat}<br>lon=%{lon}<extra></extra>",
         "lat": {
          "bdata": "/pBe+iN9SUAMlIVYJH1JQJPyhEEkfUlA7shpnSR9SUA=",
          "dtype": "f8"
         },
         "legendgroup": "44804",
         "lon": {
          "bdata": "TuCuMNB2F0DkUu79z3YXQKYLUUDgdhdA6gjwi9x2F0A=",
          "dtype": "f8"
         },
         "marker": {
          "color": "#ab63fa"
         },
         "mode": "markers",
         "name": "44804",
         "showlegend": true,
         "subplot": "map",
         "type": "scattermap"
        },
        {
         "hovertemplate": "intensity=43187<br>lat=%{lat}<br>lon=%{lon}<extra></extra>",
         "lat": {
          "bdata": "++94EiR9SUA=",
          "dtype": "f8"
         },
         "legendgroup": "43187",
         "lon": {
          "bdata": "mMiwI9B2F0A=",
          "dtype": "f8"
         },
         "marker": {
          "color": "#FFA15A"
         },
         "mode": "markers",
         "name": "43187",
         "showlegend": true,
         "subplot": "map",
         "type": "scattermap"
        },
        {
         "hovertemplate": "intensity=43886<br>lat=%{lat}<br>lon=%{lon}<extra></extra>",
         "lat": {
          "bdata": "gpFg3SN9SUDRgwIvJH1JQA==",
          "dtype": "f8"
         },
         "legendgroup": "43886",
         "lon": {
          "bdata": "X+nmNdR2F0CIPn7o3nYXQA==",
          "dtype": "f8"
         },
         "marker": {
          "color": "#19d3f3"
         },
         "mode": "markers",
         "name": "43886",
         "showlegend": true,
         "subplot": "map",
         "type": "scattermap"
        },
        {
         "hovertemplate": "intensity=46857<br>lat=%{lat}<br>lon=%{lon}<extra></extra>",
         "lat": {
          "bdata": "2eBKFSR9SUA=",
          "dtype": "f8"
         },
         "legendgroup": "46857",
         "lon": {
          "bdata": "DUM4qtF2F0A=",
          "dtype": "f8"
         },
         "marker": {
          "color": "#FF6692"
         },
         "mode": "markers",
         "name": "46857",
         "showlegend": true,
         "subplot": "map",
         "type": "scattermap"
        },
        {
         "hovertemplate": "intensity=46092<br>lat=%{lat}<br>lon=%{lon}<extra></extra>",
         "lat": {
          "bdata": "giJWDiR9SUD2k5NPJH1JQCg75qEkfUlA",
          "dtype": "f8"
         },
         "legendgroup": "46092",
         "lon": {
          "bdata": "vNGCG9R2F0AhSY3m2HYXQBNuzQLgdhdA",
          "dtype": "f8"
         },
         "marker": {
          "color": "#B6E880"
         },
         "mode": "markers",
         "name": "46092",
         "showlegend": true,
         "subplot": "map",
         "type": "scattermap"
        },
        {
         "hovertemplate": "intensity=43580<br>lat=%{lat}<br>lon=%{lon}<extra></extra>",
         "lat": {
          "bdata": "hqthaSR9SUC1F2FIJH1JQA==",
          "dtype": "f8"
         },
         "legendgroup": "43580",
         "lon": {
          "bdata": "Fd16ic52F0DH/GOy3XYXQA==",
          "dtype": "f8"
         },
         "marker": {
          "color": "#FF97FF"
         },
         "mode": "markers",
         "name": "43580",
         "showlegend": true,
         "subplot": "map",
         "type": "scattermap"
        },
        {
         "hovertemplate": "intensity=44192<br>lat=%{lat}<br>lon=%{lon}<extra></extra>",
         "lat": {
          "bdata": "4mykLCR9SUDsWCBIJH1JQA==",
          "dtype": "f8"
         },
         "legendgroup": "44192",
         "lon": {
          "bdata": "eR2indF2F0AfmX7d0nYXQA==",
          "dtype": "f8"
         },
         "marker": {
          "color": "#FECB52"
         },
         "mode": "markers",
         "name": "44192",
         "showlegend": true,
         "subplot": "map",
         "type": "scattermap"
        },
        {
         "hovertemplate": "intensity=46180<br>lat=%{lat}<br>lon=%{lon}<extra></extra>",
         "lat": {
          "bdata": "dCfyJyR9SUBXW/TcJH1JQA==",
          "dtype": "f8"
         },
         "legendgroup": "46180",
         "lon": {
          "bdata": "xty0DdR2F0B2mYUe4XYXQA==",
          "dtype": "f8"
         },
         "marker": {
          "color": "#636efa"
         },
         "mode": "markers",
         "name": "46180",
         "showlegend": true,
         "subplot": "map",
         "type": "scattermap"
        },
        {
         "hovertemplate": "intensity=44694<br>lat=%{lat}<br>lon=%{lon}<extra></extra>",
         "lat": {
          "bdata": "B51SXiR9SUA=",
          "dtype": "f8"
         },
         "legendgroup": "44694",
         "lon": {
          "bdata": "2I9KedF2F0A=",
          "dtype": "f8"
         },
         "marker": {
          "color": "#EF553B"
         },
         "mode": "markers",
         "name": "44694",
         "showlegend": true,
         "subplot": "map",
         "type": "scattermap"
        },
        {
         "hovertemplate": "intensity=42859<br>lat=%{lat}<br>lon=%{lon}<extra></extra>",
         "lat": {
          "bdata": "B5QlWSN9SUAmwrviI31JQA==",
          "dtype": "f8"
         },
         "legendgroup": "42859",
         "lon": {
          "bdata": "lRpLwtV2F0A3v6zhyHYXQA==",
          "dtype": "f8"
         },
         "marker": {
          "color": "#00cc96"
         },
         "mode": "markers",
         "name": "42859",
         "showlegend": true,
         "subplot": "map",
         "type": "scattermap"
        },
        {
         "hovertemplate": "intensity=34886<br>lat=%{lat}<br>lon=%{lon}<extra></extra>",
         "lat": {
          "bdata": "MhcPQSN9SUA=",
          "dtype": "f8"
         },
         "legendgroup": "34886",
         "lon": {
          "bdata": "yicxdth2F0A=",
          "dtype": "f8"
         },
         "marker": {
          "color": "#ab63fa"
         },
         "mode": "markers",
         "name": "34886",
         "showlegend": true,
         "subplot": "map",
         "type": "scattermap"
        },
        {
         "hovertemplate": "intensity=27175<br>lat=%{lat}<br>lon=%{lon}<extra></extra>",
         "lat": {
          "bdata": "NZsvQSN9SUA=",
          "dtype": "f8"
         },
         "legendgroup": "27175",
         "lon": {
          "bdata": "E3Q3H9x2F0A=",
          "dtype": "f8"
         },
         "marker": {
          "color": "#FFA15A"
         },
         "mode": "markers",
         "name": "27175",
         "showlegend": true,
         "subplot": "map",
         "type": "scattermap"
        },
        {
         "hovertemplate": "intensity=38818<br>lat=%{lat}<br>lon=%{lon}<extra></extra>",
         "lat": {
          "bdata": "UnCudiN9SUA=",
          "dtype": "f8"
         },
         "legendgroup": "38818",
         "lon": {
          "bdata": "ukgHZdl2F0A=",
          "dtype": "f8"
         },
         "marker": {
          "color": "#19d3f3"
         },
         "mode": "markers",
         "name": "38818",
         "showlegend": true,
         "subplot": "map",
         "type": "scattermap"
        },
        {
         "hovertemplate": "intensity=40107<br>lat=%{lat}<br>lon=%{lon}<extra></extra>",
         "lat": {
          "bdata": "Rq36fCN9SUA=",
          "dtype": "f8"
         },
         "legendgroup": "40107",
         "lon": {
          "bdata": "d5Kfk9p2F0A=",
          "dtype": "f8"
         },
         "marker": {
          "color": "#FF6692"
         },
         "mode": "markers",
         "name": "40107",
         "showlegend": true,
         "subplot": "map",
         "type": "scattermap"
        },
        {
         "hovertemplate": "intensity=36415<br>lat=%{lat}<br>lon=%{lon}<extra></extra>",
         "lat": {
          "bdata": "VllkcSN9SUA=",
          "dtype": "f8"
         },
         "legendgroup": "36415",
         "lon": {
          "bdata": "j147Bdx2F0A=",
          "dtype": "f8"
         },
         "marker": {
          "color": "#B6E880"
         },
         "mode": "markers",
         "name": "36415",
         "showlegend": true,
         "subplot": "map",
         "type": "scattermap"
        },
        {
         "hovertemplate": "intensity=39342<br>lat=%{lat}<br>lon=%{lon}<extra></extra>",
         "lat": {
          "bdata": "AU2VjSN9SUA=",
          "dtype": "f8"
         },
         "legendgroup": "39342",
         "lon": {
          "bdata": "UgxkEdd2F0A=",
          "dtype": "f8"
         },
         "marker": {
          "color": "#FF97FF"
         },
         "mode": "markers",
         "name": "39342",
         "showlegend": true,
         "subplot": "map",
         "type": "scattermap"
        },
        {
         "hovertemplate": "intensity=41789<br>lat=%{lat}<br>lon=%{lon}<extra></extra>",
         "lat": {
          "bdata": "AX9wpiN9SUA=",
          "dtype": "f8"
         },
         "legendgroup": "41789",
         "lon": {
          "bdata": "nwv+A9d2F0A=",
          "dtype": "f8"
         },
         "marker": {
          "color": "#FECB52"
         },
         "mode": "markers",
         "name": "41789",
         "showlegend": true,
         "subplot": "map",
         "type": "scattermap"
        },
        {
         "hovertemplate": "intensity=42379<br>lat=%{lat}<br>lon=%{lon}<extra></extra>",
         "lat": {
          "bdata": "enmYiyN9SUA=",
          "dtype": "f8"
         },
         "legendgroup": "42379",
         "lon": {
          "bdata": "o6tzRNh2F0A=",
          "dtype": "f8"
         },
         "marker": {
          "color": "#636efa"
         },
         "mode": "markers",
         "name": "42379",
         "showlegend": true,
         "subplot": "map",
         "type": "scattermap"
        },
        {
         "hovertemplate": "intensity=37464<br>lat=%{lat}<br>lon=%{lon}<extra></extra>",
         "lat": {
          "bdata": "UXVKkCN9SUA=",
          "dtype": "f8"
         },
         "legendgroup": "37464",
         "lon": {
          "bdata": "KVo5V9l2F0A=",
          "dtype": "f8"
         },
         "marker": {
          "color": "#EF553B"
         },
         "mode": "markers",
         "name": "37464",
         "showlegend": true,
         "subplot": "map",
         "type": "scattermap"
        },
        {
         "hovertemplate": "intensity=35629<br>lat=%{lat}<br>lon=%{lon}<extra></extra>",
         "lat": {
          "bdata": "P4VXlyN9SUA=",
          "dtype": "f8"
         },
         "legendgroup": "35629",
         "lon": {
          "bdata": "yLRphdp2F0A=",
          "dtype": "f8"
         },
         "marker": {
          "color": "#00cc96"
         },
         "mode": "markers",
         "name": "35629",
         "showlegend": true,
         "subplot": "map",
         "type": "scattermap"
        },
        {
         "hovertemplate": "intensity=32396<br>lat=%{lat}<br>lon=%{lon}<extra></extra>",
         "lat": {
          "bdata": "Z7h+iSN9SUA=",
          "dtype": "f8"
         },
         "legendgroup": "32396",
         "lon": {
          "bdata": "mVM9+Nt2F0A=",
          "dtype": "f8"
         },
         "marker": {
          "color": "#ab63fa"
         },
         "mode": "markers",
         "name": "32396",
         "showlegend": true,
         "subplot": "map",
         "type": "scattermap"
        },
        {
         "hovertemplate": "intensity=30320<br>lat=%{lat}<br>lon=%{lon}<extra></extra>",
         "lat": {
          "bdata": "aL0aoyN9SUA=",
          "dtype": "f8"
         },
         "legendgroup": "30320",
         "lon": {
          "bdata": "ymdv6tt2F0A=",
          "dtype": "f8"
         },
         "marker": {
          "color": "#FFA15A"
         },
         "mode": "markers",
         "name": "30320",
         "showlegend": true,
         "subplot": "map",
         "type": "scattermap"
        },
        {
         "hovertemplate": "intensity=41549<br>lat=%{lat}<br>lon=%{lon}<extra></extra>",
         "lat": {
          "bdata": "pf92wCN9SUA=",
          "dtype": "f8"
         },
         "legendgroup": "41549",
         "lon": {
          "bdata": "T7+xM9l2F0A=",
          "dtype": "f8"
         },
         "marker": {
          "color": "#19d3f3"
         },
         "mode": "markers",
         "name": "41549",
         "showlegend": true,
         "subplot": "map",
         "type": "scattermap"
        },
        {
         "hovertemplate": "intensity=37988<br>lat=%{lat}<br>lon=%{lon}<extra></extra>",
         "lat": {
          "bdata": "f0l0uiN9SUA=",
          "dtype": "f8"
         },
         "legendgroup": "37988",
         "lon": {
          "bdata": "5EzZ3dt2F0A=",
          "dtype": "f8"
         },
         "marker": {
          "color": "#FF6692"
         },
         "mode": "markers",
         "name": "37988",
         "showlegend": true,
         "subplot": "map",
         "type": "scattermap"
        },
        {
         "hovertemplate": "intensity=36786<br>lat=%{lat}<br>lon=%{lon}<extra></extra>",
         "lat": {
          "bdata": "l9XN0SN9SUA=",
          "dtype": "f8"
         },
         "legendgroup": "36786",
         "lon": {
          "bdata": "2zFD0dt2F0A=",
          "dtype": "f8"
         },
         "marker": {
          "color": "#B6E880"
         },
         "mode": "markers",
         "name": "36786",
         "showlegend": true,
         "subplot": "map",
         "type": "scattermap"
        },
        {
         "hovertemplate": "intensity=36743<br>lat=%{lat}<br>lon=%{lon}<extra></extra>",
         "lat": {
          "bdata": "Vk7wPCN9SUA=",
          "dtype": "f8"
         },
         "legendgroup": "36743",
         "lon": {
          "bdata": "COB+U912F0A=",
          "dtype": "f8"
         },
         "marker": {
          "color": "#FF97FF"
         },
         "mode": "markers",
         "name": "36743",
         "showlegend": true,
         "subplot": "map",
         "type": "scattermap"
        },
        {
         "hovertemplate": "intensity=28988<br>lat=%{lat}<br>lon=%{lon}<extra></extra>",
         "lat": {
          "bdata": "cNpJVCN9SUA=",
          "dtype": "f8"
         },
         "legendgroup": "28988",
         "lon": {
          "bdata": "6MboRt12F0A=",
          "dtype": "f8"
         },
         "marker": {
          "color": "#FECB52"
         },
         "mode": "markers",
         "name": "28988",
         "showlegend": true,
         "subplot": "map",
         "type": "scattermap"
        },
        {
         "hovertemplate": "intensity=38731<br>lat=%{lat}<br>lon=%{lon}<extra></extra>",
         "lat": {
          "bdata": "u5RhVyN9SUCbRnaeJH1JQA==",
          "dtype": "f8"
         },
         "legendgroup": "38731",
         "lon": {
          "bdata": "A9jbPd52F0DuMfAOxnYXQA==",
          "dtype": "f8"
         },
         "marker": {
          "color": "#636efa"
         },
         "mode": "markers",
         "name": "38731",
         "showlegend": true,
         "subplot": "map",
         "type": "scattermap"
        },
        {
         "hovertemplate": "intensity=29425<br>lat=%{lat}<br>lon=%{lon}<extra></extra>",
         "lat": {
          "bdata": "AG6YUSN9SUA=",
          "dtype": "f8"
         },
         "legendgroup": "29425",
         "lon": {
          "bdata": "aqZnad92F0A=",
          "dtype": "f8"
         },
         "marker": {
          "color": "#EF553B"
         },
         "mode": "markers",
         "name": "29425",
         "showlegend": true,
         "subplot": "map",
         "type": "scattermap"
        },
        {
         "hovertemplate": "intensity=34995<br>lat=%{lat}<br>lon=%{lon}<extra></extra>",
         "lat": {
          "bdata": "vGi8TyN9SUA=",
          "dtype": "f8"
         },
         "legendgroup": "34995",
         "lon": {
          "bdata": "hz2lwuB2F0A=",
          "dtype": "f8"
         },
         "marker": {
          "color": "#00cc96"
         },
         "mode": "markers",
         "name": "34995",
         "showlegend": true,
         "subplot": "map",
         "type": "scattermap"
        },
        {
         "hovertemplate": "intensity=33903<br>lat=%{lat}<br>lon=%{lon}<extra></extra>",
         "lat": {
          "bdata": "i2ajayN9SUD+89hpJH1JQA==",
          "dtype": "f8"
         },
         "legendgroup": "33903",
         "lon": {
          "bdata": "pq1SOt12F0BS9lKwynYXQA==",
          "dtype": "f8"
         },
         "marker": {
          "color": "#ab63fa"
         },
         "mode": "markers",
         "name": "33903",
         "showlegend": true,
         "subplot": "map",
         "type": "scattermap"
        },
        {
         "hovertemplate": "intensity=35694<br>lat=%{lat}<br>lon=%{lon}<extra></extra>",
         "lat": {
          "bdata": "x8Y8cCN9SUA=",
          "dtype": "f8"
         },
         "legendgroup": "35694",
         "lon": {
          "bdata": "LN91MN52F0A=",
          "dtype": "f8"
         },
         "marker": {
          "color": "#FFA15A"
         },
         "mode": "markers",
         "name": "35694",
         "showlegend": true,
         "subplot": "map",
         "type": "scattermap"
        },
        {
         "hovertemplate": "intensity=38884<br>lat=%{lat}<br>lon=%{lon}<extra></extra>",
         "lat": {
          "bdata": "pfL8giN9SUA=",
          "dtype": "f8"
         },
         "legendgroup": "38884",
         "lon": {
          "bdata": "QpS8Ld12F0A=",
          "dtype": "f8"
         },
         "marker": {
          "color": "#19d3f3"
         },
         "mode": "markers",
         "name": "38884",
         "showlegend": true,
         "subplot": "map",
         "type": "scattermap"
        },
        {
         "hovertemplate": "intensity=32461<br>lat=%{lat}<br>lon=%{lon}<extra></extra>",
         "lat": {
          "bdata": "EKBzaiN9SUA=",
          "dtype": "f8"
         },
         "legendgroup": "32461",
         "lon": {
          "bdata": "2K4BXN92F0A=",
          "dtype": "f8"
         },
         "marker": {
          "color": "#FF6692"
         },
         "mode": "markers",
         "name": "32461",
         "showlegend": true,
         "subplot": "map",
         "type": "scattermap"
        },
        {
         "hovertemplate": "intensity=31653<br>lat=%{lat}<br>lon=%{lon}<extra></extra>",
         "lat": {
          "bdata": "zpqXaCN9SUA=",
          "dtype": "f8"
         },
         "legendgroup": "31653",
         "lon": {
          "bdata": "ZUc/teB2F0A=",
          "dtype": "f8"
         },
         "marker": {
          "color": "#B6E880"
         },
         "mode": "markers",
         "name": "31653",
         "showlegend": true,
         "subplot": "map",
         "type": "scattermap"
        },
        {
         "hovertemplate": "intensity=35563<br>lat=%{lat}<br>lon=%{lon}<extra></extra>",
         "lat": {
          "bdata": "+IBvfiN9SUA=",
          "dtype": "f8"
         },
         "legendgroup": "35563",
         "lon": {
          "bdata": "5hF5qeB2F0A=",
          "dtype": "f8"
         },
         "marker": {
          "color": "#FF97FF"
         },
         "mode": "markers",
         "name": "35563",
         "showlegend": true,
         "subplot": "map",
         "type": "scattermap"
        },
        {
         "hovertemplate": "intensity=35235<br>lat=%{lat}<br>lon=%{lon}<extra></extra>",
         "lat": {
          "bdata": "S5+DQiN9SUA=",
          "dtype": "f8"
         },
         "legendgroup": "35235",
         "lon": {
          "bdata": "5OjiDuJ2F0A=",
          "dtype": "f8"
         },
         "marker": {
          "color": "#FECB52"
         },
         "mode": "markers",
         "name": "35235",
         "showlegend": true,
         "subplot": "map",
         "type": "scattermap"
        },
        {
         "hovertemplate": "intensity=36197<br>lat=%{lat}<br>lon=%{lon}<extra></extra>",
         "lat": {
          "bdata": "R8pGWCN9SUD5PMeHI31JQA==",
          "dtype": "f8"
         },
         "legendgroup": "36197",
         "lon": {
          "bdata": "oDdijeR2F0CDHP3f4XYXQA==",
          "dtype": "f8"
         },
         "marker": {
          "color": "#636efa"
         },
         "mode": "markers",
         "name": "36197",
         "showlegend": true,
         "subplot": "map",
         "type": "scattermap"
        },
        {
         "hovertemplate": "intensity=35913<br>lat=%{lat}<br>lon=%{lon}<extra></extra>",
         "lat": {
          "bdata": "hor3cSN9SUA=",
          "dtype": "f8"
         },
         "legendgroup": "35913",
         "lon": {
          "bdata": "zs9O9eF2F0A=",
          "dtype": "f8"
         },
         "marker": {
          "color": "#EF553B"
         },
         "mode": "markers",
         "name": "35913",
         "showlegend": true,
         "subplot": "map",
         "type": "scattermap"
        },
        {
         "hovertemplate": "intensity=38337<br>lat=%{lat}<br>lon=%{lon}<extra></extra>",
         "lat": {
          "bdata": "ZilhcCN9SUCzyBzeI31JQA==",
          "dtype": "f8"
         },
         "legendgroup": "38337",
         "lon": {
          "bdata": "ljVkgOR2F0An8LNV2nYXQA==",
          "dtype": "f8"
         },
         "marker": {
          "color": "#00cc96"
         },
         "mode": "markers",
         "name": "38337",
         "showlegend": true,
         "subplot": "map",
         "type": "scattermap"
        },
        {
         "hovertemplate": "intensity=36371<br>lat=%{lat}<br>lon=%{lon}<extra></extra>",
         "lat": {
          "bdata": "ou+HgyN9SUA=",
          "dtype": "f8"
         },
         "legendgroup": "36371",
         "lon": {
          "bdata": "RItEFON2F0A=",
          "dtype": "f8"
         },
         "marker": {
          "color": "#ab63fa"
         },
         "mode": "markers",
         "name": "36371",
         "showlegend": true,
         "subplot": "map",
         "type": "scattermap"
        },
        {
         "hovertemplate": "intensity=41374<br>lat=%{lat}<br>lon=%{lon}<extra></extra>",
         "lat": {
          "bdata": "gIh7iCN9SUA=",
          "dtype": "f8"
         },
         "legendgroup": "41374",
         "lon": {
          "bdata": "ZzNmc+R2F0A=",
          "dtype": "f8"
         },
         "marker": {
          "color": "#FFA15A"
         },
         "mode": "markers",
         "name": "41374",
         "showlegend": true,
         "subplot": "map",
         "type": "scattermap"
        },
        {
         "hovertemplate": "intensity=39037<br>lat=%{lat}<br>lon=%{lon}<extra></extra>",
         "lat": {
          "bdata": "zNjUmCN9SUA=",
          "dtype": "f8"
         },
         "legendgroup": "39037",
         "lon": {
          "bdata": "W1v2Id12F0A=",
          "dtype": "f8"
         },
         "marker": {
          "color": "#19d3f3"
         },
         "mode": "markers",
         "name": "39037",
         "showlegend": true,
         "subplot": "map",
         "type": "scattermap"
        },
        {
         "hovertemplate": "intensity=37726<br>lat=%{lat}<br>lon=%{lon}<extra></extra>",
         "lat": {
          "bdata": "xp6ZiiN9SUA=",
          "dtype": "f8"
         },
         "legendgroup": "37726",
         "lon": {
          "bdata": "oAVAIt52F0A=",
          "dtype": "f8"
         },
         "marker": {
          "color": "#FF6692"
         },
         "mode": "markers",
         "name": "37726",
         "showlegend": true,
         "subplot": "map",
         "type": "scattermap"
        },
        {
         "hovertemplate": "intensity=36655<br>lat=%{lat}<br>lon=%{lon}<extra></extra>",
         "lat": {
          "bdata": "0dB0oyN9SUA=",
          "dtype": "f8"
         },
         "legendgroup": "36655",
         "lon": {
          "bdata": "egzaFN52F0A=",
          "dtype": "f8"
         },
         "marker": {
          "color": "#B6E880"
         },
         "mode": "markers",
         "name": "36655",
         "showlegend": true,
         "subplot": "map",
         "type": "scattermap"
        },
        {
         "hovertemplate": "intensity=33816<br>lat=%{lat}<br>lon=%{lon}<extra></extra>",
         "lat": {
          "bdata": "AoYLmCN9SUA=",
          "dtype": "f8"
         },
         "legendgroup": "33816",
         "lon": {
          "bdata": "TCurm+B2F0A=",
          "dtype": "f8"
         },
         "marker": {
          "color": "#FF97FF"
         },
         "mode": "markers",
         "name": "33816",
         "showlegend": true,
         "subplot": "map",
         "type": "scattermap"
        },
        {
         "hovertemplate": "intensity=41702<br>lat=%{lat}<br>lon=%{lon}<extra></extra>",
         "lat": {
          "bdata": "3zfvsCN9SUA=",
          "dtype": "f8"
         },
         "legendgroup": "41702",
         "lon": {
          "bdata": "ZlH4FN12F0A=",
          "dtype": "f8"
         },
         "marker": {
          "color": "#FECB52"
         },
         "mode": "markers",
         "name": "41702",
         "showlegend": true,
         "subplot": "map",
         "type": "scattermap"
        },
        {
         "hovertemplate": "intensity=37638<br>lat=%{lat}<br>lon=%{lon}<extra></extra>",
         "lat": {
          "bdata": "3QJQvCN9SUA=",
          "dtype": "f8"
         },
         "legendgroup": "37638",
         "lon": {
          "bdata": "LxN0B952F0A=",
          "dtype": "f8"
         },
         "marker": {
          "color": "#636efa"
         },
         "mode": "markers",
         "name": "37638",
         "showlegend": true,
         "subplot": "map",
         "type": "scattermap"
        },
        {
         "hovertemplate": "intensity=36918<br>lat=%{lat}<br>lon=%{lon}<extra></extra>",
         "lat": {
          "bdata": "KBcBySN9SUA=",
          "dtype": "f8"
         },
         "legendgroup": "36918",
         "lon": {
          "bdata": "Py5HgeB2F0A=",
          "dtype": "f8"
         },
         "marker": {
          "color": "#EF553B"
         },
         "mode": "markers",
         "name": "36918",
         "showlegend": true,
         "subplot": "map",
         "type": "scattermap"
        },
        {
         "hovertemplate": "intensity=21845<br>lat=%{lat}<br>lon=%{lon}<extra></extra>",
         "lat": {
          "bdata": "8ufkoiN9SUA=",
          "dtype": "f8"
         },
         "legendgroup": "21845",
         "lon": {
          "bdata": "5VZf0eF2F0A=",
          "dtype": "f8"
         },
         "marker": {
          "color": "#00cc96"
         },
         "mode": "markers",
         "name": "21845",
         "showlegend": true,
         "subplot": "map",
         "type": "scattermap"
        },
        {
         "hovertemplate": "intensity=33466<br>lat=%{lat}<br>lon=%{lon}<extra></extra>",
         "lat": {
          "bdata": "vU6imyN9SUA=",
          "dtype": "f8"
         },
         "legendgroup": "33466",
         "lon": {
          "bdata": "iodGB+N2F0A=",
          "dtype": "f8"
         },
         "marker": {
          "color": "#ab63fa"
         },
         "mode": "markers",
         "name": "33466",
         "showlegend": true,
         "subplot": "map",
         "type": "scattermap"
        },
        {
         "hovertemplate": "intensity=36612<br>lat=%{lat}<br>lon=%{lon}<extra></extra>",
         "lat": {
          "bdata": "Ckf/uiN9SUA=",
          "dtype": "f8"
         },
         "legendgroup": "36612",
         "lon": {
          "bdata": "wVFhxOF2F0A=",
          "dtype": "f8"
         },
         "marker": {
          "color": "#FFA15A"
         },
         "mode": "markers",
         "name": "36612",
         "showlegend": true,
         "subplot": "map",
         "type": "scattermap"
        },
        {
         "hovertemplate": "intensity=35935<br>lat=%{lat}<br>lon=%{lon}<extra></extra>",
         "lat": {
          "bdata": "JKYZ0yN9SUA=",
          "dtype": "f8"
         },
         "legendgroup": "35935",
         "lon": {
          "bdata": "eExjt+F2F0A=",
          "dtype": "f8"
         },
         "marker": {
          "color": "#19d3f3"
         },
         "mode": "markers",
         "name": "35935",
         "showlegend": true,
         "subplot": "map",
         "type": "scattermap"
        },
        {
         "hovertemplate": "intensity=35956<br>lat=%{lat}<br>lon=%{lon}<extra></extra>",
         "lat": {
          "bdata": "z81ttiN9SUA=",
          "dtype": "f8"
         },
         "legendgroup": "35956",
         "lon": {
          "bdata": "2/6hWuR2F0A=",
          "dtype": "f8"
         },
         "marker": {
          "color": "#FF6692"
         },
         "mode": "markers",
         "name": "35956",
         "showlegend": true,
         "subplot": "map",
         "type": "scattermap"
        },
        {
         "hovertemplate": "intensity=39015<br>lat=%{lat}<br>lon=%{lon}<extra></extra>",
         "lat": {
          "bdata": "+DkWyyN9SUA=",
          "dtype": "f8"
         },
         "legendgroup": "39015",
         "lon": {
          "bdata": "zm+y7eJ2F0A=",
          "dtype": "f8"
         },
         "marker": {
          "color": "#B6E880"
         },
         "mode": "markers",
         "name": "39015",
         "showlegend": true,
         "subplot": "map",
         "type": "scattermap"
        },
        {
         "hovertemplate": "intensity=37398<br>lat=%{lat}<br>lon=%{lon}<extra></extra>",
         "lat": {
          "bdata": "7CyIziN9SUA=",
          "dtype": "f8"
         },
         "legendgroup": "37398",
         "lon": {
          "bdata": "RfyjTeR2F0A=",
          "dtype": "f8"
         },
         "marker": {
          "color": "#FF97FF"
         },
         "mode": "markers",
         "name": "37398",
         "showlegend": true,
         "subplot": "map",
         "type": "scattermap"
        },
        {
         "hovertemplate": "intensity=44432<br>lat=%{lat}<br>lon=%{lon}<extra></extra>",
         "lat": {
          "bdata": "F0cG7CN9SUA=",
          "dtype": "f8"
         },
         "legendgroup": "44432",
         "lon": {
          "bdata": "n94ec9V2F0A=",
          "dtype": "f8"
         },
         "marker": {
          "color": "#FECB52"
         },
         "mode": "markers",
         "name": "44432",
         "showlegend": true,
         "subplot": "map",
         "type": "scattermap"
        },
        {
         "hovertemplate": "intensity=45153<br>lat=%{lat}<br>lon=%{lon}<extra></extra>",
         "lat": {
          "bdata": "LACfAiR9SUA=",
          "dtype": "f8"
         },
         "legendgroup": "45153",
         "lon": {
          "bdata": "jq3wZtV2F0A=",
          "dtype": "f8"
         },
         "marker": {
          "color": "#636efa"
         },
         "mode": "markers",
         "name": "45153",
         "showlegend": true,
         "subplot": "map",
         "type": "scattermap"
        },
        {
         "hovertemplate": "intensity=42510<br>lat=%{lat}<br>lon=%{lon}<extra></extra>",
         "lat": {
          "bdata": "zjr0GSR9SUA=",
          "dtype": "f8"
         },
         "legendgroup": "42510",
         "lon": {
          "bdata": "ViG399d2F0A=",
          "dtype": "f8"
         },
         "marker": {
          "color": "#EF553B"
         },
         "mode": "markers",
         "name": "42510",
         "showlegend": true,
         "subplot": "map",
         "type": "scattermap"
        },
        {
         "hovertemplate": "intensity=40653<br>lat=%{lat}<br>lon=%{lon}<extra></extra>",
         "lat": {
          "bdata": "wic39iN9SUA=",
          "dtype": "f8"
         },
         "legendgroup": "40653",
         "lon": {
          "bdata": "DOO1SNp2F0A=",
          "dtype": "f8"
         },
         "marker": {
          "color": "#00cc96"
         },
         "mode": "markers",
         "name": "40653",
         "showlegend": true,
         "subplot": "map",
         "type": "scattermap"
        },
        {
         "hovertemplate": "intensity=41986<br>lat=%{lat}<br>lon=%{lon}<extra></extra>",
         "lat": {
          "bdata": "GoJ9+CN9SUA=",
          "dtype": "f8"
         },
         "legendgroup": "41986",
         "lon": {
          "bdata": "AyNm7tx2F0A=",
          "dtype": "f8"
         },
         "marker": {
          "color": "#ab63fa"
         },
         "mode": "markers",
         "name": "41986",
         "showlegend": true,
         "subplot": "map",
         "type": "scattermap"
        },
        {
         "hovertemplate": "intensity=41876<br>lat=%{lat}<br>lon=%{lon}<extra></extra>",
         "lat": {
          "bdata": "/Iw5ASR9SUA=",
          "dtype": "f8"
         },
         "legendgroup": "41876",
         "lon": {
          "bdata": "7Ysjrtt2F0A=",
          "dtype": "f8"
         },
         "marker": {
          "color": "#FFA15A"
         },
         "mode": "markers",
         "name": "41876",
         "showlegend": true,
         "subplot": "map",
         "type": "scattermap"
        },
        {
         "hovertemplate": "intensity=43231<br>lat=%{lat}<br>lon=%{lon}<extra></extra>",
         "lat": {
          "bdata": "KeGXECR9SUDva+JyJH1JQA==",
          "dtype": "f8"
         },
         "legendgroup": "43231",
         "lon": {
          "bdata": "gRho4dx2F0BbaLjvz3YXQA==",
          "dtype": "f8"
         },
         "marker": {
          "color": "#19d3f3"
         },
         "mode": "markers",
         "name": "43231",
         "showlegend": true,
         "subplot": "map",
         "type": "scattermap"
        },
        {
         "hovertemplate": "intensity=46442<br>lat=%{lat}<br>lon=%{lon}<extra></extra>",
         "lat": {
          "bdata": "SHLvISR9SUDgKgRjJH1JQA==",
          "dtype": "f8"
         },
         "legendgroup": "46442",
         "lon": {
          "bdata": "P3fct9Z2F0AaAVXQ13YXQA==",
          "dtype": "f8"
         },
         "marker": {
          "color": "#FF6692"
         },
         "mode": "markers",
         "name": "46442",
         "showlegend": true,
         "subplot": "map",
         "type": "scattermap"
        },
        {
         "hovertemplate": "intensity=43908<br>lat=%{lat}<br>lon=%{lon}<extra></extra>",
         "lat": {
          "bdata": "5fOMMCR9SUA=",
          "dtype": "f8"
         },
         "legendgroup": "43908",
         "lon": {
          "bdata": "jvKI69d2F0A=",
          "dtype": "f8"
         },
         "marker": {
          "color": "#B6E880"
         },
         "mode": "markers",
         "name": "43908",
         "showlegend": true,
         "subplot": "map",
         "type": "scattermap"
        },
        {
         "hovertemplate": "intensity=45896<br>lat=%{lat}<br>lon=%{lon}<extra></extra>",
         "lat": {
          "bdata": "XF1jUSR9SUCbyt5YJH1JQNJArFskfUlA",
          "dtype": "f8"
         },
         "legendgroup": "45896",
         "lon": {
          "bdata": "dUVIntZ2F0DheOKw3HYXQJvVMpbidhdA",
          "dtype": "f8"
         },
         "marker": {
          "color": "#FF97FF"
         },
         "mode": "markers",
         "name": "45896",
         "showlegend": true,
         "subplot": "map",
         "type": "scattermap"
        },
        {
         "hovertemplate": "intensity=47491<br>lat=%{lat}<br>lon=%{lon}<extra></extra>",
         "lat": {
          "bdata": "CCDtZiR9SUA=",
          "dtype": "f8"
         },
         "legendgroup": "47491",
         "lon": {
          "bdata": "mSr32dh2F0A=",
          "dtype": "f8"
         },
         "marker": {
          "color": "#FECB52"
         },
         "mode": "markers",
         "name": "47491",
         "showlegend": true,
         "subplot": "map",
         "type": "scattermap"
        },
        {
         "hovertemplate": "intensity=46289<br>lat=%{lat}<br>lon=%{lon}<extra></extra>",
         "lat": {
          "bdata": "40kiWCR9SUAIYtWGJH1JQATetoMkfUlA",
          "dtype": "f8"
         },
         "legendgroup": "46289",
         "lon": {
          "bdata": "YMztE9p2F0B9kcH62XYXQJhwCGzHdhdA",
          "dtype": "f8"
         },
         "marker": {
          "color": "#636efa"
         },
         "mode": "markers",
         "name": "46289",
         "showlegend": true,
         "subplot": "map",
         "type": "scattermap"
        },
        {
         "hovertemplate": "intensity=46682<br>lat=%{lat}<br>lon=%{lon}<extra></extra>",
         "lat": {
          "bdata": "/wK7biR9SUBURV69JH1JQA==",
          "dtype": "f8"
         },
         "legendgroup": "46682",
         "lon": {
          "bdata": "b5+/B9p2F0Bb2cGb3nYXQA==",
          "dtype": "f8"
         },
         "marker": {
          "color": "#EF553B"
         },
         "mode": "markers",
         "name": "46682",
         "showlegend": true,
         "subplot": "map",
         "type": "scattermap"
        },
        {
         "hovertemplate": "intensity=45568<br>lat=%{lat}<br>lon=%{lon}<extra></extra>",
         "lat": {
          "bdata": "t4N3byR9SUA3HZgXJH1JQA==",
          "dtype": "f8"
         },
         "legendgroup": "45568",
         "lon": {
          "bdata": "d060pNx2F0CTA0Im5HYXQA==",
          "dtype": "f8"
         },
         "marker": {
          "color": "#00cc96"
         },
         "mode": "markers",
         "name": "45568",
         "showlegend": true,
         "subplot": "map",
         "type": "scattermap"
        },
        {
         "hovertemplate": "intensity=41745<br>lat=%{lat}<br>lon=%{lon}<extra></extra>",
         "lat": {
          "bdata": "WwJ1+CN9SUA=",
          "dtype": "f8"
         },
         "legendgroup": "41745",
         "lon": {
          "bdata": "CRGzZ+B2F0A=",
          "dtype": "f8"
         },
         "marker": {
          "color": "#ab63fa"
         },
         "mode": "markers",
         "name": "41745",
         "showlegend": true,
         "subplot": "map",
         "type": "scattermap"
        },
        {
         "hovertemplate": "intensity=43056<br>lat=%{lat}<br>lon=%{lon}<extra></extra>",
         "lat": {
          "bdata": "0qulFCR9SUA=",
          "dtype": "f8"
         },
         "legendgroup": "43056",
         "lon": {
          "bdata": "2he09t52F0A=",
          "dtype": "f8"
         },
         "marker": {
          "color": "#FFA15A"
         },
         "mode": "markers",
         "name": "43056",
         "showlegend": true,
         "subplot": "map",
         "type": "scattermap"
        },
        {
         "hovertemplate": "intensity=47709<br>lat=%{lat}<br>lon=%{lon}<extra></extra>",
         "lat": {
          "bdata": "r9z1KSR9SUA=",
          "dtype": "f8"
         },
         "legendgroup": "47709",
         "lon": {
          "bdata": "gb/+sOJ2F0A=",
          "dtype": "f8"
         },
         "marker": {
          "color": "#19d3f3"
         },
         "mode": "markers",
         "name": "47709",
         "showlegend": true,
         "subplot": "map",
         "type": "scattermap"
        },
        {
         "hovertemplate": "intensity=46595<br>lat=%{lat}<br>lon=%{lon}<extra></extra>",
         "lat": {
          "bdata": "gcHsMSR9SUA=",
          "dtype": "f8"
         },
         "legendgroup": "46595",
         "lon": {
          "bdata": "67CADuR2F0A=",
          "dtype": "f8"
         },
         "marker": {
          "color": "#FF6692"
         },
         "mode": "markers",
         "name": "46595",
         "showlegend": true,
         "subplot": "map",
         "type": "scattermap"
        },
        {
         "hovertemplate": "intensity=47228<br>lat=%{lat}<br>lon=%{lon}<extra></extra>",
         "lat": {
          "bdata": "kyy7ZiR9SUBvTZx8JH1JQA==",
          "dtype": "f8"
         },
         "legendgroup": "47228",
         "lon": {
          "bdata": "EWnPZ+F2F0D0754b1XYXQA==",
          "dtype": "f8"
         },
         "marker": {
          "color": "#B6E880"
         },
         "mode": "markers",
         "name": "47228",
         "showlegend": true,
         "subplot": "map",
         "type": "scattermap"
        },
        {
         "hovertemplate": "intensity=25558<br>lat=%{lat}<br>lon=%{lon}<extra></extra>",
         "lat": {
          "bdata": "WpSyfiR9SUA=",
          "dtype": "f8"
         },
         "legendgroup": "25558",
         "lon": {
          "bdata": "xUGofMl2F0A=",
          "dtype": "f8"
         },
         "marker": {
          "color": "#FF97FF"
         },
         "mode": "markers",
         "name": "25558",
         "showlegend": true,
         "subplot": "map",
         "type": "scattermap"
        },
        {
         "hovertemplate": "intensity=36022<br>lat=%{lat}<br>lon=%{lon}<extra></extra>",
         "lat": {
          "bdata": "zeGYciR9SUA=",
          "dtype": "f8"
         },
         "legendgroup": "36022",
         "lon": {
          "bdata": "znD4Fsx2F0A=",
          "dtype": "f8"
         },
         "marker": {
          "color": "#FECB52"
         },
         "mode": "markers",
         "name": "36022",
         "showlegend": true,
         "subplot": "map",
         "type": "scattermap"
        },
        {
         "hovertemplate": "intensity=35323<br>lat=%{lat}<br>lon=%{lon}<extra></extra>",
         "lat": {
          "bdata": "vBN0iyR9SUA=",
          "dtype": "f8"
         },
         "legendgroup": "35323",
         "lon": {
          "bdata": "hmOSCcx2F0A=",
          "dtype": "f8"
         },
         "marker": {
          "color": "#636efa"
         },
         "mode": "markers",
         "name": "35323",
         "showlegend": true,
         "subplot": "map",
         "type": "scattermap"
        },
        {
         "hovertemplate": "intensity=37617<br>lat=%{lat}<br>lon=%{lon}<extra></extra>",
         "lat": {
          "bdata": "Dyl8hiR9SUA=",
          "dtype": "f8"
         },
         "legendgroup": "37617",
         "lon": {
          "bdata": "SFPNR812F0A=",
          "dtype": "f8"
         },
         "marker": {
          "color": "#EF553B"
         },
         "mode": "markers",
         "name": "37617",
         "showlegend": true,
         "subplot": "map",
         "type": "scattermap"
        },
        {
         "hovertemplate": "intensity=27764<br>lat=%{lat}<br>lon=%{lon}<extra></extra>",
         "lat": {
          "bdata": "57ENmiR9SUA=",
          "dtype": "f8"
         },
         "legendgroup": "27764",
         "lon": {
          "bdata": "kLpWlsp2F0A=",
          "dtype": "f8"
         },
         "marker": {
          "color": "#00cc96"
         },
         "mode": "markers",
         "name": "27764",
         "showlegend": true,
         "subplot": "map",
         "type": "scattermap"
        },
        {
         "hovertemplate": "intensity=28223<br>lat=%{lat}<br>lon=%{lon}<extra></extra>",
         "lat": {
          "bdata": "q0VPpCR9SUA=",
          "dtype": "f8"
         },
         "legendgroup": "28223",
         "lon": {
          "bdata": "GVYs/Mt2F0A=",
          "dtype": "f8"
         },
         "marker": {
          "color": "#ab63fa"
         },
         "mode": "markers",
         "name": "28223",
         "showlegend": true,
         "subplot": "map",
         "type": "scattermap"
        },
        {
         "hovertemplate": "intensity=37376<br>lat=%{lat}<br>lon=%{lon}<extra></extra>",
         "lat": {
          "bdata": "GuIUnSR9SUA=",
          "dtype": "f8"
         },
         "legendgroup": "37376",
         "lon": {
          "bdata": "whmfO812F0A=",
          "dtype": "f8"
         },
         "marker": {
          "color": "#FFA15A"
         },
         "mode": "markers",
         "name": "37376",
         "showlegend": true,
         "subplot": "map",
         "type": "scattermap"
        },
        {
         "hovertemplate": "intensity=24073<br>lat=%{lat}<br>lon=%{lon}<extra></extra>",
         "lat": {
          "bdata": "AuewtiR9SUA=",
          "dtype": "f8"
         },
         "legendgroup": "24073",
         "lon": {
          "bdata": "rhzRLc12F0A=",
          "dtype": "f8"
         },
         "marker": {
          "color": "#19d3f3"
         },
         "mode": "markers",
         "name": "24073",
         "showlegend": true,
         "subplot": "map",
         "type": "scattermap"
        },
        {
         "hovertemplate": "intensity=17759<br>lat=%{lat}<br>lon=%{lon}<extra></extra>",
         "lat": {
          "bdata": "Ec2IzCR9SUA=",
          "dtype": "f8"
         },
         "legendgroup": "17759",
         "lon": {
          "bdata": "wtMKIs12F0A=",
          "dtype": "f8"
         },
         "marker": {
          "color": "#FF6692"
         },
         "mode": "markers",
         "name": "17759",
         "showlegend": true,
         "subplot": "map",
         "type": "scattermap"
        },
        {
         "hovertemplate": "intensity=38141<br>lat=%{lat}<br>lon=%{lon}<extra></extra>",
         "lat": {
          "bdata": "fwp8gSR9SUA=",
          "dtype": "f8"
         },
         "legendgroup": "38141",
         "lon": {
          "bdata": "Q8N8fM52F0A=",
          "dtype": "f8"
         },
         "marker": {
          "color": "#B6E880"
         },
         "mode": "markers",
         "name": "38141",
         "showlegend": true,
         "subplot": "map",
         "type": "scattermap"
        },
        {
         "hovertemplate": "intensity=39539<br>lat=%{lat}<br>lon=%{lon}<extra></extra>",
         "lat": {
          "bdata": "G2q1iyR9SUA=",
          "dtype": "f8"
         },
         "legendgroup": "39539",
         "lon": {
          "bdata": "4N/G2M92F0A=",
          "dtype": "f8"
         },
         "marker": {
          "color": "#FF97FF"
         },
         "mode": "markers",
         "name": "39539",
         "showlegend": true,
         "subplot": "map",
         "type": "scattermap"
        },
        {
         "hovertemplate": "intensity=36677<br>lat=%{lat}<br>lon=%{lon}<extra></extra>",
         "lat": {
          "bdata": "mh2TliR9SUA=",
          "dtype": "f8"
         },
         "legendgroup": "36677",
         "lon": {
          "bdata": "jWwecc52F0A=",
          "dtype": "f8"
         },
         "marker": {
          "color": "#FECB52"
         },
         "mode": "markers",
         "name": "36677",
         "showlegend": true,
         "subplot": "map",
         "type": "scattermap"
        },
        {
         "hovertemplate": "intensity=31150<br>lat=%{lat}<br>lon=%{lon}<extra></extra>",
         "lat": {
          "bdata": "jU9uryR9SUA=",
          "dtype": "f8"
         },
         "legendgroup": "31150",
         "lon": {
          "bdata": "pWG4Y852F0A=",
          "dtype": "f8"
         },
         "marker": {
          "color": "#636efa"
         },
         "mode": "markers",
         "name": "31150",
         "showlegend": true,
         "subplot": "map",
         "type": "scattermap"
        },
        {
         "hovertemplate": "intensity=37114<br>lat=%{lat}<br>lon=%{lon}<extra></extra>",
         "lat": {
          "bdata": "EJyQpCR9SUA=",
          "dtype": "f8"
         },
         "legendgroup": "37114",
         "lon": {
          "bdata": "hNZgy892F0A=",
          "dtype": "f8"
         },
         "marker": {
          "color": "#EF553B"
         },
         "mode": "markers",
         "name": "37114",
         "showlegend": true,
         "subplot": "map",
         "type": "scattermap"
        },
        {
         "hovertemplate": "intensity=45044<br>lat=%{lat}<br>lon=%{lon}<extra></extra>",
         "lat": {
          "bdata": "aByeiiR9SUA=",
          "dtype": "f8"
         },
         "legendgroup": "45044",
         "lon": {
          "bdata": "h7qE2NN2F0A=",
          "dtype": "f8"
         },
         "marker": {
          "color": "#00cc96"
         },
         "mode": "markers",
         "name": "45044",
         "showlegend": true,
         "subplot": "map",
         "type": "scattermap"
        },
        {
         "hovertemplate": "intensity=37966<br>lat=%{lat}<br>lon=%{lon}<extra></extra>",
         "lat": {
          "bdata": "+AHJpyR9SUA=",
          "dtype": "f8"
         },
         "legendgroup": "37966",
         "lon": {
          "bdata": "EzTuqdJ2F0A=",
          "dtype": "f8"
         },
         "marker": {
          "color": "#ab63fa"
         },
         "mode": "markers",
         "name": "37966",
         "showlegend": true,
         "subplot": "map",
         "type": "scattermap"
        },
        {
         "hovertemplate": "intensity=32265<br>lat=%{lat}<br>lon=%{lon}<extra></extra>",
         "lat": {
          "bdata": "/yyG1SR9SUA=",
          "dtype": "f8"
         },
         "legendgroup": "32265",
         "lon": {
          "bdata": "H7T8sM92F0A=",
          "dtype": "f8"
         },
         "marker": {
          "color": "#FFA15A"
         },
         "mode": "markers",
         "name": "32265",
         "showlegend": true,
         "subplot": "map",
         "type": "scattermap"
        },
        {
         "hovertemplate": "intensity=44913<br>lat=%{lat}<br>lon=%{lon}<extra></extra>",
         "lat": {
          "bdata": "kaJHySR9SUA=",
          "dtype": "f8"
         },
         "legendgroup": "44913",
         "lon": {
          "bdata": "3AmjP9F2F0A=",
          "dtype": "f8"
         },
         "marker": {
          "color": "#19d3f3"
         },
         "mode": "markers",
         "name": "44913",
         "showlegend": true,
         "subplot": "map",
         "type": "scattermap"
        },
        {
         "hovertemplate": "intensity=40588<br>lat=%{lat}<br>lon=%{lon}<extra></extra>",
         "lat": {
          "bdata": "pKpB2SR9SUDS/lwSJH1JQA==",
          "dtype": "f8"
         },
         "legendgroup": "40588",
         "lon": {
          "bdata": "0FWu6dR2F0BoWXVaxnYXQA==",
          "dtype": "f8"
         },
         "marker": {
          "color": "#FF6692"
         },
         "mode": "markers",
         "name": "40588",
         "showlegend": true,
         "subplot": "map",
         "type": "scattermap"
        },
        {
         "hovertemplate": "intensity=46988<br>lat=%{lat}<br>lon=%{lon}<extra></extra>",
         "lat": {
          "bdata": "d6fxmCR9SUA=",
          "dtype": "f8"
         },
         "legendgroup": "46988",
         "lon": {
          "bdata": "fAG2d9Z2F0A=",
          "dtype": "f8"
         },
         "marker": {
          "color": "#B6E880"
         },
         "mode": "markers",
         "name": "46988",
         "showlegend": true,
         "subplot": "map",
         "type": "scattermap"
        },
        {
         "hovertemplate": "intensity=45656<br>lat=%{lat}<br>lon=%{lon}<extra></extra>",
         "lat": {
          "bdata": "ZU6VjyR9SUBC7/DUJH1JQA==",
          "dtype": "f8"
         },
         "legendgroup": "45656",
         "lon": {
          "bdata": "+xNnYdt2F0D2ytRU4nYXQA==",
          "dtype": "f8"
         },
         "marker": {
          "color": "#FF97FF"
         },
         "mode": "markers",
         "name": "45656",
         "showlegend": true,
         "subplot": "map",
         "type": "scattermap"
        },
        {
         "hovertemplate": "intensity=43952<br>lat=%{lat}<br>lon=%{lon}<extra></extra>",
         "lat": {
          "bdata": "J01JtiR9SUA=",
          "dtype": "f8"
         },
         "legendgroup": "43952",
         "lon": {
          "bdata": "omUt4dl2F0A=",
          "dtype": "f8"
         },
         "marker": {
          "color": "#FECB52"
         },
         "mode": "markers",
         "name": "43952",
         "showlegend": true,
         "subplot": "map",
         "type": "scattermap"
        },
        {
         "hovertemplate": "intensity=46901<br>lat=%{lat}<br>lon=%{lon}<extra></extra>",
         "lat": {
          "bdata": "9PpEtiR9SUB0rz+NJH1JQA==",
          "dtype": "f8"
         },
         "legendgroup": "46901",
         "lon": {
          "bdata": "DA2Kftx2F0B+uj2dynYXQA==",
          "dtype": "f8"
         },
         "marker": {
          "color": "#636efa"
         },
         "mode": "markers",
         "name": "46901",
         "showlegend": true,
         "subplot": "map",
         "type": "scattermap"
        },
        {
         "hovertemplate": "intensity=44170<br>lat=%{lat}<br>lon=%{lon}<extra></extra>",
         "lat": {
          "bdata": "dAuoyiR9SUB977ocJH1JQA==",
          "dtype": "f8"
         },
         "legendgroup": "44170",
         "lon": {
          "bdata": "p/zpXNZ2F0DOtEFFzHYXQA==",
          "dtype": "f8"
         },
         "marker": {
          "color": "#EF553B"
         },
         "mode": "markers",
         "name": "44170",
         "showlegend": true,
         "subplot": "map",
         "type": "scattermap"
        },
        {
         "hovertemplate": "intensity=46267<br>lat=%{lat}<br>lon=%{lon}<extra></extra>",
         "lat": {
          "bdata": "3wLVdyR9SUA=",
          "dtype": "f8"
         },
         "legendgroup": "46267",
         "lon": {
          "bdata": "8NjPmN12F0A=",
          "dtype": "f8"
         },
         "marker": {
          "color": "#00cc96"
         },
         "mode": "markers",
         "name": "46267",
         "showlegend": true,
         "subplot": "map",
         "type": "scattermap"
        },
        {
         "hovertemplate": "intensity=46704<br>lat=%{lat}<br>lon=%{lon}<extra></extra>",
         "lat": {
          "bdata": "E9MskCR9SUA=",
          "dtype": "f8"
         },
         "legendgroup": "46704",
         "lon": {
          "bdata": "xCoetN52F0A=",
          "dtype": "f8"
         },
         "marker": {
          "color": "#ab63fa"
         },
         "mode": "markers",
         "name": "46704",
         "showlegend": true,
         "subplot": "map",
         "type": "scattermap"
        },
        {
         "hovertemplate": "intensity=46660<br>lat=%{lat}<br>lon=%{lon}<extra></extra>",
         "lat": {
          "bdata": "NW3BuiR9SUAu0nZkJH1JQA==",
          "dtype": "f8"
         },
         "legendgroup": "46660",
         "lon": {
          "bdata": "43Vn9d92F0AUtTMuxnYXQA==",
          "dtype": "f8"
         },
         "marker": {
          "color": "#FFA15A"
         },
         "mode": "markers",
         "name": "46660",
         "showlegend": true,
         "subplot": "map",
         "type": "scattermap"
        },
        {
         "hovertemplate": "intensity=16558<br>lat=%{lat}<br>lon=%{lon}<extra></extra>",
         "lat": {
          "bdata": "m5VpoSN9SUA=",
          "dtype": "f8"
         },
         "legendgroup": "16558",
         "lon": {
          "bdata": "vxXooMZ2F0A=",
          "dtype": "f8"
         },
         "marker": {
          "color": "#19d3f3"
         },
         "mode": "markers",
         "name": "16558",
         "showlegend": true,
         "subplot": "map",
         "type": "scattermap"
        },
        {
         "hovertemplate": "intensity=35498<br>lat=%{lat}<br>lon=%{lon}<extra></extra>",
         "lat": {
          "bdata": "gsjRYSR9SUA=",
          "dtype": "f8"
         },
         "legendgroup": "35498",
         "lon": {
          "bdata": "Kc9Nfsd2F0A=",
          "dtype": "f8"
         },
         "marker": {
          "color": "#FF6692"
         },
         "mode": "markers",
         "name": "35498",
         "showlegend": true,
         "subplot": "map",
         "type": "scattermap"
        },
        {
         "hovertemplate": "intensity=30386<br>lat=%{lat}<br>lon=%{lon}<extra></extra>",
         "lat": {
          "bdata": "d0okNyR9SUA=",
          "dtype": "f8"
         },
         "legendgroup": "30386",
         "lon": {
          "bdata": "XK06o8l2F0A=",
          "dtype": "f8"
         },
         "marker": {
          "color": "#B6E880"
         },
         "mode": "markers",
         "name": "30386",
         "showlegend": true,
         "subplot": "map",
         "type": "scattermap"
        },
        {
         "hovertemplate": "intensity=41592<br>lat=%{lat}<br>lon=%{lon}<extra></extra>",
         "lat": {
          "bdata": "BDiiUSR9SUA=",
          "dtype": "f8"
         },
         "legendgroup": "41592",
         "lon": {
          "bdata": "6T9aOMZ2F0A=",
          "dtype": "f8"
         },
         "marker": {
          "color": "#FF97FF"
         },
         "mode": "markers",
         "name": "41592",
         "showlegend": true,
         "subplot": "map",
         "type": "scattermap"
        },
        {
         "hovertemplate": "intensity=18633<br>lat=%{lat}<br>lon=%{lon}<extra></extra>",
         "lat": {
          "bdata": "pajsSSR9SUA=",
          "dtype": "f8"
         },
         "legendgroup": "18633",
         "lon": {
          "bdata": "ssgMqsh2F0A=",
          "dtype": "f8"
         },
         "marker": {
          "color": "#FECB52"
         },
         "mode": "markers",
         "name": "18633",
         "showlegend": true,
         "subplot": "map",
         "type": "scattermap"
        },
        {
         "hovertemplate": "intensity=49435<br>lat=%{lat}<br>lon=%{lon}<extra></extra>",
         "lat": {
          "bdata": "oK/gMiR9SUA=",
          "dtype": "f8"
         },
         "legendgroup": "49435",
         "lon": {
          "bdata": "p8DedM12F0A=",
          "dtype": "f8"
         },
         "marker": {
          "color": "#636efa"
         },
         "mode": "markers",
         "name": "49435",
         "showlegend": true,
         "subplot": "map",
         "type": "scattermap"
        },
        {
         "hovertemplate": "intensity=25624<br>lat=%{lat}<br>lon=%{lon}<extra></extra>",
         "lat": {
          "bdata": "5+DBVCR9SUA=",
          "dtype": "f8"
         },
         "legendgroup": "25624",
         "lon": {
          "bdata": "SlCxu8p2F0A=",
          "dtype": "f8"
         },
         "marker": {
          "color": "#EF553B"
         },
         "mode": "markers",
         "name": "25624",
         "showlegend": true,
         "subplot": "map",
         "type": "scattermap"
        },
        {
         "hovertemplate": "intensity=40675<br>lat=%{lat}<br>lon=%{lon}<extra></extra>",
         "lat": {
          "bdata": "abec1yN9SUA=",
          "dtype": "f8"
         },
         "legendgroup": "40675",
         "lon": {
          "bdata": "p8sgesZ2F0A=",
          "dtype": "f8"
         },
         "marker": {
          "color": "#00cc96"
         },
         "mode": "markers",
         "name": "40675",
         "showlegend": true,
         "subplot": "map",
         "type": "scattermap"
        },
        {
         "hovertemplate": "intensity=22325<br>lat=%{lat}<br>lon=%{lon}<extra></extra>",
         "lat": {
          "bdata": "jCQy6yN9SUA=",
          "dtype": "f8"
         },
         "legendgroup": "22325",
         "lon": {
          "bdata": "VFCSb8Z2F0A=",
          "dtype": "f8"
         },
         "marker": {
          "color": "#ab63fa"
         },
         "mode": "markers",
         "name": "22325",
         "showlegend": true,
         "subplot": "map",
         "type": "scattermap"
        },
        {
         "hovertemplate": "intensity=34121<br>lat=%{lat}<br>lon=%{lon}<extra></extra>",
         "lat": {
          "bdata": "rpHH/iN9SUA=",
          "dtype": "f8"
         },
         "legendgroup": "34121",
         "lon": {
          "bdata": "69QDZcZ2F0A=",
          "dtype": "f8"
         },
         "marker": {
          "color": "#FFA15A"
         },
         "mode": "markers",
         "name": "34121",
         "showlegend": true,
         "subplot": "map",
         "type": "scattermap"
        },
        {
         "hovertemplate": "intensity=17082<br>lat=%{lat}<br>lon=%{lon}<extra></extra>",
         "lat": {
          "bdata": "4B+zRCR9SUA=",
          "dtype": "f8"
         },
         "legendgroup": "17082",
         "lon": {
          "bdata": "Grzrm8l2F0A=",
          "dtype": "f8"
         },
         "marker": {
          "color": "#19d3f3"
         },
         "mode": "markers",
         "name": "17082",
         "showlegend": true,
         "subplot": "map",
         "type": "scattermap"
        },
        {
         "hovertemplate": "intensity=15509<br>lat=%{lat}<br>lon=%{lon}<extra></extra>",
         "lat": {
          "bdata": "byVbMSR9SUA=",
          "dtype": "f8"
         },
         "legendgroup": "15509",
         "lon": {
          "bdata": "pIvGzsp2F0A=",
          "dtype": "f8"
         },
         "marker": {
          "color": "#FF6692"
         },
         "mode": "markers",
         "name": "15509",
         "showlegend": true,
         "subplot": "map",
         "type": "scattermap"
        },
        {
         "hovertemplate": "intensity=28332<br>lat=%{lat}<br>lon=%{lon}<extra></extra>",
         "lat": {
          "bdata": "Mv6OaSR9SUA=",
          "dtype": "f8"
         },
         "legendgroup": "28332",
         "lon": {
          "bdata": "abvXG8x2F0A=",
          "dtype": "f8"
         },
         "marker": {
          "color": "#B6E880"
         },
         "mode": "markers",
         "name": "28332",
         "showlegend": true,
         "subplot": "map",
         "type": "scattermap"
        },
        {
         "hovertemplate": "intensity=19638<br>lat=%{lat}<br>lon=%{lon}<extra></extra>",
         "lat": {
          "bdata": "+TpAUyR9SUA=",
          "dtype": "f8"
         },
         "legendgroup": "19638",
         "lon": {
          "bdata": "IzKBvMp2F0A=",
          "dtype": "f8"
         },
         "marker": {
          "color": "#FF97FF"
         },
         "mode": "markers",
         "name": "19638",
         "showlegend": true,
         "subplot": "map",
         "type": "scattermap"
        },
        {
         "hovertemplate": "intensity=30626<br>lat=%{lat}<br>lon=%{lon}<extra></extra>",
         "lat": {
          "bdata": "TlOqxyN9SUA=",
          "dtype": "f8"
         },
         "legendgroup": "30626",
         "lon": {
          "bdata": "mPlR38l2F0A=",
          "dtype": "f8"
         },
         "marker": {
          "color": "#FECB52"
         },
         "mode": "markers",
         "name": "30626",
         "showlegend": true,
         "subplot": "map",
         "type": "scattermap"
        },
        {
         "hovertemplate": "intensity=39954<br>lat=%{lat}<br>lon=%{lon}<extra></extra>",
         "lat": {
          "bdata": "1lNuxiN9SUA=",
          "dtype": "f8"
         },
         "legendgroup": "39954",
         "lon": {
          "bdata": "wqv5Ect2F0A=",
          "dtype": "f8"
         },
         "marker": {
          "color": "#636efa"
         },
         "mode": "markers",
         "name": "39954",
         "showlegend": true,
         "subplot": "map",
         "type": "scattermap"
        },
        {
         "hovertemplate": "intensity=19048<br>lat=%{lat}<br>lon=%{lon}<extra></extra>",
         "lat": {
          "bdata": "B3+4OSN9SUBVRmNlJH1JQA==",
          "dtype": "f8"
         },
         "legendgroup": "19048",
         "lon": {
          "bdata": "og1Bb9N2F0BGjDvR2HYXQA==",
          "dtype": "f8"
         },
         "marker": {
          "color": "#EF553B"
         },
         "mode": "markers",
         "name": "19048",
         "showlegend": true,
         "subplot": "map",
         "type": "scattermap"
        },
        {
         "hovertemplate": "intensity=16296<br>lat=%{lat}<br>lon=%{lon}<extra></extra>",
         "lat": {
          "bdata": "GjhRUCN9SUA=",
          "dtype": "f8"
         },
         "legendgroup": "16296",
         "lon": {
          "bdata": "NdsSY9N2F0A=",
          "dtype": "f8"
         },
         "marker": {
          "color": "#00cc96"
         },
         "mode": "markers",
         "name": "16296",
         "showlegend": true,
         "subplot": "map",
         "type": "scattermap"
        },
        {
         "hovertemplate": "intensity=23439<br>lat=%{lat}<br>lon=%{lon}<extra></extra>",
         "lat": {
          "bdata": "0802QiN9SUA=",
          "dtype": "f8"
         },
         "legendgroup": "23439",
         "lon": {
          "bdata": "MYOKidR2F0A=",
          "dtype": "f8"
         },
         "marker": {
          "color": "#ab63fa"
         },
         "mode": "markers",
         "name": "23439",
         "showlegend": true,
         "subplot": "map",
         "type": "scattermap"
        },
        {
         "hovertemplate": "intensity=15313<br>lat=%{lat}<br>lon=%{lon}<extra></extra>",
         "lat": {
          "bdata": "ZlfCTCN9SUA=",
          "dtype": "f8"
         },
         "legendgroup": "15313",
         "lon": {
          "bdata": "GFvbg9R2F0A=",
          "dtype": "f8"
         },
         "marker": {
          "color": "#FFA15A"
         },
         "mode": "markers",
         "name": "15313",
         "showlegend": true,
         "subplot": "map",
         "type": "scattermap"
        },
        {
         "hovertemplate": "intensity=20993<br>lat=%{lat}<br>lon=%{lon}<extra></extra>",
         "lat": {
          "bdata": "VcAUmCN9SUA=",
          "dtype": "f8"
         },
         "legendgroup": "20993",
         "lon": {
          "bdata": "fmBBW9R2F0A=",
          "dtype": "f8"
         },
         "marker": {
          "color": "#19d3f3"
         },
         "mode": "markers",
         "name": "20993",
         "showlegend": true,
         "subplot": "map",
         "type": "scattermap"
        },
        {
         "hovertemplate": "intensity=35869<br>lat=%{lat}<br>lon=%{lon}<extra></extra>",
         "lat": {
          "bdata": "KSsH4iN9SUA=",
          "dtype": "f8"
         },
         "legendgroup": "35869",
         "lon": {
          "bdata": "swgc0cl2F0A=",
          "dtype": "f8"
         },
         "marker": {
          "color": "#FF6692"
         },
         "mode": "markers",
         "name": "35869",
         "showlegend": true,
         "subplot": "map",
         "type": "scattermap"
        },
        {
         "hovertemplate": "intensity=39430<br>lat=%{lat}<br>lon=%{lon}<extra></extra>",
         "lat": {
          "bdata": "S9bzCyR9SUA=",
          "dtype": "f8"
         },
         "legendgroup": "39430",
         "lon": {
          "bdata": "5iOXrMd2F0A=",
          "dtype": "f8"
         },
         "marker": {
          "color": "#B6E880"
         },
         "mode": "markers",
         "name": "39430",
         "showlegend": true,
         "subplot": "map",
         "type": "scattermap"
        },
        {
         "hovertemplate": "intensity=16383<br>lat=%{lat}<br>lon=%{lon}<extra></extra>",
         "lat": {
          "bdata": "hLThDCR9SUA=",
          "dtype": "f8"
         },
         "legendgroup": "16383",
         "lon": {
          "bdata": "cYlkwch2F0A=",
          "dtype": "f8"
         },
         "marker": {
          "color": "#FF97FF"
         },
         "mode": "markers",
         "name": "16383",
         "showlegend": true,
         "subplot": "map",
         "type": "scattermap"
        },
        {
         "hovertemplate": "intensity=36765<br>lat=%{lat}<br>lon=%{lon}<extra></extra>",
         "lat": {
          "bdata": "qSF3ICR9SUA=",
          "dtype": "f8"
         },
         "legendgroup": "36765",
         "lon": {
          "bdata": "4g/Wtsh2F0A=",
          "dtype": "f8"
         },
         "marker": {
          "color": "#FECB52"
         },
         "mode": "markers",
         "name": "36765",
         "showlegend": true,
         "subplot": "map",
         "type": "scattermap"
        },
        {
         "hovertemplate": "intensity=34362<br>lat=%{lat}<br>lon=%{lon}<extra></extra>",
         "lat": {
          "bdata": "Ud2OIyR9SUA=",
          "dtype": "f8"
         },
         "legendgroup": "34362",
         "lon": {
          "bdata": "NibJrcl2F0A=",
          "dtype": "f8"
         },
         "marker": {
          "color": "#636efa"
         },
         "mode": "markers",
         "name": "34362",
         "showlegend": true,
         "subplot": "map",
         "type": "scattermap"
        },
        {
         "hovertemplate": "intensity=20512<br>lat=%{lat}<br>lon=%{lon}<extra></extra>",
         "lat": {
          "bdata": "2CucESR9SUA=",
          "dtype": "f8"
         },
         "legendgroup": "20512",
         "lon": {
          "bdata": "d0rdWsZ2F0A=",
          "dtype": "f8"
         },
         "marker": {
          "color": "#EF553B"
         },
         "mode": "markers",
         "name": "20512",
         "showlegend": true,
         "subplot": "map",
         "type": "scattermap"
        },
        {
         "hovertemplate": "intensity=15357<br>lat=%{lat}<br>lon=%{lon}<extra></extra>",
         "lat": {
          "bdata": "Cqy/3SN9SUA=",
          "dtype": "f8"
         },
         "legendgroup": "15357",
         "lon": {
          "bdata": "0wDY+8p2F0A=",
          "dtype": "f8"
         },
         "marker": {
          "color": "#00cc96"
         },
         "mode": "markers",
         "name": "15357",
         "showlegend": true,
         "subplot": "map",
         "type": "scattermap"
        },
        {
         "hovertemplate": "intensity=26366<br>lat=%{lat}<br>lon=%{lon}<extra></extra>",
         "lat": {
          "bdata": "ufxwcyN9SUA=",
          "dtype": "f8"
         },
         "legendgroup": "26366",
         "lon": {
          "bdata": "nXDz6uF2F0A=",
          "dtype": "f8"
         },
         "marker": {
          "color": "#ab63fa"
         },
         "mode": "markers",
         "name": "26366",
         "showlegend": true,
         "subplot": "map",
         "type": "scattermap"
        },
        {
         "hovertemplate": "intensity=21211<br>lat=%{lat}<br>lon=%{lon}<extra></extra>",
         "lat": {
          "bdata": "QP8+gCN9SUAMCP1QI31JQA==",
          "dtype": "f8"
         },
         "legendgroup": "21211",
         "lon": {
          "bdata": "C34M5OF2F0AIv8hv2XYXQA==",
          "dtype": "f8"
         },
         "marker": {
          "color": "#FFA15A"
         },
         "mode": "markers",
         "name": "21211",
         "showlegend": true,
         "subplot": "map",
         "type": "scattermap"
        },
        {
         "hovertemplate": "intensity=23658<br>lat=%{lat}<br>lon=%{lon}<extra></extra>",
         "lat": {
          "bdata": "/zi9eSN9SUA=",
          "dtype": "f8"
         },
         "legendgroup": "23658",
         "lon": {
          "bdata": "vLyLGeN2F0A=",
          "dtype": "f8"
         },
         "marker": {
          "color": "#19d3f3"
         },
         "mode": "markers",
         "name": "23658",
         "showlegend": true,
         "subplot": "map",
         "type": "scattermap"
        },
        {
         "hovertemplate": "intensity=21145<br>lat=%{lat}<br>lon=%{lon}<extra></extra>",
         "lat": {
          "bdata": "OhvmdCN9SUA=",
          "dtype": "f8"
         },
         "legendgroup": "21145",
         "lon": {
          "bdata": "LpX0feR2F0A=",
          "dtype": "f8"
         },
         "marker": {
          "color": "#FF6692"
         },
         "mode": "markers",
         "name": "21145",
         "showlegend": true,
         "subplot": "map",
         "type": "scattermap"
        },
        {
         "hovertemplate": "intensity=27284<br>lat=%{lat}<br>lon=%{lon}<extra></extra>",
         "lat": {
          "bdata": "fT+VlCN9SUA=",
          "dtype": "f8"
         },
         "legendgroup": "27284",
         "lon": {
          "bdata": "4ikW2eF2F0A=",
          "dtype": "f8"
         },
         "marker": {
          "color": "#B6E880"
         },
         "mode": "markers",
         "name": "27284",
         "showlegend": true,
         "subplot": "map",
         "type": "scattermap"
        },
        {
         "hovertemplate": "intensity=18131<br>lat=%{lat}<br>lon=%{lon}<extra></extra>",
         "lat": {
          "bdata": "5Y1mpCN9SUA=",
          "dtype": "f8"
         },
         "legendgroup": "18131",
         "lon": {
          "bdata": "lHaP0OF2F0A=",
          "dtype": "f8"
         },
         "marker": {
          "color": "#FF97FF"
         },
         "mode": "markers",
         "name": "18131",
         "showlegend": true,
         "subplot": "map",
         "type": "scattermap"
        },
        {
         "hovertemplate": "intensity=12975<br>lat=%{lat}<br>lon=%{lon}<extra></extra>",
         "lat": {
          "bdata": "VIh4aiN9SUA=",
          "dtype": "f8"
         },
         "legendgroup": "12975",
         "lon": {
          "bdata": "H370uNV2F0A=",
          "dtype": "f8"
         },
         "marker": {
          "color": "#FECB52"
         },
         "mode": "markers",
         "name": "12975",
         "showlegend": true,
         "subplot": "map",
         "type": "scattermap"
        },
        {
         "hovertemplate": "intensity=19704<br>lat=%{lat}<br>lon=%{lon}<extra></extra>",
         "lat": {
          "bdata": "+bUvrSN9SUA=",
          "dtype": "f8"
         },
         "legendgroup": "19704",
         "lon": {
          "bdata": "EhjL9tZ2F0A=",
          "dtype": "f8"
         },
         "marker": {
          "color": "#636efa"
         },
         "mode": "markers",
         "name": "19704",
         "showlegend": true,
         "subplot": "map",
         "type": "scattermap"
        },
        {
         "hovertemplate": "intensity=20774<br>lat=%{lat}<br>lon=%{lon}<extra></extra>",
         "lat": {
          "bdata": "9wfMQSN9SUA=",
          "dtype": "f8"
         },
         "legendgroup": "20774",
         "lon": {
          "bdata": "RDvhztV2F0A=",
          "dtype": "f8"
         },
         "marker": {
          "color": "#EF553B"
         },
         "mode": "markers",
         "name": "20774",
         "showlegend": true,
         "subplot": "map",
         "type": "scattermap"
        },
        {
         "hovertemplate": "intensity=20141<br>lat=%{lat}<br>lon=%{lon}<extra></extra>",
         "lat": {
          "bdata": "O7XWWyN9SUA=",
          "dtype": "f8"
         },
         "legendgroup": "20141",
         "lon": {
          "bdata": "c46kItd2F0A=",
          "dtype": "f8"
         },
         "marker": {
          "color": "#00cc96"
         },
         "mode": "markers",
         "name": "20141",
         "showlegend": true,
         "subplot": "map",
         "type": "scattermap"
        },
        {
         "hovertemplate": "intensity=28420<br>lat=%{lat}<br>lon=%{lon}<extra></extra>",
         "lat": {
          "bdata": "/n64eiN9SUA=",
          "dtype": "f8"
         },
         "legendgroup": "28420",
         "lon": {
          "bdata": "/gn/Edd2F0A=",
          "dtype": "f8"
         },
         "marker": {
          "color": "#ab63fa"
         },
         "mode": "markers",
         "name": "28420",
         "showlegend": true,
         "subplot": "map",
         "type": "scattermap"
        },
        {
         "hovertemplate": "intensity=17257<br>lat=%{lat}<br>lon=%{lon}<extra></extra>",
         "lat": {
          "bdata": "BsYAciN9SUA=",
          "dtype": "f8"
         },
         "legendgroup": "17257",
         "lon": {
          "bdata": "rhjltNV2F0A=",
          "dtype": "f8"
         },
         "marker": {
          "color": "#FFA15A"
         },
         "mode": "markers",
         "name": "17257",
         "showlegend": true,
         "subplot": "map",
         "type": "scattermap"
        },
        {
         "hovertemplate": "intensity=25252<br>lat=%{lat}<br>lon=%{lon}<extra></extra>",
         "lat": {
          "bdata": "6V04hyN9SUA=",
          "dtype": "f8"
         },
         "legendgroup": "25252",
         "lon": {
          "bdata": "ZyCNUtl2F0A=",
          "dtype": "f8"
         },
         "marker": {
          "color": "#19d3f3"
         },
         "mode": "markers",
         "name": "25252",
         "showlegend": true,
         "subplot": "map",
         "type": "scattermap"
        },
        {
         "hovertemplate": "intensity=16012<br>lat=%{lat}<br>lon=%{lon}<extra></extra>",
         "lat": {
          "bdata": "Oq1CUSN9SUA=",
          "dtype": "f8"
         },
         "legendgroup": "16012",
         "lon": {
          "bdata": "8Imgodp2F0A=",
          "dtype": "f8"
         },
         "marker": {
          "color": "#FF6692"
         },
         "mode": "markers",
         "name": "16012",
         "showlegend": true,
         "subplot": "map",
         "type": "scattermap"
        },
        {
         "hovertemplate": "intensity=19507<br>lat=%{lat}<br>lon=%{lon}<extra></extra>",
         "lat": {
          "bdata": "pShTYCN9SUA=",
          "dtype": "f8"
         },
         "legendgroup": "19507",
         "lon": {
          "bdata": "RsKBmdp2F0A=",
          "dtype": "f8"
         },
         "marker": {
          "color": "#B6E880"
         },
         "mode": "markers",
         "name": "19507",
         "showlegend": true,
         "subplot": "map",
         "type": "scattermap"
        },
        {
         "hovertemplate": "intensity=20162<br>lat=%{lat}<br>lon=%{lon}<extra></extra>",
         "lat": {
          "bdata": "0TtqdSN9SUA=",
          "dtype": "f8"
         },
         "legendgroup": "20162",
         "lon": {
          "bdata": "dHcjjtp2F0A=",
          "dtype": "f8"
         },
         "marker": {
          "color": "#FF97FF"
         },
         "mode": "markers",
         "name": "20162",
         "showlegend": true,
         "subplot": "map",
         "type": "scattermap"
        },
        {
         "hovertemplate": "intensity=15073<br>lat=%{lat}<br>lon=%{lon}<extra></extra>",
         "lat": {
          "bdata": "8kbugSN9SUA=",
          "dtype": "f8"
         },
         "legendgroup": "15073",
         "lon": {
          "bdata": "IDjB8tt2F0A=",
          "dtype": "f8"
         },
         "marker": {
          "color": "#FECB52"
         },
         "mode": "markers",
         "name": "15073",
         "showlegend": true,
         "subplot": "map",
         "type": "scattermap"
        },
        {
         "hovertemplate": "intensity=19660<br>lat=%{lat}<br>lon=%{lon}<extra></extra>",
         "lat": {
          "bdata": "J5LPjyN9SUA=",
          "dtype": "f8"
         },
         "legendgroup": "19660",
         "lon": {
          "bdata": "47ugBtd2F0A=",
          "dtype": "f8"
         },
         "marker": {
          "color": "#636efa"
         },
         "mode": "markers",
         "name": "19660",
         "showlegend": true,
         "subplot": "map",
         "type": "scattermap"
        },
        {
         "hovertemplate": "intensity=27437<br>lat=%{lat}<br>lon=%{lon}<extra></extra>",
         "lat": {
          "bdata": "+HtmmCN9SUA=",
          "dtype": "f8"
         },
         "legendgroup": "27437",
         "lon": {
          "bdata": "t7OMPdh2F0A=",
          "dtype": "f8"
         },
         "marker": {
          "color": "#EF553B"
         },
         "mode": "markers",
         "name": "27437",
         "showlegend": true,
         "subplot": "map",
         "type": "scattermap"
        },
        {
         "hovertemplate": "intensity=21670<br>lat=%{lat}<br>lon=%{lon}<extra></extra>",
         "lat": {
          "bdata": "L+n7qyN9SUA=",
          "dtype": "f8"
         },
         "legendgroup": "21670",
         "lon": {
          "bdata": "hkf+Mth2F0A=",
          "dtype": "f8"
         },
         "marker": {
          "color": "#00cc96"
         },
         "mode": "markers",
         "name": "21670",
         "showlegend": true,
         "subplot": "map",
         "type": "scattermap"
        },
        {
         "hovertemplate": "intensity=19857<br>lat=%{lat}<br>lon=%{lon}<extra></extra>",
         "lat": {
          "bdata": "Tt7kryN9SUA=",
          "dtype": "f8"
         },
         "legendgroup": "19857",
         "lon": {
          "bdata": "+WigPNl2F0A=",
          "dtype": "f8"
         },
         "marker": {
          "color": "#ab63fa"
         },
         "mode": "markers",
         "name": "19857",
         "showlegend": true,
         "subplot": "map",
         "type": "scattermap"
        },
        {
         "hovertemplate": "intensity=15859<br>lat=%{lat}<br>lon=%{lon}<extra></extra>",
         "lat": {
          "bdata": "OokCyyN9SUA=",
          "dtype": "f8"
         },
         "legendgroup": "15859",
         "lon": {
          "bdata": "IZkCLtl2F0A=",
          "dtype": "f8"
         },
         "marker": {
          "color": "#FFA15A"
         },
         "mode": "markers",
         "name": "15859",
         "showlegend": true,
         "subplot": "map",
         "type": "scattermap"
        },
        {
         "hovertemplate": "intensity=19769<br>lat=%{lat}<br>lon=%{lon}<extra></extra>",
         "lat": {
          "bdata": "4JqEjSN9SUA=",
          "dtype": "f8"
         },
         "legendgroup": "19769",
         "lon": {
          "bdata": "9Wolgdp2F0A=",
          "dtype": "f8"
         },
         "marker": {
          "color": "#19d3f3"
         },
         "mode": "markers",
         "name": "19769",
         "showlegend": true,
         "subplot": "map",
         "type": "scattermap"
        },
        {
         "hovertemplate": "intensity=16733<br>lat=%{lat}<br>lon=%{lon}<extra></extra>",
         "lat": {
          "bdata": "EgCHmCN9SUA=",
          "dtype": "f8"
         },
         "legendgroup": "16733",
         "lon": {
          "bdata": "uQ2T5tt2F0A=",
          "dtype": "f8"
         },
         "marker": {
          "color": "#FF6692"
         },
         "mode": "markers",
         "name": "16733",
         "showlegend": true,
         "subplot": "map",
         "type": "scattermap"
        },
        {
         "hovertemplate": "intensity=16929<br>lat=%{lat}<br>lon=%{lon}<extra></extra>",
         "lat": {
          "bdata": "CtjjsiN9SUA=",
          "dtype": "f8"
         },
         "legendgroup": "16929",
         "lon": {
          "bdata": "bzFd2Nt2F0A=",
          "dtype": "f8"
         },
         "marker": {
          "color": "#B6E880"
         },
         "mode": "markers",
         "name": "16929",
         "showlegend": true,
         "subplot": "map",
         "type": "scattermap"
        },
        {
         "hovertemplate": "intensity=20337<br>lat=%{lat}<br>lon=%{lon}<extra></extra>",
         "lat": {
          "bdata": "bSa1wiN9SUA=",
          "dtype": "f8"
         },
         "legendgroup": "20337",
         "lon": {
          "bdata": "+XnWz9t2F0A=",
          "dtype": "f8"
         },
         "marker": {
          "color": "#FF97FF"
         },
         "mode": "markers",
         "name": "20337",
         "showlegend": true,
         "subplot": "map",
         "type": "scattermap"
        },
        {
         "hovertemplate": "intensity=21014<br>lat=%{lat}<br>lon=%{lon}<extra></extra>",
         "lat": {
          "bdata": "44TAfCN9SUA=",
          "dtype": "f8"
         },
         "legendgroup": "21014",
         "lon": {
          "bdata": "SfzrF+N2F0A=",
          "dtype": "f8"
         },
         "marker": {
          "color": "#FECB52"
         },
         "mode": "markers",
         "name": "21014",
         "showlegend": true,
         "subplot": "map",
         "type": "scattermap"
        },
        {
         "hovertemplate": "intensity=26017<br>lat=%{lat}<br>lon=%{lon}<extra></extra>",
         "lat": {
          "bdata": "8lhufCN9SUA=",
          "dtype": "f8"
         },
         "legendgroup": "26017",
         "lon": {
          "bdata": "hDTleeR2F0A=",
          "dtype": "f8"
         },
         "marker": {
          "color": "#636efa"
         },
         "mode": "markers",
         "name": "26017",
         "showlegend": true,
         "subplot": "map",
         "type": "scattermap"
        },
        {
         "hovertemplate": "intensity=27349<br>lat=%{lat}<br>lon=%{lon}<extra></extra>",
         "lat": {
          "bdata": "exjMjiN9SUA=",
          "dtype": "f8"
         },
         "legendgroup": "27349",
         "lon": {
          "bdata": "lvqhBON2F0A=",
          "dtype": "f8"
         },
         "marker": {
          "color": "#EF553B"
         },
         "mode": "markers",
         "name": "27349",
         "showlegend": true,
         "subplot": "map",
         "type": "scattermap"
        },
        {
         "hovertemplate": "intensity=23527<br>lat=%{lat}<br>lon=%{lon}<extra></extra>",
         "lat": {
          "bdata": "QkPndiN9SUA=",
          "dtype": "f8"
         },
         "legendgroup": "23527",
         "lon": {
          "bdata": "z3OIreB2F0A=",
          "dtype": "f8"
         },
         "marker": {
          "color": "#00cc96"
         },
         "mode": "markers",
         "name": "23527",
         "showlegend": true,
         "subplot": "map",
         "type": "scattermap"
        },
        {
         "hovertemplate": "intensity=22347<br>lat=%{lat}<br>lon=%{lon}<extra></extra>",
         "lat": {
          "bdata": "xlRziCN9SUA=",
          "dtype": "f8"
         },
         "legendgroup": "22347",
         "lon": {
          "bdata": "d7TaaeR2F0A=",
          "dtype": "f8"
         },
         "marker": {
          "color": "#ab63fa"
         },
         "mode": "markers",
         "name": "22347",
         "showlegend": true,
         "subplot": "map",
         "type": "scattermap"
        },
        {
         "hovertemplate": "intensity=14286<br>lat=%{lat}<br>lon=%{lon}<extra></extra>",
         "lat": {
          "bdata": "xdVYkSN9SUA=",
          "dtype": "f8"
         },
         "legendgroup": "14286",
         "lon": {
          "bdata": "NhQNFd52F0A=",
          "dtype": "f8"
         },
         "marker": {
          "color": "#FFA15A"
         },
         "mode": "markers",
         "name": "14286",
         "showlegend": true,
         "subplot": "map",
         "type": "scattermap"
        },
        {
         "hovertemplate": "intensity=22740<br>lat=%{lat}<br>lon=%{lon}<extra></extra>",
         "lat": {
          "bdata": "2K5PoyN9SUA=",
          "dtype": "f8"
         },
         "legendgroup": "22740",
         "lon": {
          "bdata": "XJkIjOB2F0A=",
          "dtype": "f8"
         },
         "marker": {
          "color": "#19d3f3"
         },
         "mode": "markers",
         "name": "22740",
         "showlegend": true,
         "subplot": "map",
         "type": "scattermap"
        },
        {
         "hovertemplate": "intensity=27612<br>lat=%{lat}<br>lon=%{lon}<extra></extra>",
         "lat": {
          "bdata": "65PcnSN9SUA=",
          "dtype": "f8"
         },
         "legendgroup": "27612",
         "lon": {
          "bdata": "NziD/OJ2F0A=",
          "dtype": "f8"
         },
         "marker": {
          "color": "#FF6692"
         },
         "mode": "markers",
         "name": "27612",
         "showlegend": true,
         "subplot": "map",
         "type": "scattermap"
        },
        {
         "hovertemplate": "intensity=15444<br>lat=%{lat}<br>lon=%{lon}<extra></extra>",
         "lat": {
          "bdata": "VYSAlCN9SUA=",
          "dtype": "f8"
         },
         "legendgroup": "15444",
         "lon": {
          "bdata": "TrNbY+R2F0A=",
          "dtype": "f8"
         },
         "marker": {
          "color": "#B6E880"
         },
         "mode": "markers",
         "name": "15444",
         "showlegend": true,
         "subplot": "map",
         "type": "scattermap"
        },
        {
         "hovertemplate": "intensity=27393<br>lat=%{lat}<br>lon=%{lon}<extra></extra>",
         "lat": {
          "bdata": "nKQlpiN9SUA=",
          "dtype": "f8"
         },
         "legendgroup": "27393",
         "lon": {
          "bdata": "4eYL+OJ2F0A=",
          "dtype": "f8"
         },
         "marker": {
          "color": "#FF97FF"
         },
         "mode": "markers",
         "name": "27393",
         "showlegend": true,
         "subplot": "map",
         "type": "scattermap"
        },
        {
         "hovertemplate": "intensity=21277<br>lat=%{lat}<br>lon=%{lon}<extra></extra>",
         "lat": {
          "bdata": "SzXAayR9SUA=",
          "dtype": "f8"
         },
         "legendgroup": "21277",
         "lon": {
          "bdata": "dGISkNZ2F0A=",
          "dtype": "f8"
         },
         "marker": {
          "color": "#FECB52"
         },
         "mode": "markers",
         "name": "21277",
         "showlegend": true,
         "subplot": "map",
         "type": "scattermap"
        },
        {
         "hovertemplate": "intensity=17148<br>lat=%{lat}<br>lon=%{lon}<extra></extra>",
         "lat": {
          "bdata": "IvJfSSR9SUA=",
          "dtype": "f8"
         },
         "legendgroup": "17148",
         "lon": {
          "bdata": "7nKX1Nd2F0A=",
          "dtype": "f8"
         },
         "marker": {
          "color": "#636efa"
         },
         "mode": "markers",
         "name": "17148",
         "showlegend": true,
         "subplot": "map",
         "type": "scattermap"
        },
        {
         "hovertemplate": "intensity=27306<br>lat=%{lat}<br>lon=%{lon}<extra></extra>",
         "lat": {
          "bdata": "VFZwbCR9SUA=",
          "dtype": "f8"
         },
         "legendgroup": "27306",
         "lon": {
          "bdata": "cvFr/9l2F0A=",
          "dtype": "f8"
         },
         "marker": {
          "color": "#EF553B"
         },
         "mode": "markers",
         "name": "27306",
         "showlegend": true,
         "subplot": "map",
         "type": "scattermap"
        },
        {
         "hovertemplate": "intensity=24510<br>lat=%{lat}<br>lon=%{lon}<extra></extra>",
         "lat": {
          "bdata": "J99aUSR9SUA=",
          "dtype": "f8"
         },
         "legendgroup": "24510",
         "lon": {
          "bdata": "PUCVF9p2F0A=",
          "dtype": "f8"
         },
         "marker": {
          "color": "#00cc96"
         },
         "mode": "markers",
         "name": "24510",
         "showlegend": true,
         "subplot": "map",
         "type": "scattermap"
        },
        {
         "hovertemplate": "intensity=21779<br>lat=%{lat}<br>lon=%{lon}<extra></extra>",
         "lat": {
          "bdata": "W760fyR9SUA=",
          "dtype": "f8"
         },
         "legendgroup": "21779",
         "lon": {
          "bdata": "68p0S812F0A=",
          "dtype": "f8"
         },
         "marker": {
          "color": "#ab63fa"
         },
         "mode": "markers",
         "name": "21779",
         "showlegend": true,
         "subplot": "map",
         "type": "scattermap"
        },
        {
         "hovertemplate": "intensity=36481<br>lat=%{lat}<br>lon=%{lon}<extra></extra>",
         "lat": {
          "bdata": "XEoOlyR9SUA=",
          "dtype": "f8"
         },
         "legendgroup": "36481",
         "lon": {
          "bdata": "k6DePs12F0A=",
          "dtype": "f8"
         },
         "marker": {
          "color": "#FFA15A"
         },
         "mode": "markers",
         "name": "36481",
         "showlegend": true,
         "subplot": "map",
         "type": "scattermap"
        },
        {
         "hovertemplate": "intensity=28595<br>lat=%{lat}<br>lon=%{lon}<extra></extra>",
         "lat": {
          "bdata": "HDGRfCR9SUA=",
          "dtype": "f8"
         },
         "legendgroup": "28595",
         "lon": {
          "bdata": "oJI1IcZ2F0A=",
          "dtype": "f8"
         },
         "marker": {
          "color": "#19d3f3"
         },
         "mode": "markers",
         "name": "28595",
         "showlegend": true,
         "subplot": "map",
         "type": "scattermap"
        },
        {
         "hovertemplate": "intensity=21823<br>lat=%{lat}<br>lon=%{lon}<extra></extra>",
         "lat": {
          "bdata": "9DzRmyR9SUA=",
          "dtype": "f8"
         },
         "legendgroup": "21823",
         "lon": {
          "bdata": "Tk8KX8d2F0A=",
          "dtype": "f8"
         },
         "marker": {
          "color": "#FF6692"
         },
         "mode": "markers",
         "name": "21823",
         "showlegend": true,
         "subplot": "map",
         "type": "scattermap"
        },
        {
         "hovertemplate": "intensity=40369<br>lat=%{lat}<br>lon=%{lon}<extra></extra>",
         "lat": {
          "bdata": "UKJ8miR9SUA=",
          "dtype": "f8"
         },
         "legendgroup": "40369",
         "lon": {
          "bdata": "iI4Pdch2F0A=",
          "dtype": "f8"
         },
         "marker": {
          "color": "#B6E880"
         },
         "mode": "markers",
         "name": "40369",
         "showlegend": true,
         "subplot": "map",
         "type": "scattermap"
        },
        {
         "hovertemplate": "intensity=43973<br>lat=%{lat}<br>lon=%{lon}<extra></extra>",
         "lat": {
          "bdata": "Al6UnSR9SUA=",
          "dtype": "f8"
         },
         "legendgroup": "43973",
         "lon": {
          "bdata": "26kCbMl2F0A=",
          "dtype": "f8"
         },
         "marker": {
          "color": "#FF97FF"
         },
         "mode": "markers",
         "name": "43973",
         "showlegend": true,
         "subplot": "map",
         "type": "scattermap"
        },
        {
         "hovertemplate": "intensity=32876<br>lat=%{lat}<br>lon=%{lon}<extra></extra>",
         "lat": {
          "bdata": "FnGrsiR9SUA=",
          "dtype": "f8"
         },
         "legendgroup": "32876",
         "lon": {
          "bdata": "eE6kYMl2F0A=",
          "dtype": "f8"
         },
         "marker": {
          "color": "#FECB52"
         },
         "mode": "markers",
         "name": "32876",
         "showlegend": true,
         "subplot": "map",
         "type": "scattermap"
        }
       ],
       "layout": {
        "legend": {
         "title": {
          "text": "intensity"
         },
         "tracegroupgap": 0
        },
        "map": {
         "center": {
          "lat": 50.97765511227349,
          "lon": 5.8660160776384265
         },
         "domain": {
          "x": [
           0,
           1
          ],
          "y": [
           0,
           1
          ]
         },
         "zoom": 19
        },
        "mapbox": {
         "center": {
          "lat": 50.97765511227349,
          "lon": 5.8660160776384265
         },
         "zoom": 19
        },
        "margin": {
         "t": 60
        },
        "template": {
         "data": {
          "bar": [
           {
            "error_x": {
             "color": "#2a3f5f"
            },
            "error_y": {
             "color": "#2a3f5f"
            },
            "marker": {
             "line": {
              "color": "#E5ECF6",
              "width": 0.5
             },
             "pattern": {
              "fillmode": "overlay",
              "size": 10,
              "solidity": 0.2
             }
            },
            "type": "bar"
           }
          ],
          "barpolar": [
           {
            "marker": {
             "line": {
              "color": "#E5ECF6",
              "width": 0.5
             },
             "pattern": {
              "fillmode": "overlay",
              "size": 10,
              "solidity": 0.2
             }
            },
            "type": "barpolar"
           }
          ],
          "carpet": [
           {
            "aaxis": {
             "endlinecolor": "#2a3f5f",
             "gridcolor": "white",
             "linecolor": "white",
             "minorgridcolor": "white",
             "startlinecolor": "#2a3f5f"
            },
            "baxis": {
             "endlinecolor": "#2a3f5f",
             "gridcolor": "white",
             "linecolor": "white",
             "minorgridcolor": "white",
             "startlinecolor": "#2a3f5f"
            },
            "type": "carpet"
           }
          ],
          "choropleth": [
           {
            "colorbar": {
             "outlinewidth": 0,
             "ticks": ""
            },
            "type": "choropleth"
           }
          ],
          "contour": [
           {
            "colorbar": {
             "outlinewidth": 0,
             "ticks": ""
            },
            "colorscale": [
             [
              0,
              "#0d0887"
             ],
             [
              0.1111111111111111,
              "#46039f"
             ],
             [
              0.2222222222222222,
              "#7201a8"
             ],
             [
              0.3333333333333333,
              "#9c179e"
             ],
             [
              0.4444444444444444,
              "#bd3786"
             ],
             [
              0.5555555555555556,
              "#d8576b"
             ],
             [
              0.6666666666666666,
              "#ed7953"
             ],
             [
              0.7777777777777778,
              "#fb9f3a"
             ],
             [
              0.8888888888888888,
              "#fdca26"
             ],
             [
              1,
              "#f0f921"
             ]
            ],
            "type": "contour"
           }
          ],
          "contourcarpet": [
           {
            "colorbar": {
             "outlinewidth": 0,
             "ticks": ""
            },
            "type": "contourcarpet"
           }
          ],
          "heatmap": [
           {
            "colorbar": {
             "outlinewidth": 0,
             "ticks": ""
            },
            "colorscale": [
             [
              0,
              "#0d0887"
             ],
             [
              0.1111111111111111,
              "#46039f"
             ],
             [
              0.2222222222222222,
              "#7201a8"
             ],
             [
              0.3333333333333333,
              "#9c179e"
             ],
             [
              0.4444444444444444,
              "#bd3786"
             ],
             [
              0.5555555555555556,
              "#d8576b"
             ],
             [
              0.6666666666666666,
              "#ed7953"
             ],
             [
              0.7777777777777778,
              "#fb9f3a"
             ],
             [
              0.8888888888888888,
              "#fdca26"
             ],
             [
              1,
              "#f0f921"
             ]
            ],
            "type": "heatmap"
           }
          ],
          "histogram": [
           {
            "marker": {
             "pattern": {
              "fillmode": "overlay",
              "size": 10,
              "solidity": 0.2
             }
            },
            "type": "histogram"
           }
          ],
          "histogram2d": [
           {
            "colorbar": {
             "outlinewidth": 0,
             "ticks": ""
            },
            "colorscale": [
             [
              0,
              "#0d0887"
             ],
             [
              0.1111111111111111,
              "#46039f"
             ],
             [
              0.2222222222222222,
              "#7201a8"
             ],
             [
              0.3333333333333333,
              "#9c179e"
             ],
             [
              0.4444444444444444,
              "#bd3786"
             ],
             [
              0.5555555555555556,
              "#d8576b"
             ],
             [
              0.6666666666666666,
              "#ed7953"
             ],
             [
              0.7777777777777778,
              "#fb9f3a"
             ],
             [
              0.8888888888888888,
              "#fdca26"
             ],
             [
              1,
              "#f0f921"
             ]
            ],
            "type": "histogram2d"
           }
          ],
          "histogram2dcontour": [
           {
            "colorbar": {
             "outlinewidth": 0,
             "ticks": ""
            },
            "colorscale": [
             [
              0,
              "#0d0887"
             ],
             [
              0.1111111111111111,
              "#46039f"
             ],
             [
              0.2222222222222222,
              "#7201a8"
             ],
             [
              0.3333333333333333,
              "#9c179e"
             ],
             [
              0.4444444444444444,
              "#bd3786"
             ],
             [
              0.5555555555555556,
              "#d8576b"
             ],
             [
              0.6666666666666666,
              "#ed7953"
             ],
             [
              0.7777777777777778,
              "#fb9f3a"
             ],
             [
              0.8888888888888888,
              "#fdca26"
             ],
             [
              1,
              "#f0f921"
             ]
            ],
            "type": "histogram2dcontour"
           }
          ],
          "mesh3d": [
           {
            "colorbar": {
             "outlinewidth": 0,
             "ticks": ""
            },
            "type": "mesh3d"
           }
          ],
          "parcoords": [
           {
            "line": {
             "colorbar": {
              "outlinewidth": 0,
              "ticks": ""
             }
            },
            "type": "parcoords"
           }
          ],
          "pie": [
           {
            "automargin": true,
            "type": "pie"
           }
          ],
          "scatter": [
           {
            "fillpattern": {
             "fillmode": "overlay",
             "size": 10,
             "solidity": 0.2
            },
            "type": "scatter"
           }
          ],
          "scatter3d": [
           {
            "line": {
             "colorbar": {
              "outlinewidth": 0,
              "ticks": ""
             }
            },
            "marker": {
             "colorbar": {
              "outlinewidth": 0,
              "ticks": ""
             }
            },
            "type": "scatter3d"
           }
          ],
          "scattercarpet": [
           {
            "marker": {
             "colorbar": {
              "outlinewidth": 0,
              "ticks": ""
             }
            },
            "type": "scattercarpet"
           }
          ],
          "scattergeo": [
           {
            "marker": {
             "colorbar": {
              "outlinewidth": 0,
              "ticks": ""
             }
            },
            "type": "scattergeo"
           }
          ],
          "scattergl": [
           {
            "marker": {
             "colorbar": {
              "outlinewidth": 0,
              "ticks": ""
             }
            },
            "type": "scattergl"
           }
          ],
          "scattermap": [
           {
            "marker": {
             "colorbar": {
              "outlinewidth": 0,
              "ticks": ""
             }
            },
            "type": "scattermap"
           }
          ],
          "scattermapbox": [
           {
            "marker": {
             "colorbar": {
              "outlinewidth": 0,
              "ticks": ""
             }
            },
            "type": "scattermapbox"
           }
          ],
          "scatterpolar": [
           {
            "marker": {
             "colorbar": {
              "outlinewidth": 0,
              "ticks": ""
             }
            },
            "type": "scatterpolar"
           }
          ],
          "scatterpolargl": [
           {
            "marker": {
             "colorbar": {
              "outlinewidth": 0,
              "ticks": ""
             }
            },
            "type": "scatterpolargl"
           }
          ],
          "scatterternary": [
           {
            "marker": {
             "colorbar": {
              "outlinewidth": 0,
              "ticks": ""
             }
            },
            "type": "scatterternary"
           }
          ],
          "surface": [
           {
            "colorbar": {
             "outlinewidth": 0,
             "ticks": ""
            },
            "colorscale": [
             [
              0,
              "#0d0887"
             ],
             [
              0.1111111111111111,
              "#46039f"
             ],
             [
              0.2222222222222222,
              "#7201a8"
             ],
             [
              0.3333333333333333,
              "#9c179e"
             ],
             [
              0.4444444444444444,
              "#bd3786"
             ],
             [
              0.5555555555555556,
              "#d8576b"
             ],
             [
              0.6666666666666666,
              "#ed7953"
             ],
             [
              0.7777777777777778,
              "#fb9f3a"
             ],
             [
              0.8888888888888888,
              "#fdca26"
             ],
             [
              1,
              "#f0f921"
             ]
            ],
            "type": "surface"
           }
          ],
          "table": [
           {
            "cells": {
             "fill": {
              "color": "#EBF0F8"
             },
             "line": {
              "color": "white"
             }
            },
            "header": {
             "fill": {
              "color": "#C8D4E3"
             },
             "line": {
              "color": "white"
             }
            },
            "type": "table"
           }
          ]
         },
         "layout": {
          "annotationdefaults": {
           "arrowcolor": "#2a3f5f",
           "arrowhead": 0,
           "arrowwidth": 1
          },
          "autotypenumbers": "strict",
          "coloraxis": {
           "colorbar": {
            "outlinewidth": 0,
            "ticks": ""
           }
          },
          "colorscale": {
           "diverging": [
            [
             0,
             "#8e0152"
            ],
            [
             0.1,
             "#c51b7d"
            ],
            [
             0.2,
             "#de77ae"
            ],
            [
             0.3,
             "#f1b6da"
            ],
            [
             0.4,
             "#fde0ef"
            ],
            [
             0.5,
             "#f7f7f7"
            ],
            [
             0.6,
             "#e6f5d0"
            ],
            [
             0.7,
             "#b8e186"
            ],
            [
             0.8,
             "#7fbc41"
            ],
            [
             0.9,
             "#4d9221"
            ],
            [
             1,
             "#276419"
            ]
           ],
           "sequential": [
            [
             0,
             "#0d0887"
            ],
            [
             0.1111111111111111,
             "#46039f"
            ],
            [
             0.2222222222222222,
             "#7201a8"
            ],
            [
             0.3333333333333333,
             "#9c179e"
            ],
            [
             0.4444444444444444,
             "#bd3786"
            ],
            [
             0.5555555555555556,
             "#d8576b"
            ],
            [
             0.6666666666666666,
             "#ed7953"
            ],
            [
             0.7777777777777778,
             "#fb9f3a"
            ],
            [
             0.8888888888888888,
             "#fdca26"
            ],
            [
             1,
             "#f0f921"
            ]
           ],
           "sequentialminus": [
            [
             0,
             "#0d0887"
            ],
            [
             0.1111111111111111,
             "#46039f"
            ],
            [
             0.2222222222222222,
             "#7201a8"
            ],
            [
             0.3333333333333333,
             "#9c179e"
            ],
            [
             0.4444444444444444,
             "#bd3786"
            ],
            [
             0.5555555555555556,
             "#d8576b"
            ],
            [
             0.6666666666666666,
             "#ed7953"
            ],
            [
             0.7777777777777778,
             "#fb9f3a"
            ],
            [
             0.8888888888888888,
             "#fdca26"
            ],
            [
             1,
             "#f0f921"
            ]
           ]
          },
          "colorway": [
           "#636efa",
           "#EF553B",
           "#00cc96",
           "#ab63fa",
           "#FFA15A",
           "#19d3f3",
           "#FF6692",
           "#B6E880",
           "#FF97FF",
           "#FECB52"
          ],
          "font": {
           "color": "#2a3f5f"
          },
          "geo": {
           "bgcolor": "white",
           "lakecolor": "white",
           "landcolor": "#E5ECF6",
           "showlakes": true,
           "showland": true,
           "subunitcolor": "white"
          },
          "hoverlabel": {
           "align": "left"
          },
          "hovermode": "closest",
          "mapbox": {
           "style": "light"
          },
          "paper_bgcolor": "white",
          "plot_bgcolor": "#E5ECF6",
          "polar": {
           "angularaxis": {
            "gridcolor": "white",
            "linecolor": "white",
            "ticks": ""
           },
           "bgcolor": "#E5ECF6",
           "radialaxis": {
            "gridcolor": "white",
            "linecolor": "white",
            "ticks": ""
           }
          },
          "scene": {
           "xaxis": {
            "backgroundcolor": "#E5ECF6",
            "gridcolor": "white",
            "gridwidth": 2,
            "linecolor": "white",
            "showbackground": true,
            "ticks": "",
            "zerolinecolor": "white"
           },
           "yaxis": {
            "backgroundcolor": "#E5ECF6",
            "gridcolor": "white",
            "gridwidth": 2,
            "linecolor": "white",
            "showbackground": true,
            "ticks": "",
            "zerolinecolor": "white"
           },
           "zaxis": {
            "backgroundcolor": "#E5ECF6",
            "gridcolor": "white",
            "gridwidth": 2,
            "linecolor": "white",
            "showbackground": true,
            "ticks": "",
            "zerolinecolor": "white"
           }
          },
          "shapedefaults": {
           "line": {
            "color": "#2a3f5f"
           }
          },
          "ternary": {
           "aaxis": {
            "gridcolor": "white",
            "linecolor": "white",
            "ticks": ""
           },
           "baxis": {
            "gridcolor": "white",
            "linecolor": "white",
            "ticks": ""
           },
           "bgcolor": "#E5ECF6",
           "caxis": {
            "gridcolor": "white",
            "linecolor": "white",
            "ticks": ""
           }
          },
          "title": {
           "x": 0.05
          },
          "xaxis": {
           "automargin": true,
           "gridcolor": "white",
           "linecolor": "white",
           "ticks": "",
           "title": {
            "standoff": 15
           },
           "zerolinecolor": "white",
           "zerolinewidth": 2
          },
          "yaxis": {
           "automargin": true,
           "gridcolor": "white",
           "linecolor": "white",
           "ticks": "",
           "title": {
            "standoff": 15
           },
           "zerolinecolor": "white",
           "zerolinewidth": 2
          }
         }
        }
       }
      }
     },
     "metadata": {},
     "output_type": "display_data"
    }
   ],
   "source": [
    "N = 1000\n",
    "\n",
    "fig = px.scatter_map(lidar_points_gps_gdf.iloc[:N], \n",
    "                     lat=lidar_points_gps_gdf.iloc[:N].geometry.y, lon=lidar_points_gps_gdf.iloc[:N].geometry.x, \n",
    "                     color=\"intensity\",\n",
    "                     color_continuous_scale=px.colors.cyclical.IceFire, size_max=15, zoom=19)\n",
    "fig.show()"
   ]
  },
  {
   "cell_type": "code",
   "execution_count": 17,
   "metadata": {},
   "outputs": [
    {
     "data": {
      "text/html": [
       "<div>\n",
       "<style scoped>\n",
       "    .dataframe tbody tr th:only-of-type {\n",
       "        vertical-align: middle;\n",
       "    }\n",
       "\n",
       "    .dataframe tbody tr th {\n",
       "        vertical-align: top;\n",
       "    }\n",
       "\n",
       "    .dataframe thead th {\n",
       "        text-align: right;\n",
       "    }\n",
       "</style>\n",
       "<table border=\"1\" class=\"dataframe\">\n",
       "  <thead>\n",
       "    <tr style=\"text-align: right;\">\n",
       "      <th></th>\n",
       "      <th>intensity</th>\n",
       "      <th>geometry</th>\n",
       "    </tr>\n",
       "  </thead>\n",
       "  <tbody>\n",
       "    <tr>\n",
       "      <th>0</th>\n",
       "      <td>41571</td>\n",
       "      <td>POINT (5.86592 50.97762)</td>\n",
       "    </tr>\n",
       "    <tr>\n",
       "      <th>1</th>\n",
       "      <td>45066</td>\n",
       "      <td>POINT (5.86592 50.97763)</td>\n",
       "    </tr>\n",
       "    <tr>\n",
       "      <th>2</th>\n",
       "      <td>40981</td>\n",
       "      <td>POINT (5.86593 50.97762)</td>\n",
       "    </tr>\n",
       "    <tr>\n",
       "      <th>3</th>\n",
       "      <td>40959</td>\n",
       "      <td>POINT (5.86593 50.97762)</td>\n",
       "    </tr>\n",
       "    <tr>\n",
       "      <th>4</th>\n",
       "      <td>45284</td>\n",
       "      <td>POINT (5.86593 50.97763)</td>\n",
       "    </tr>\n",
       "    <tr>\n",
       "      <th>...</th>\n",
       "      <td>...</td>\n",
       "      <td>...</td>\n",
       "    </tr>\n",
       "    <tr>\n",
       "      <th>995</th>\n",
       "      <td>43973</td>\n",
       "      <td>POINT (5.866 50.97768)</td>\n",
       "    </tr>\n",
       "    <tr>\n",
       "      <th>996</th>\n",
       "      <td>22456</td>\n",
       "      <td>POINT (5.866 50.97768)</td>\n",
       "    </tr>\n",
       "    <tr>\n",
       "      <th>997</th>\n",
       "      <td>32876</td>\n",
       "      <td>POINT (5.866 50.97768)</td>\n",
       "    </tr>\n",
       "    <tr>\n",
       "      <th>998</th>\n",
       "      <td>38578</td>\n",
       "      <td>POINT (5.86601 50.97768)</td>\n",
       "    </tr>\n",
       "    <tr>\n",
       "      <th>999</th>\n",
       "      <td>46901</td>\n",
       "      <td>POINT (5.86601 50.97768)</td>\n",
       "    </tr>\n",
       "  </tbody>\n",
       "</table>\n",
       "<p>1000 rows × 2 columns</p>\n",
       "</div>"
      ],
      "text/plain": [
       "     intensity                  geometry\n",
       "0        41571  POINT (5.86592 50.97762)\n",
       "1        45066  POINT (5.86592 50.97763)\n",
       "2        40981  POINT (5.86593 50.97762)\n",
       "3        40959  POINT (5.86593 50.97762)\n",
       "4        45284  POINT (5.86593 50.97763)\n",
       "..         ...                       ...\n",
       "995      43973    POINT (5.866 50.97768)\n",
       "996      22456    POINT (5.866 50.97768)\n",
       "997      32876    POINT (5.866 50.97768)\n",
       "998      38578  POINT (5.86601 50.97768)\n",
       "999      46901  POINT (5.86601 50.97768)\n",
       "\n",
       "[1000 rows x 2 columns]"
      ]
     },
     "execution_count": 17,
     "metadata": {},
     "output_type": "execute_result"
    }
   ],
   "source": [
    "lidar_points_gps_gdf.iloc[:N]"
   ]
  },
  {
   "cell_type": "markdown",
   "metadata": {},
   "source": [
    "## Get buildings using overpass"
   ]
  },
  {
   "cell_type": "code",
   "execution_count": 23,
   "metadata": {},
   "outputs": [
    {
     "name": "stdout",
     "output_type": "stream",
     "text": [
      "{'version': 0.6, 'generator': 'Overpass API 0.7.62.4 2390de5a', 'osm3s': {'timestamp_osm_base': '2025-02-04T19:06:02Z', 'copyright': 'The data included in this document is from www.openstreetmap.org. The data is made available under ODbL.'}, 'elements': [{'type': 'way', 'id': 4054817, 'nodes': [21486944, 2545258014, 2545258017, 4348232951, 2950486585, 282341977, 21486945, 8220727414, 2950486587, 2950486605, 8220727413, 21486942, 618914977, 2950486612, 4348232954, 2950486614, 21486943, 2950486613, 21486944], 'tags': {'addr:city': 'München', 'addr:country': 'DE', 'addr:housenumber': '15', 'addr:postcode': '80331', 'addr:street': 'Marienplatz', 'architect': 'Jörg von Halspach', 'architect:wikidata': 'Q123464', 'building': 'government', 'building:architecture': 'gothic', 'building:levels': '2', 'height': '25', 'heritage': '4', 'heritage:operator': 'BLfD', 'layer': '1', 'name': 'Altes Rathaus', 'name:de': 'Altes Rathaus', 'name:en': 'Old Town Hall', 'name:es': 'Viejo Ayuntamiento', 'name:ru': 'Старая Ратуша', 'name:zh': '舊市政廳', 'opening_hours': 'Su-Fr 09:00-21:30', 'ref:BLfD': 'D-1-62-000-4289', 'roof:shape': 'gabled', 'start_date': '1475', 'tourism': 'attraction', 'wheelchair': 'limited', 'wikidata': 'Q439458', 'wikimedia_commons': 'Category:Altes Rathaus (München)', 'wikipedia': 'de:Altes Rathaus (München)'}}, {'type': 'way', 'id': 48966941, 'nodes': [2285922444, 1059560256, 2285922443, 5157560095, 2285922442, 3688974745, 1121737063, 2285922444], 'tags': {'building': 'retail', 'building:levels': '5', 'roof:levels': '0', 'roof:shape': 'gabled'}}, {'type': 'way', 'id': 79401251, 'nodes': [927061658, 2345352206, 927061690, 3893571142, 256017117, 256017126, 256017119, 2810124998, 8178603122, 256017120, 2545258021, 3893571131, 2196730199, 3893571130, 2545258020, 261030698, 8178603121, 927061658], 'tags': {'addr:city': 'München', 'addr:country': 'DE', 'addr:housenumber': '3', 'addr:postcode': '80331', 'addr:street': 'Alter Hof', 'building': 'yes', 'building:part': 'yes', 'description': 'Älteste Münchner Residenz der Wittelsbacher (seit Mitte 13. Jahrhundert). Burgstock (Südflügel) samt Turm und Erker spätgotisch (um 1460/70), auf älterer Grundlage; Zwingerstock (Westflügel) im Kern 14. Jahrhundert; an beiden erneuerte Fassadenmalerei'}}, {'type': 'way', 'id': 79401254, 'nodes': [927061692, 1389800352, 927061635, 2545258024, 2498525100, 927061692], 'tags': {'addr:city': 'München', 'addr:country': 'DE', 'addr:housenumber': '16', 'addr:postcode': '80331', 'addr:street': 'Dienerstraße', 'building': 'apartments', 'building:levels': '4', 'heritage': '4', 'heritage:operator': 'BLfD', 'ref:BLfD': 'D-1-62-000-1284', 'roof:levels': '1', 'roof:shape': 'gabled', 'wikidata': 'Q41175436'}}, {'type': 'way', 'id': 79401255, 'nodes': [927061537, 2545257990, 927061582, 2545257977, 2545257979, 1389800360, 927061713, 927061537], 'tags': {'addr:city': 'München', 'addr:country': 'DE', 'addr:postcode': '80331', 'addr:street': 'Burgstraße', 'building': 'apartments', 'building:levels': '6', 'description': 'Ehemaliges Falkenhaus, Bau des 16. Jh. seit 1574 in herzöglichem Besitz', 'heritage': '4', 'heritage:operator': 'BLfD', 'image': 'https://de.wikipedia.org/wiki/Datei:Burgstr12_M%C3%BCnchen.jpg', 'ref:BLfD': 'D-1-62-000-1039', 'roof:levels': '0', 'roof:shape': 'gabled'}}, {'type': 'way', 'id': 79401256, 'nodes': [927061480, 927061713, 927061537, 8220452976, 2545258020, 3893571130, 2196730199, 3893571131, 2545258021, 927061598, 2545257976, 256017122, 927061531, 927061709, 927061762, 927061480], 'tags': {'building': 'apartments', 'building:levels': '5', 'roof:levels': '1', 'roof:shape': 'gabled'}}, {'type': 'way', 'id': 79401259, 'nodes': [2498525185, 2498525207, 2545258027, 927061751, 927061702, 2545258026, 2545258028, 1612244782, 3893571140, 931716083, 256017124, 2545258029, 2810123421, 256017117, 3893571142, 927061690, 2545258025, 927061803, 2345352205, 1389800300, 2498525193, 2498525179, 2498525185], 'tags': {'addr:city': 'München', 'addr:postcode': '80331', 'addr:street': 'Dienerstraße', 'building': 'yes', 'building:colour': 'white', 'building:levels': '4', 'description': 'Westlicher Annex des Alten Hofes, sogenannter Estererbau; siehe Alter Hof, Lorenzistock.', 'heritage': '4', 'heritage:operator': 'BLfD', 'image': 'https://de.wikipedia.org/wiki/Datei:Dienerstr12_M%C3%BCnchen.jpg', 'roof:levels': '2', 'roof:shape': 'hipped', 'wheelchair': 'yes'}}, {'type': 'way', 'id': 79401262, 'nodes': [1389918667, 1389918665, 1389800313, 1389800352, 927061692, 927061631, 2515092938, 927061441, 927061548, 1389800310, 1389800364, 1389800346, 1389918667], 'tags': {'building': 'retail', 'building:levels': '4', 'roof:levels': '0', 'roof:shape': 'hipped'}}, {'type': 'way', 'id': 80965510, 'nodes': [944006032, 944005663, 2545258001, 944005621, 944005465, 11933568853, 11933568852, 944005505, 944006050, 944006032], 'tags': {'building': 'apartments', 'building:levels': '4', 'heritage': '4', 'heritage:operator': 'BLfD', 'ref:BLfD': 'D-1-62-000-1034', 'roof:colour': 'darkgray', 'roof:levels': '1', 'roof:shape': 'gabled', 'wikidata': 'Q41175389', 'wikimedia_commons': 'File:Burgstr3 München.jpg'}}, {'type': 'way', 'id': 80965514, 'nodes': [944005766, 944005874, 944005951, 944006001, 2285922427, 944005766], 'tags': {'addr:city': 'München', 'addr:country': 'DE', 'addr:postcode': '80333', 'addr:street': 'Schäfflerstraße', 'building': 'apartments', 'building:colour': '#F3E5AB', 'building:levels': '5', 'nohousenumber': 'yes', 'roof:levels': '0', 'roof:shape': 'gabled'}}, {'type': 'way', 'id': 80965517, 'nodes': [944005825, 944006067, 11900537101, 11900537100, 944005581, 944006010, 944005626, 944005825], 'tags': {'building': 'yes'}}, {'type': 'way', 'id': 80965518, 'nodes': [944005726, 944005748, 944006078, 944005664, 11933568857, 11933568856, 11933568855, 11933568854, 944006032, 944005663, 944005612, 944005726], 'tags': {'addr:city': 'München', 'addr:housenumber': '1', 'addr:street': 'Burgstraße', 'building': 'apartments', 'building:levels': '5', 'roof:shape': 'gabled'}}, {'type': 'way', 'id': 80965521, 'nodes': [944005502, 944005976, 944005566, 944005681, 3652562496, 944006044, 944005669, 2214481297, 944005502], 'tags': {'building': 'office', 'building:levels': '6', 'roof:levels': '2'}}, {'type': 'way', 'id': 80965522, 'nodes': [944005827, 2545258000, 944005621, 944005465, 4602648473, 4602648472, 944005711, 4602648475, 4602648474, 944005827], 'tags': {'addr:city': 'München', 'addr:country': 'DE', 'addr:housenumber': '5', 'addr:postcode': '80331', 'addr:street': 'Burgstraße', 'building': 'yes', 'building:architecture': 'renaissance', 'building:levels': '6', 'heritage': '4', 'heritage:operator': 'BLfD', 'historic': 'yes', 'image': 'https://de.wikipedia.org/wiki/Datei:Muenchen_Burgstrasse_Weinstadl.jpg', 'ref:BLfD': 'D-1-62-000-1035', 'roof:shape': 'gabled', 'start_date': '1550'}}, {'type': 'way', 'id': 80965525, 'nodes': [2285922451, 944005509, 2285922449, 944005485, 944005965, 944005709, 2285922451], 'tags': {'building': 'office', 'building:levels': '5', 'roof:levels': '2', 'roof:shape': 'quadruple_saltbox'}}, {'type': 'way', 'id': 80965543, 'nodes': [944005879, 11900537102, 944005584, 944006064, 1121737088, 1121737090, 944005807, 944005879], 'tags': {'addr:city': 'München', 'addr:country': 'DE', 'addr:housenumber': '5', 'addr:postcode': '80333', 'addr:street': 'Perusastraße', 'architect': 'Heilmann & Littmann', 'architect:wikidata': 'Q1595419', 'building': 'apartments', 'building:levels': '5', 'heritage': '4', 'heritage:operator': 'BLfD', 'image': 'https://de.wikipedia.org/wiki/Datei:Perusastr5_Muenchen-01.jpg', 'ref:BLfD': 'D-1-62-000-5218', 'roof:levels': '1', 'roof:shape': 'gabled', 'start_date': '1910'}}, {'type': 'way', 'id': 80965548, 'nodes': [944005585, 944005884, 944005541, 944005921, 944005965, 944005485, 944005585], 'tags': {'addr:housenumber': '3', 'addr:street': 'Perusastraße', 'building': 'apartments', 'building:levels': '5', 'roof:levels': '0', 'roof:shape': 'gabled'}}, {'type': 'way', 'id': 80965552, 'nodes': [944005566, 944005976, 3652562497, 622503338, 944005930, 6149612643, 944005566], 'tags': {'building': 'office'}}, {'type': 'way', 'id': 80965562, 'nodes': [944005700, 11900537098, 11900537097, 944006075, 944005525, 944005895, 944005990, 944005682, 944005798, 3652562493, 3652562492, 944005482, 11900537114, 11900537113, 11900537112, 11900537111, 944005569, 944006005, 944005728, 944005615, 11900537115, 944005731, 944005940, 944006083, 944005700], 'tags': {'building': 'yes'}}, {'type': 'way', 'id': 80965573, 'nodes': [944006049, 11900449260, 944005677, 10816259012, 944005825, 11900449259, 1121737087, 944006075, 11900537097, 11900537098, 944005700, 10816259013, 11900449261, 944005889, 944006049], 'tags': {'building': 'yes', 'building:colour': '#FFFFE0', 'building:levels': '6'}}, {'type': 'way', 'id': 80965574, 'nodes': [944005929, 944006033, 944005684, 944006061, 2545257991, 944005929], 'tags': {'addr:city': 'München', 'addr:country': 'DE', 'addr:postcode': '80331', 'addr:street': 'Altenhofstraße', 'building': 'yes', 'heritage': '4', 'heritage:operator': 'BLfD', 'image': 'https://de.wikipedia.org/wiki/Datei:Altenhofstr4_M%C3%BCnchen.jpg', 'ref:BLfD': 'D-1-62-000-215'}}, {'type': 'way', 'id': 80965578, 'nodes': [2545258004, 944005628, 2545258008, 944006022, 2545258007, 2545258004], 'tags': {'building': 'retail', 'building:architecture': 'baroque', 'building:levels': '4', 'heritage': '4', 'heritage:operator': 'BLfD', 'ref:BLfD': 'D-1-62-000-1288', 'roof:levels': '1', 'roof:shape': 'gabled', 'wheelchair': 'yes', 'wikimedia_commons': 'File:Dienerstr22 München.jpg'}}, {'type': 'way', 'id': 80965579, 'nodes': [944005744, 944005697, 944006031, 944005918, 944005939, 944005744], 'tags': {'building': 'apartments', 'building:levels': '6', 'name': 'Lesmüllerhaus', 'roof:levels': '1', 'roof:shape': 'gabled'}}, {'type': 'way', 'id': 80965587, 'nodes': [944005874, 944006084, 944005572, 944006063, 12093032370, 944005831, 944005874], 'tags': {'building': 'yes'}}, {'type': 'way', 'id': 80965593, 'nodes': [944005798, 11900537104, 11900537106, 11900537105, 944005652, 944005580, 3652562494, 944005597, 944005521, 944005682, 944005798], 'tags': {'building': 'yes'}}, {'type': 'way', 'id': 80965594, 'nodes': [944005966, 944005684, 944006033, 944006042, 944005977, 944005698, 2545257998, 944005966], 'tags': {'addr:city': 'München', 'addr:country': 'DE', 'addr:housenumber': '19', 'addr:postcode': '80331', 'addr:street': 'Dienerstraße', 'building': 'house', 'building:levels': '5', 'heritage': '4', 'heritage:operator': 'BLfD', 'image': 'https://de.wikipedia.org/wiki/Datei:Dienerstr19_M%C3%BCnchen.jpg', 'ref:BLfD': 'D-1-62-000-1287', 'roof:levels': '1', 'roof:shape': 'gabled', 'start_date': '1898'}}, {'type': 'way', 'id': 80965602, 'nodes': [944005526, 3521912283, 1389918666, 944005827, 4602648474, 4602648475, 944005711, 2545257995, 2545257996, 944006042, 944006033, 944005929, 2545257997, 1389918668, 9344758405, 944005526], 'tags': {'addr:city': 'München', 'addr:country': 'DE', 'addr:housenumber': '7', 'addr:postcode': '80331', 'addr:street': 'Burgstraße', 'building': 'retail', 'building:levels': '5', 'roof:levels': '1', 'roof:shape': 'hipped'}}, {'type': 'way', 'id': 80965603, 'nodes': [944005953, 944005788, 944005646, 944005488, 11900537103, 11900537102, 944005879, 944005953], 'tags': {'addr:city': 'München', 'addr:country': 'DE', 'addr:postcode': '80333', 'addr:street': 'Residenzstraße', 'architect': 'Heilmann & Littmann', 'architect:wikidata': 'Q1595419', 'building': 'retail', 'building:levels': '5', 'description': 'Geschäftshaus in markanter Ecklage, reich gegliederte historisierende Natursteinfassaden, 1910/11 von Heilmann & Littmann; gestalterische Einheit mit Perusastraße 5.', 'heritage': '4', 'heritage:operator': 'BLfD', 'image': 'https://de.wikipedia.org/wiki/Datei:Residenzstr._10_Muenchen-1.jpg', 'name': 'Zechbauerhaus', 'ref:BLfD': 'D-1-62-000-5763', 'roof:levels': '2', 'roof:shape': 'hipped', 'start_date': '1911'}}, {'type': 'way', 'id': 80965613, 'nodes': [944005538, 944005856, 944005707, 944005817, 944005614, 944005538], 'tags': {'building': 'retail', 'building:colour': 'darkgrey', 'building:levels': '5', 'roof:levels': '1', 'roof:shape': 'gabled'}}, {'type': 'way', 'id': 80965619, 'nodes': [2546598954, 2545258034, 1313292360, 2498525270, 944005933, 944006020, 944005814, 944005462, 944005880, 944005790, 944005715, 944005599, 2498525280, 944005471, 2546598954], 'tags': {'addr:city': 'München', 'addr:country': 'DE', 'addr:postcode': '80333', 'addr:street': 'Residenzstraße', 'architect': 'Eugen Drollinger', 'architect:wikidata': 'Q126305', 'building': 'house', 'building:architecture': 'neorococo', 'building:levels': '4', 'heritage': '4', 'heritage:operator': 'BLfD', 'image': 'https://de.wikipedia.org/wiki/Datei:Residenzstr._3_Muenchen-1.jpg', 'ref:BLfD': 'D-1-62-000-5762', 'roof:levels': '1', 'roof:shape': 'hipped', 'start_date': '1905'}}, {'type': 'way', 'id': 80965620, 'nodes': [944006061, 944005684, 944005966, 944005957, 2545257992, 944006061], 'tags': {'building': 'yes', 'description': 'Eckbau, im Kern spätmittelalterlich, Schopfwalmdach und ehemalige Fassadengliederung wohl frühklassizistisch, Ende 18. Jahrhundert; vereinfacht.', 'heritage': '4', 'heritage:operator': 'BLfD', 'image': 'https://de.wikipedia.org/wiki/Datei:Dienerstr18_M%C3%BCnchen.jpg', 'ref:BLfD': 'D-1-62-000-1286'}}, {'type': 'way', 'id': 80965621, 'nodes': [944005646, 944005788, 944005761, 944005842, 944005846, 944005646], 'tags': {'addr:housenumber': '9', 'addr:street': 'Residenzstraße', 'building': 'retail', 'building:levels': '6', 'roof:levels': '1'}}, {'type': 'way', 'id': 80965625, 'nodes': [2699063552, 944005669, 944006044, 1080583021, 1080583105, 1080582857, 1080582943, 2699063552], 'tags': {'addr:housenumber': '1', 'addr:street': 'Perusastraße', 'building': 'apartments', 'building:levels': '5', 'roof:levels': '1', 'roof:shape': 'gabled'}}, {'type': 'way', 'id': 80965632, 'nodes': [2545258009, 1710336108, 944005628, 2545258004, 944006078, 944005748, 944005726, 944005849, 944005536, 944005996, 2545258010, 4944530680, 2545258009], 'tags': {'addr:city': 'München', 'addr:housenumber': '11', 'addr:postcode': '80331', 'addr:street': 'Marienplatz', 'building': 'retail', 'building:levels': '4', 'roof:colour': 'black', 'roof:levels': '1', 'roof:shape': 'quadruple_saltbox', 'wheelchair': 'yes'}}, {'type': 'way', 'id': 80965633, 'nodes': [944005874, 944005831, 944005491, 944005784, 944005951, 944005874], 'tags': {'addr:city': 'München', 'addr:country': 'DE', 'addr:housenumber': '3', 'addr:postcode': '80333', 'addr:street': 'Schäfflerstraße', 'building': 'yes', 'building:levels': '5', 'roof:shape': 'gabled'}}, {'type': 'way', 'id': 80965636, 'nodes': [944005801, 944005749, 2285922427, 944005766, 944005480, 944006084, 944005572, 944005617, 944005897, 944005801], 'tags': {'building': 'yes'}}, {'type': 'way', 'id': 80965639, 'nodes': [944005728, 944006005, 11900537110, 11900537109, 11900537108, 11900537107, 11900537106, 11900537105, 944005842, 944005761, 944005728], 'tags': {'addr:housenumber': '7', 'addr:street': 'Residenzstraße', 'building': 'retail', 'building:levels': '5', 'roof:levels': '2', 'roof:shape': 'gabled'}}, {'type': 'way', 'id': 80965641, 'nodes': [944005807, 1121737090, 1121737088, 944006064, 944005581, 944006010, 944005626, 944005697, 944005744, 3652562495, 944005457, 944005807], 'tags': {'building': 'apartments', 'building:levels': '5', 'roof:levels': '1', 'roof:shape': 'gabled'}}, {'type': 'way', 'id': 80965644, 'nodes': [944005918, 944006031, 944005677, 11900449260, 944006049, 11900449258, 944005918], 'tags': {'building': 'office', 'building:levels': '5', 'roof:levels': '1'}}, {'type': 'way', 'id': 80965646, 'nodes': [944005525, 11900537099, 944005713, 944005597, 3652562494, 944006067, 944005825, 11900449259, 1121737087, 944006075, 944005525], 'tags': {'building': 'yes'}}, {'type': 'way', 'id': 80965666, 'nodes': [944005749, 2285922427, 944006001, 944005630, 2285922426, 944005749], 'tags': {'building': 'apartments', 'building:colour': 'cream', 'building:levels': '6', 'roof:levels': '0', 'roof:shape': 'gabled'}}, {'type': 'way', 'id': 80965670, 'nodes': [944005479, 944005986, 944005894, 944005707, 944005817, 944005479], 'tags': {'building': 'yes'}}, {'type': 'way', 'id': 80965676, 'nodes': [944005977, 2545257994, 2545257993, 944005687, 944006045, 2545257999, 944005698, 944005977], 'tags': {'addr:city': 'München', 'addr:country': 'DE', 'addr:housenumber': '20', 'addr:postcode': '80331', 'addr:street': 'Dienerstraße', 'building': 'apartments', 'building:levels': '5', 'roof:shape': 'gabled'}}, {'type': 'way', 'id': 80965677, 'nodes': [944005921, 944005463, 944006060, 944005650, 1080583117, 944005541, 944005921], 'tags': {'building': 'yes'}}, {'type': 'way', 'id': 80965682, 'nodes': [944005846, 944006036, 944005488, 11900537103, 11900537102, 944005584, 944005580, 944005652, 11900537105, 944005842, 944005846], 'tags': {'building': 'yes'}}, {'type': 'way', 'id': 80965683, 'nodes': [2545258007, 944006022, 2545258002, 944006045, 944005687, 2545258007], 'tags': {'addr:city': 'München', 'addr:housenumber': '21', 'addr:street': 'Dienerstraße', 'building': 'apartments', 'building:levels': '5', 'roof:levels': '1', 'roof:shape': 'gabled', 'wheelchair': 'yes'}}, {'type': 'way', 'id': 85765737, 'nodes': [995536778, 995536765, 11862335233, 995536853, 703308518, 995536707, 995536674, 3961270305, 995536759, 995536778], 'tags': {'building': 'retail', 'building:levels': '3', 'roof:levels': '1', 'roof:shape': 'flat'}}, {'type': 'way', 'id': 85765743, 'nodes': [995536707, 995536678, 995536751, 995536841, 3961270303, 3961270304, 3961270302, 3961270301, 3961270300, 3961270299, 995536858, 995536674, 995536707], 'tags': {'addr:city': 'München', 'addr:country': 'DE', 'addr:postcode': '80333', 'addr:street': 'Weinstraße', 'building': 'apartments', 'heritage': '4', 'heritage:operator': 'BLfD', 'ref:BLfD': 'D-1-62-000-7861;D-1-62-000-7361'}}, {'type': 'way', 'id': 85765761, 'nodes': [995536678, 3652562487, 995536816, 1636728090, 995536757, 11862335239, 995536775, 11862335242, 995536712, 995536751, 995536678], 'tags': {'building': 'apartments', 'building:levels': '6', 'roof:shape': 'gabled'}}, {'type': 'way', 'id': 85990410, 'nodes': [998068520, 998067872, 998067929, 998069264, 998068520], 'tags': {'addr:city': 'München', 'addr:country': 'DE', 'addr:housenumber': '25', 'addr:postcode': '80331', 'addr:street': 'Marienplatz', 'building': 'retail', 'building:levels': '6', 'roof:colour': '#28282d', 'roof:levels': '1', 'roof:shape': 'gabled'}}, {'type': 'way', 'id': 85990413, 'nodes': [998067549, 998069241, 998067872, 998068520, 998067549], 'tags': {'addr:city': 'München', 'addr:country': 'DE', 'addr:housenumber': '26', 'addr:postcode': '80331', 'addr:street': 'Marienplatz', 'building': 'retail', 'building:levels': '6', 'roof:colour': '#28282d', 'roof:levels': '1', 'roof:shape': 'gabled'}}, {'type': 'way', 'id': 85990492, 'nodes': [998067917, 998069241, 998067549, 2282298072, 9529596596, 2282298071, 998069210, 998068915, 2282298076, 998067917], 'tags': {'addr:city': 'München', 'addr:country': 'DE', 'addr:housenumber': '28', 'addr:postcode': '80331', 'addr:street': 'Marienplatz', 'building': 'office', 'building:levels': '6', 'roof:colour': 'gray', 'roof:shape': 'flat'}}, {'type': 'way', 'id': 91268662, 'nodes': [1059560900, 1059560802, 1059560712, 1059560793, 1059560754, 1059560705, 1059560551, 1059560495, 1059560725, 1059560622, 1059560900], 'tags': {'addr:city': 'München', 'addr:country': 'DE', 'addr:housenumber': '8', 'addr:postcode': '80333', 'addr:street': 'Theatinerstraße', 'architect': 'Oswald Bieber, Georg Meister', 'architect:wikidata': 'Q2036350', 'building': 'retail', 'heritage': '4', 'heritage:operator': 'BLfD', 'image': 'https://de.wikipedia.org/wiki/Datei:Theatinerstr8_Muenchen-01.JPG', 'ref:BLfD': 'D-1-62-000-6845', 'roof:shape': 'flat', 'start_date': '1911'}}, {'type': 'way', 'id': 91268672, 'nodes': [1059560831, 1059560582, 1059560508, 1059560846, 1059560357, 1059560747, 1059560675, 1059560439, 3890230577, 1059560348, 1059560124, 1059560562, 1059560885, 1059560831], 'tags': {'building': 'retail', 'roof:shape': 'flat'}}, {'type': 'way', 'id': 91268710, 'nodes': [1059560618, 1059560562, 1059560124, 2699063556, 1059560343, 1059560762, 1059560116, 2699063554, 1059560675, 1059560747, 1059560617, 1059560731, 6149588461, 6149588460, 6149588459, 6149588458, 1059560435, 1059560558, 1059560862, 1059560297, 1059560352, 1059560618], 'tags': {'building': 'retail', 'building:levels': '5', 'roof:shape': 'gabled'}}, {'type': 'way', 'id': 91268712, 'nodes': [1059560405, 1059560603, 1059560327, 1059560478, 1059560780, 1059560160, 11030763823, 1059560944, 1059560650, 3689034593, 1059560233, 1059560412, 1059560725, 1059560495, 1059560551, 3936361490, 1059560431, 1059560518, 1059560253, 1059560182, 1059560113, 1059560604, 1059560405], 'tags': {'addr:city': 'München', 'addr:housenumber': '11', 'addr:postcode': '80333', 'addr:street': 'Theatinerstraße', 'building': 'commercial', 'building:levels': '5', 'name': 'Regus - München Fünf Höfe', 'roof:shape': 'gabled', 'wheelchair': 'yes'}}, {'type': 'way', 'id': 91268736, 'nodes': [1059560248, 1059560435, 1059560558, 10180538988, 1059560119, 1121737114, 1121737092, 1121737112, 3689034551, 1121737116, 1059560671, 1059560622, 1059560900, 1059560634, 1059560274, 1059560287, 1059560248], 'tags': {'addr:city': 'München', 'addr:country': 'DE', 'addr:postcode': '80333', 'addr:street': 'Theatinerstraße', 'architect': 'Oswald Bieber, Georg Meister', 'architect:wikidata': 'Q2036350', 'building': 'retail', 'building:colour': '#DDDDDD', 'building:levels': '5', 'heritage': '4', 'heritage:operator': 'BLfD', 'name': 'Arco-Palais', 'ref:BLfD': 'D-1-62-000-6844', 'roof:levels': '1', 'roof:shape': 'gabled', 'start_date': '1910', 'wikidata': 'Q637539', 'wikimedia_commons': 'Category:Arco-Palais', 'wikipedia': 'de:Arco-Palais'}}, {'type': 'way', 'id': 91268752, 'nodes': [1059560617, 1059560224, 1059560793, 1059560712, 1059560488, 1059560900, 1059560634, 1059560581, 1059560287, 1059560248, 1059560830, 1059560731, 1059560617], 'tags': {'building': 'retail', 'roof:shape': 'gabled'}}, {'type': 'way', 'id': 93216431, 'nodes': [944005650, 1080582966, 1080582517, 1080583117, 944005650], 'tags': {'building': 'yes'}}, {'type': 'way', 'id': 93216443, 'nodes': [1080582827, 2830215556, 539181088, 944005799, 944006060, 944005650, 6149612644, 1080583040, 1080582648, 6149612650, 1080582508, 3720343410, 1080582827], 'tags': {'addr:city': 'München', 'addr:country': 'DE', 'addr:postcode': '80333', 'addr:street': 'Residenzstraße', 'building': 'retail', 'building:levels': '4', 'heritage': '4', 'heritage:operator': 'BLfD', 'image': 'https://de.wikipedia.org/wiki/Datei:Residenzstr13_Muenchen-01.JPG', 'layer': '1', 'ref:BLfD': 'D-1-62-000-5764', 'roof:levels': '1', 'roof:shape': 'gabled', 'wikidata': 'Q28151925', 'wikipedia': 'de:Residenzstraße 13'}}, {'type': 'way', 'id': 93216461, 'nodes': [1080582517, 1080582872, 1080582857, 1080582943, 944005884, 944005541, 1080583117, 1080582517], 'tags': {'building': 'yes'}}, {'type': 'way', 'id': 93216490, 'nodes': [1080582966, 6149612649, 1080582499, 6149612648, 1080582910, 6149612641, 1080582782, 6149612651, 1080583055, 1080583040, 6149612644, 944005650, 1080582966], 'tags': {'building': 'yes'}}, {'type': 'way', 'id': 96815240, 'nodes': [2285922436, 2498525309, 1121737055, 2285922433, 2285922428, 11862325059, 621347365, 2498525307, 2285922432, 2285922435, 2285922436], 'tags': {'building': 'retail', 'building:colour': 'lightgrey', 'building:levels': '6', 'roof:levels': '0', 'roof:shape': 'hipped'}}, {'type': 'way', 'id': 125294895, 'nodes': [927061582, 2545257981, 8220452981, 1134251868, 8220452978, 1389800348, 2545257977, 927061582], 'tags': {'addr:city': 'München', 'addr:country': 'DE', 'addr:postcode': '80331', 'addr:street': 'Burgstraße', 'building': 'retail', 'building:levels': '4', 'heritage': '4', 'heritage:operator': 'BLfD', 'image': 'https://de.wikipedia.org/wiki/Datei:Burgstr._10_Falkenhaus_Muenchen-1.jpg', 'ref:BLfD': 'D-1-62-000-1038', 'roof:levels': '1', 'roof:shape': 'gabled'}}, {'type': 'way', 'id': 125294896, 'nodes': [2545257981, 8220452977, 2515092935, 2545257982, 927061800, 8220452983, 1389800348, 8220452978, 8220452982, 8220452979, 8220452980, 8220452984, 8220452981, 2545257981], 'tags': {'addr:city': 'München', 'addr:country': 'DE', 'addr:housenumber': '8', 'addr:postcode': '80331', 'addr:street': 'Burgstraße', 'building': 'house', 'building:levels': '4', 'description': 'Wohn- und Sterbehaus von François de Cuvilliés d. Ä.; im Kern spätgotisch, um 1615 Aufstockung und Dachstuhl, Fassadengestaltung barock, wohl 1. Hälfte 18. Jahrhundert', 'heritage': '4', 'heritage:operator': 'BLfD', 'historic': 'yes', 'image': 'https://de.wikipedia.org/wiki/Datei:Burgstr._8_Muenchen-1.jpg', 'name': 'Ludwig Reiter in München', 'ref:BLfD': 'D-1-62-000-1037', 'roof:levels': '3', 'roof:shape': 'gabled', 'shop': 'shoes'}}, {'type': 'way', 'id': 144135890, 'nodes': [2876680569, 1577200155, 1577200120, 2876680568, 2876680569], 'tags': {'addr:city': 'München', 'addr:country': 'DE', 'addr:housenumber': '8', 'addr:postcode': '80333', 'addr:street': 'Weinstraße', 'building': 'retail', 'building:colour': '#EEEEEE', 'building:levels': '5', 'roof:shape': 'gabled'}}, {'type': 'way', 'id': 144135891, 'nodes': [1577200090, 1577200092, 12095855823, 1577200147, 3447924924, 1577200130, 1577200124, 1577200118, 1577200126, 12095855822, 1577200110, 1577200082, 12095855825, 12095855824, 1577200090], 'tags': {'building': 'yes', 'building:levels': '5', 'roof:levels': '1'}}, {'type': 'way', 'id': 219431658, 'nodes': [2285922425, 944005538, 944005856, 944005897, 944005801, 2285922425], 'tags': {'architect': 'Max Neumann', 'building': 'retail', 'building:colour': '#FFF8C6', 'building:levels': '5', 'heritage': '4', 'heritage:operator': 'BLfD', 'image': 'https://de.wikipedia.org/wiki/Datei:M%C3%BCnchen_Weinstra%C3%9Fe_11_BW_2017-03-13_17-52-04.jpg', 'ref:BLfD': 'D-1-62-000-7362', 'roof:levels': '0', 'roof:shape': 'gabled', 'start_date': '1914'}}, {'type': 'way', 'id': 219431660, 'nodes': [944005709, 944005463, 944006060, 944005799, 2830215514, 2285922451, 944005709], 'tags': {'building': 'retail', 'building:levels': '4', 'roof:levels': '2', 'roof:shape': 'gabled'}}, {'type': 'way', 'id': 219431666, 'nodes': [2498525328, 1121737061, 1121737068, 5157560095, 2285922443, 1059560256, 11862227799, 621347369, 2498525330, 2285922446, 5157560097, 2498525328], 'tags': {'building': 'retail', 'building:levels': '5', 'roof:shape': 'flat'}}, {'type': 'way', 'id': 228719284, 'nodes': [2373874247, 2545319972, 410874364, 1121737041, 410874368, 1389925538, 2373874250, 2545257985, 2545257986, 2373874256, 1389925528, 1121737120, 2373874254, 2373874262, 2515092932, 2545257982, 927061800, 410874374, 2373874247], 'tags': {'architect': 'Karl Stöhr', 'architect:wikidata': 'Q21831218', 'building': 'apartments', 'building:architecture': 'neo-baroque', 'building:levels': '5', 'description': 'neubarock, 1909/10 von Karl Stöhr (mit Rückgebäude Sparkassenstraße 11, siehe dort); Gedenktafel für Wiguläus Freiherr von Kreittmayr, der 1790 im Vorgängerhaus starb.', 'heritage': '4', 'heritage:operator': 'BLfD', 'image': 'https://de.wikipedia.org/wiki/Datei:Burgstr._6_Muenchen-1.jpg', 'ref:BLfD': 'D-1-62-000-1036', 'start_date': '1910'}}, {'type': 'way', 'id': 228719287, 'nodes': [410874374, 410874375, 2545257988, 410874363, 2373874247, 410874374], 'tags': {'building': 'apartments', 'building:levels': '4', 'roof:shape': 'hipped'}}, {'type': 'way', 'id': 242367320, 'nodes': [2498525100, 2545258023, 927061539, 927061631, 927061692, 2498525100], 'tags': {'addr:city': 'München', 'addr:country': 'DE', 'addr:housenumber': '17', 'addr:postcode': '80331', 'addr:street': 'Dienerstraße', 'building': 'house', 'building:levels': '4', 'heritage': '4', 'heritage:operator': 'BLfD', 'ref:BLfD': 'D-1-62-000-1285', 'roof:levels': '1', 'roof:shape': 'gabled', 'wikidata': 'Q41175439'}}, {'type': 'way', 'id': 242367321, 'nodes': [1389800300, 1389800344, 1389800313, 1389800352, 927061635, 2810123410, 2810123409, 2498525185, 2498525179, 2498525193, 1389800300], 'tags': {'architect': 'Eugen Hönig, Karl Söldner', 'architect:wikidata': 'Q101000', 'building': 'yes', 'building:colour': '#FFFF90', 'building:levels': '5', 'contact:email': 'info@dallmayr.de', 'contact:phone': '+49 89 2135110', 'contact:website': 'https://www.dallmayr.com/de/delikatessenhaus/', 'description': '1912 von Eugen Hönig und Karl Söldner, langgestreckte Front mit aufwendiger Gliederung in der Art eines frühklassizistischen Vorgängerbaus, mit Bauplastik von Julius Seidler; 1945–1948 wiederhergestellt.', 'heritage': '4', 'heritage:operator': 'BLfD', 'name': 'Dallmayr', 'opening_hours': 'Mo-Sa 09:30-19:00', 'operator': 'Alois Dallmayr KG', 'payment:credit_cards': 'yes', 'payment:debit_cards': 'yes', 'ref:BLfD': 'D-1-62-000-1283', 'roof:levels': '2', 'roof:shape': 'gabled', 'shop': 'deli', 'start_date': '1912', 'wheelchair': 'yes'}}, {'type': 'way', 'id': 242367322, 'nodes': [2498525152, 2498525177, 2498525170, 2498525151, 2498525152], 'tags': {'building': 'retail', 'building:levels': '1', 'roof:levels': '0', 'roof:shape': 'hipped'}}, {'type': 'way', 'id': 242367324, 'nodes': [2498525303, 2810072052, 2810072058, 2285922428, 2285922433, 2498525308, 2498525311, 2498525314, 2498525303], 'tags': {'building': 'retail', 'building:colour': '#A05030', 'building:levels': '5', 'building:material': 'brick', 'roof:colour': '#C07070', 'roof:shape': 'flat'}}, {'type': 'way', 'id': 242367325, 'nodes': [2498525325, 2498525311, 2498525308, 2498525310, 2498525320, 2498525323, 2498525325], 'tags': {'building': 'retail', 'building:levels': '1', 'roof:shape': 'flat'}}, {'type': 'way', 'id': 247649054, 'nodes': [944005687, 944005465, 4602648473, 4602648472, 944005711, 2545257995, 2545257996, 944006042, 944005977, 2545257994, 2545257993, 944005687], 'tags': {'building': 'yes'}}, {'type': 'way', 'id': 247649055, 'nodes': [944005687, 944005465, 11933568853, 11933568852, 944005505, 944006050, 944006032, 11933568854, 11933568855, 11933568856, 11933568857, 944005664, 944006078, 2545258004, 2545258007, 944005687], 'tags': {'building': 'garage', 'building:levels': '4', 'roof:shape': 'flat'}}, {'type': 'way', 'id': 264235611, 'nodes': [1080582943, 944005884, 944005585, 2699063552, 1080582943], 'tags': {'addr:housenumber': '2', 'addr:street': 'Perusastraße', 'building': 'apartments', 'building:levels': '5', 'roof:levels': '0'}}, {'type': 'way', 'id': 270862279, 'nodes': [2758329745, 2758329753, 3744012267, 2758329771, 2758329758, 4602648464, 2758329745], 'tags': {'building': 'elevator', 'building:levels': '1'}}, {'type': 'way', 'id': 283850480, 'nodes': [944005801, 944005749, 2285922426, 11927013832, 2285922425, 944005801], 'tags': {'building': 'retail', 'building:colour': '#D0FFD0', 'building:levels': '5', 'roof:levels': '1', 'roof:shape': 'gabled'}}, {'type': 'way', 'id': 283850486, 'nodes': [1121737063, 2285922436, 2285922435, 2285922432, 2498525316, 1059560530, 2285922444, 1121737063], 'tags': {'building': 'apartments', 'building:colour': 'grey', 'building:levels': '6', 'roof:shape': 'gabled'}}, {'type': 'way', 'id': 355286066, 'nodes': [3608964559, 3608964557, 3608964556, 3608964558, 3608964559], 'tags': {'building': 'yes', 'note': 'emergency exit'}}, {'type': 'way', 'id': 422234751, 'nodes': [1577200085, 12095855826, 12095855827, 12095855828, 1577200067, 1577200082, 12095855825, 12095855824, 1577200090, 1577200092, 1577200085], 'tags': {'building': 'retail', 'building:levels': '5', 'roof:levels': '1', 'roof:shape': 'flat'}}, {'type': 'way', 'id': 504896249, 'nodes': [12095899164, 12095899163, 12095899159, 12095899160, 12095899161, 12095899158, 4949909526, 11900537093, 12095899164], 'tags': {'addr:city': 'München', 'addr:country': 'DE', 'addr:housenumber': '7', 'addr:postcode': '80331', 'addr:street': 'Landschaftstraße', 'building': 'yes', 'building:levels': '2', 'contact:website': 'https://www.2.stammstrecke-muenchen.de/', 'description': 'Projektinformationszentrum', 'elevator': 'yes', 'information': 'visitor_centre', 'name': 'Zweite Stammstrecke München', 'note': 'Projektausstellung befindet sich auf der mittleren Ebene; Aussichtsplattform auf dem Dach, nicht regelmäßig öffentlich zugänglich', 'opening_hours': 'Th-Su 14:00-20:00', 'roof:shape': 'flat', 'source': 'estimate;extrapolate;survey', 'start_date': '2017-04-05', 'tourism': 'information', 'wheelchair': 'yes'}}, {'type': 'way', 'id': 858537733, 'nodes': [998068677, 3448546330, 8003510689, 8003563848, 8003510690, 8003510691, 998067929, 998069264, 8003510692, 3448546331, 998068425, 998068677], 'tags': {'addr:city': 'München', 'addr:housenumber': '22', 'addr:postcode': '80331', 'addr:street': 'Marienplatz', 'building': 'apartments', 'building:levels': '7', 'roof:colour': '#28282d', 'roof:levels': '0', 'roof:shape': 'hipped'}}, {'type': 'relation', 'id': 147094, 'members': [{'type': 'way', 'ref': 35031259, 'role': 'inner'}, {'type': 'way', 'ref': 35031257, 'role': 'outer'}], 'tags': {'building': 'retail', 'building:levels': '4', 'roof:levels': '2', 'roof:shape': 'gabled', 'type': 'multipolygon'}}, {'type': 'relation', 'id': 147095, 'members': [{'type': 'way', 'ref': 23632633, 'role': 'outer'}, {'type': 'way', 'ref': 78592020, 'role': 'inner'}, {'type': 'way', 'ref': 35031261, 'role': 'inner'}, {'type': 'way', 'ref': 35031260, 'role': 'inner'}, {'type': 'way', 'ref': 35031262, 'role': 'inner'}, {'type': 'way', 'ref': 219431688, 'role': 'inner'}, {'type': 'way', 'ref': 219431690, 'role': 'inner'}], 'tags': {'addr:city': 'München', 'addr:country': 'DE', 'addr:housenumber': '8', 'addr:postcode': '80331', 'addr:street': 'Marienplatz', 'amenity': 'townhall', 'architect': 'Georg von Hauberrisser', 'architect:wikidata': 'Q45399', 'building': 'government', 'building:architecture': 'neo-gothic', 'email': 'rathaus@muenchen.de', 'fax': '+49 89 233-26458', 'height': '30', 'height:note': 'estimated', 'heritage': '4', 'heritage:operator': 'BLfD', 'name': 'Neues Rathaus', 'name:de': 'Neues Rathaus', 'name:en': 'New Town Hall', 'name:es': 'Nuevo Ayuntamiento', 'name:he': 'בית העירייה החדש של מינכן', 'name:ru': 'Новая Ратуша-Глокеншпиль', 'name:zh': '新市政廳', 'opening_hours': 'Oct-Apr Mo-Fr 10:00-17:00; May-Sep 10:00-19:00', 'operator': 'Stadtverwaltung', 'phone': '+49 89 233-26458', 'ref:BLfD': 'D-1-62-000-4288', 'roof:height': '8', 'source:height': 'rough estimate from photograph taken from across the square', 'start_date': '1867 / 1909', 'tourism': 'attraction', 'type': 'multipolygon', 'wheelchair': 'yes', 'wikidata': 'Q152979', 'wikimedia_commons': 'Category:Neues Rathaus (München)', 'wikipedia': 'de:Neues Rathaus (München)'}}, {'type': 'relation', 'id': 2379713, 'members': [{'type': 'way', 'ref': 30608708, 'role': 'outer'}, {'type': 'way', 'ref': 178283541, 'role': 'inner'}], 'tags': {'building': 'office', 'building:levels': '4', 'roof:shape': 'gabled', 'type': 'multipolygon'}}, {'type': 'relation', 'id': 3872201, 'members': [{'type': 'way', 'ref': 4054817, 'role': ''}, {'type': 'way', 'ref': 291585572, 'role': ''}, {'type': 'way', 'ref': 291585569, 'role': ''}, {'type': 'way', 'ref': 291585580, 'role': ''}, {'type': 'way', 'ref': 291585582, 'role': ''}, {'type': 'way', 'ref': 291585585, 'role': ''}, {'type': 'way', 'ref': 291585586, 'role': ''}, {'type': 'way', 'ref': 291585573, 'role': ''}, {'type': 'way', 'ref': 291585587, 'role': ''}, {'type': 'way', 'ref': 291585579, 'role': ''}, {'type': 'way', 'ref': 291585576, 'role': ''}], 'tags': {'building': 'government', 'fixme': 'I am not sure about the type of this relation. There are different members, roof edges, etc. Unusual combination of elements...', 'name': 'Altes Rathaus', 'type': 'site'}}, {'type': 'relation', 'id': 6618880, 'members': [{'type': 'way', 'ref': 444984116, 'role': 'inner'}, {'type': 'way', 'ref': 80965534, 'role': 'outer'}], 'tags': {'addr:city': 'München', 'addr:postcode': '80539', 'addr:street': 'Maximilianstraße', 'architect': 'Leo von Klenze', 'architect:wikidata': 'Q60163', 'building': 'house', 'building:architecture': 'classicism', 'building:colour': 'lightyellow', 'building:levels': '5', 'heritage': '4', 'heritage:operator': 'BLfD', 'name': 'Palais Toerring-Jettenbach', 'old_name': 'Postfiliale München 1', 'ref:BLfD': 'D-1-62-000-5761', 'roof:levels': '1', 'roof:shape': 'hipped', 'start_date': '1838', 'type': 'multipolygon', 'wikidata': 'Q2047197', 'wikipedia': 'de:Palais Toerring-Jettenbach'}}, {'type': 'relation', 'id': 11872335, 'members': [{'type': 'way', 'ref': 4054817, 'role': 'outline'}], 'tags': {'building': 'government', 'type': 'building'}}, {'type': 'node', 'id': 21486942, 'lat': 48.1368048, 'lon': 11.5767578}, {'type': 'node', 'id': 21486943, 'lat': 48.1370186, 'lon': 11.5770547}, {'type': 'node', 'id': 21486944, 'lat': 48.1368292, 'lon': 11.577361}, {'type': 'node', 'id': 21486945, 'lat': 48.1366154, 'lon': 11.5770642}, {'type': 'node', 'id': 256017117, 'lat': 48.1385267, 'lon': 11.5779769}, {'type': 'node', 'id': 256017119, 'lat': 48.1381181, 'lon': 11.5777953}, {'type': 'node', 'id': 256017120, 'lat': 48.1380625, 'lon': 11.5780104}, {'type': 'node', 'id': 256017122, 'lat': 48.1380071, 'lon': 11.5783378}, {'type': 'node', 'id': 256017124, 'lat': 48.1384728, 'lon': 11.5783246}, {'type': 'node', 'id': 256017126, 'lat': 48.1384853, 'lon': 11.5779585}, {'type': 'node', 'id': 256017931, 'lat': 48.1383103, 'lon': 11.5754195}, {'type': 'node', 'id': 256017932, 'lat': 48.1375572, 'lon': 11.5751075}, {'type': 'node', 'id': 256017933, 'lat': 48.1372674, 'lon': 11.5763704}, {'type': 'node', 'id': 256017934, 'lat': 48.1379937, 'lon': 11.5768539}, {'type': 'node', 'id': 261030698, 'lat': 48.1379599, 'lon': 11.5779472}, {'type': 'node', 'id': 282341977, 'lat': 48.136651, 'lon': 11.5771137}, {'type': 'node', 'id': 338458436, 'lat': 48.1366316, 'lon': 11.5773339}, {'type': 'node', 'id': 338458442, 'lat': 48.1373394, 'lon': 11.5783038}, {'type': 'node', 'id': 338458445, 'lat': 48.1371729, 'lon': 11.5786307}, {'type': 'node', 'id': 338458451, 'lat': 48.1365213, 'lon': 11.5782435}, {'type': 'node', 'id': 338458455, 'lat': 48.1363369, 'lon': 11.5781816}, {'type': 'node', 'id': 338458457, 'lat': 48.1365937, 'lon': 11.5773896}, {'type': 'node', 'id': 338458567, 'lat': 48.1370607, 'lon': 11.5784982}, {'type': 'node', 'id': 338458568, 'lat': 48.1363827, 'lon': 11.5779791}, {'type': 'node', 'id': 410874361, 'lat': 48.1372928, 'lon': 11.5774351}, {'type': 'node', 'id': 410874363, 'lat': 48.1374378, 'lon': 11.5782177}, {'type': 'node', 'id': 410874364, 'lat': 48.1372414, 'lon': 11.5779857}, {'type': 'node', 'id': 410874365, 'lat': 48.1372911, 'lon': 11.5775978}, {'type': 'node', 'id': 410874368, 'lat': 48.1373797, 'lon': 11.5779249}, {'type': 'node', 'id': 410874369, 'lat': 48.1372277, 'lon': 11.5777189}, {'type': 'node', 'id': 410874370, 'lat': 48.1371919, 'lon': 11.5774759}, {'type': 'node', 'id': 410874371, 'lat': 48.1371228, 'lon': 11.5776042}, {'type': 'node', 'id': 410874372, 'lat': 48.1370015, 'lon': 11.5774267}, {'type': 'node', 'id': 410874373, 'lat': 48.1370728, 'lon': 11.5773196}, {'type': 'node', 'id': 410874374, 'lat': 48.1374382, 'lon': 11.5779276}, {'type': 'node', 'id': 410874375, 'lat': 48.1374994, 'lon': 11.5781021}, {'type': 'node', 'id': 410874376, 'lat': 48.1377906, 'lon': 11.5764775}, {'type': 'node', 'id': 410874377, 'lat': 48.1376568, 'lon': 11.5764478}, {'type': 'node', 'id': 410874378, 'lat': 48.137758, 'lon': 11.5760054}, {'type': 'node', 'id': 410874379, 'lat': 48.1378752, 'lon': 11.5761037}, {'type': 'node', 'id': 410874380, 'lat': 48.138018, 'lon': 11.5762764}, {'type': 'node', 'id': 410874381, 'lat': 48.1379403, 'lon': 11.5762437}, {'type': 'node', 'id': 410874382, 'lat': 48.1379523, 'lon': 11.5765672}, {'type': 'node', 'id': 410874383, 'lat': 48.1378679, 'lon': 11.5765872}, {'type': 'node', 'id': 410874384, 'lat': 48.1376517, 'lon': 11.5753937}, {'type': 'node', 'id': 410874385, 'lat': 48.1377854, 'lon': 11.575423}, {'type': 'node', 'id': 410874386, 'lat': 48.137778, 'lon': 11.5754723}, {'type': 'node', 'id': 410874387, 'lat': 48.1379706, 'lon': 11.5754862}, {'type': 'node', 'id': 410874388, 'lat': 48.137887, 'lon': 11.5758986}, {'type': 'node', 'id': 410874389, 'lat': 48.1376008, 'lon': 11.5757425}, {'type': 'node', 'id': 410874390, 'lat': 48.1378667, 'lon': 11.5755047}, {'type': 'node', 'id': 410874391, 'lat': 48.1378748, 'lon': 11.5754561}, {'type': 'node', 'id': 618914977, 'lat': 48.1368361, 'lon': 11.5768013}, {'type': 'node', 'id': 621347365, 'lat': 48.1390091, 'lon': 11.5754803}, {'type': 'node', 'id': 621347369, 'lat': 48.1394442, 'lon': 11.5751876}, {'type': 'node', 'id': 663977686, 'lat': 48.1365343, 'lon': 11.5781929}, {'type': 'node', 'id': 703294139, 'lat': 48.1378545, 'lon': 11.5752195}, {'type': 'node', 'id': 703308518, 'lat': 48.1380187, 'lon': 11.5750627}, {'type': 'node', 'id': 922090766, 'lat': 48.1374487, 'lon': 11.5763121}, {'type': 'node', 'id': 922090767, 'lat': 48.1375019, 'lon': 11.5763387}, {'type': 'node', 'id': 922090768, 'lat': 48.1374814, 'lon': 11.576173}, {'type': 'node', 'id': 922090770, 'lat': 48.137533, 'lon': 11.5761988}, {'type': 'node', 'id': 927061441, 'lat': 48.1378334, 'lon': 11.5777715}, {'type': 'node', 'id': 927061480, 'lat': 48.137915, 'lon': 11.578113}, {'type': 'node', 'id': 927061531, 'lat': 48.1379423, 'lon': 11.5785805}, {'type': 'node', 'id': 927061537, 'lat': 48.1378366, 'lon': 11.5779126}, {'type': 'node', 'id': 927061539, 'lat': 48.1379971, 'lon': 11.5770293}, {'type': 'node', 'id': 927061548, 'lat': 48.1379164, 'lon': 11.5778286}, {'type': 'node', 'id': 927061582, 'lat': 48.1377564, 'lon': 11.5778513}, {'type': 'node', 'id': 927061598, 'lat': 48.138082, 'lon': 11.5780567}, {'type': 'node', 'id': 927061631, 'lat': 48.1379189, 'lon': 11.5773697}, {'type': 'node', 'id': 927061635, 'lat': 48.1381337, 'lon': 11.5770942}, {'type': 'node', 'id': 927061658, 'lat': 48.1380599, 'lon': 11.5775402}, {'type': 'node', 'id': 927061690, 'lat': 48.1385338, 'lon': 11.5777635}, {'type': 'node', 'id': 927061692, 'lat': 48.1379774, 'lon': 11.5773998}, {'type': 'node', 'id': 927061702, 'lat': 48.1386717, 'lon': 11.5782439}, {'type': 'node', 'id': 927061709, 'lat': 48.1378233, 'lon': 11.5784902}, {'type': 'node', 'id': 927061713, 'lat': 48.1377998, 'lon': 11.5780495}, {'type': 'node', 'id': 927061751, 'lat': 48.1388042, 'lon': 11.5773678}, {'type': 'node', 'id': 927061762, 'lat': 48.1378615, 'lon': 11.5783284}, {'type': 'node', 'id': 927061800, 'lat': 48.1374468, 'lon': 11.5779347}, {'type': 'node', 'id': 927061803, 'lat': 48.1385664, 'lon': 11.5775356}, {'type': 'node', 'id': 931716083, 'lat': 48.1384585, 'lon': 11.5783722}, {'type': 'node', 'id': 944005460, 'lat': 48.1391511, 'lon': 11.5783296}, {'type': 'node', 'id': 944005462, 'lat': 48.1390071, 'lon': 11.5775891}, {'type': 'node', 'id': 944005465, 'lat': 48.1375824, 'lon': 11.577221}, {'type': 'node', 'id': 944005471, 'lat': 48.1389848, 'lon': 11.5778673}, {'type': 'node', 'id': 944005479, 'lat': 48.1386172, 'lon': 11.5747764}, {'type': 'node', 'id': 944005480, 'lat': 48.1388145, 'lon': 11.5752653}, {'type': 'node', 'id': 944005482, 'lat': 48.1392025, 'lon': 11.5768263}, {'type': 'node', 'id': 944005488, 'lat': 48.1394452, 'lon': 11.5769303}, {'type': 'node', 'id': 944005491, 'lat': 48.1388893, 'lon': 11.5748828}, {'type': 'node', 'id': 944005505, 'lat': 48.137497, 'lon': 11.5770859}, {'type': 'node', 'id': 944005521, 'lat': 48.1392789, 'lon': 11.576623}, {'type': 'node', 'id': 944005525, 'lat': 48.1392968, 'lon': 11.5764965}, {'type': 'node', 'id': 944005526, 'lat': 48.137771, 'lon': 11.5776771}, {'type': 'node', 'id': 944005536, 'lat': 48.137019, 'lon': 11.5768061}, {'type': 'node', 'id': 944005538, 'lat': 48.1386562, 'lon': 11.5753698}, {'type': 'node', 'id': 944005557, 'lat': 48.1390724, 'lon': 11.577609}, {'type': 'node', 'id': 944005569, 'lat': 48.139168, 'lon': 11.5770836}, {'type': 'node', 'id': 944005572, 'lat': 48.1387974, 'lon': 11.5750938}, {'type': 'node', 'id': 944005580, 'lat': 48.1393349, 'lon': 11.5767757}, {'type': 'node', 'id': 944005597, 'lat': 48.1393232, 'lon': 11.5766375}, {'type': 'node', 'id': 944005599, 'lat': 48.1390038, 'lon': 11.5777213}, {'type': 'node', 'id': 944005612, 'lat': 48.1372195, 'lon': 11.5771412}, {'type': 'node', 'id': 944005614, 'lat': 48.1386002, 'lon': 11.5753479}, {'type': 'node', 'id': 944005615, 'lat': 48.139045, 'lon': 11.5772193}, {'type': 'node', 'id': 944005617, 'lat': 48.1387171, 'lon': 11.5750816}, {'type': 'node', 'id': 944005621, 'lat': 48.1375087, 'lon': 11.5774329}, {'type': 'node', 'id': 944005628, 'lat': 48.1373759, 'lon': 11.5765844}, {'type': 'node', 'id': 944005630, 'lat': 48.1389507, 'lon': 11.5754727}, {'type': 'node', 'id': 944005646, 'lat': 48.1394313, 'lon': 11.5771404}, {'type': 'node', 'id': 944005648, 'lat': 48.139205, 'lon': 11.5779476}, {'type': 'node', 'id': 944005652, 'lat': 48.1393272, 'lon': 11.576837}, {'type': 'node', 'id': 944005663, 'lat': 48.1373648, 'lon': 11.577291}, {'type': 'node', 'id': 944005664, 'lat': 48.1374224, 'lon': 11.5770356}, {'type': 'node', 'id': 944005668, 'lat': 48.1390797, 'lon': 11.5775514}, {'type': 'node', 'id': 944005677, 'lat': 48.1394534, 'lon': 11.5762392}, {'type': 'node', 'id': 944005682, 'lat': 48.1392743, 'lon': 11.5766485}, {'type': 'node', 'id': 944005684, 'lat': 48.1378565, 'lon': 11.5771524}, {'type': 'node', 'id': 944005687, 'lat': 48.1376359, 'lon': 11.5769926}, {'type': 'node', 'id': 944005698, 'lat': 48.1378474, 'lon': 11.5769294}, {'type': 'node', 'id': 944005700, 'lat': 48.1392053, 'lon': 11.5763464}, {'type': 'node', 'id': 944005707, 'lat': 48.1386762, 'lon': 11.5750078}, {'type': 'node', 'id': 944005711, 'lat': 48.1376751, 'lon': 11.5773561}, {'type': 'node', 'id': 944005713, 'lat': 48.1393419, 'lon': 11.5765229}, {'type': 'node', 'id': 944005715, 'lat': 48.1390258, 'lon': 11.5777277}, {'type': 'node', 'id': 944005726, 'lat': 48.1371158, 'lon': 11.5770229}, {'type': 'node', 'id': 944005728, 'lat': 48.1391767, 'lon': 11.5772672}, {'type': 'node', 'id': 944005731, 'lat': 48.1390724, 'lon': 11.576916}, {'type': 'node', 'id': 944005748, 'lat': 48.1372003, 'lon': 11.5768257}, {'type': 'node', 'id': 944005749, 'lat': 48.1388882, 'lon': 11.5753465}, {'type': 'node', 'id': 944005761, 'lat': 48.1392797, 'lon': 11.5772825}, {'type': 'node', 'id': 944005766, 'lat': 48.1388667, 'lon': 11.5752744}, {'type': 'node', 'id': 944005784, 'lat': 48.1390015, 'lon': 11.5749058}, {'type': 'node', 'id': 944005788, 'lat': 48.1394184, 'lon': 11.5773082}, {'type': 'node', 'id': 944005790, 'lat': 48.1390294, 'lon': 11.5777}, {'type': 'node', 'id': 944005798, 'lat': 48.1392498, 'lon': 11.576813}, {'type': 'node', 'id': 944005801, 'lat': 48.1387702, 'lon': 11.5752971}, {'type': 'node', 'id': 944005813, 'lat': 48.1392326, 'lon': 11.57871}, {'type': 'node', 'id': 944005814, 'lat': 48.1390171, 'lon': 11.5775156}, {'type': 'node', 'id': 944005817, 'lat': 48.1386047, 'lon': 11.5749974}, {'type': 'node', 'id': 944005825, 'lat': 48.1394187, 'lon': 11.5764292}, {'type': 'node', 'id': 944005827, 'lat': 48.1376274, 'lon': 11.5775685}, {'type': 'node', 'id': 944005831, 'lat': 48.1388784, 'lon': 11.5750028}, {'type': 'node', 'id': 944005842, 'lat': 48.1392979, 'lon': 11.5771063}, {'type': 'node', 'id': 944005846, 'lat': 48.139364, 'lon': 11.5771239}, {'type': 'node', 'id': 944005849, 'lat': 48.1369948, 'lon': 11.5768514}, {'type': 'node', 'id': 944005856, 'lat': 48.1386658, 'lon': 11.575254}, {'type': 'node', 'id': 944005874, 'lat': 48.1388688, 'lon': 11.5751078}, {'type': 'node', 'id': 944005880, 'lat': 48.1390424, 'lon': 11.5775999}, {'type': 'node', 'id': 944005889, 'lat': 48.1393357, 'lon': 11.5759145}, {'type': 'node', 'id': 944005894, 'lat': 48.1387127, 'lon': 11.5750114}, {'type': 'node', 'id': 944005895, 'lat': 48.1392711, 'lon': 11.5764849}, {'type': 'node', 'id': 944005897, 'lat': 48.1386945, 'lon': 11.5752661}, {'type': 'node', 'id': 944005920, 'lat': 48.139055, 'lon': 11.5777094}, {'type': 'node', 'id': 944005929, 'lat': 48.1378925, 'lon': 11.5773205}, {'type': 'node', 'id': 944005933, 'lat': 48.1390609, 'lon': 11.577414}, {'type': 'node', 'id': 944005940, 'lat': 48.1391028, 'lon': 11.5767707}, {'type': 'node', 'id': 944005951, 'lat': 48.138981, 'lon': 11.5751308}, {'type': 'node', 'id': 944005957, 'lat': 48.1379774, 'lon': 11.5770088}, {'type': 'node', 'id': 944005966, 'lat': 48.1379072, 'lon': 11.5769659}, {'type': 'node', 'id': 944005977, 'lat': 48.1377829, 'lon': 11.5771663}, {'type': 'node', 'id': 944005986, 'lat': 48.1387254, 'lon': 11.5747938}, {'type': 'node', 'id': 944005990, 'lat': 48.1392371, 'lon': 11.5766294}, {'type': 'node', 'id': 944005996, 'lat': 48.1369865, 'lon': 11.5767594}, {'type': 'node', 'id': 944006001, 'lat': 48.1389646, 'lon': 11.5752967}, {'type': 'node', 'id': 944006005, 'lat': 48.1392018, 'lon': 11.5770914}, {'type': 'node', 'id': 944006007, 'lat': 48.1394549, 'lon': 11.5775538}, {'type': 'node', 'id': 944006020, 'lat': 48.1390466, 'lon': 11.5775246}, {'type': 'node', 'id': 944006022, 'lat': 48.1375519, 'lon': 11.576717}, {'type': 'node', 'id': 944006032, 'lat': 48.1373995, 'lon': 11.5772113}, {'type': 'node', 'id': 944006033, 'lat': 48.1378224, 'lon': 11.5772776}, {'type': 'node', 'id': 944006036, 'lat': 48.139392, 'lon': 11.5769192}, {'type': 'node', 'id': 944006042, 'lat': 48.1377626, 'lon': 11.5772411}, {'type': 'node', 'id': 944006045, 'lat': 48.1376927, 'lon': 11.5768232}, {'type': 'node', 'id': 944006049, 'lat': 48.1394446, 'lon': 11.5759542}, {'type': 'node', 'id': 944006050, 'lat': 48.1374387, 'lon': 11.5772457}, {'type': 'node', 'id': 944006061, 'lat': 48.1379266, 'lon': 11.5771953}, {'type': 'node', 'id': 944006063, 'lat': 48.1388068, 'lon': 11.5749884}, {'type': 'node', 'id': 944006067, 'lat': 48.1393804, 'lon': 11.576648}, {'type': 'node', 'id': 944006075, 'lat': 48.1393121, 'lon': 11.5764039}, {'type': 'node', 'id': 944006078, 'lat': 48.1372674, 'lon': 11.576888}, {'type': 'node', 'id': 944006083, 'lat': 48.1391385, 'lon': 11.5765942}, {'type': 'node', 'id': 944006084, 'lat': 48.1388235, 'lon': 11.575099}, {'type': 'node', 'id': 995536674, 'lat': 48.1379957, 'lon': 11.5748409}, {'type': 'node', 'id': 995536678, 'lat': 48.137858, 'lon': 11.5750013}, {'type': 'node', 'id': 995536707, 'lat': 48.1379569, 'lon': 11.575035}, {'type': 'node', 'id': 995536712, 'lat': 48.1378686, 'lon': 11.5746122}, {'type': 'node', 'id': 995536751, 'lat': 48.1379231, 'lon': 11.5746424}, {'type': 'node', 'id': 995536757, 'lat': 48.1377801, 'lon': 11.5746783}, {'type': 'node', 'id': 995536759, 'lat': 48.1380496, 'lon': 11.5746119}, {'type': 'node', 'id': 995536765, 'lat': 48.1381533, 'lon': 11.574601}, {'type': 'node', 'id': 995536775, 'lat': 48.1378447, 'lon': 11.5747134}, {'type': 'node', 'id': 995536778, 'lat': 48.1380597, 'lon': 11.5745581}, {'type': 'node', 'id': 995536816, 'lat': 48.137713, 'lon': 11.5749668}, {'type': 'node', 'id': 995536841, 'lat': 48.1379832, 'lon': 11.5746649}, {'type': 'node', 'id': 995536853, 'lat': 48.1380525, 'lon': 11.5750779}, {'type': 'node', 'id': 995536858, 'lat': 48.1379458, 'lon': 11.574819}, {'type': 'node', 'id': 998067549, 'lat': 48.1368904, 'lon': 11.5748676}, {'type': 'node', 'id': 998067872, 'lat': 48.1370426, 'lon': 11.5751703}, {'type': 'node', 'id': 998067917, 'lat': 48.1371222, 'lon': 11.5747947}, {'type': 'node', 'id': 998067929, 'lat': 48.1370081, 'lon': 11.5753195}, {'type': 'node', 'id': 998068425, 'lat': 48.1367151, 'lon': 11.575159}, {'type': 'node', 'id': 998068520, 'lat': 48.1368386, 'lon': 11.5750043}, {'type': 'node', 'id': 998068677, 'lat': 48.1366348, 'lon': 11.5753462}, {'type': 'node', 'id': 998068915, 'lat': 48.1369473, 'lon': 11.5745387}, {'type': 'node', 'id': 998069210, 'lat': 48.1367958, 'lon': 11.5747565}, {'type': 'node', 'id': 998069241, 'lat': 48.1370722, 'lon': 11.5750083}, {'type': 'node', 'id': 998069264, 'lat': 48.1367961, 'lon': 11.5751035}, {'type': 'node', 'id': 1059560256, 'lat': 48.1394167, 'lon': 11.5751717}, {'type': 'node', 'id': 1059560530, 'lat': 48.1393053, 'lon': 11.5756205}, {'type': 'node', 'id': 1121737041, 'lat': 48.1373194, 'lon': 11.577842}, {'type': 'node', 'id': 1121737055, 'lat': 48.1391511, 'lon': 11.5753131}, {'type': 'node', 'id': 1121737061, 'lat': 48.1394375, 'lon': 11.5747556}, {'type': 'node', 'id': 1121737063, 'lat': 48.13923, 'lon': 11.5753472}, {'type': 'node', 'id': 1121737068, 'lat': 48.139398, 'lon': 11.5747328}, {'type': 'node', 'id': 1121737087, 'lat': 48.139336, 'lon': 11.576409}, {'type': 'node', 'id': 1121737092, 'lat': 48.1394756, 'lon': 11.575634}, {'type': 'node', 'id': 1121737114, 'lat': 48.1394751, 'lon': 11.5756044}, {'type': 'node', 'id': 1121737120, 'lat': 48.1373868, 'lon': 11.577749}, {'type': 'node', 'id': 1121737122, 'lat': 48.137071, 'lon': 11.5777446}, {'type': 'node', 'id': 1128921291, 'lat': 48.1371644, 'lon': 11.5780941}, {'type': 'node', 'id': 1128921317, 'lat': 48.1364981, 'lon': 11.5775822}, {'type': 'node', 'id': 1134251868, 'lat': 48.1376511, 'lon': 11.5778834}, {'type': 'node', 'id': 1158911935, 'lat': 48.1379021, 'lon': 11.5766046}, {'type': 'node', 'id': 1158911941, 'lat': 48.1378061, 'lon': 11.5758611}, {'type': 'node', 'id': 1158911942, 'lat': 48.137432, 'lon': 11.5755666}, {'type': 'node', 'id': 1158911965, 'lat': 48.1374478, 'lon': 11.5755644}, {'type': 'node', 'id': 1158911968, 'lat': 48.1376314, 'lon': 11.5757598}, {'type': 'node', 'id': 1158911969, 'lat': 48.1378155, 'lon': 11.575816}, {'type': 'node', 'id': 1158911973, 'lat': 48.137801, 'lon': 11.5755203}, {'type': 'node', 'id': 1158911984, 'lat': 48.1376398, 'lon': 11.5757268}, {'type': 'node', 'id': 1158911987, 'lat': 48.1375401, 'lon': 11.5751316}, {'type': 'node', 'id': 1158911991, 'lat': 48.1375922, 'lon': 11.5751196}, {'type': 'node', 'id': 1158911998, 'lat': 48.1378333, 'lon': 11.5755319}, {'type': 'node', 'id': 1158912010, 'lat': 48.1374818, 'lon': 11.5754083}, {'type': 'node', 'id': 1158912013, 'lat': 48.137861, 'lon': 11.5760532}, {'type': 'node', 'id': 1158912016, 'lat': 48.1375796, 'lon': 11.5751148}, {'type': 'node', 'id': 1158912068, 'lat': 48.1375551, 'lon': 11.5751214}, {'type': 'node', 'id': 1313292360, 'lat': 48.138904, 'lon': 11.5774001}, {'type': 'node', 'id': 1389800300, 'lat': 48.1385292, 'lon': 11.5775233}, {'type': 'node', 'id': 1389800310, 'lat': 48.1379424, 'lon': 11.5777432}, {'type': 'node', 'id': 1389800313, 'lat': 48.1381128, 'lon': 11.5774626}, {'type': 'node', 'id': 1389800344, 'lat': 48.1381344, 'lon': 11.5773506}, {'type': 'node', 'id': 1389800346, 'lat': 48.1379714, 'lon': 11.5775634}, {'type': 'node', 'id': 1389800348, 'lat': 48.1375854, 'lon': 11.5780617}, {'type': 'node', 'id': 1389800352, 'lat': 48.1380562, 'lon': 11.5774392}, {'type': 'node', 'id': 1389800360, 'lat': 48.1377526, 'lon': 11.5782029}, {'type': 'node', 'id': 1389800364, 'lat': 48.1379604, 'lon': 11.5776518}, {'type': 'node', 'id': 1389918665, 'lat': 48.1381004, 'lon': 11.5775259}, {'type': 'node', 'id': 1389918666, 'lat': 48.1377087, 'lon': 11.5776265}, {'type': 'node', 'id': 1389918667, 'lat': 48.1379904, 'lon': 11.5774795}, {'type': 'node', 'id': 1389918668, 'lat': 48.1378092, 'lon': 11.5775801}, {'type': 'node', 'id': 1389925528, 'lat': 48.1374342, 'lon': 11.5777858}, {'type': 'node', 'id': 1389925538, 'lat': 48.1373992, 'lon': 11.577888}, {'type': 'node', 'id': 1577200067, 'lat': 48.1381035, 'lon': 11.5750592}, {'type': 'node', 'id': 1577200082, 'lat': 48.1382141, 'lon': 11.5751303}, {'type': 'node', 'id': 1577200085, 'lat': 48.1382407, 'lon': 11.5746116}, {'type': 'node', 'id': 1577200090, 'lat': 48.1383059, 'lon': 11.5747559}, {'type': 'node', 'id': 1577200092, 'lat': 48.1383309, 'lon': 11.5746388}, {'type': 'node', 'id': 1577200110, 'lat': 48.1383345, 'lon': 11.5751874}, {'type': 'node', 'id': 1577200118, 'lat': 48.1383525, 'lon': 11.5749294}, {'type': 'node', 'id': 1577200120, 'lat': 48.1383755, 'lon': 11.5752138}, {'type': 'node', 'id': 1577200124, 'lat': 48.1383774, 'lon': 11.5747882}, {'type': 'node', 'id': 1577200126, 'lat': 48.1383802, 'lon': 11.5749409}, {'type': 'node', 'id': 1577200130, 'lat': 48.1383922, 'lon': 11.5747138}, {'type': 'node', 'id': 1577200147, 'lat': 48.138456, 'lon': 11.5745493}, {'type': 'node', 'id': 1577200155, 'lat': 48.1385663, 'lon': 11.5753005}, {'type': 'node', 'id': 1612244782, 'lat': 48.138534, 'lon': 11.5783659}, {'type': 'node', 'id': 1636728090, 'lat': 48.137774, 'lon': 11.5747013}, {'type': 'node', 'id': 1710336108, 'lat': 48.137254, 'lon': 11.5764899}, {'type': 'node', 'id': 1886509241, 'lat': 48.1365616, 'lon': 11.5779917}, {'type': 'node', 'id': 1886509242, 'lat': 48.1365213, 'lon': 11.5779652}, {'type': 'node', 'id': 1886509243, 'lat': 48.1365803, 'lon': 11.5777748}, {'type': 'node', 'id': 1886509245, 'lat': 48.1366525, 'lon': 11.5775861}, {'type': 'node', 'id': 1886509246, 'lat': 48.1365982, 'lon': 11.5777895}, {'type': 'node', 'id': 1886509249, 'lat': 48.136628, 'lon': 11.5777059}, {'type': 'node', 'id': 1886509250, 'lat': 48.1365982, 'lon': 11.5776809}, {'type': 'node', 'id': 1886509251, 'lat': 48.1365535, 'lon': 11.5780189}, {'type': 'node', 'id': 1886509252, 'lat': 48.1365767, 'lon': 11.5780403}, {'type': 'node', 'id': 1886509253, 'lat': 48.1367289, 'lon': 11.5776916}, {'type': 'node', 'id': 2196730199, 'lat': 48.1380103, 'lon': 11.5780349}, {'type': 'node', 'id': 2282298071, 'lat': 48.1368105, 'lon': 11.5747804}, {'type': 'node', 'id': 2282298072, 'lat': 48.1368617, 'lon': 11.5748127}, {'type': 'node', 'id': 2282298076, 'lat': 48.1369917, 'lon': 11.5746081}, {'type': 'node', 'id': 2285922407, 'lat': 48.1375017, 'lon': 11.5760866}, {'type': 'node', 'id': 2285922408, 'lat': 48.1375377, 'lon': 11.5760197}, {'type': 'node', 'id': 2285922410, 'lat': 48.1375604, 'lon': 11.5758362}, {'type': 'node', 'id': 2285922411, 'lat': 48.1375524, 'lon': 11.5761126}, {'type': 'node', 'id': 2285922412, 'lat': 48.137549, 'lon': 11.5759702}, {'type': 'node', 'id': 2285922413, 'lat': 48.1375698, 'lon': 11.5760362}, {'type': 'node', 'id': 2285922414, 'lat': 48.1375804, 'lon': 11.5759863}, {'type': 'node', 'id': 2285922416, 'lat': 48.1376088, 'lon': 11.575862}, {'type': 'node', 'id': 2285922417, 'lat': 48.1376013, 'lon': 11.5756287}, {'type': 'node', 'id': 2285922418, 'lat': 48.1376262, 'lon': 11.5756418}, {'type': 'node', 'id': 2285922420, 'lat': 48.1380212, 'lon': 11.5758781}, {'type': 'node', 'id': 2285922421, 'lat': 48.1380019, 'lon': 11.5759694}, {'type': 'node', 'id': 2285922422, 'lat': 48.1380698, 'lon': 11.5760016}, {'type': 'node', 'id': 2285922424, 'lat': 48.1380918, 'lon': 11.5759116}, {'type': 'node', 'id': 2285922425, 'lat': 48.1387638, 'lon': 11.5754068}, {'type': 'node', 'id': 2285922426, 'lat': 48.1388825, 'lon': 11.5754513}, {'type': 'node', 'id': 2285922427, 'lat': 48.1388934, 'lon': 11.5752799}, {'type': 'node', 'id': 2285922428, 'lat': 48.1390346, 'lon': 11.5752215}, {'type': 'node', 'id': 2285922432, 'lat': 48.1391686, 'lon': 11.5755429}, {'type': 'node', 'id': 2285922433, 'lat': 48.139158, 'lon': 11.5752403}, {'type': 'node', 'id': 2285922435, 'lat': 48.1391843, 'lon': 11.5754471}, {'type': 'node', 'id': 2285922436, 'lat': 48.1392026, 'lon': 11.5753353}, {'type': 'node', 'id': 2285922442, 'lat': 48.1392902, 'lon': 11.5750991}, {'type': 'node', 'id': 2285922443, 'lat': 48.1393511, 'lon': 11.5751338}, {'type': 'node', 'id': 2285922444, 'lat': 48.1393595, 'lon': 11.5754007}, {'type': 'node', 'id': 2327527031, 'lat': 48.1373579, 'lon': 11.5764181}, {'type': 'node', 'id': 2327527035, 'lat': 48.1374067, 'lon': 11.5757554}, {'type': 'node', 'id': 2327527045, 'lat': 48.1374166, 'lon': 11.5764491}, {'type': 'node', 'id': 2327527079, 'lat': 48.1376335, 'lon': 11.5751353}, {'type': 'node', 'id': 2327527081, 'lat': 48.1376331, 'lon': 11.5766075}, {'type': 'node', 'id': 2327527083, 'lat': 48.137641, 'lon': 11.5765727}, {'type': 'node', 'id': 2327527088, 'lat': 48.1376773, 'lon': 11.5753762}, {'type': 'node', 'id': 2327527090, 'lat': 48.1376742, 'lon': 11.5766284}, {'type': 'node', 'id': 2327527102, 'lat': 48.1377559, 'lon': 11.5764983}, {'type': 'node', 'id': 2327527106, 'lat': 48.1377638, 'lon': 11.5764639}, {'type': 'node', 'id': 2327527112, 'lat': 48.1378002, 'lon': 11.5758087}, {'type': 'node', 'id': 2327527119, 'lat': 48.1378527, 'lon': 11.5760933}, {'type': 'node', 'id': 2327527121, 'lat': 48.1378588, 'lon': 11.5761834}, {'type': 'node', 'id': 2327527125, 'lat': 48.1378921, 'lon': 11.5767854}, {'type': 'node', 'id': 2327527127, 'lat': 48.1378951, 'lon': 11.5767707}, {'type': 'node', 'id': 2327527131, 'lat': 48.1378955, 'lon': 11.5757893}, {'type': 'node', 'id': 2327527133, 'lat': 48.1379109, 'lon': 11.575241}, {'type': 'node', 'id': 2327527138, 'lat': 48.1379089, 'lon': 11.5757924}, {'type': 'node', 'id': 2327527140, 'lat': 48.1379118, 'lon': 11.5765618}, {'type': 'node', 'id': 2327527142, 'lat': 48.1379149, 'lon': 11.5765482}, {'type': 'node', 'id': 2327527152, 'lat': 48.1379468, 'lon': 11.5755469}, {'type': 'node', 'id': 2327527159, 'lat': 48.1379568, 'lon': 11.5755516}, {'type': 'node', 'id': 2327527181, 'lat': 48.1380245, 'lon': 11.5767122}, {'type': 'node', 'id': 2327527186, 'lat': 48.1380265, 'lon': 11.5767133}, {'type': 'node', 'id': 2327527214, 'lat': 48.1380755, 'lon': 11.5753037}, {'type': 'node', 'id': 2327527223, 'lat': 48.1381123, 'lon': 11.5763261}, {'type': 'node', 'id': 2327527226, 'lat': 48.1381731, 'lon': 11.5760474}, {'type': 'node', 'id': 2329698148, 'lat': 48.1374274, 'lon': 11.5755544}, {'type': 'node', 'id': 2329698149, 'lat': 48.1374281, 'lon': 11.575562}, {'type': 'node', 'id': 2329698150, 'lat': 48.1374305, 'lon': 11.5755483}, {'type': 'node', 'id': 2329698153, 'lat': 48.1374371, 'lon': 11.5755656}, {'type': 'node', 'id': 2329698163, 'lat': 48.1374587, 'lon': 11.5753975}, {'type': 'node', 'id': 2329698165, 'lat': 48.1374593, 'lon': 11.5754051}, {'type': 'node', 'id': 2329698166, 'lat': 48.1374618, 'lon': 11.5753915}, {'type': 'node', 'id': 2329698168, 'lat': 48.1374669, 'lon': 11.5753906}, {'type': 'node', 'id': 2329698173, 'lat': 48.137471, 'lon': 11.5753954}, {'type': 'node', 'id': 2329698174, 'lat': 48.1374714, 'lon': 11.5754032}, {'type': 'node', 'id': 2329698206, 'lat': 48.137557, 'lon': 11.575137}, {'type': 'node', 'id': 2329698208, 'lat': 48.1375602, 'lon': 11.5751334}, {'type': 'node', 'id': 2329698212, 'lat': 48.137566, 'lon': 11.5750997}, {'type': 'node', 'id': 2329698216, 'lat': 48.1375744, 'lon': 11.5751028}, {'type': 'node', 'id': 2329698218, 'lat': 48.1375902, 'lon': 11.5759435}, {'type': 'node', 'id': 2330734954, 'lat': 48.1372851, 'lon': 11.5762951}, {'type': 'node', 'id': 2330734955, 'lat': 48.1373009, 'lon': 11.5762278}, {'type': 'node', 'id': 2330734960, 'lat': 48.1373167, 'lon': 11.5761605}, {'type': 'node', 'id': 2330734969, 'lat': 48.1373226, 'lon': 11.5761353}, {'type': 'node', 'id': 2330734979, 'lat': 48.1373286, 'lon': 11.57611}, {'type': 'node', 'id': 2330734991, 'lat': 48.1373345, 'lon': 11.5760849}, {'type': 'node', 'id': 2330735001, 'lat': 48.1373404, 'lon': 11.5760596}, {'type': 'node', 'id': 2330735009, 'lat': 48.1373463, 'lon': 11.5760344}, {'type': 'node', 'id': 2330735019, 'lat': 48.1373522, 'lon': 11.5760091}, {'type': 'node', 'id': 2330735031, 'lat': 48.1373582, 'lon': 11.5759838}, {'type': 'node', 'id': 2330735038, 'lat': 48.1373631, 'lon': 11.5759582}, {'type': 'node', 'id': 2330735049, 'lat': 48.1373777, 'lon': 11.5758903}, {'type': 'node', 'id': 2330735058, 'lat': 48.1373923, 'lon': 11.5758224}, {'type': 'node', 'id': 2330735075, 'lat': 48.1374206, 'lon': 11.5756911}, {'type': 'node', 'id': 2330735084, 'lat': 48.1374342, 'lon': 11.5756278}, {'type': 'node', 'id': 2330735089, 'lat': 48.1374492, 'lon': 11.5754791}, {'type': 'node', 'id': 2330735094, 'lat': 48.1374964, 'lon': 11.5753391}, {'type': 'node', 'id': 2345352205, 'lat': 48.1385544, 'lon': 11.5775304}, {'type': 'node', 'id': 2345352206, 'lat': 48.1385211, 'lon': 11.5777575}, {'type': 'node', 'id': 2373874247, 'lat': 48.137339, 'lon': 11.5780996}, {'type': 'node', 'id': 2373874250, 'lat': 48.137388, 'lon': 11.5778627}, {'type': 'node', 'id': 2373874254, 'lat': 48.1374051, 'lon': 11.5777048}, {'type': 'node', 'id': 2373874256, 'lat': 48.1374221, 'lon': 11.5778215}, {'type': 'node', 'id': 2373874262, 'lat': 48.1374534, 'lon': 11.5775959}, {'type': 'node', 'id': 2498525100, 'lat': 48.138056, 'lon': 11.5770573}, {'type': 'node', 'id': 2498525151, 'lat': 48.138409, 'lon': 11.577577}, {'type': 'node', 'id': 2498525152, 'lat': 48.1384191, 'lon': 11.5775206}, {'type': 'node', 'id': 2498525170, 'lat': 48.1384863, 'lon': 11.5776082}, {'type': 'node', 'id': 2498525177, 'lat': 48.1384965, 'lon': 11.5775518}, {'type': 'node', 'id': 2498525179, 'lat': 48.1385001, 'lon': 11.5773925}, {'type': 'node', 'id': 2498525185, 'lat': 48.1385158, 'lon': 11.5772758}, {'type': 'node', 'id': 2498525193, 'lat': 48.1385404, 'lon': 11.57741}, {'type': 'node', 'id': 2498525207, 'lat': 48.1385932, 'lon': 11.577304}, {'type': 'node', 'id': 2498525270, 'lat': 48.1389316, 'lon': 11.5773728}, {'type': 'node', 'id': 2498525280, 'lat': 48.1389929, 'lon': 11.577805}, {'type': 'node', 'id': 2498525289, 'lat': 48.1390447, 'lon': 11.5775414}, {'type': 'node', 'id': 2498525303, 'lat': 48.1391125, 'lon': 11.5744328}, {'type': 'node', 'id': 2498525307, 'lat': 48.1391389, 'lon': 11.5755303}, {'type': 'node', 'id': 2498525308, 'lat': 48.1391666, 'lon': 11.5751369}, {'type': 'node', 'id': 2498525309, 'lat': 48.1391777, 'lon': 11.5753246}, {'type': 'node', 'id': 2498525310, 'lat': 48.1391825, 'lon': 11.5751394}, {'type': 'node', 'id': 2498525311, 'lat': 48.139209, 'lon': 11.5746781}, {'type': 'node', 'id': 2498525314, 'lat': 48.1392271, 'lon': 11.5744582}, {'type': 'node', 'id': 2498525316, 'lat': 48.1392274, 'lon': 11.5755808}, {'type': 'node', 'id': 2498525320, 'lat': 48.1392557, 'lon': 11.5748596}, {'type': 'node', 'id': 2498525323, 'lat': 48.1392873, 'lon': 11.5748739}, {'type': 'node', 'id': 2498525325, 'lat': 48.1393614, 'lon': 11.5745614}, {'type': 'node', 'id': 2498525328, 'lat': 48.1394716, 'lon': 11.5746228}, {'type': 'node', 'id': 2515092926, 'lat': 48.1371979, 'lon': 11.5773057}, {'type': 'node', 'id': 2515092929, 'lat': 48.1373646, 'lon': 11.5775069}, {'type': 'node', 'id': 2515092932, 'lat': 48.1374967, 'lon': 11.5776313}, {'type': 'node', 'id': 2515092935, 'lat': 48.1376049, 'lon': 11.5777216}, {'type': 'node', 'id': 2515092938, 'lat': 48.1379051, 'lon': 11.5774348}, {'type': 'node', 'id': 2518709189, 'lat': 48.1377104, 'lon': 11.5751646}, {'type': 'node', 'id': 2545257976, 'lat': 48.1380455, 'lon': 11.5781862}, {'type': 'node', 'id': 2545257977, 'lat': 48.1376583, 'lon': 11.5781289}, {'type': 'node', 'id': 2545257979, 'lat': 48.1376769, 'lon': 11.5781452}, {'type': 'node', 'id': 2545257981, 'lat': 48.1376839, 'lon': 11.5777941}, {'type': 'node', 'id': 2545257982, 'lat': 48.13754, 'lon': 11.5776667}, {'type': 'node', 'id': 2545257985, 'lat': 48.1373919, 'lon': 11.5778355}, {'type': 'node', 'id': 2545257986, 'lat': 48.1374043, 'lon': 11.577821}, {'type': 'node', 'id': 2545257988, 'lat': 48.1374701, 'lon': 11.5781571}, {'type': 'node', 'id': 2545257990, 'lat': 48.1377957, 'lon': 11.5778832}, {'type': 'node', 'id': 2545257991, 'lat': 48.1378966, 'lon': 11.5773054}, {'type': 'node', 'id': 2545257992, 'lat': 48.1379511, 'lon': 11.5771054}, {'type': 'node', 'id': 2545257993, 'lat': 48.1377574, 'lon': 11.577076}, {'type': 'node', 'id': 2545257994, 'lat': 48.1377394, 'lon': 11.5771373}, {'type': 'node', 'id': 2545257995, 'lat': 48.1376865, 'lon': 11.5773305}, {'type': 'node', 'id': 2545257996, 'lat': 48.1377302, 'lon': 11.5773618}, {'type': 'node', 'id': 2545257997, 'lat': 48.1378644, 'lon': 11.5774233}, {'type': 'node', 'id': 2545257998, 'lat': 48.1378757, 'lon': 11.5769467}, {'type': 'node', 'id': 2545257999, 'lat': 48.137757, 'lon': 11.5768658}, {'type': 'node', 'id': 2545258000, 'lat': 48.137568, 'lon': 11.5775007}, {'type': 'node', 'id': 2545258001, 'lat': 48.1374079, 'lon': 11.5773335}, {'type': 'node', 'id': 2545258002, 'lat': 48.1376062, 'lon': 11.576758}, {'type': 'node', 'id': 2545258004, 'lat': 48.1373191, 'lon': 11.5767539}, {'type': 'node', 'id': 2545258007, 'lat': 48.137495, 'lon': 11.5768865}, {'type': 'node', 'id': 2545258008, 'lat': 48.1374502, 'lon': 11.5766404}, {'type': 'node', 'id': 2545258009, 'lat': 48.1371171, 'lon': 11.5763918}, {'type': 'node', 'id': 2545258010, 'lat': 48.1369958, 'lon': 11.5767331}, {'type': 'node', 'id': 2545258014, 'lat': 48.1367959, 'lon': 11.5773148}, {'type': 'node', 'id': 2545258015, 'lat': 48.1367126, 'lon': 11.5774484}, {'type': 'node', 'id': 2545258016, 'lat': 48.1366666, 'lon': 11.5773841}, {'type': 'node', 'id': 2545258017, 'lat': 48.1367497, 'lon': 11.5772507}, {'type': 'node', 'id': 2545258020, 'lat': 48.1379508, 'lon': 11.5779837}, {'type': 'node', 'id': 2545258021, 'lat': 48.1380549, 'lon': 11.5780411}, {'type': 'node', 'id': 2545258023, 'lat': 48.1380276, 'lon': 11.5770438}, {'type': 'node', 'id': 2545258024, 'lat': 48.1380963, 'lon': 11.5770765}, {'type': 'node', 'id': 2545258025, 'lat': 48.1385527, 'lon': 11.5776264}, {'type': 'node', 'id': 2545258026, 'lat': 48.1385624, 'lon': 11.5782102}, {'type': 'node', 'id': 2545258027, 'lat': 48.1386899, 'lon': 11.5773378}, {'type': 'node', 'id': 2545258028, 'lat': 48.1385498, 'lon': 11.5783179}, {'type': 'node', 'id': 2545258029, 'lat': 48.1384824, 'lon': 11.5782884}, {'type': 'node', 'id': 2545258034, 'lat': 48.1388943, 'lon': 11.5774842}, {'type': 'node', 'id': 2545258035, 'lat': 48.1392207, 'lon': 11.5774707}, {'type': 'node', 'id': 2545319959, 'lat': 48.1368661, 'lon': 11.5774197}, {'type': 'node', 'id': 2545319965, 'lat': 48.1370132, 'lon': 11.5776512}, {'type': 'node', 'id': 2545319972, 'lat': 48.1372671, 'lon': 11.5780197}, {'type': 'node', 'id': 2545319977, 'lat': 48.137165, 'lon': 11.5778776}, {'type': 'node', 'id': 2545319984, 'lat': 48.1370853, 'lon': 11.5779813}, {'type': 'node', 'id': 2546598951, 'lat': 48.138769, 'lon': 11.5784501}, {'type': 'node', 'id': 2546598954, 'lat': 48.138854, 'lon': 11.5778264}, {'type': 'node', 'id': 2546598958, 'lat': 48.1389944, 'lon': 11.5782791}, {'type': 'node', 'id': 2546598968, 'lat': 48.1391211, 'lon': 11.5786475}, {'type': 'node', 'id': 2586658026, 'lat': 48.137829, 'lon': 11.5763096}, {'type': 'node', 'id': 2586658030, 'lat': 48.1379176, 'lon': 11.576354}, {'type': 'node', 'id': 2586658034, 'lat': 48.1379924, 'lon': 11.5763903}, {'type': 'node', 'id': 2586658038, 'lat': 48.1380877, 'lon': 11.5764367}, {'type': 'node', 'id': 2758329745, 'lat': 48.1383318, 'lon': 11.575583}, {'type': 'node', 'id': 2758329753, 'lat': 48.1383387, 'lon': 11.5755438}, {'type': 'node', 'id': 2758329758, 'lat': 48.1383568, 'lon': 11.575593}, {'type': 'node', 'id': 2758329771, 'lat': 48.1383637, 'lon': 11.5755537}, {'type': 'node', 'id': 2810072052, 'lat': 48.1390833, 'lon': 11.5747283}, {'type': 'node', 'id': 2810072058, 'lat': 48.1390462, 'lon': 11.5751039}, {'type': 'node', 'id': 2810123409, 'lat': 48.1384302, 'lon': 11.5772352}, {'type': 'node', 'id': 2810123410, 'lat': 48.1382067, 'lon': 11.5771289}, {'type': 'node', 'id': 2810123412, 'lat': 48.1387835, 'lon': 11.5783304}, {'type': 'node', 'id': 2810123413, 'lat': 48.1388047, 'lon': 11.5781785}, {'type': 'node', 'id': 2810123417, 'lat': 48.1388382, 'lon': 11.5779397}, {'type': 'node', 'id': 2810123421, 'lat': 48.1385199, 'lon': 11.5780252}, {'type': 'node', 'id': 2810123428, 'lat': 48.1365794, 'lon': 11.578219}, {'type': 'node', 'id': 2810123431, 'lat': 48.1369033, 'lon': 11.5784069}, {'type': 'node', 'id': 2810124998, 'lat': 48.1381055, 'lon': 11.5778437}, {'type': 'node', 'id': 2830081073, 'lat': 48.139074, 'lon': 11.5783049}, {'type': 'node', 'id': 2830081089, 'lat': 48.1391963, 'lon': 11.578009}, {'type': 'node', 'id': 2830081095, 'lat': 48.139035, 'lon': 11.5780386}, {'type': 'node', 'id': 2868854686, 'lat': 48.1366316, 'lon': 11.5778385}, {'type': 'node', 'id': 2868855104, 'lat': 48.1390368, 'lon': 11.5778211}, {'type': 'node', 'id': 2868855106, 'lat': 48.1390599, 'lon': 11.5778907}, {'type': 'node', 'id': 2876680568, 'lat': 48.1384338, 'lon': 11.5749001}, {'type': 'node', 'id': 2876680569, 'lat': 48.1385836, 'lon': 11.5749717}, {'type': 'node', 'id': 2950486564, 'lat': 48.1366514, 'lon': 11.5768807}, {'type': 'node', 'id': 2950486565, 'lat': 48.1366517, 'lon': 11.5768517}, {'type': 'node', 'id': 2950486566, 'lat': 48.1366538, 'lon': 11.5768522}, {'type': 'node', 'id': 2950486567, 'lat': 48.1366538, 'lon': 11.5768795}, {'type': 'node', 'id': 2950486568, 'lat': 48.136666, 'lon': 11.5769012}, {'type': 'node', 'id': 2950486569, 'lat': 48.1366663, 'lon': 11.5768305}, {'type': 'node', 'id': 2950486570, 'lat': 48.1366666, 'lon': 11.576899}, {'type': 'node', 'id': 2950486571, 'lat': 48.1366668, 'lon': 11.5768329}, {'type': 'node', 'id': 2950486581, 'lat': 48.1366759, 'lon': 11.576866}, {'type': 'node', 'id': 2950486585, 'lat': 48.1366803, 'lon': 11.5771542}, {'type': 'node', 'id': 2950486587, 'lat': 48.1366824, 'lon': 11.5769374}, {'type': 'node', 'id': 2950486590, 'lat': 48.1366849, 'lon': 11.5768991}, {'type': 'node', 'id': 2950486592, 'lat': 48.1366851, 'lon': 11.576833}, {'type': 'node', 'id': 2950486593, 'lat': 48.1366854, 'lon': 11.5769017}, {'type': 'node', 'id': 2950486595, 'lat': 48.1366861, 'lon': 11.5768307}, {'type': 'node', 'id': 2950486596, 'lat': 48.1366979, 'lon': 11.5768798}, {'type': 'node', 'id': 2950486597, 'lat': 48.136698, 'lon': 11.5768524}, {'type': 'node', 'id': 2950486598, 'lat': 48.1366999, 'lon': 11.5768812}, {'type': 'node', 'id': 2950486599, 'lat': 48.1367002, 'lon': 11.5768515}, {'type': 'node', 'id': 2950486605, 'lat': 48.1367245, 'lon': 11.576869}, {'type': 'node', 'id': 2950486612, 'lat': 48.1368686, 'lon': 11.5768463}, {'type': 'node', 'id': 2950486613, 'lat': 48.1369238, 'lon': 11.577208}, {'type': 'node', 'id': 2950486614, 'lat': 48.1369336, 'lon': 11.5769366}, {'type': 'node', 'id': 3447924924, 'lat': 48.1384243, 'lon': 11.5747247}, {'type': 'node', 'id': 3448546330, 'lat': 48.1366387, 'lon': 11.5753511}, {'type': 'node', 'id': 3448546331, 'lat': 48.1367186, 'lon': 11.5751614}, {'type': 'node', 'id': 3521912283, 'lat': 48.1377456, 'lon': 11.5776556}, {'type': 'node', 'id': 3608964556, 'lat': 48.1381495, 'lon': 11.5765112}, {'type': 'node', 'id': 3608964557, 'lat': 48.138158, 'lon': 11.5764682}, {'type': 'node', 'id': 3608964558, 'lat': 48.1382105, 'lon': 11.5765385}, {'type': 'node', 'id': 3608964559, 'lat': 48.1382191, 'lon': 11.5764955}, {'type': 'node', 'id': 3652562487, 'lat': 48.1377324, 'lon': 11.5749713}, {'type': 'node', 'id': 3652562492, 'lat': 48.1392144, 'lon': 11.5768292}, {'type': 'node', 'id': 3652562493, 'lat': 48.1392214, 'lon': 11.5768054}, {'type': 'node', 'id': 3652562494, 'lat': 48.1393498, 'lon': 11.5766432}, {'type': 'node', 'id': 3688974745, 'lat': 48.1392382, 'lon': 11.5753143}, {'type': 'node', 'id': 3744012267, 'lat': 48.1383514, 'lon': 11.5755488}, {'type': 'node', 'id': 3893571130, 'lat': 48.1379469, 'lon': 11.5779995}, {'type': 'node', 'id': 3893571131, 'lat': 48.1380508, 'lon': 11.5780575}, {'type': 'node', 'id': 3893571140, 'lat': 48.1385196, 'lon': 11.5784116}, {'type': 'node', 'id': 3893571142, 'lat': 48.1385606, 'lon': 11.5777769}, {'type': 'node', 'id': 3961270299, 'lat': 48.137959, 'lon': 11.5747489}, {'type': 'node', 'id': 3961270300, 'lat': 48.1379703, 'lon': 11.5747496}, {'type': 'node', 'id': 3961270301, 'lat': 48.1379808, 'lon': 11.5747413}, {'type': 'node', 'id': 3961270302, 'lat': 48.1379901, 'lon': 11.5747165}, {'type': 'node', 'id': 3961270303, 'lat': 48.1379913, 'lon': 11.5746678}, {'type': 'node', 'id': 3961270304, 'lat': 48.1379935, 'lon': 11.5746897}, {'type': 'node', 'id': 3961270305, 'lat': 48.1380053, 'lon': 11.5748452}, {'type': 'node', 'id': 4348232951, 'lat': 48.136711, 'lon': 11.5771973}, {'type': 'node', 'id': 4348232954, 'lat': 48.1368953, 'lon': 11.5768822}, {'type': 'node', 'id': 4602648464, 'lat': 48.1383445, 'lon': 11.5755881}, {'type': 'node', 'id': 4602648472, 'lat': 48.1376331, 'lon': 11.577312}, {'type': 'node', 'id': 4602648473, 'lat': 48.1376445, 'lon': 11.5772637}, {'type': 'node', 'id': 4602648474, 'lat': 48.1376808, 'lon': 11.5774391}, {'type': 'node', 'id': 4602648475, 'lat': 48.137653, 'lon': 11.5774135}, {'type': 'node', 'id': 4944530680, 'lat': 48.1370735, 'lon': 11.5765145}, {'type': 'node', 'id': 4949909526, 'lat': 48.1383566, 'lon': 11.5764428}, {'type': 'node', 'id': 5157560095, 'lat': 48.1393022, 'lon': 11.5751056}, {'type': 'node', 'id': 5727891509, 'lat': 48.1382736, 'lon': 11.5755887}, {'type': 'node', 'id': 6939257860, 'lat': 48.1390065, 'lon': 11.5782072}, {'type': 'node', 'id': 6939257861, 'lat': 48.1391673, 'lon': 11.5782149}, {'type': 'node', 'id': 7027262412, 'lat': 48.1393314, 'lon': 11.5781964}, {'type': 'node', 'id': 7027262413, 'lat': 48.1388288, 'lon': 11.578007}, {'type': 'node', 'id': 7027262414, 'lat': 48.1391781, 'lon': 11.5781386}, {'type': 'node', 'id': 7027262415, 'lat': 48.1390277, 'lon': 11.5780819}, {'type': 'node', 'id': 7037043110, 'lat': 48.1379449, 'lon': 11.5754781}, {'type': 'node', 'id': 7037043111, 'lat': 48.1379865, 'lon': 11.5752698}, {'type': 'node', 'id': 7037043112, 'lat': 48.1376167, 'lon': 11.5755567}, {'type': 'node', 'id': 7135835426, 'lat': 48.1374635, 'lon': 11.5754099}, {'type': 'node', 'id': 7135835427, 'lat': 48.1374349, 'lon': 11.5755475}, {'type': 'node', 'id': 7135835428, 'lat': 48.1374397, 'lon': 11.5755606}, {'type': 'node', 'id': 8003510689, 'lat': 48.1367641, 'lon': 11.5754923}, {'type': 'node', 'id': 8003510690, 'lat': 48.1368569, 'lon': 11.5755844}, {'type': 'node', 'id': 8003510691, 'lat': 48.1369071, 'lon': 11.5756248}, {'type': 'node', 'id': 8003510692, 'lat': 48.1367596, 'lon': 11.5752079}, {'type': 'node', 'id': 8003563848, 'lat': 48.1367901, 'lon': 11.5755181}, {'type': 'node', 'id': 8178603121, 'lat': 48.1379715, 'lon': 11.5779007}, {'type': 'node', 'id': 8178603122, 'lat': 48.1380754, 'lon': 11.5779586}, {'type': 'node', 'id': 8220452976, 'lat': 48.1378958, 'lon': 11.5779514}, {'type': 'node', 'id': 8220452977, 'lat': 48.1376692, 'lon': 11.5777806}, {'type': 'node', 'id': 8220452978, 'lat': 48.1376401, 'lon': 11.5779131}, {'type': 'node', 'id': 8220452979, 'lat': 48.1376138, 'lon': 11.5778933}, {'type': 'node', 'id': 8220452980, 'lat': 48.1376345, 'lon': 11.5778351}, {'type': 'node', 'id': 8220452981, 'lat': 48.1376611, 'lon': 11.5778562}, {'type': 'node', 'id': 8220452982, 'lat': 48.1376261, 'lon': 11.5779026}, {'type': 'node', 'id': 8220452983, 'lat': 48.137572, 'lon': 11.5780494}, {'type': 'node', 'id': 8220452984, 'lat': 48.1376462, 'lon': 11.5778444}, {'type': 'node', 'id': 8220727413, 'lat': 48.1367306, 'lon': 11.5768776}, {'type': 'node', 'id': 8220727414, 'lat': 48.1366886, 'lon': 11.5769454}, {'type': 'node', 'id': 9344758405, 'lat': 48.1377924, 'lon': 11.5776227}, {'type': 'node', 'id': 9529596596, 'lat': 48.136833, 'lon': 11.5747577}, {'type': 'node', 'id': 10816259012, 'lat': 48.1394392, 'lon': 11.5763168}, {'type': 'node', 'id': 10816259013, 'lat': 48.1392309, 'lon': 11.5762564}, {'type': 'node', 'id': 11862227799, 'lat': 48.1394364, 'lon': 11.5751831}, {'type': 'node', 'id': 11862325059, 'lat': 48.1390324, 'lon': 11.5752431}, {'type': 'node', 'id': 11862335233, 'lat': 48.1381089, 'lon': 11.5748109}, {'type': 'node', 'id': 11862335239, 'lat': 48.1378014, 'lon': 11.5746899}, {'type': 'node', 'id': 11862335242, 'lat': 48.137863, 'lon': 11.5746361}, {'type': 'node', 'id': 11900449259, 'lat': 48.1393663, 'lon': 11.5764192}, {'type': 'node', 'id': 11900449260, 'lat': 48.1394001, 'lon': 11.5762164}, {'type': 'node', 'id': 11900449261, 'lat': 48.1392621, 'lon': 11.5761465}, {'type': 'node', 'id': 11900537093, 'lat': 48.1384284, 'lon': 11.5764724}, {'type': 'node', 'id': 11900537097, 'lat': 48.1393152, 'lon': 11.5763911}, {'type': 'node', 'id': 11900537098, 'lat': 48.139258, 'lon': 11.5763669}, {'type': 'node', 'id': 11900537099, 'lat': 48.139297, 'lon': 11.5765044}, {'type': 'node', 'id': 11900537100, 'lat': 48.1394553, 'lon': 11.5766535}, {'type': 'node', 'id': 11900537101, 'lat': 48.1394542, 'lon': 11.5766652}, {'type': 'node', 'id': 11900537102, 'lat': 48.139481, 'lon': 11.576862}, {'type': 'node', 'id': 11900537103, 'lat': 48.1394746, 'lon': 11.576937}, {'type': 'node', 'id': 11900537104, 'lat': 48.1392861, 'lon': 11.5768236}, {'type': 'node', 'id': 11900537105, 'lat': 48.1393099, 'lon': 11.5769964}, {'type': 'node', 'id': 11900537106, 'lat': 48.1392617, 'lon': 11.576974}, {'type': 'node', 'id': 11900537107, 'lat': 48.1392554, 'lon': 11.5770318}, {'type': 'node', 'id': 11900537108, 'lat': 48.1392457, 'lon': 11.577043}, {'type': 'node', 'id': 11900537109, 'lat': 48.1392397, 'lon': 11.5770295}, {'type': 'node', 'id': 11900537110, 'lat': 48.1392139, 'lon': 11.5770217}, {'type': 'node', 'id': 11900537111, 'lat': 48.1391733, 'lon': 11.5770273}, {'type': 'node', 'id': 11900537112, 'lat': 48.1391847, 'lon': 11.5770284}, {'type': 'node', 'id': 11900537113, 'lat': 48.1391895, 'lon': 11.5769758}, {'type': 'node', 'id': 11900537114, 'lat': 48.1391805, 'lon': 11.5769743}, {'type': 'node', 'id': 11900537115, 'lat': 48.1390657, 'lon': 11.5769863}, {'type': 'node', 'id': 11927013832, 'lat': 48.1387752, 'lon': 11.5754111}, {'type': 'node', 'id': 11933568852, 'lat': 48.137548, 'lon': 11.5771155}, {'type': 'node', 'id': 11933568853, 'lat': 48.1375279, 'lon': 11.5771759}, {'type': 'node', 'id': 11933568854, 'lat': 48.1374102, 'lon': 11.5771873}, {'type': 'node', 'id': 11933568855, 'lat': 48.1374437, 'lon': 11.5772151}, {'type': 'node', 'id': 11933568856, 'lat': 48.1374623, 'lon': 11.5771651}, {'type': 'node', 'id': 11933568857, 'lat': 48.1373954, 'lon': 11.5771001}, {'type': 'node', 'id': 12093032370, 'lat': 48.1388511, 'lon': 11.5749973}, {'type': 'node', 'id': 12095855822, 'lat': 48.1383709, 'lon': 11.5749909}, {'type': 'node', 'id': 12095855823, 'lat': 48.1383611, 'lon': 11.5745102}, {'type': 'node', 'id': 12095855824, 'lat': 48.1382675, 'lon': 11.5749613}, {'type': 'node', 'id': 12095855825, 'lat': 48.1382486, 'lon': 11.5749528}, {'type': 'node', 'id': 12095855826, 'lat': 48.1382292, 'lon': 11.5746654}, {'type': 'node', 'id': 12095855827, 'lat': 48.1381756, 'lon': 11.5749156}, {'type': 'node', 'id': 12095855828, 'lat': 48.1381355, 'lon': 11.5748974}, {'type': 'node', 'id': 12095899158, 'lat': 48.1383424, 'lon': 11.5765198}, {'type': 'node', 'id': 12095899159, 'lat': 48.1383228, 'lon': 11.5766289}, {'type': 'node', 'id': 12095899160, 'lat': 48.138296, 'lon': 11.5766179}, {'type': 'node', 'id': 12095899161, 'lat': 48.138316, 'lon': 11.5765089}, {'type': 'node', 'id': 12095899163, 'lat': 48.1382987, 'lon': 11.5767602}, {'type': 'node', 'id': 12095899164, 'lat': 48.1383702, 'lon': 11.5767897}, {'type': 'node', 'id': 539181088, 'lat': 48.1399403, 'lon': 11.577358}, {'type': 'node', 'id': 622503338, 'lat': 48.1401569, 'lon': 11.5763077}, {'type': 'node', 'id': 944005457, 'lat': 48.1396661, 'lon': 11.5763862}, {'type': 'node', 'id': 944005463, 'lat': 48.1397798, 'lon': 11.5772237}, {'type': 'node', 'id': 944005485, 'lat': 48.1397113, 'lon': 11.577045}, {'type': 'node', 'id': 944005502, 'lat': 48.1398341, 'lon': 11.5761358}, {'type': 'node', 'id': 944005509, 'lat': 48.1396726, 'lon': 11.5773315}, {'type': 'node', 'id': 944005541, 'lat': 48.1398303, 'lon': 11.5769153}, {'type': 'node', 'id': 944005566, 'lat': 48.1399348, 'lon': 11.5764626}, {'type': 'node', 'id': 944005581, 'lat': 48.1395058, 'lon': 11.57666}, {'type': 'node', 'id': 944005584, 'lat': 48.1394845, 'lon': 11.5768219}, {'type': 'node', 'id': 944005585, 'lat': 48.1397382, 'lon': 11.5768458}, {'type': 'node', 'id': 944005626, 'lat': 48.1395279, 'lon': 11.5764462}, {'type': 'node', 'id': 944005650, 'lat': 48.1399635, 'lon': 11.5769392}, {'type': 'node', 'id': 944005669, 'lat': 48.1397887, 'lon': 11.5764719}, {'type': 'node', 'id': 944005681, 'lat': 48.1399086, 'lon': 11.5764497}, {'type': 'node', 'id': 944005697, 'lat': 48.1395524, 'lon': 11.5762876}, {'type': 'node', 'id': 944005709, 'lat': 48.1397605, 'lon': 11.5772233}, {'type': 'node', 'id': 944005744, 'lat': 48.13965, 'lon': 11.5763225}, {'type': 'node', 'id': 944005799, 'lat': 48.1399226, 'lon': 11.577356}, {'type': 'node', 'id': 944005807, 'lat': 48.1396251, 'lon': 11.5766943}, {'type': 'node', 'id': 944005879, 'lat': 48.1395983, 'lon': 11.5768969}, {'type': 'node', 'id': 944005884, 'lat': 48.1398366, 'lon': 11.5768807}, {'type': 'node', 'id': 944005918, 'lat': 48.1395935, 'lon': 11.5760322}, {'type': 'node', 'id': 944005921, 'lat': 48.1398122, 'lon': 11.5770261}, {'type': 'node', 'id': 944005930, 'lat': 48.1401207, 'lon': 11.5765293}, {'type': 'node', 'id': 944005939, 'lat': 48.139667, 'lon': 11.5761611}, {'type': 'node', 'id': 944005953, 'lat': 48.1395404, 'lon': 11.5773351}, {'type': 'node', 'id': 944005965, 'lat': 48.1397798, 'lon': 11.5770584}, {'type': 'node', 'id': 944005976, 'lat': 48.1399819, 'lon': 11.5762149}, {'type': 'node', 'id': 944006010, 'lat': 48.1395375, 'lon': 11.5764564}, {'type': 'node', 'id': 944006031, 'lat': 48.1395528, 'lon': 11.5762795}, {'type': 'node', 'id': 944006044, 'lat': 48.139898, 'lon': 11.5765104}, {'type': 'node', 'id': 944006060, 'lat': 48.1399349, 'lon': 11.577233}, {'type': 'node', 'id': 944006064, 'lat': 48.1395015, 'lon': 11.5766881}, {'type': 'node', 'id': 1059560113, 'lat': 48.1403684, 'lon': 11.574883}, {'type': 'node', 'id': 1059560116, 'lat': 48.1398009, 'lon': 11.5749299}, {'type': 'node', 'id': 1059560119, 'lat': 48.139484, 'lon': 11.5755559}, {'type': 'node', 'id': 1059560124, 'lat': 48.1400801, 'lon': 11.574973}, {'type': 'node', 'id': 1059560160, 'lat': 48.1404212, 'lon': 11.5759612}, {'type': 'node', 'id': 1059560182, 'lat': 48.1404157, 'lon': 11.5749148}, {'type': 'node', 'id': 1059560224, 'lat': 48.1399553, 'lon': 11.575245}, {'type': 'node', 'id': 1059560233, 'lat': 48.1400791, 'lon': 11.5760221}, {'type': 'node', 'id': 1059560248, 'lat': 48.1397096, 'lon': 11.5751967}, {'type': 'node', 'id': 1059560253, 'lat': 48.1403609, 'lon': 11.5750962}, {'type': 'node', 'id': 1059560274, 'lat': 48.1396171, 'lon': 11.5755388}, {'type': 'node', 'id': 1059560287, 'lat': 48.1396544, 'lon': 11.5754088}, {'type': 'node', 'id': 1059560297, 'lat': 48.1397408, 'lon': 11.5745761}, {'type': 'node', 'id': 1059560327, 'lat': 48.1406214, 'lon': 11.5753156}, {'type': 'node', 'id': 1059560343, 'lat': 48.1398291, 'lon': 11.5748238}, {'type': 'node', 'id': 1059560348, 'lat': 48.140138, 'lon': 11.5750057}, {'type': 'node', 'id': 1059560352, 'lat': 48.1397571, 'lon': 11.5745866}, {'type': 'node', 'id': 1059560357, 'lat': 48.1401088, 'lon': 11.5752119}, {'type': 'node', 'id': 1059560405, 'lat': 48.1407675, 'lon': 11.574845}, {'type': 'node', 'id': 1059560412, 'lat': 48.1400284, 'lon': 11.5759925}, {'type': 'node', 'id': 1059560431, 'lat': 48.1401358, 'lon': 11.575842}, {'type': 'node', 'id': 1059560435, 'lat': 48.1397408, 'lon': 11.5750848}, {'type': 'node', 'id': 1059560439, 'lat': 48.1401091, 'lon': 11.5751115}, {'type': 'node', 'id': 1059560478, 'lat': 48.1405547, 'lon': 11.5755307}, {'type': 'node', 'id': 1059560488, 'lat': 48.1398957, 'lon': 11.5754466}, {'type': 'node', 'id': 1059560495, 'lat': 48.1399671, 'lon': 11.5757412}, {'type': 'node', 'id': 1059560508, 'lat': 48.1402018, 'lon': 11.5748758}, {'type': 'node', 'id': 1059560518, 'lat': 48.1402606, 'lon': 11.5754284}, {'type': 'node', 'id': 1059560551, 'lat': 48.1400315, 'lon': 11.5757792}, {'type': 'node', 'id': 1059560558, 'lat': 48.1396254, 'lon': 11.5750145}, {'type': 'node', 'id': 1059560562, 'lat': 48.1401139, 'lon': 11.5748229}, {'type': 'node', 'id': 1059560581, 'lat': 48.1397977, 'lon': 11.5754925}, {'type': 'node', 'id': 1059560582, 'lat': 48.1401438, 'lon': 11.5748387}, {'type': 'node', 'id': 1059560603, 'lat': 48.1406553, 'lon': 11.5752065}, {'type': 'node', 'id': 1059560604, 'lat': 48.1404417, 'lon': 11.5746248}, {'type': 'node', 'id': 1059560617, 'lat': 48.1399665, 'lon': 11.5752012}, {'type': 'node', 'id': 1059560618, 'lat': 48.1400117, 'lon': 11.57476}, {'type': 'node', 'id': 1059560622, 'lat': 48.1397832, 'lon': 11.5758724}, {'type': 'node', 'id': 1059560634, 'lat': 48.1397638, 'lon': 11.5756228}, {'type': 'node', 'id': 1059560650, 'lat': 48.1405813, 'lon': 11.5763079}, {'type': 'node', 'id': 1059560671, 'lat': 48.1395243, 'lon': 11.5757355}, {'type': 'node', 'id': 1059560675, 'lat': 48.1400095, 'lon': 11.5750522}, {'type': 'node', 'id': 1059560705, 'lat': 48.1401559, 'lon': 11.575364}, {'type': 'node', 'id': 1059560712, 'lat': 48.1399463, 'lon': 11.5754762}, {'type': 'node', 'id': 1059560725, 'lat': 48.139912, 'lon': 11.5759282}, {'type': 'node', 'id': 1059560731, 'lat': 48.1398741, 'lon': 11.5751776}, {'type': 'node', 'id': 1059560747, 'lat': 48.1399849, 'lon': 11.5751408}, {'type': 'node', 'id': 1059560754, 'lat': 48.1400787, 'lon': 11.57532}, {'type': 'node', 'id': 1059560762, 'lat': 48.1398195, 'lon': 11.5748603}, {'type': 'node', 'id': 1059560780, 'lat': 48.1405089, 'lon': 11.5756784}, {'type': 'node', 'id': 1059560793, 'lat': 48.1399996, 'lon': 11.5752713}, {'type': 'node', 'id': 1059560802, 'lat': 48.139885, 'lon': 11.5756941}, {'type': 'node', 'id': 1059560830, 'lat': 48.1398473, 'lon': 11.5752809}, {'type': 'node', 'id': 1059560831, 'lat': 48.1401595, 'lon': 11.5747659}, {'type': 'node', 'id': 1059560846, 'lat': 48.1401725, 'lon': 11.5749703}, {'type': 'node', 'id': 1059560862, 'lat': 48.1396905, 'lon': 11.5747653}, {'type': 'node', 'id': 1059560885, 'lat': 48.1401422, 'lon': 11.5747211}, {'type': 'node', 'id': 1059560900, 'lat': 48.1398386, 'lon': 11.5756664}, {'type': 'node', 'id': 1059560944, 'lat': 48.1406378, 'lon': 11.5760986}, {'type': 'node', 'id': 1080582499, 'lat': 48.1399942, 'lon': 11.5767229}, {'type': 'node', 'id': 1080582508, 'lat': 48.1400331, 'lon': 11.5770966}, {'type': 'node', 'id': 1080582517, 'lat': 48.1399283, 'lon': 11.5767799}, {'type': 'node', 'id': 1080582648, 'lat': 48.1399827, 'lon': 11.5770905}, {'type': 'node', 'id': 1080582782, 'lat': 48.1400608, 'lon': 11.5769355}, {'type': 'node', 'id': 1080582827, 'lat': 48.1400059, 'lon': 11.5773655}, {'type': 'node', 'id': 1080582857, 'lat': 48.1399028, 'lon': 11.5767055}, {'type': 'node', 'id': 1080582872, 'lat': 48.1399371, 'lon': 11.5767118}, {'type': 'node', 'id': 1080582910, 'lat': 48.1400866, 'lon': 11.5767532}, {'type': 'node', 'id': 1080582943, 'lat': 48.1398662, 'lon': 11.5766925}, {'type': 'node', 'id': 1080582966, 'lat': 48.1399806, 'lon': 11.5767951}, {'type': 'node', 'id': 1080583021, 'lat': 48.1398949, 'lon': 11.5765299}, {'type': 'node', 'id': 1080583040, 'lat': 48.1399973, 'lon': 11.5769459}, {'type': 'node', 'id': 1080583055, 'lat': 48.1400063, 'lon': 11.5769189}, {'type': 'node', 'id': 1080583105, 'lat': 48.1399286, 'lon': 11.5765419}, {'type': 'node', 'id': 1080583117, 'lat': 48.1399051, 'lon': 11.5769286}, {'type': 'node', 'id': 1121737088, 'lat': 48.1395655, 'lon': 11.5767063}, {'type': 'node', 'id': 1121737090, 'lat': 48.13957, 'lon': 11.5766771}, {'type': 'node', 'id': 1121737112, 'lat': 48.1394816, 'lon': 11.5756669}, {'type': 'node', 'id': 1121737116, 'lat': 48.1394972, 'lon': 11.5757075}, {'type': 'node', 'id': 2214481297, 'lat': 48.1397977, 'lon': 11.5764053}, {'type': 'node', 'id': 2285922446, 'lat': 48.1395941, 'lon': 11.5746047}, {'type': 'node', 'id': 2285922449, 'lat': 48.1396938, 'lon': 11.5771745}, {'type': 'node', 'id': 2285922451, 'lat': 48.1397599, 'lon': 11.5773389}, {'type': 'node', 'id': 2498525330, 'lat': 48.1395745, 'lon': 11.5746811}, {'type': 'node', 'id': 2699063552, 'lat': 48.1397638, 'lon': 11.5766563}, {'type': 'node', 'id': 2699063554, 'lat': 48.1398203, 'lon': 11.5749419}, {'type': 'node', 'id': 2699063556, 'lat': 48.13985, 'lon': 11.574835}, {'type': 'node', 'id': 2830215514, 'lat': 48.1398969, 'lon': 11.5773533}, {'type': 'node', 'id': 2830215556, 'lat': 48.1399844, 'lon': 11.577363}, {'type': 'node', 'id': 3652562495, 'lat': 48.1396438, 'lon': 11.5763788}, {'type': 'node', 'id': 3652562496, 'lat': 48.1399064, 'lon': 11.5764594}, {'type': 'node', 'id': 3652562497, 'lat': 48.1400359, 'lon': 11.5762436}, {'type': 'node', 'id': 3689034551, 'lat': 48.1394866, 'lon': 11.5756855}, {'type': 'node', 'id': 3689034593, 'lat': 48.1403708, 'lon': 11.5761884}, {'type': 'node', 'id': 3720343410, 'lat': 48.1400288, 'lon': 11.5771393}, {'type': 'node', 'id': 3890230577, 'lat': 48.1401273, 'lon': 11.5750481}, {'type': 'node', 'id': 3936361490, 'lat': 48.1400865, 'lon': 11.5758106}, {'type': 'node', 'id': 5157560097, 'lat': 48.1394915, 'lon': 11.5745455}, {'type': 'node', 'id': 6149588458, 'lat': 48.1397711, 'lon': 11.5751038}, {'type': 'node', 'id': 6149588459, 'lat': 48.1397863, 'lon': 11.5750509}, {'type': 'node', 'id': 6149588460, 'lat': 48.1398158, 'lon': 11.575065}, {'type': 'node', 'id': 6149588461, 'lat': 48.1398015, 'lon': 11.5751313}, {'type': 'node', 'id': 6149612641, 'lat': 48.1400784, 'lon': 11.5768113}, {'type': 'node', 'id': 6149612643, 'lat': 48.139995, 'lon': 11.5764842}, {'type': 'node', 'id': 6149612644, 'lat': 48.1399839, 'lon': 11.5769432}, {'type': 'node', 'id': 6149612648, 'lat': 48.14005, 'lon': 11.5767412}, {'type': 'node', 'id': 6149612649, 'lat': 48.139983, 'lon': 11.5767825}, {'type': 'node', 'id': 6149612650, 'lat': 48.1400053, 'lon': 11.5770932}, {'type': 'node', 'id': 6149612651, 'lat': 48.1400251, 'lon': 11.5769246}, {'type': 'node', 'id': 10180538988, 'lat': 48.1395054, 'lon': 11.5754738}, {'type': 'node', 'id': 11030763823, 'lat': 48.1405141, 'lon': 11.5760201}, {'type': 'node', 'id': 11900449258, 'lat': 48.1395101, 'lon': 11.5759806}, {'type': 'way', 'id': 4054817, 'nodes': [21486944, 2545258014, 2545258017, 4348232951, 2950486585, 282341977, 21486945, 8220727414, 2950486587, 2950486605, 8220727413, 21486942, 618914977, 2950486612, 4348232954, 2950486614, 21486943, 2950486613, 21486944]}, {'type': 'way', 'id': 23632633, 'nodes': [256017931, 5727891509, 2327527226, 2327527223, 2586658038, 2327527181, 2327527186, 256017934, 2327527125, 2327527127, 2327527090, 2327527081, 2327527083, 2327527045, 2327527031, 256017933, 2330734954, 2330734955, 2330734960, 2330734969, 2330734979, 2330734991, 2330735001, 2330735009, 2330735019, 2330735031, 2330735038, 2330735049, 2330735058, 2327527035, 2330735075, 2330735084, 1158911965, 7135835428, 2329698153, 1158911942, 2329698149, 2329698148, 2329698150, 7135835427, 2330735089, 7135835426, 2329698165, 2329698163, 2329698166, 2329698168, 2329698173, 2329698174, 1158912010, 2330735094, 1158911987, 2329698206, 2329698208, 1158912068, 256017932, 2329698212, 2329698216, 1158912016, 1158911991, 2327527079, 2518709189, 703294139, 2327527133, 7037043111, 2327527214, 256017931]}, {'type': 'way', 'id': 30608708, 'nodes': [338458436, 2545258016, 2545258015, 2545319984, 1128921291, 338458442, 338458445, 338458567, 2810123431, 2810123428, 663977686, 338458451, 338458455, 338458568, 1128921317, 338458457, 338458436]}, {'type': 'way', 'id': 35031257, 'nodes': [410874364, 2545319977, 1121737122, 2545319965, 2545319959, 21486944, 2950486613, 21486943, 2515092926, 410874361, 2515092929, 2373874262, 2373874254, 410874365, 410874369, 1121737041, 410874364]}, {'type': 'way', 'id': 35031259, 'nodes': [410874370, 410874373, 410874372, 410874371, 410874370]}, {'type': 'way', 'id': 35031260, 'nodes': [410874379, 2327527121, 2586658026, 410874376, 2327527106, 2327527102, 410874377, 410874378, 1158912013, 2327527119, 410874379]}, {'type': 'way', 'id': 35031261, 'nodes': [410874380, 2586658034, 410874382, 2327527142, 2327527140, 1158911935, 410874383, 2586658030, 410874381, 410874380]}, {'type': 'way', 'id': 35031262, 'nodes': [410874384, 2327527088, 410874385, 410874386, 1158911973, 1158911998, 410874390, 410874391, 7037043110, 410874387, 2327527159, 2327527152, 2327527131, 2327527138, 410874388, 1158911941, 1158911969, 2327527112, 1158911984, 1158911968, 410874389, 2285922418, 2285922417, 7037043112, 410874384]}, {'type': 'way', 'id': 78592020, 'nodes': [922090770, 922090767, 922090766, 922090768, 922090770]}, {'type': 'way', 'id': 80965534, 'nodes': [944005471, 2498525280, 2868855104, 944005920, 944005790, 944005880, 944005557, 944005668, 2498525289, 944006020, 944005933, 2545258035, 944006007, 7027262412, 944005813, 2546598968, 2546598951, 2810123412, 2810123413, 7027262413, 2810123417, 2546598954, 944005471]}, {'type': 'way', 'id': 178283541, 'nodes': [1886509250, 1886509249, 1886509246, 1886509243, 1886509242, 1886509241, 1886509251, 1886509252, 2868854686, 1886509253, 1886509245, 1886509250]}, {'type': 'way', 'id': 219431688, 'nodes': [2285922422, 2285922421, 2285922420, 2285922424, 2285922422]}, {'type': 'way', 'id': 219431690, 'nodes': [2285922416, 2329698218, 2285922414, 2285922412, 2285922408, 2285922413, 2285922411, 2285922407, 2285922410, 2285922416]}, {'type': 'way', 'id': 291585569, 'nodes': [2950486592, 2950486597, 2950486596, 2950486590, 2950486570, 2950486567, 2950486566, 2950486571, 2950486592]}, {'type': 'way', 'id': 291585572, 'nodes': [2950486595, 2950486599, 2950486598, 2950486593, 2950486568, 2950486564, 2950486565, 2950486569, 2950486595]}, {'type': 'way', 'id': 291585573, 'nodes': [2950486567, 2950486581]}, {'type': 'way', 'id': 291585576, 'nodes': [2950486596, 2950486581]}, {'type': 'way', 'id': 291585579, 'nodes': [2950486590, 2950486581]}, {'type': 'way', 'id': 291585580, 'nodes': [2950486597, 2950486581]}, {'type': 'way', 'id': 291585582, 'nodes': [2950486592, 2950486581]}, {'type': 'way', 'id': 291585585, 'nodes': [2950486571, 2950486581]}, {'type': 'way', 'id': 291585586, 'nodes': [2950486566, 2950486581]}, {'type': 'way', 'id': 291585587, 'nodes': [2950486570, 2950486581]}, {'type': 'way', 'id': 444984116, 'nodes': [2868855106, 2830081095, 7027262415, 6939257860, 2546598958, 2830081073, 944005460, 6939257861, 7027262414, 2830081089, 944005648, 2868855106]}]}\n"
     ]
    }
   ],
   "source": [
    "import requests\n",
    "\n",
    "overpass_url = \"https://overpass-api.de/api/interpreter\"\n",
    "overpass_query = \"\"\"\n",
    "[out:json];\n",
    "(\n",
    "  way[\"building\"](south,west,north,east);\n",
    "  relation[\"building\"](south,west,north,east);\n",
    ");\n",
    "out body;\n",
    ">;\n",
    "out skel qt;\n",
    "\"\"\"\n",
    "\n",
    "# Replace with your actual bounding box coordinates\n",
    "south, west, north, east = 48.137, 11.575, 48.140, 11.578\n",
    "query = overpass_query.replace(\"south\", str(south)).replace(\"west\", str(west)).replace(\"north\", str(north)).replace(\"east\", str(east))\n",
    "\n",
    "response = requests.post(overpass_url, data=query)\n",
    "data = response.json()\n",
    "\n",
    "# Process the data as needed\n",
    "print(data)"
   ]
  },
  {
   "cell_type": "code",
   "execution_count": 24,
   "metadata": {},
   "outputs": [
    {
     "data": {
      "text/plain": [
       "{'version': 0.6,\n",
       " 'generator': 'Overpass API 0.7.62.4 2390de5a',\n",
       " 'osm3s': {'timestamp_osm_base': '2025-02-04T19:06:02Z',\n",
       "  'copyright': 'The data included in this document is from www.openstreetmap.org. The data is made available under ODbL.'},\n",
       " 'elements': [{'type': 'way',\n",
       "   'id': 4054817,\n",
       "   'nodes': [21486944,\n",
       "    2545258014,\n",
       "    2545258017,\n",
       "    4348232951,\n",
       "    2950486585,\n",
       "    282341977,\n",
       "    21486945,\n",
       "    8220727414,\n",
       "    2950486587,\n",
       "    2950486605,\n",
       "    8220727413,\n",
       "    21486942,\n",
       "    618914977,\n",
       "    2950486612,\n",
       "    4348232954,\n",
       "    2950486614,\n",
       "    21486943,\n",
       "    2950486613,\n",
       "    21486944],\n",
       "   'tags': {'addr:city': 'München',\n",
       "    'addr:country': 'DE',\n",
       "    'addr:housenumber': '15',\n",
       "    'addr:postcode': '80331',\n",
       "    'addr:street': 'Marienplatz',\n",
       "    'architect': 'Jörg von Halspach',\n",
       "    'architect:wikidata': 'Q123464',\n",
       "    'building': 'government',\n",
       "    'building:architecture': 'gothic',\n",
       "    'building:levels': '2',\n",
       "    'height': '25',\n",
       "    'heritage': '4',\n",
       "    'heritage:operator': 'BLfD',\n",
       "    'layer': '1',\n",
       "    'name': 'Altes Rathaus',\n",
       "    'name:de': 'Altes Rathaus',\n",
       "    'name:en': 'Old Town Hall',\n",
       "    'name:es': 'Viejo Ayuntamiento',\n",
       "    'name:ru': 'Старая Ратуша',\n",
       "    'name:zh': '舊市政廳',\n",
       "    'opening_hours': 'Su-Fr 09:00-21:30',\n",
       "    'ref:BLfD': 'D-1-62-000-4289',\n",
       "    'roof:shape': 'gabled',\n",
       "    'start_date': '1475',\n",
       "    'tourism': 'attraction',\n",
       "    'wheelchair': 'limited',\n",
       "    'wikidata': 'Q439458',\n",
       "    'wikimedia_commons': 'Category:Altes Rathaus (München)',\n",
       "    'wikipedia': 'de:Altes Rathaus (München)'}},\n",
       "  {'type': 'way',\n",
       "   'id': 48966941,\n",
       "   'nodes': [2285922444,\n",
       "    1059560256,\n",
       "    2285922443,\n",
       "    5157560095,\n",
       "    2285922442,\n",
       "    3688974745,\n",
       "    1121737063,\n",
       "    2285922444],\n",
       "   'tags': {'building': 'retail',\n",
       "    'building:levels': '5',\n",
       "    'roof:levels': '0',\n",
       "    'roof:shape': 'gabled'}},\n",
       "  {'type': 'way',\n",
       "   'id': 79401251,\n",
       "   'nodes': [927061658,\n",
       "    2345352206,\n",
       "    927061690,\n",
       "    3893571142,\n",
       "    256017117,\n",
       "    256017126,\n",
       "    256017119,\n",
       "    2810124998,\n",
       "    8178603122,\n",
       "    256017120,\n",
       "    2545258021,\n",
       "    3893571131,\n",
       "    2196730199,\n",
       "    3893571130,\n",
       "    2545258020,\n",
       "    261030698,\n",
       "    8178603121,\n",
       "    927061658],\n",
       "   'tags': {'addr:city': 'München',\n",
       "    'addr:country': 'DE',\n",
       "    'addr:housenumber': '3',\n",
       "    'addr:postcode': '80331',\n",
       "    'addr:street': 'Alter Hof',\n",
       "    'building': 'yes',\n",
       "    'building:part': 'yes',\n",
       "    'description': 'Älteste Münchner Residenz der Wittelsbacher (seit Mitte 13. Jahrhundert). Burgstock (Südflügel) samt Turm und Erker spätgotisch (um 1460/70), auf älterer Grundlage; Zwingerstock (Westflügel) im Kern 14. Jahrhundert; an beiden erneuerte Fassadenmalerei'}},\n",
       "  {'type': 'way',\n",
       "   'id': 79401254,\n",
       "   'nodes': [927061692,\n",
       "    1389800352,\n",
       "    927061635,\n",
       "    2545258024,\n",
       "    2498525100,\n",
       "    927061692],\n",
       "   'tags': {'addr:city': 'München',\n",
       "    'addr:country': 'DE',\n",
       "    'addr:housenumber': '16',\n",
       "    'addr:postcode': '80331',\n",
       "    'addr:street': 'Dienerstraße',\n",
       "    'building': 'apartments',\n",
       "    'building:levels': '4',\n",
       "    'heritage': '4',\n",
       "    'heritage:operator': 'BLfD',\n",
       "    'ref:BLfD': 'D-1-62-000-1284',\n",
       "    'roof:levels': '1',\n",
       "    'roof:shape': 'gabled',\n",
       "    'wikidata': 'Q41175436'}},\n",
       "  {'type': 'way',\n",
       "   'id': 79401255,\n",
       "   'nodes': [927061537,\n",
       "    2545257990,\n",
       "    927061582,\n",
       "    2545257977,\n",
       "    2545257979,\n",
       "    1389800360,\n",
       "    927061713,\n",
       "    927061537],\n",
       "   'tags': {'addr:city': 'München',\n",
       "    'addr:country': 'DE',\n",
       "    'addr:postcode': '80331',\n",
       "    'addr:street': 'Burgstraße',\n",
       "    'building': 'apartments',\n",
       "    'building:levels': '6',\n",
       "    'description': 'Ehemaliges Falkenhaus, Bau des 16. Jh. seit 1574 in herzöglichem Besitz',\n",
       "    'heritage': '4',\n",
       "    'heritage:operator': 'BLfD',\n",
       "    'image': 'https://de.wikipedia.org/wiki/Datei:Burgstr12_M%C3%BCnchen.jpg',\n",
       "    'ref:BLfD': 'D-1-62-000-1039',\n",
       "    'roof:levels': '0',\n",
       "    'roof:shape': 'gabled'}},\n",
       "  {'type': 'way',\n",
       "   'id': 79401256,\n",
       "   'nodes': [927061480,\n",
       "    927061713,\n",
       "    927061537,\n",
       "    8220452976,\n",
       "    2545258020,\n",
       "    3893571130,\n",
       "    2196730199,\n",
       "    3893571131,\n",
       "    2545258021,\n",
       "    927061598,\n",
       "    2545257976,\n",
       "    256017122,\n",
       "    927061531,\n",
       "    927061709,\n",
       "    927061762,\n",
       "    927061480],\n",
       "   'tags': {'building': 'apartments',\n",
       "    'building:levels': '5',\n",
       "    'roof:levels': '1',\n",
       "    'roof:shape': 'gabled'}},\n",
       "  {'type': 'way',\n",
       "   'id': 79401259,\n",
       "   'nodes': [2498525185,\n",
       "    2498525207,\n",
       "    2545258027,\n",
       "    927061751,\n",
       "    927061702,\n",
       "    2545258026,\n",
       "    2545258028,\n",
       "    1612244782,\n",
       "    3893571140,\n",
       "    931716083,\n",
       "    256017124,\n",
       "    2545258029,\n",
       "    2810123421,\n",
       "    256017117,\n",
       "    3893571142,\n",
       "    927061690,\n",
       "    2545258025,\n",
       "    927061803,\n",
       "    2345352205,\n",
       "    1389800300,\n",
       "    2498525193,\n",
       "    2498525179,\n",
       "    2498525185],\n",
       "   'tags': {'addr:city': 'München',\n",
       "    'addr:postcode': '80331',\n",
       "    'addr:street': 'Dienerstraße',\n",
       "    'building': 'yes',\n",
       "    'building:colour': 'white',\n",
       "    'building:levels': '4',\n",
       "    'description': 'Westlicher Annex des Alten Hofes, sogenannter Estererbau; siehe Alter Hof, Lorenzistock.',\n",
       "    'heritage': '4',\n",
       "    'heritage:operator': 'BLfD',\n",
       "    'image': 'https://de.wikipedia.org/wiki/Datei:Dienerstr12_M%C3%BCnchen.jpg',\n",
       "    'roof:levels': '2',\n",
       "    'roof:shape': 'hipped',\n",
       "    'wheelchair': 'yes'}},\n",
       "  {'type': 'way',\n",
       "   'id': 79401262,\n",
       "   'nodes': [1389918667,\n",
       "    1389918665,\n",
       "    1389800313,\n",
       "    1389800352,\n",
       "    927061692,\n",
       "    927061631,\n",
       "    2515092938,\n",
       "    927061441,\n",
       "    927061548,\n",
       "    1389800310,\n",
       "    1389800364,\n",
       "    1389800346,\n",
       "    1389918667],\n",
       "   'tags': {'building': 'retail',\n",
       "    'building:levels': '4',\n",
       "    'roof:levels': '0',\n",
       "    'roof:shape': 'hipped'}},\n",
       "  {'type': 'way',\n",
       "   'id': 80965510,\n",
       "   'nodes': [944006032,\n",
       "    944005663,\n",
       "    2545258001,\n",
       "    944005621,\n",
       "    944005465,\n",
       "    11933568853,\n",
       "    11933568852,\n",
       "    944005505,\n",
       "    944006050,\n",
       "    944006032],\n",
       "   'tags': {'building': 'apartments',\n",
       "    'building:levels': '4',\n",
       "    'heritage': '4',\n",
       "    'heritage:operator': 'BLfD',\n",
       "    'ref:BLfD': 'D-1-62-000-1034',\n",
       "    'roof:colour': 'darkgray',\n",
       "    'roof:levels': '1',\n",
       "    'roof:shape': 'gabled',\n",
       "    'wikidata': 'Q41175389',\n",
       "    'wikimedia_commons': 'File:Burgstr3 München.jpg'}},\n",
       "  {'type': 'way',\n",
       "   'id': 80965514,\n",
       "   'nodes': [944005766,\n",
       "    944005874,\n",
       "    944005951,\n",
       "    944006001,\n",
       "    2285922427,\n",
       "    944005766],\n",
       "   'tags': {'addr:city': 'München',\n",
       "    'addr:country': 'DE',\n",
       "    'addr:postcode': '80333',\n",
       "    'addr:street': 'Schäfflerstraße',\n",
       "    'building': 'apartments',\n",
       "    'building:colour': '#F3E5AB',\n",
       "    'building:levels': '5',\n",
       "    'nohousenumber': 'yes',\n",
       "    'roof:levels': '0',\n",
       "    'roof:shape': 'gabled'}},\n",
       "  {'type': 'way',\n",
       "   'id': 80965517,\n",
       "   'nodes': [944005825,\n",
       "    944006067,\n",
       "    11900537101,\n",
       "    11900537100,\n",
       "    944005581,\n",
       "    944006010,\n",
       "    944005626,\n",
       "    944005825],\n",
       "   'tags': {'building': 'yes'}},\n",
       "  {'type': 'way',\n",
       "   'id': 80965518,\n",
       "   'nodes': [944005726,\n",
       "    944005748,\n",
       "    944006078,\n",
       "    944005664,\n",
       "    11933568857,\n",
       "    11933568856,\n",
       "    11933568855,\n",
       "    11933568854,\n",
       "    944006032,\n",
       "    944005663,\n",
       "    944005612,\n",
       "    944005726],\n",
       "   'tags': {'addr:city': 'München',\n",
       "    'addr:housenumber': '1',\n",
       "    'addr:street': 'Burgstraße',\n",
       "    'building': 'apartments',\n",
       "    'building:levels': '5',\n",
       "    'roof:shape': 'gabled'}},\n",
       "  {'type': 'way',\n",
       "   'id': 80965521,\n",
       "   'nodes': [944005502,\n",
       "    944005976,\n",
       "    944005566,\n",
       "    944005681,\n",
       "    3652562496,\n",
       "    944006044,\n",
       "    944005669,\n",
       "    2214481297,\n",
       "    944005502],\n",
       "   'tags': {'building': 'office', 'building:levels': '6', 'roof:levels': '2'}},\n",
       "  {'type': 'way',\n",
       "   'id': 80965522,\n",
       "   'nodes': [944005827,\n",
       "    2545258000,\n",
       "    944005621,\n",
       "    944005465,\n",
       "    4602648473,\n",
       "    4602648472,\n",
       "    944005711,\n",
       "    4602648475,\n",
       "    4602648474,\n",
       "    944005827],\n",
       "   'tags': {'addr:city': 'München',\n",
       "    'addr:country': 'DE',\n",
       "    'addr:housenumber': '5',\n",
       "    'addr:postcode': '80331',\n",
       "    'addr:street': 'Burgstraße',\n",
       "    'building': 'yes',\n",
       "    'building:architecture': 'renaissance',\n",
       "    'building:levels': '6',\n",
       "    'heritage': '4',\n",
       "    'heritage:operator': 'BLfD',\n",
       "    'historic': 'yes',\n",
       "    'image': 'https://de.wikipedia.org/wiki/Datei:Muenchen_Burgstrasse_Weinstadl.jpg',\n",
       "    'ref:BLfD': 'D-1-62-000-1035',\n",
       "    'roof:shape': 'gabled',\n",
       "    'start_date': '1550'}},\n",
       "  {'type': 'way',\n",
       "   'id': 80965525,\n",
       "   'nodes': [2285922451,\n",
       "    944005509,\n",
       "    2285922449,\n",
       "    944005485,\n",
       "    944005965,\n",
       "    944005709,\n",
       "    2285922451],\n",
       "   'tags': {'building': 'office',\n",
       "    'building:levels': '5',\n",
       "    'roof:levels': '2',\n",
       "    'roof:shape': 'quadruple_saltbox'}},\n",
       "  {'type': 'way',\n",
       "   'id': 80965543,\n",
       "   'nodes': [944005879,\n",
       "    11900537102,\n",
       "    944005584,\n",
       "    944006064,\n",
       "    1121737088,\n",
       "    1121737090,\n",
       "    944005807,\n",
       "    944005879],\n",
       "   'tags': {'addr:city': 'München',\n",
       "    'addr:country': 'DE',\n",
       "    'addr:housenumber': '5',\n",
       "    'addr:postcode': '80333',\n",
       "    'addr:street': 'Perusastraße',\n",
       "    'architect': 'Heilmann & Littmann',\n",
       "    'architect:wikidata': 'Q1595419',\n",
       "    'building': 'apartments',\n",
       "    'building:levels': '5',\n",
       "    'heritage': '4',\n",
       "    'heritage:operator': 'BLfD',\n",
       "    'image': 'https://de.wikipedia.org/wiki/Datei:Perusastr5_Muenchen-01.jpg',\n",
       "    'ref:BLfD': 'D-1-62-000-5218',\n",
       "    'roof:levels': '1',\n",
       "    'roof:shape': 'gabled',\n",
       "    'start_date': '1910'}},\n",
       "  {'type': 'way',\n",
       "   'id': 80965548,\n",
       "   'nodes': [944005585,\n",
       "    944005884,\n",
       "    944005541,\n",
       "    944005921,\n",
       "    944005965,\n",
       "    944005485,\n",
       "    944005585],\n",
       "   'tags': {'addr:housenumber': '3',\n",
       "    'addr:street': 'Perusastraße',\n",
       "    'building': 'apartments',\n",
       "    'building:levels': '5',\n",
       "    'roof:levels': '0',\n",
       "    'roof:shape': 'gabled'}},\n",
       "  {'type': 'way',\n",
       "   'id': 80965552,\n",
       "   'nodes': [944005566,\n",
       "    944005976,\n",
       "    3652562497,\n",
       "    622503338,\n",
       "    944005930,\n",
       "    6149612643,\n",
       "    944005566],\n",
       "   'tags': {'building': 'office'}},\n",
       "  {'type': 'way',\n",
       "   'id': 80965562,\n",
       "   'nodes': [944005700,\n",
       "    11900537098,\n",
       "    11900537097,\n",
       "    944006075,\n",
       "    944005525,\n",
       "    944005895,\n",
       "    944005990,\n",
       "    944005682,\n",
       "    944005798,\n",
       "    3652562493,\n",
       "    3652562492,\n",
       "    944005482,\n",
       "    11900537114,\n",
       "    11900537113,\n",
       "    11900537112,\n",
       "    11900537111,\n",
       "    944005569,\n",
       "    944006005,\n",
       "    944005728,\n",
       "    944005615,\n",
       "    11900537115,\n",
       "    944005731,\n",
       "    944005940,\n",
       "    944006083,\n",
       "    944005700],\n",
       "   'tags': {'building': 'yes'}},\n",
       "  {'type': 'way',\n",
       "   'id': 80965573,\n",
       "   'nodes': [944006049,\n",
       "    11900449260,\n",
       "    944005677,\n",
       "    10816259012,\n",
       "    944005825,\n",
       "    11900449259,\n",
       "    1121737087,\n",
       "    944006075,\n",
       "    11900537097,\n",
       "    11900537098,\n",
       "    944005700,\n",
       "    10816259013,\n",
       "    11900449261,\n",
       "    944005889,\n",
       "    944006049],\n",
       "   'tags': {'building': 'yes',\n",
       "    'building:colour': '#FFFFE0',\n",
       "    'building:levels': '6'}},\n",
       "  {'type': 'way',\n",
       "   'id': 80965574,\n",
       "   'nodes': [944005929,\n",
       "    944006033,\n",
       "    944005684,\n",
       "    944006061,\n",
       "    2545257991,\n",
       "    944005929],\n",
       "   'tags': {'addr:city': 'München',\n",
       "    'addr:country': 'DE',\n",
       "    'addr:postcode': '80331',\n",
       "    'addr:street': 'Altenhofstraße',\n",
       "    'building': 'yes',\n",
       "    'heritage': '4',\n",
       "    'heritage:operator': 'BLfD',\n",
       "    'image': 'https://de.wikipedia.org/wiki/Datei:Altenhofstr4_M%C3%BCnchen.jpg',\n",
       "    'ref:BLfD': 'D-1-62-000-215'}},\n",
       "  {'type': 'way',\n",
       "   'id': 80965578,\n",
       "   'nodes': [2545258004,\n",
       "    944005628,\n",
       "    2545258008,\n",
       "    944006022,\n",
       "    2545258007,\n",
       "    2545258004],\n",
       "   'tags': {'building': 'retail',\n",
       "    'building:architecture': 'baroque',\n",
       "    'building:levels': '4',\n",
       "    'heritage': '4',\n",
       "    'heritage:operator': 'BLfD',\n",
       "    'ref:BLfD': 'D-1-62-000-1288',\n",
       "    'roof:levels': '1',\n",
       "    'roof:shape': 'gabled',\n",
       "    'wheelchair': 'yes',\n",
       "    'wikimedia_commons': 'File:Dienerstr22 München.jpg'}},\n",
       "  {'type': 'way',\n",
       "   'id': 80965579,\n",
       "   'nodes': [944005744, 944005697, 944006031, 944005918, 944005939, 944005744],\n",
       "   'tags': {'building': 'apartments',\n",
       "    'building:levels': '6',\n",
       "    'name': 'Lesmüllerhaus',\n",
       "    'roof:levels': '1',\n",
       "    'roof:shape': 'gabled'}},\n",
       "  {'type': 'way',\n",
       "   'id': 80965587,\n",
       "   'nodes': [944005874,\n",
       "    944006084,\n",
       "    944005572,\n",
       "    944006063,\n",
       "    12093032370,\n",
       "    944005831,\n",
       "    944005874],\n",
       "   'tags': {'building': 'yes'}},\n",
       "  {'type': 'way',\n",
       "   'id': 80965593,\n",
       "   'nodes': [944005798,\n",
       "    11900537104,\n",
       "    11900537106,\n",
       "    11900537105,\n",
       "    944005652,\n",
       "    944005580,\n",
       "    3652562494,\n",
       "    944005597,\n",
       "    944005521,\n",
       "    944005682,\n",
       "    944005798],\n",
       "   'tags': {'building': 'yes'}},\n",
       "  {'type': 'way',\n",
       "   'id': 80965594,\n",
       "   'nodes': [944005966,\n",
       "    944005684,\n",
       "    944006033,\n",
       "    944006042,\n",
       "    944005977,\n",
       "    944005698,\n",
       "    2545257998,\n",
       "    944005966],\n",
       "   'tags': {'addr:city': 'München',\n",
       "    'addr:country': 'DE',\n",
       "    'addr:housenumber': '19',\n",
       "    'addr:postcode': '80331',\n",
       "    'addr:street': 'Dienerstraße',\n",
       "    'building': 'house',\n",
       "    'building:levels': '5',\n",
       "    'heritage': '4',\n",
       "    'heritage:operator': 'BLfD',\n",
       "    'image': 'https://de.wikipedia.org/wiki/Datei:Dienerstr19_M%C3%BCnchen.jpg',\n",
       "    'ref:BLfD': 'D-1-62-000-1287',\n",
       "    'roof:levels': '1',\n",
       "    'roof:shape': 'gabled',\n",
       "    'start_date': '1898'}},\n",
       "  {'type': 'way',\n",
       "   'id': 80965602,\n",
       "   'nodes': [944005526,\n",
       "    3521912283,\n",
       "    1389918666,\n",
       "    944005827,\n",
       "    4602648474,\n",
       "    4602648475,\n",
       "    944005711,\n",
       "    2545257995,\n",
       "    2545257996,\n",
       "    944006042,\n",
       "    944006033,\n",
       "    944005929,\n",
       "    2545257997,\n",
       "    1389918668,\n",
       "    9344758405,\n",
       "    944005526],\n",
       "   'tags': {'addr:city': 'München',\n",
       "    'addr:country': 'DE',\n",
       "    'addr:housenumber': '7',\n",
       "    'addr:postcode': '80331',\n",
       "    'addr:street': 'Burgstraße',\n",
       "    'building': 'retail',\n",
       "    'building:levels': '5',\n",
       "    'roof:levels': '1',\n",
       "    'roof:shape': 'hipped'}},\n",
       "  {'type': 'way',\n",
       "   'id': 80965603,\n",
       "   'nodes': [944005953,\n",
       "    944005788,\n",
       "    944005646,\n",
       "    944005488,\n",
       "    11900537103,\n",
       "    11900537102,\n",
       "    944005879,\n",
       "    944005953],\n",
       "   'tags': {'addr:city': 'München',\n",
       "    'addr:country': 'DE',\n",
       "    'addr:postcode': '80333',\n",
       "    'addr:street': 'Residenzstraße',\n",
       "    'architect': 'Heilmann & Littmann',\n",
       "    'architect:wikidata': 'Q1595419',\n",
       "    'building': 'retail',\n",
       "    'building:levels': '5',\n",
       "    'description': 'Geschäftshaus in markanter Ecklage, reich gegliederte historisierende Natursteinfassaden, 1910/11 von Heilmann & Littmann; gestalterische Einheit mit Perusastraße 5.',\n",
       "    'heritage': '4',\n",
       "    'heritage:operator': 'BLfD',\n",
       "    'image': 'https://de.wikipedia.org/wiki/Datei:Residenzstr._10_Muenchen-1.jpg',\n",
       "    'name': 'Zechbauerhaus',\n",
       "    'ref:BLfD': 'D-1-62-000-5763',\n",
       "    'roof:levels': '2',\n",
       "    'roof:shape': 'hipped',\n",
       "    'start_date': '1911'}},\n",
       "  {'type': 'way',\n",
       "   'id': 80965613,\n",
       "   'nodes': [944005538, 944005856, 944005707, 944005817, 944005614, 944005538],\n",
       "   'tags': {'building': 'retail',\n",
       "    'building:colour': 'darkgrey',\n",
       "    'building:levels': '5',\n",
       "    'roof:levels': '1',\n",
       "    'roof:shape': 'gabled'}},\n",
       "  {'type': 'way',\n",
       "   'id': 80965619,\n",
       "   'nodes': [2546598954,\n",
       "    2545258034,\n",
       "    1313292360,\n",
       "    2498525270,\n",
       "    944005933,\n",
       "    944006020,\n",
       "    944005814,\n",
       "    944005462,\n",
       "    944005880,\n",
       "    944005790,\n",
       "    944005715,\n",
       "    944005599,\n",
       "    2498525280,\n",
       "    944005471,\n",
       "    2546598954],\n",
       "   'tags': {'addr:city': 'München',\n",
       "    'addr:country': 'DE',\n",
       "    'addr:postcode': '80333',\n",
       "    'addr:street': 'Residenzstraße',\n",
       "    'architect': 'Eugen Drollinger',\n",
       "    'architect:wikidata': 'Q126305',\n",
       "    'building': 'house',\n",
       "    'building:architecture': 'neorococo',\n",
       "    'building:levels': '4',\n",
       "    'heritage': '4',\n",
       "    'heritage:operator': 'BLfD',\n",
       "    'image': 'https://de.wikipedia.org/wiki/Datei:Residenzstr._3_Muenchen-1.jpg',\n",
       "    'ref:BLfD': 'D-1-62-000-5762',\n",
       "    'roof:levels': '1',\n",
       "    'roof:shape': 'hipped',\n",
       "    'start_date': '1905'}},\n",
       "  {'type': 'way',\n",
       "   'id': 80965620,\n",
       "   'nodes': [944006061,\n",
       "    944005684,\n",
       "    944005966,\n",
       "    944005957,\n",
       "    2545257992,\n",
       "    944006061],\n",
       "   'tags': {'building': 'yes',\n",
       "    'description': 'Eckbau, im Kern spätmittelalterlich, Schopfwalmdach und ehemalige Fassadengliederung wohl frühklassizistisch, Ende 18. Jahrhundert; vereinfacht.',\n",
       "    'heritage': '4',\n",
       "    'heritage:operator': 'BLfD',\n",
       "    'image': 'https://de.wikipedia.org/wiki/Datei:Dienerstr18_M%C3%BCnchen.jpg',\n",
       "    'ref:BLfD': 'D-1-62-000-1286'}},\n",
       "  {'type': 'way',\n",
       "   'id': 80965621,\n",
       "   'nodes': [944005646, 944005788, 944005761, 944005842, 944005846, 944005646],\n",
       "   'tags': {'addr:housenumber': '9',\n",
       "    'addr:street': 'Residenzstraße',\n",
       "    'building': 'retail',\n",
       "    'building:levels': '6',\n",
       "    'roof:levels': '1'}},\n",
       "  {'type': 'way',\n",
       "   'id': 80965625,\n",
       "   'nodes': [2699063552,\n",
       "    944005669,\n",
       "    944006044,\n",
       "    1080583021,\n",
       "    1080583105,\n",
       "    1080582857,\n",
       "    1080582943,\n",
       "    2699063552],\n",
       "   'tags': {'addr:housenumber': '1',\n",
       "    'addr:street': 'Perusastraße',\n",
       "    'building': 'apartments',\n",
       "    'building:levels': '5',\n",
       "    'roof:levels': '1',\n",
       "    'roof:shape': 'gabled'}},\n",
       "  {'type': 'way',\n",
       "   'id': 80965632,\n",
       "   'nodes': [2545258009,\n",
       "    1710336108,\n",
       "    944005628,\n",
       "    2545258004,\n",
       "    944006078,\n",
       "    944005748,\n",
       "    944005726,\n",
       "    944005849,\n",
       "    944005536,\n",
       "    944005996,\n",
       "    2545258010,\n",
       "    4944530680,\n",
       "    2545258009],\n",
       "   'tags': {'addr:city': 'München',\n",
       "    'addr:housenumber': '11',\n",
       "    'addr:postcode': '80331',\n",
       "    'addr:street': 'Marienplatz',\n",
       "    'building': 'retail',\n",
       "    'building:levels': '4',\n",
       "    'roof:colour': 'black',\n",
       "    'roof:levels': '1',\n",
       "    'roof:shape': 'quadruple_saltbox',\n",
       "    'wheelchair': 'yes'}},\n",
       "  {'type': 'way',\n",
       "   'id': 80965633,\n",
       "   'nodes': [944005874, 944005831, 944005491, 944005784, 944005951, 944005874],\n",
       "   'tags': {'addr:city': 'München',\n",
       "    'addr:country': 'DE',\n",
       "    'addr:housenumber': '3',\n",
       "    'addr:postcode': '80333',\n",
       "    'addr:street': 'Schäfflerstraße',\n",
       "    'building': 'yes',\n",
       "    'building:levels': '5',\n",
       "    'roof:shape': 'gabled'}},\n",
       "  {'type': 'way',\n",
       "   'id': 80965636,\n",
       "   'nodes': [944005801,\n",
       "    944005749,\n",
       "    2285922427,\n",
       "    944005766,\n",
       "    944005480,\n",
       "    944006084,\n",
       "    944005572,\n",
       "    944005617,\n",
       "    944005897,\n",
       "    944005801],\n",
       "   'tags': {'building': 'yes'}},\n",
       "  {'type': 'way',\n",
       "   'id': 80965639,\n",
       "   'nodes': [944005728,\n",
       "    944006005,\n",
       "    11900537110,\n",
       "    11900537109,\n",
       "    11900537108,\n",
       "    11900537107,\n",
       "    11900537106,\n",
       "    11900537105,\n",
       "    944005842,\n",
       "    944005761,\n",
       "    944005728],\n",
       "   'tags': {'addr:housenumber': '7',\n",
       "    'addr:street': 'Residenzstraße',\n",
       "    'building': 'retail',\n",
       "    'building:levels': '5',\n",
       "    'roof:levels': '2',\n",
       "    'roof:shape': 'gabled'}},\n",
       "  {'type': 'way',\n",
       "   'id': 80965641,\n",
       "   'nodes': [944005807,\n",
       "    1121737090,\n",
       "    1121737088,\n",
       "    944006064,\n",
       "    944005581,\n",
       "    944006010,\n",
       "    944005626,\n",
       "    944005697,\n",
       "    944005744,\n",
       "    3652562495,\n",
       "    944005457,\n",
       "    944005807],\n",
       "   'tags': {'building': 'apartments',\n",
       "    'building:levels': '5',\n",
       "    'roof:levels': '1',\n",
       "    'roof:shape': 'gabled'}},\n",
       "  {'type': 'way',\n",
       "   'id': 80965644,\n",
       "   'nodes': [944005918,\n",
       "    944006031,\n",
       "    944005677,\n",
       "    11900449260,\n",
       "    944006049,\n",
       "    11900449258,\n",
       "    944005918],\n",
       "   'tags': {'building': 'office', 'building:levels': '5', 'roof:levels': '1'}},\n",
       "  {'type': 'way',\n",
       "   'id': 80965646,\n",
       "   'nodes': [944005525,\n",
       "    11900537099,\n",
       "    944005713,\n",
       "    944005597,\n",
       "    3652562494,\n",
       "    944006067,\n",
       "    944005825,\n",
       "    11900449259,\n",
       "    1121737087,\n",
       "    944006075,\n",
       "    944005525],\n",
       "   'tags': {'building': 'yes'}},\n",
       "  {'type': 'way',\n",
       "   'id': 80965666,\n",
       "   'nodes': [944005749,\n",
       "    2285922427,\n",
       "    944006001,\n",
       "    944005630,\n",
       "    2285922426,\n",
       "    944005749],\n",
       "   'tags': {'building': 'apartments',\n",
       "    'building:colour': 'cream',\n",
       "    'building:levels': '6',\n",
       "    'roof:levels': '0',\n",
       "    'roof:shape': 'gabled'}},\n",
       "  {'type': 'way',\n",
       "   'id': 80965670,\n",
       "   'nodes': [944005479, 944005986, 944005894, 944005707, 944005817, 944005479],\n",
       "   'tags': {'building': 'yes'}},\n",
       "  {'type': 'way',\n",
       "   'id': 80965676,\n",
       "   'nodes': [944005977,\n",
       "    2545257994,\n",
       "    2545257993,\n",
       "    944005687,\n",
       "    944006045,\n",
       "    2545257999,\n",
       "    944005698,\n",
       "    944005977],\n",
       "   'tags': {'addr:city': 'München',\n",
       "    'addr:country': 'DE',\n",
       "    'addr:housenumber': '20',\n",
       "    'addr:postcode': '80331',\n",
       "    'addr:street': 'Dienerstraße',\n",
       "    'building': 'apartments',\n",
       "    'building:levels': '5',\n",
       "    'roof:shape': 'gabled'}},\n",
       "  {'type': 'way',\n",
       "   'id': 80965677,\n",
       "   'nodes': [944005921,\n",
       "    944005463,\n",
       "    944006060,\n",
       "    944005650,\n",
       "    1080583117,\n",
       "    944005541,\n",
       "    944005921],\n",
       "   'tags': {'building': 'yes'}},\n",
       "  {'type': 'way',\n",
       "   'id': 80965682,\n",
       "   'nodes': [944005846,\n",
       "    944006036,\n",
       "    944005488,\n",
       "    11900537103,\n",
       "    11900537102,\n",
       "    944005584,\n",
       "    944005580,\n",
       "    944005652,\n",
       "    11900537105,\n",
       "    944005842,\n",
       "    944005846],\n",
       "   'tags': {'building': 'yes'}},\n",
       "  {'type': 'way',\n",
       "   'id': 80965683,\n",
       "   'nodes': [2545258007,\n",
       "    944006022,\n",
       "    2545258002,\n",
       "    944006045,\n",
       "    944005687,\n",
       "    2545258007],\n",
       "   'tags': {'addr:city': 'München',\n",
       "    'addr:housenumber': '21',\n",
       "    'addr:street': 'Dienerstraße',\n",
       "    'building': 'apartments',\n",
       "    'building:levels': '5',\n",
       "    'roof:levels': '1',\n",
       "    'roof:shape': 'gabled',\n",
       "    'wheelchair': 'yes'}},\n",
       "  {'type': 'way',\n",
       "   'id': 85765737,\n",
       "   'nodes': [995536778,\n",
       "    995536765,\n",
       "    11862335233,\n",
       "    995536853,\n",
       "    703308518,\n",
       "    995536707,\n",
       "    995536674,\n",
       "    3961270305,\n",
       "    995536759,\n",
       "    995536778],\n",
       "   'tags': {'building': 'retail',\n",
       "    'building:levels': '3',\n",
       "    'roof:levels': '1',\n",
       "    'roof:shape': 'flat'}},\n",
       "  {'type': 'way',\n",
       "   'id': 85765743,\n",
       "   'nodes': [995536707,\n",
       "    995536678,\n",
       "    995536751,\n",
       "    995536841,\n",
       "    3961270303,\n",
       "    3961270304,\n",
       "    3961270302,\n",
       "    3961270301,\n",
       "    3961270300,\n",
       "    3961270299,\n",
       "    995536858,\n",
       "    995536674,\n",
       "    995536707],\n",
       "   'tags': {'addr:city': 'München',\n",
       "    'addr:country': 'DE',\n",
       "    'addr:postcode': '80333',\n",
       "    'addr:street': 'Weinstraße',\n",
       "    'building': 'apartments',\n",
       "    'heritage': '4',\n",
       "    'heritage:operator': 'BLfD',\n",
       "    'ref:BLfD': 'D-1-62-000-7861;D-1-62-000-7361'}},\n",
       "  {'type': 'way',\n",
       "   'id': 85765761,\n",
       "   'nodes': [995536678,\n",
       "    3652562487,\n",
       "    995536816,\n",
       "    1636728090,\n",
       "    995536757,\n",
       "    11862335239,\n",
       "    995536775,\n",
       "    11862335242,\n",
       "    995536712,\n",
       "    995536751,\n",
       "    995536678],\n",
       "   'tags': {'building': 'apartments',\n",
       "    'building:levels': '6',\n",
       "    'roof:shape': 'gabled'}},\n",
       "  {'type': 'way',\n",
       "   'id': 85990410,\n",
       "   'nodes': [998068520, 998067872, 998067929, 998069264, 998068520],\n",
       "   'tags': {'addr:city': 'München',\n",
       "    'addr:country': 'DE',\n",
       "    'addr:housenumber': '25',\n",
       "    'addr:postcode': '80331',\n",
       "    'addr:street': 'Marienplatz',\n",
       "    'building': 'retail',\n",
       "    'building:levels': '6',\n",
       "    'roof:colour': '#28282d',\n",
       "    'roof:levels': '1',\n",
       "    'roof:shape': 'gabled'}},\n",
       "  {'type': 'way',\n",
       "   'id': 85990413,\n",
       "   'nodes': [998067549, 998069241, 998067872, 998068520, 998067549],\n",
       "   'tags': {'addr:city': 'München',\n",
       "    'addr:country': 'DE',\n",
       "    'addr:housenumber': '26',\n",
       "    'addr:postcode': '80331',\n",
       "    'addr:street': 'Marienplatz',\n",
       "    'building': 'retail',\n",
       "    'building:levels': '6',\n",
       "    'roof:colour': '#28282d',\n",
       "    'roof:levels': '1',\n",
       "    'roof:shape': 'gabled'}},\n",
       "  {'type': 'way',\n",
       "   'id': 85990492,\n",
       "   'nodes': [998067917,\n",
       "    998069241,\n",
       "    998067549,\n",
       "    2282298072,\n",
       "    9529596596,\n",
       "    2282298071,\n",
       "    998069210,\n",
       "    998068915,\n",
       "    2282298076,\n",
       "    998067917],\n",
       "   'tags': {'addr:city': 'München',\n",
       "    'addr:country': 'DE',\n",
       "    'addr:housenumber': '28',\n",
       "    'addr:postcode': '80331',\n",
       "    'addr:street': 'Marienplatz',\n",
       "    'building': 'office',\n",
       "    'building:levels': '6',\n",
       "    'roof:colour': 'gray',\n",
       "    'roof:shape': 'flat'}},\n",
       "  {'type': 'way',\n",
       "   'id': 91268662,\n",
       "   'nodes': [1059560900,\n",
       "    1059560802,\n",
       "    1059560712,\n",
       "    1059560793,\n",
       "    1059560754,\n",
       "    1059560705,\n",
       "    1059560551,\n",
       "    1059560495,\n",
       "    1059560725,\n",
       "    1059560622,\n",
       "    1059560900],\n",
       "   'tags': {'addr:city': 'München',\n",
       "    'addr:country': 'DE',\n",
       "    'addr:housenumber': '8',\n",
       "    'addr:postcode': '80333',\n",
       "    'addr:street': 'Theatinerstraße',\n",
       "    'architect': 'Oswald Bieber, Georg Meister',\n",
       "    'architect:wikidata': 'Q2036350',\n",
       "    'building': 'retail',\n",
       "    'heritage': '4',\n",
       "    'heritage:operator': 'BLfD',\n",
       "    'image': 'https://de.wikipedia.org/wiki/Datei:Theatinerstr8_Muenchen-01.JPG',\n",
       "    'ref:BLfD': 'D-1-62-000-6845',\n",
       "    'roof:shape': 'flat',\n",
       "    'start_date': '1911'}},\n",
       "  {'type': 'way',\n",
       "   'id': 91268672,\n",
       "   'nodes': [1059560831,\n",
       "    1059560582,\n",
       "    1059560508,\n",
       "    1059560846,\n",
       "    1059560357,\n",
       "    1059560747,\n",
       "    1059560675,\n",
       "    1059560439,\n",
       "    3890230577,\n",
       "    1059560348,\n",
       "    1059560124,\n",
       "    1059560562,\n",
       "    1059560885,\n",
       "    1059560831],\n",
       "   'tags': {'building': 'retail', 'roof:shape': 'flat'}},\n",
       "  {'type': 'way',\n",
       "   'id': 91268710,\n",
       "   'nodes': [1059560618,\n",
       "    1059560562,\n",
       "    1059560124,\n",
       "    2699063556,\n",
       "    1059560343,\n",
       "    1059560762,\n",
       "    1059560116,\n",
       "    2699063554,\n",
       "    1059560675,\n",
       "    1059560747,\n",
       "    1059560617,\n",
       "    1059560731,\n",
       "    6149588461,\n",
       "    6149588460,\n",
       "    6149588459,\n",
       "    6149588458,\n",
       "    1059560435,\n",
       "    1059560558,\n",
       "    1059560862,\n",
       "    1059560297,\n",
       "    1059560352,\n",
       "    1059560618],\n",
       "   'tags': {'building': 'retail',\n",
       "    'building:levels': '5',\n",
       "    'roof:shape': 'gabled'}},\n",
       "  {'type': 'way',\n",
       "   'id': 91268712,\n",
       "   'nodes': [1059560405,\n",
       "    1059560603,\n",
       "    1059560327,\n",
       "    1059560478,\n",
       "    1059560780,\n",
       "    1059560160,\n",
       "    11030763823,\n",
       "    1059560944,\n",
       "    1059560650,\n",
       "    3689034593,\n",
       "    1059560233,\n",
       "    1059560412,\n",
       "    1059560725,\n",
       "    1059560495,\n",
       "    1059560551,\n",
       "    3936361490,\n",
       "    1059560431,\n",
       "    1059560518,\n",
       "    1059560253,\n",
       "    1059560182,\n",
       "    1059560113,\n",
       "    1059560604,\n",
       "    1059560405],\n",
       "   'tags': {'addr:city': 'München',\n",
       "    'addr:housenumber': '11',\n",
       "    'addr:postcode': '80333',\n",
       "    'addr:street': 'Theatinerstraße',\n",
       "    'building': 'commercial',\n",
       "    'building:levels': '5',\n",
       "    'name': 'Regus - München Fünf Höfe',\n",
       "    'roof:shape': 'gabled',\n",
       "    'wheelchair': 'yes'}},\n",
       "  {'type': 'way',\n",
       "   'id': 91268736,\n",
       "   'nodes': [1059560248,\n",
       "    1059560435,\n",
       "    1059560558,\n",
       "    10180538988,\n",
       "    1059560119,\n",
       "    1121737114,\n",
       "    1121737092,\n",
       "    1121737112,\n",
       "    3689034551,\n",
       "    1121737116,\n",
       "    1059560671,\n",
       "    1059560622,\n",
       "    1059560900,\n",
       "    1059560634,\n",
       "    1059560274,\n",
       "    1059560287,\n",
       "    1059560248],\n",
       "   'tags': {'addr:city': 'München',\n",
       "    'addr:country': 'DE',\n",
       "    'addr:postcode': '80333',\n",
       "    'addr:street': 'Theatinerstraße',\n",
       "    'architect': 'Oswald Bieber, Georg Meister',\n",
       "    'architect:wikidata': 'Q2036350',\n",
       "    'building': 'retail',\n",
       "    'building:colour': '#DDDDDD',\n",
       "    'building:levels': '5',\n",
       "    'heritage': '4',\n",
       "    'heritage:operator': 'BLfD',\n",
       "    'name': 'Arco-Palais',\n",
       "    'ref:BLfD': 'D-1-62-000-6844',\n",
       "    'roof:levels': '1',\n",
       "    'roof:shape': 'gabled',\n",
       "    'start_date': '1910',\n",
       "    'wikidata': 'Q637539',\n",
       "    'wikimedia_commons': 'Category:Arco-Palais',\n",
       "    'wikipedia': 'de:Arco-Palais'}},\n",
       "  {'type': 'way',\n",
       "   'id': 91268752,\n",
       "   'nodes': [1059560617,\n",
       "    1059560224,\n",
       "    1059560793,\n",
       "    1059560712,\n",
       "    1059560488,\n",
       "    1059560900,\n",
       "    1059560634,\n",
       "    1059560581,\n",
       "    1059560287,\n",
       "    1059560248,\n",
       "    1059560830,\n",
       "    1059560731,\n",
       "    1059560617],\n",
       "   'tags': {'building': 'retail', 'roof:shape': 'gabled'}},\n",
       "  {'type': 'way',\n",
       "   'id': 93216431,\n",
       "   'nodes': [944005650, 1080582966, 1080582517, 1080583117, 944005650],\n",
       "   'tags': {'building': 'yes'}},\n",
       "  {'type': 'way',\n",
       "   'id': 93216443,\n",
       "   'nodes': [1080582827,\n",
       "    2830215556,\n",
       "    539181088,\n",
       "    944005799,\n",
       "    944006060,\n",
       "    944005650,\n",
       "    6149612644,\n",
       "    1080583040,\n",
       "    1080582648,\n",
       "    6149612650,\n",
       "    1080582508,\n",
       "    3720343410,\n",
       "    1080582827],\n",
       "   'tags': {'addr:city': 'München',\n",
       "    'addr:country': 'DE',\n",
       "    'addr:postcode': '80333',\n",
       "    'addr:street': 'Residenzstraße',\n",
       "    'building': 'retail',\n",
       "    'building:levels': '4',\n",
       "    'heritage': '4',\n",
       "    'heritage:operator': 'BLfD',\n",
       "    'image': 'https://de.wikipedia.org/wiki/Datei:Residenzstr13_Muenchen-01.JPG',\n",
       "    'layer': '1',\n",
       "    'ref:BLfD': 'D-1-62-000-5764',\n",
       "    'roof:levels': '1',\n",
       "    'roof:shape': 'gabled',\n",
       "    'wikidata': 'Q28151925',\n",
       "    'wikipedia': 'de:Residenzstraße 13'}},\n",
       "  {'type': 'way',\n",
       "   'id': 93216461,\n",
       "   'nodes': [1080582517,\n",
       "    1080582872,\n",
       "    1080582857,\n",
       "    1080582943,\n",
       "    944005884,\n",
       "    944005541,\n",
       "    1080583117,\n",
       "    1080582517],\n",
       "   'tags': {'building': 'yes'}},\n",
       "  {'type': 'way',\n",
       "   'id': 93216490,\n",
       "   'nodes': [1080582966,\n",
       "    6149612649,\n",
       "    1080582499,\n",
       "    6149612648,\n",
       "    1080582910,\n",
       "    6149612641,\n",
       "    1080582782,\n",
       "    6149612651,\n",
       "    1080583055,\n",
       "    1080583040,\n",
       "    6149612644,\n",
       "    944005650,\n",
       "    1080582966],\n",
       "   'tags': {'building': 'yes'}},\n",
       "  {'type': 'way',\n",
       "   'id': 96815240,\n",
       "   'nodes': [2285922436,\n",
       "    2498525309,\n",
       "    1121737055,\n",
       "    2285922433,\n",
       "    2285922428,\n",
       "    11862325059,\n",
       "    621347365,\n",
       "    2498525307,\n",
       "    2285922432,\n",
       "    2285922435,\n",
       "    2285922436],\n",
       "   'tags': {'building': 'retail',\n",
       "    'building:colour': 'lightgrey',\n",
       "    'building:levels': '6',\n",
       "    'roof:levels': '0',\n",
       "    'roof:shape': 'hipped'}},\n",
       "  {'type': 'way',\n",
       "   'id': 125294895,\n",
       "   'nodes': [927061582,\n",
       "    2545257981,\n",
       "    8220452981,\n",
       "    1134251868,\n",
       "    8220452978,\n",
       "    1389800348,\n",
       "    2545257977,\n",
       "    927061582],\n",
       "   'tags': {'addr:city': 'München',\n",
       "    'addr:country': 'DE',\n",
       "    'addr:postcode': '80331',\n",
       "    'addr:street': 'Burgstraße',\n",
       "    'building': 'retail',\n",
       "    'building:levels': '4',\n",
       "    'heritage': '4',\n",
       "    'heritage:operator': 'BLfD',\n",
       "    'image': 'https://de.wikipedia.org/wiki/Datei:Burgstr._10_Falkenhaus_Muenchen-1.jpg',\n",
       "    'ref:BLfD': 'D-1-62-000-1038',\n",
       "    'roof:levels': '1',\n",
       "    'roof:shape': 'gabled'}},\n",
       "  {'type': 'way',\n",
       "   'id': 125294896,\n",
       "   'nodes': [2545257981,\n",
       "    8220452977,\n",
       "    2515092935,\n",
       "    2545257982,\n",
       "    927061800,\n",
       "    8220452983,\n",
       "    1389800348,\n",
       "    8220452978,\n",
       "    8220452982,\n",
       "    8220452979,\n",
       "    8220452980,\n",
       "    8220452984,\n",
       "    8220452981,\n",
       "    2545257981],\n",
       "   'tags': {'addr:city': 'München',\n",
       "    'addr:country': 'DE',\n",
       "    'addr:housenumber': '8',\n",
       "    'addr:postcode': '80331',\n",
       "    'addr:street': 'Burgstraße',\n",
       "    'building': 'house',\n",
       "    'building:levels': '4',\n",
       "    'description': 'Wohn- und Sterbehaus von François de Cuvilliés d. Ä.; im Kern spätgotisch, um 1615 Aufstockung und Dachstuhl, Fassadengestaltung barock, wohl 1. Hälfte 18. Jahrhundert',\n",
       "    'heritage': '4',\n",
       "    'heritage:operator': 'BLfD',\n",
       "    'historic': 'yes',\n",
       "    'image': 'https://de.wikipedia.org/wiki/Datei:Burgstr._8_Muenchen-1.jpg',\n",
       "    'name': 'Ludwig Reiter in München',\n",
       "    'ref:BLfD': 'D-1-62-000-1037',\n",
       "    'roof:levels': '3',\n",
       "    'roof:shape': 'gabled',\n",
       "    'shop': 'shoes'}},\n",
       "  {'type': 'way',\n",
       "   'id': 144135890,\n",
       "   'nodes': [2876680569, 1577200155, 1577200120, 2876680568, 2876680569],\n",
       "   'tags': {'addr:city': 'München',\n",
       "    'addr:country': 'DE',\n",
       "    'addr:housenumber': '8',\n",
       "    'addr:postcode': '80333',\n",
       "    'addr:street': 'Weinstraße',\n",
       "    'building': 'retail',\n",
       "    'building:colour': '#EEEEEE',\n",
       "    'building:levels': '5',\n",
       "    'roof:shape': 'gabled'}},\n",
       "  {'type': 'way',\n",
       "   'id': 144135891,\n",
       "   'nodes': [1577200090,\n",
       "    1577200092,\n",
       "    12095855823,\n",
       "    1577200147,\n",
       "    3447924924,\n",
       "    1577200130,\n",
       "    1577200124,\n",
       "    1577200118,\n",
       "    1577200126,\n",
       "    12095855822,\n",
       "    1577200110,\n",
       "    1577200082,\n",
       "    12095855825,\n",
       "    12095855824,\n",
       "    1577200090],\n",
       "   'tags': {'building': 'yes', 'building:levels': '5', 'roof:levels': '1'}},\n",
       "  {'type': 'way',\n",
       "   'id': 219431658,\n",
       "   'nodes': [2285922425,\n",
       "    944005538,\n",
       "    944005856,\n",
       "    944005897,\n",
       "    944005801,\n",
       "    2285922425],\n",
       "   'tags': {'architect': 'Max Neumann',\n",
       "    'building': 'retail',\n",
       "    'building:colour': '#FFF8C6',\n",
       "    'building:levels': '5',\n",
       "    'heritage': '4',\n",
       "    'heritage:operator': 'BLfD',\n",
       "    'image': 'https://de.wikipedia.org/wiki/Datei:M%C3%BCnchen_Weinstra%C3%9Fe_11_BW_2017-03-13_17-52-04.jpg',\n",
       "    'ref:BLfD': 'D-1-62-000-7362',\n",
       "    'roof:levels': '0',\n",
       "    'roof:shape': 'gabled',\n",
       "    'start_date': '1914'}},\n",
       "  {'type': 'way',\n",
       "   'id': 219431660,\n",
       "   'nodes': [944005709,\n",
       "    944005463,\n",
       "    944006060,\n",
       "    944005799,\n",
       "    2830215514,\n",
       "    2285922451,\n",
       "    944005709],\n",
       "   'tags': {'building': 'retail',\n",
       "    'building:levels': '4',\n",
       "    'roof:levels': '2',\n",
       "    'roof:shape': 'gabled'}},\n",
       "  {'type': 'way',\n",
       "   'id': 219431666,\n",
       "   'nodes': [2498525328,\n",
       "    1121737061,\n",
       "    1121737068,\n",
       "    5157560095,\n",
       "    2285922443,\n",
       "    1059560256,\n",
       "    11862227799,\n",
       "    621347369,\n",
       "    2498525330,\n",
       "    2285922446,\n",
       "    5157560097,\n",
       "    2498525328],\n",
       "   'tags': {'building': 'retail',\n",
       "    'building:levels': '5',\n",
       "    'roof:shape': 'flat'}},\n",
       "  {'type': 'way',\n",
       "   'id': 228719284,\n",
       "   'nodes': [2373874247,\n",
       "    2545319972,\n",
       "    410874364,\n",
       "    1121737041,\n",
       "    410874368,\n",
       "    1389925538,\n",
       "    2373874250,\n",
       "    2545257985,\n",
       "    2545257986,\n",
       "    2373874256,\n",
       "    1389925528,\n",
       "    1121737120,\n",
       "    2373874254,\n",
       "    2373874262,\n",
       "    2515092932,\n",
       "    2545257982,\n",
       "    927061800,\n",
       "    410874374,\n",
       "    2373874247],\n",
       "   'tags': {'architect': 'Karl Stöhr',\n",
       "    'architect:wikidata': 'Q21831218',\n",
       "    'building': 'apartments',\n",
       "    'building:architecture': 'neo-baroque',\n",
       "    'building:levels': '5',\n",
       "    'description': 'neubarock, 1909/10 von Karl Stöhr (mit Rückgebäude Sparkassenstraße 11, siehe dort); Gedenktafel für Wiguläus Freiherr von Kreittmayr, der 1790 im Vorgängerhaus starb.',\n",
       "    'heritage': '4',\n",
       "    'heritage:operator': 'BLfD',\n",
       "    'image': 'https://de.wikipedia.org/wiki/Datei:Burgstr._6_Muenchen-1.jpg',\n",
       "    'ref:BLfD': 'D-1-62-000-1036',\n",
       "    'start_date': '1910'}},\n",
       "  {'type': 'way',\n",
       "   'id': 228719287,\n",
       "   'nodes': [410874374,\n",
       "    410874375,\n",
       "    2545257988,\n",
       "    410874363,\n",
       "    2373874247,\n",
       "    410874374],\n",
       "   'tags': {'building': 'apartments',\n",
       "    'building:levels': '4',\n",
       "    'roof:shape': 'hipped'}},\n",
       "  {'type': 'way',\n",
       "   'id': 242367320,\n",
       "   'nodes': [2498525100,\n",
       "    2545258023,\n",
       "    927061539,\n",
       "    927061631,\n",
       "    927061692,\n",
       "    2498525100],\n",
       "   'tags': {'addr:city': 'München',\n",
       "    'addr:country': 'DE',\n",
       "    'addr:housenumber': '17',\n",
       "    'addr:postcode': '80331',\n",
       "    'addr:street': 'Dienerstraße',\n",
       "    'building': 'house',\n",
       "    'building:levels': '4',\n",
       "    'heritage': '4',\n",
       "    'heritage:operator': 'BLfD',\n",
       "    'ref:BLfD': 'D-1-62-000-1285',\n",
       "    'roof:levels': '1',\n",
       "    'roof:shape': 'gabled',\n",
       "    'wikidata': 'Q41175439'}},\n",
       "  {'type': 'way',\n",
       "   'id': 242367321,\n",
       "   'nodes': [1389800300,\n",
       "    1389800344,\n",
       "    1389800313,\n",
       "    1389800352,\n",
       "    927061635,\n",
       "    2810123410,\n",
       "    2810123409,\n",
       "    2498525185,\n",
       "    2498525179,\n",
       "    2498525193,\n",
       "    1389800300],\n",
       "   'tags': {'architect': 'Eugen Hönig, Karl Söldner',\n",
       "    'architect:wikidata': 'Q101000',\n",
       "    'building': 'yes',\n",
       "    'building:colour': '#FFFF90',\n",
       "    'building:levels': '5',\n",
       "    'contact:email': 'info@dallmayr.de',\n",
       "    'contact:phone': '+49 89 2135110',\n",
       "    'contact:website': 'https://www.dallmayr.com/de/delikatessenhaus/',\n",
       "    'description': '1912 von Eugen Hönig und Karl Söldner, langgestreckte Front mit aufwendiger Gliederung in der Art eines frühklassizistischen Vorgängerbaus, mit Bauplastik von Julius Seidler; 1945–1948 wiederhergestellt.',\n",
       "    'heritage': '4',\n",
       "    'heritage:operator': 'BLfD',\n",
       "    'name': 'Dallmayr',\n",
       "    'opening_hours': 'Mo-Sa 09:30-19:00',\n",
       "    'operator': 'Alois Dallmayr KG',\n",
       "    'payment:credit_cards': 'yes',\n",
       "    'payment:debit_cards': 'yes',\n",
       "    'ref:BLfD': 'D-1-62-000-1283',\n",
       "    'roof:levels': '2',\n",
       "    'roof:shape': 'gabled',\n",
       "    'shop': 'deli',\n",
       "    'start_date': '1912',\n",
       "    'wheelchair': 'yes'}},\n",
       "  {'type': 'way',\n",
       "   'id': 242367322,\n",
       "   'nodes': [2498525152, 2498525177, 2498525170, 2498525151, 2498525152],\n",
       "   'tags': {'building': 'retail',\n",
       "    'building:levels': '1',\n",
       "    'roof:levels': '0',\n",
       "    'roof:shape': 'hipped'}},\n",
       "  {'type': 'way',\n",
       "   'id': 242367324,\n",
       "   'nodes': [2498525303,\n",
       "    2810072052,\n",
       "    2810072058,\n",
       "    2285922428,\n",
       "    2285922433,\n",
       "    2498525308,\n",
       "    2498525311,\n",
       "    2498525314,\n",
       "    2498525303],\n",
       "   'tags': {'building': 'retail',\n",
       "    'building:colour': '#A05030',\n",
       "    'building:levels': '5',\n",
       "    'building:material': 'brick',\n",
       "    'roof:colour': '#C07070',\n",
       "    'roof:shape': 'flat'}},\n",
       "  {'type': 'way',\n",
       "   'id': 242367325,\n",
       "   'nodes': [2498525325,\n",
       "    2498525311,\n",
       "    2498525308,\n",
       "    2498525310,\n",
       "    2498525320,\n",
       "    2498525323,\n",
       "    2498525325],\n",
       "   'tags': {'building': 'retail',\n",
       "    'building:levels': '1',\n",
       "    'roof:shape': 'flat'}},\n",
       "  {'type': 'way',\n",
       "   'id': 247649054,\n",
       "   'nodes': [944005687,\n",
       "    944005465,\n",
       "    4602648473,\n",
       "    4602648472,\n",
       "    944005711,\n",
       "    2545257995,\n",
       "    2545257996,\n",
       "    944006042,\n",
       "    944005977,\n",
       "    2545257994,\n",
       "    2545257993,\n",
       "    944005687],\n",
       "   'tags': {'building': 'yes'}},\n",
       "  {'type': 'way',\n",
       "   'id': 247649055,\n",
       "   'nodes': [944005687,\n",
       "    944005465,\n",
       "    11933568853,\n",
       "    11933568852,\n",
       "    944005505,\n",
       "    944006050,\n",
       "    944006032,\n",
       "    11933568854,\n",
       "    11933568855,\n",
       "    11933568856,\n",
       "    11933568857,\n",
       "    944005664,\n",
       "    944006078,\n",
       "    2545258004,\n",
       "    2545258007,\n",
       "    944005687],\n",
       "   'tags': {'building': 'garage',\n",
       "    'building:levels': '4',\n",
       "    'roof:shape': 'flat'}},\n",
       "  {'type': 'way',\n",
       "   'id': 264235611,\n",
       "   'nodes': [1080582943, 944005884, 944005585, 2699063552, 1080582943],\n",
       "   'tags': {'addr:housenumber': '2',\n",
       "    'addr:street': 'Perusastraße',\n",
       "    'building': 'apartments',\n",
       "    'building:levels': '5',\n",
       "    'roof:levels': '0'}},\n",
       "  {'type': 'way',\n",
       "   'id': 270862279,\n",
       "   'nodes': [2758329745,\n",
       "    2758329753,\n",
       "    3744012267,\n",
       "    2758329771,\n",
       "    2758329758,\n",
       "    4602648464,\n",
       "    2758329745],\n",
       "   'tags': {'building': 'elevator', 'building:levels': '1'}},\n",
       "  {'type': 'way',\n",
       "   'id': 283850480,\n",
       "   'nodes': [944005801,\n",
       "    944005749,\n",
       "    2285922426,\n",
       "    11927013832,\n",
       "    2285922425,\n",
       "    944005801],\n",
       "   'tags': {'building': 'retail',\n",
       "    'building:colour': '#D0FFD0',\n",
       "    'building:levels': '5',\n",
       "    'roof:levels': '1',\n",
       "    'roof:shape': 'gabled'}},\n",
       "  {'type': 'way',\n",
       "   'id': 283850486,\n",
       "   'nodes': [1121737063,\n",
       "    2285922436,\n",
       "    2285922435,\n",
       "    2285922432,\n",
       "    2498525316,\n",
       "    1059560530,\n",
       "    2285922444,\n",
       "    1121737063],\n",
       "   'tags': {'building': 'apartments',\n",
       "    'building:colour': 'grey',\n",
       "    'building:levels': '6',\n",
       "    'roof:shape': 'gabled'}},\n",
       "  {'type': 'way',\n",
       "   'id': 355286066,\n",
       "   'nodes': [3608964559, 3608964557, 3608964556, 3608964558, 3608964559],\n",
       "   'tags': {'building': 'yes', 'note': 'emergency exit'}},\n",
       "  {'type': 'way',\n",
       "   'id': 422234751,\n",
       "   'nodes': [1577200085,\n",
       "    12095855826,\n",
       "    12095855827,\n",
       "    12095855828,\n",
       "    1577200067,\n",
       "    1577200082,\n",
       "    12095855825,\n",
       "    12095855824,\n",
       "    1577200090,\n",
       "    1577200092,\n",
       "    1577200085],\n",
       "   'tags': {'building': 'retail',\n",
       "    'building:levels': '5',\n",
       "    'roof:levels': '1',\n",
       "    'roof:shape': 'flat'}},\n",
       "  {'type': 'way',\n",
       "   'id': 504896249,\n",
       "   'nodes': [12095899164,\n",
       "    12095899163,\n",
       "    12095899159,\n",
       "    12095899160,\n",
       "    12095899161,\n",
       "    12095899158,\n",
       "    4949909526,\n",
       "    11900537093,\n",
       "    12095899164],\n",
       "   'tags': {'addr:city': 'München',\n",
       "    'addr:country': 'DE',\n",
       "    'addr:housenumber': '7',\n",
       "    'addr:postcode': '80331',\n",
       "    'addr:street': 'Landschaftstraße',\n",
       "    'building': 'yes',\n",
       "    'building:levels': '2',\n",
       "    'contact:website': 'https://www.2.stammstrecke-muenchen.de/',\n",
       "    'description': 'Projektinformationszentrum',\n",
       "    'elevator': 'yes',\n",
       "    'information': 'visitor_centre',\n",
       "    'name': 'Zweite Stammstrecke München',\n",
       "    'note': 'Projektausstellung befindet sich auf der mittleren Ebene; Aussichtsplattform auf dem Dach, nicht regelmäßig öffentlich zugänglich',\n",
       "    'opening_hours': 'Th-Su 14:00-20:00',\n",
       "    'roof:shape': 'flat',\n",
       "    'source': 'estimate;extrapolate;survey',\n",
       "    'start_date': '2017-04-05',\n",
       "    'tourism': 'information',\n",
       "    'wheelchair': 'yes'}},\n",
       "  {'type': 'way',\n",
       "   'id': 858537733,\n",
       "   'nodes': [998068677,\n",
       "    3448546330,\n",
       "    8003510689,\n",
       "    8003563848,\n",
       "    8003510690,\n",
       "    8003510691,\n",
       "    998067929,\n",
       "    998069264,\n",
       "    8003510692,\n",
       "    3448546331,\n",
       "    998068425,\n",
       "    998068677],\n",
       "   'tags': {'addr:city': 'München',\n",
       "    'addr:housenumber': '22',\n",
       "    'addr:postcode': '80331',\n",
       "    'addr:street': 'Marienplatz',\n",
       "    'building': 'apartments',\n",
       "    'building:levels': '7',\n",
       "    'roof:colour': '#28282d',\n",
       "    'roof:levels': '0',\n",
       "    'roof:shape': 'hipped'}},\n",
       "  {'type': 'relation',\n",
       "   'id': 147094,\n",
       "   'members': [{'type': 'way', 'ref': 35031259, 'role': 'inner'},\n",
       "    {'type': 'way', 'ref': 35031257, 'role': 'outer'}],\n",
       "   'tags': {'building': 'retail',\n",
       "    'building:levels': '4',\n",
       "    'roof:levels': '2',\n",
       "    'roof:shape': 'gabled',\n",
       "    'type': 'multipolygon'}},\n",
       "  {'type': 'relation',\n",
       "   'id': 147095,\n",
       "   'members': [{'type': 'way', 'ref': 23632633, 'role': 'outer'},\n",
       "    {'type': 'way', 'ref': 78592020, 'role': 'inner'},\n",
       "    {'type': 'way', 'ref': 35031261, 'role': 'inner'},\n",
       "    {'type': 'way', 'ref': 35031260, 'role': 'inner'},\n",
       "    {'type': 'way', 'ref': 35031262, 'role': 'inner'},\n",
       "    {'type': 'way', 'ref': 219431688, 'role': 'inner'},\n",
       "    {'type': 'way', 'ref': 219431690, 'role': 'inner'}],\n",
       "   'tags': {'addr:city': 'München',\n",
       "    'addr:country': 'DE',\n",
       "    'addr:housenumber': '8',\n",
       "    'addr:postcode': '80331',\n",
       "    'addr:street': 'Marienplatz',\n",
       "    'amenity': 'townhall',\n",
       "    'architect': 'Georg von Hauberrisser',\n",
       "    'architect:wikidata': 'Q45399',\n",
       "    'building': 'government',\n",
       "    'building:architecture': 'neo-gothic',\n",
       "    'email': 'rathaus@muenchen.de',\n",
       "    'fax': '+49 89 233-26458',\n",
       "    'height': '30',\n",
       "    'height:note': 'estimated',\n",
       "    'heritage': '4',\n",
       "    'heritage:operator': 'BLfD',\n",
       "    'name': 'Neues Rathaus',\n",
       "    'name:de': 'Neues Rathaus',\n",
       "    'name:en': 'New Town Hall',\n",
       "    'name:es': 'Nuevo Ayuntamiento',\n",
       "    'name:he': 'בית העירייה החדש של מינכן',\n",
       "    'name:ru': 'Новая Ратуша-Глокеншпиль',\n",
       "    'name:zh': '新市政廳',\n",
       "    'opening_hours': 'Oct-Apr Mo-Fr 10:00-17:00; May-Sep 10:00-19:00',\n",
       "    'operator': 'Stadtverwaltung',\n",
       "    'phone': '+49 89 233-26458',\n",
       "    'ref:BLfD': 'D-1-62-000-4288',\n",
       "    'roof:height': '8',\n",
       "    'source:height': 'rough estimate from photograph taken from across the square',\n",
       "    'start_date': '1867 / 1909',\n",
       "    'tourism': 'attraction',\n",
       "    'type': 'multipolygon',\n",
       "    'wheelchair': 'yes',\n",
       "    'wikidata': 'Q152979',\n",
       "    'wikimedia_commons': 'Category:Neues Rathaus (München)',\n",
       "    'wikipedia': 'de:Neues Rathaus (München)'}},\n",
       "  {'type': 'relation',\n",
       "   'id': 2379713,\n",
       "   'members': [{'type': 'way', 'ref': 30608708, 'role': 'outer'},\n",
       "    {'type': 'way', 'ref': 178283541, 'role': 'inner'}],\n",
       "   'tags': {'building': 'office',\n",
       "    'building:levels': '4',\n",
       "    'roof:shape': 'gabled',\n",
       "    'type': 'multipolygon'}},\n",
       "  {'type': 'relation',\n",
       "   'id': 3872201,\n",
       "   'members': [{'type': 'way', 'ref': 4054817, 'role': ''},\n",
       "    {'type': 'way', 'ref': 291585572, 'role': ''},\n",
       "    {'type': 'way', 'ref': 291585569, 'role': ''},\n",
       "    {'type': 'way', 'ref': 291585580, 'role': ''},\n",
       "    {'type': 'way', 'ref': 291585582, 'role': ''},\n",
       "    {'type': 'way', 'ref': 291585585, 'role': ''},\n",
       "    {'type': 'way', 'ref': 291585586, 'role': ''},\n",
       "    {'type': 'way', 'ref': 291585573, 'role': ''},\n",
       "    {'type': 'way', 'ref': 291585587, 'role': ''},\n",
       "    {'type': 'way', 'ref': 291585579, 'role': ''},\n",
       "    {'type': 'way', 'ref': 291585576, 'role': ''}],\n",
       "   'tags': {'building': 'government',\n",
       "    'fixme': 'I am not sure about the type of this relation. There are different members, roof edges, etc. Unusual combination of elements...',\n",
       "    'name': 'Altes Rathaus',\n",
       "    'type': 'site'}},\n",
       "  {'type': 'relation',\n",
       "   'id': 6618880,\n",
       "   'members': [{'type': 'way', 'ref': 444984116, 'role': 'inner'},\n",
       "    {'type': 'way', 'ref': 80965534, 'role': 'outer'}],\n",
       "   'tags': {'addr:city': 'München',\n",
       "    'addr:postcode': '80539',\n",
       "    'addr:street': 'Maximilianstraße',\n",
       "    'architect': 'Leo von Klenze',\n",
       "    'architect:wikidata': 'Q60163',\n",
       "    'building': 'house',\n",
       "    'building:architecture': 'classicism',\n",
       "    'building:colour': 'lightyellow',\n",
       "    'building:levels': '5',\n",
       "    'heritage': '4',\n",
       "    'heritage:operator': 'BLfD',\n",
       "    'name': 'Palais Toerring-Jettenbach',\n",
       "    'old_name': 'Postfiliale München 1',\n",
       "    'ref:BLfD': 'D-1-62-000-5761',\n",
       "    'roof:levels': '1',\n",
       "    'roof:shape': 'hipped',\n",
       "    'start_date': '1838',\n",
       "    'type': 'multipolygon',\n",
       "    'wikidata': 'Q2047197',\n",
       "    'wikipedia': 'de:Palais Toerring-Jettenbach'}},\n",
       "  {'type': 'relation',\n",
       "   'id': 11872335,\n",
       "   'members': [{'type': 'way', 'ref': 4054817, 'role': 'outline'}],\n",
       "   'tags': {'building': 'government', 'type': 'building'}},\n",
       "  {'type': 'node', 'id': 21486942, 'lat': 48.1368048, 'lon': 11.5767578},\n",
       "  {'type': 'node', 'id': 21486943, 'lat': 48.1370186, 'lon': 11.5770547},\n",
       "  {'type': 'node', 'id': 21486944, 'lat': 48.1368292, 'lon': 11.577361},\n",
       "  {'type': 'node', 'id': 21486945, 'lat': 48.1366154, 'lon': 11.5770642},\n",
       "  {'type': 'node', 'id': 256017117, 'lat': 48.1385267, 'lon': 11.5779769},\n",
       "  {'type': 'node', 'id': 256017119, 'lat': 48.1381181, 'lon': 11.5777953},\n",
       "  {'type': 'node', 'id': 256017120, 'lat': 48.1380625, 'lon': 11.5780104},\n",
       "  {'type': 'node', 'id': 256017122, 'lat': 48.1380071, 'lon': 11.5783378},\n",
       "  {'type': 'node', 'id': 256017124, 'lat': 48.1384728, 'lon': 11.5783246},\n",
       "  {'type': 'node', 'id': 256017126, 'lat': 48.1384853, 'lon': 11.5779585},\n",
       "  {'type': 'node', 'id': 256017931, 'lat': 48.1383103, 'lon': 11.5754195},\n",
       "  {'type': 'node', 'id': 256017932, 'lat': 48.1375572, 'lon': 11.5751075},\n",
       "  {'type': 'node', 'id': 256017933, 'lat': 48.1372674, 'lon': 11.5763704},\n",
       "  {'type': 'node', 'id': 256017934, 'lat': 48.1379937, 'lon': 11.5768539},\n",
       "  {'type': 'node', 'id': 261030698, 'lat': 48.1379599, 'lon': 11.5779472},\n",
       "  {'type': 'node', 'id': 282341977, 'lat': 48.136651, 'lon': 11.5771137},\n",
       "  {'type': 'node', 'id': 338458436, 'lat': 48.1366316, 'lon': 11.5773339},\n",
       "  {'type': 'node', 'id': 338458442, 'lat': 48.1373394, 'lon': 11.5783038},\n",
       "  {'type': 'node', 'id': 338458445, 'lat': 48.1371729, 'lon': 11.5786307},\n",
       "  {'type': 'node', 'id': 338458451, 'lat': 48.1365213, 'lon': 11.5782435},\n",
       "  {'type': 'node', 'id': 338458455, 'lat': 48.1363369, 'lon': 11.5781816},\n",
       "  {'type': 'node', 'id': 338458457, 'lat': 48.1365937, 'lon': 11.5773896},\n",
       "  {'type': 'node', 'id': 338458567, 'lat': 48.1370607, 'lon': 11.5784982},\n",
       "  {'type': 'node', 'id': 338458568, 'lat': 48.1363827, 'lon': 11.5779791},\n",
       "  {'type': 'node', 'id': 410874361, 'lat': 48.1372928, 'lon': 11.5774351},\n",
       "  {'type': 'node', 'id': 410874363, 'lat': 48.1374378, 'lon': 11.5782177},\n",
       "  {'type': 'node', 'id': 410874364, 'lat': 48.1372414, 'lon': 11.5779857},\n",
       "  {'type': 'node', 'id': 410874365, 'lat': 48.1372911, 'lon': 11.5775978},\n",
       "  {'type': 'node', 'id': 410874368, 'lat': 48.1373797, 'lon': 11.5779249},\n",
       "  {'type': 'node', 'id': 410874369, 'lat': 48.1372277, 'lon': 11.5777189},\n",
       "  {'type': 'node', 'id': 410874370, 'lat': 48.1371919, 'lon': 11.5774759},\n",
       "  {'type': 'node', 'id': 410874371, 'lat': 48.1371228, 'lon': 11.5776042},\n",
       "  {'type': 'node', 'id': 410874372, 'lat': 48.1370015, 'lon': 11.5774267},\n",
       "  {'type': 'node', 'id': 410874373, 'lat': 48.1370728, 'lon': 11.5773196},\n",
       "  {'type': 'node', 'id': 410874374, 'lat': 48.1374382, 'lon': 11.5779276},\n",
       "  {'type': 'node', 'id': 410874375, 'lat': 48.1374994, 'lon': 11.5781021},\n",
       "  {'type': 'node', 'id': 410874376, 'lat': 48.1377906, 'lon': 11.5764775},\n",
       "  {'type': 'node', 'id': 410874377, 'lat': 48.1376568, 'lon': 11.5764478},\n",
       "  {'type': 'node', 'id': 410874378, 'lat': 48.137758, 'lon': 11.5760054},\n",
       "  {'type': 'node', 'id': 410874379, 'lat': 48.1378752, 'lon': 11.5761037},\n",
       "  {'type': 'node', 'id': 410874380, 'lat': 48.138018, 'lon': 11.5762764},\n",
       "  {'type': 'node', 'id': 410874381, 'lat': 48.1379403, 'lon': 11.5762437},\n",
       "  {'type': 'node', 'id': 410874382, 'lat': 48.1379523, 'lon': 11.5765672},\n",
       "  {'type': 'node', 'id': 410874383, 'lat': 48.1378679, 'lon': 11.5765872},\n",
       "  {'type': 'node', 'id': 410874384, 'lat': 48.1376517, 'lon': 11.5753937},\n",
       "  {'type': 'node', 'id': 410874385, 'lat': 48.1377854, 'lon': 11.575423},\n",
       "  {'type': 'node', 'id': 410874386, 'lat': 48.137778, 'lon': 11.5754723},\n",
       "  {'type': 'node', 'id': 410874387, 'lat': 48.1379706, 'lon': 11.5754862},\n",
       "  {'type': 'node', 'id': 410874388, 'lat': 48.137887, 'lon': 11.5758986},\n",
       "  {'type': 'node', 'id': 410874389, 'lat': 48.1376008, 'lon': 11.5757425},\n",
       "  {'type': 'node', 'id': 410874390, 'lat': 48.1378667, 'lon': 11.5755047},\n",
       "  {'type': 'node', 'id': 410874391, 'lat': 48.1378748, 'lon': 11.5754561},\n",
       "  {'type': 'node', 'id': 618914977, 'lat': 48.1368361, 'lon': 11.5768013},\n",
       "  {'type': 'node', 'id': 621347365, 'lat': 48.1390091, 'lon': 11.5754803},\n",
       "  {'type': 'node', 'id': 621347369, 'lat': 48.1394442, 'lon': 11.5751876},\n",
       "  {'type': 'node', 'id': 663977686, 'lat': 48.1365343, 'lon': 11.5781929},\n",
       "  {'type': 'node', 'id': 703294139, 'lat': 48.1378545, 'lon': 11.5752195},\n",
       "  {'type': 'node', 'id': 703308518, 'lat': 48.1380187, 'lon': 11.5750627},\n",
       "  {'type': 'node', 'id': 922090766, 'lat': 48.1374487, 'lon': 11.5763121},\n",
       "  {'type': 'node', 'id': 922090767, 'lat': 48.1375019, 'lon': 11.5763387},\n",
       "  {'type': 'node', 'id': 922090768, 'lat': 48.1374814, 'lon': 11.576173},\n",
       "  {'type': 'node', 'id': 922090770, 'lat': 48.137533, 'lon': 11.5761988},\n",
       "  {'type': 'node', 'id': 927061441, 'lat': 48.1378334, 'lon': 11.5777715},\n",
       "  {'type': 'node', 'id': 927061480, 'lat': 48.137915, 'lon': 11.578113},\n",
       "  {'type': 'node', 'id': 927061531, 'lat': 48.1379423, 'lon': 11.5785805},\n",
       "  {'type': 'node', 'id': 927061537, 'lat': 48.1378366, 'lon': 11.5779126},\n",
       "  {'type': 'node', 'id': 927061539, 'lat': 48.1379971, 'lon': 11.5770293},\n",
       "  {'type': 'node', 'id': 927061548, 'lat': 48.1379164, 'lon': 11.5778286},\n",
       "  {'type': 'node', 'id': 927061582, 'lat': 48.1377564, 'lon': 11.5778513},\n",
       "  {'type': 'node', 'id': 927061598, 'lat': 48.138082, 'lon': 11.5780567},\n",
       "  {'type': 'node', 'id': 927061631, 'lat': 48.1379189, 'lon': 11.5773697},\n",
       "  {'type': 'node', 'id': 927061635, 'lat': 48.1381337, 'lon': 11.5770942},\n",
       "  {'type': 'node', 'id': 927061658, 'lat': 48.1380599, 'lon': 11.5775402},\n",
       "  {'type': 'node', 'id': 927061690, 'lat': 48.1385338, 'lon': 11.5777635},\n",
       "  {'type': 'node', 'id': 927061692, 'lat': 48.1379774, 'lon': 11.5773998},\n",
       "  {'type': 'node', 'id': 927061702, 'lat': 48.1386717, 'lon': 11.5782439},\n",
       "  {'type': 'node', 'id': 927061709, 'lat': 48.1378233, 'lon': 11.5784902},\n",
       "  {'type': 'node', 'id': 927061713, 'lat': 48.1377998, 'lon': 11.5780495},\n",
       "  {'type': 'node', 'id': 927061751, 'lat': 48.1388042, 'lon': 11.5773678},\n",
       "  {'type': 'node', 'id': 927061762, 'lat': 48.1378615, 'lon': 11.5783284},\n",
       "  {'type': 'node', 'id': 927061800, 'lat': 48.1374468, 'lon': 11.5779347},\n",
       "  {'type': 'node', 'id': 927061803, 'lat': 48.1385664, 'lon': 11.5775356},\n",
       "  {'type': 'node', 'id': 931716083, 'lat': 48.1384585, 'lon': 11.5783722},\n",
       "  {'type': 'node', 'id': 944005460, 'lat': 48.1391511, 'lon': 11.5783296},\n",
       "  {'type': 'node', 'id': 944005462, 'lat': 48.1390071, 'lon': 11.5775891},\n",
       "  {'type': 'node', 'id': 944005465, 'lat': 48.1375824, 'lon': 11.577221},\n",
       "  {'type': 'node', 'id': 944005471, 'lat': 48.1389848, 'lon': 11.5778673},\n",
       "  {'type': 'node', 'id': 944005479, 'lat': 48.1386172, 'lon': 11.5747764},\n",
       "  {'type': 'node', 'id': 944005480, 'lat': 48.1388145, 'lon': 11.5752653},\n",
       "  {'type': 'node', 'id': 944005482, 'lat': 48.1392025, 'lon': 11.5768263},\n",
       "  {'type': 'node', 'id': 944005488, 'lat': 48.1394452, 'lon': 11.5769303},\n",
       "  {'type': 'node', 'id': 944005491, 'lat': 48.1388893, 'lon': 11.5748828},\n",
       "  {'type': 'node', 'id': 944005505, 'lat': 48.137497, 'lon': 11.5770859},\n",
       "  {'type': 'node', 'id': 944005521, 'lat': 48.1392789, 'lon': 11.576623},\n",
       "  {'type': 'node', 'id': 944005525, 'lat': 48.1392968, 'lon': 11.5764965},\n",
       "  {'type': 'node', 'id': 944005526, 'lat': 48.137771, 'lon': 11.5776771},\n",
       "  {'type': 'node', 'id': 944005536, 'lat': 48.137019, 'lon': 11.5768061},\n",
       "  {'type': 'node', 'id': 944005538, 'lat': 48.1386562, 'lon': 11.5753698},\n",
       "  {'type': 'node', 'id': 944005557, 'lat': 48.1390724, 'lon': 11.577609},\n",
       "  {'type': 'node', 'id': 944005569, 'lat': 48.139168, 'lon': 11.5770836},\n",
       "  {'type': 'node', 'id': 944005572, 'lat': 48.1387974, 'lon': 11.5750938},\n",
       "  {'type': 'node', 'id': 944005580, 'lat': 48.1393349, 'lon': 11.5767757},\n",
       "  {'type': 'node', 'id': 944005597, 'lat': 48.1393232, 'lon': 11.5766375},\n",
       "  {'type': 'node', 'id': 944005599, 'lat': 48.1390038, 'lon': 11.5777213},\n",
       "  {'type': 'node', 'id': 944005612, 'lat': 48.1372195, 'lon': 11.5771412},\n",
       "  {'type': 'node', 'id': 944005614, 'lat': 48.1386002, 'lon': 11.5753479},\n",
       "  {'type': 'node', 'id': 944005615, 'lat': 48.139045, 'lon': 11.5772193},\n",
       "  {'type': 'node', 'id': 944005617, 'lat': 48.1387171, 'lon': 11.5750816},\n",
       "  {'type': 'node', 'id': 944005621, 'lat': 48.1375087, 'lon': 11.5774329},\n",
       "  {'type': 'node', 'id': 944005628, 'lat': 48.1373759, 'lon': 11.5765844},\n",
       "  {'type': 'node', 'id': 944005630, 'lat': 48.1389507, 'lon': 11.5754727},\n",
       "  {'type': 'node', 'id': 944005646, 'lat': 48.1394313, 'lon': 11.5771404},\n",
       "  {'type': 'node', 'id': 944005648, 'lat': 48.139205, 'lon': 11.5779476},\n",
       "  {'type': 'node', 'id': 944005652, 'lat': 48.1393272, 'lon': 11.576837},\n",
       "  {'type': 'node', 'id': 944005663, 'lat': 48.1373648, 'lon': 11.577291},\n",
       "  {'type': 'node', 'id': 944005664, 'lat': 48.1374224, 'lon': 11.5770356},\n",
       "  {'type': 'node', 'id': 944005668, 'lat': 48.1390797, 'lon': 11.5775514},\n",
       "  {'type': 'node', 'id': 944005677, 'lat': 48.1394534, 'lon': 11.5762392},\n",
       "  {'type': 'node', 'id': 944005682, 'lat': 48.1392743, 'lon': 11.5766485},\n",
       "  {'type': 'node', 'id': 944005684, 'lat': 48.1378565, 'lon': 11.5771524},\n",
       "  {'type': 'node', 'id': 944005687, 'lat': 48.1376359, 'lon': 11.5769926},\n",
       "  {'type': 'node', 'id': 944005698, 'lat': 48.1378474, 'lon': 11.5769294},\n",
       "  {'type': 'node', 'id': 944005700, 'lat': 48.1392053, 'lon': 11.5763464},\n",
       "  {'type': 'node', 'id': 944005707, 'lat': 48.1386762, 'lon': 11.5750078},\n",
       "  {'type': 'node', 'id': 944005711, 'lat': 48.1376751, 'lon': 11.5773561},\n",
       "  {'type': 'node', 'id': 944005713, 'lat': 48.1393419, 'lon': 11.5765229},\n",
       "  {'type': 'node', 'id': 944005715, 'lat': 48.1390258, 'lon': 11.5777277},\n",
       "  {'type': 'node', 'id': 944005726, 'lat': 48.1371158, 'lon': 11.5770229},\n",
       "  {'type': 'node', 'id': 944005728, 'lat': 48.1391767, 'lon': 11.5772672},\n",
       "  {'type': 'node', 'id': 944005731, 'lat': 48.1390724, 'lon': 11.576916},\n",
       "  {'type': 'node', 'id': 944005748, 'lat': 48.1372003, 'lon': 11.5768257},\n",
       "  {'type': 'node', 'id': 944005749, 'lat': 48.1388882, 'lon': 11.5753465},\n",
       "  {'type': 'node', 'id': 944005761, 'lat': 48.1392797, 'lon': 11.5772825},\n",
       "  {'type': 'node', 'id': 944005766, 'lat': 48.1388667, 'lon': 11.5752744},\n",
       "  {'type': 'node', 'id': 944005784, 'lat': 48.1390015, 'lon': 11.5749058},\n",
       "  {'type': 'node', 'id': 944005788, 'lat': 48.1394184, 'lon': 11.5773082},\n",
       "  {'type': 'node', 'id': 944005790, 'lat': 48.1390294, 'lon': 11.5777},\n",
       "  {'type': 'node', 'id': 944005798, 'lat': 48.1392498, 'lon': 11.576813},\n",
       "  {'type': 'node', 'id': 944005801, 'lat': 48.1387702, 'lon': 11.5752971},\n",
       "  {'type': 'node', 'id': 944005813, 'lat': 48.1392326, 'lon': 11.57871},\n",
       "  {'type': 'node', 'id': 944005814, 'lat': 48.1390171, 'lon': 11.5775156},\n",
       "  {'type': 'node', 'id': 944005817, 'lat': 48.1386047, 'lon': 11.5749974},\n",
       "  {'type': 'node', 'id': 944005825, 'lat': 48.1394187, 'lon': 11.5764292},\n",
       "  {'type': 'node', 'id': 944005827, 'lat': 48.1376274, 'lon': 11.5775685},\n",
       "  {'type': 'node', 'id': 944005831, 'lat': 48.1388784, 'lon': 11.5750028},\n",
       "  {'type': 'node', 'id': 944005842, 'lat': 48.1392979, 'lon': 11.5771063},\n",
       "  {'type': 'node', 'id': 944005846, 'lat': 48.139364, 'lon': 11.5771239},\n",
       "  {'type': 'node', 'id': 944005849, 'lat': 48.1369948, 'lon': 11.5768514},\n",
       "  {'type': 'node', 'id': 944005856, 'lat': 48.1386658, 'lon': 11.575254},\n",
       "  {'type': 'node', 'id': 944005874, 'lat': 48.1388688, 'lon': 11.5751078},\n",
       "  {'type': 'node', 'id': 944005880, 'lat': 48.1390424, 'lon': 11.5775999},\n",
       "  {'type': 'node', 'id': 944005889, 'lat': 48.1393357, 'lon': 11.5759145},\n",
       "  {'type': 'node', 'id': 944005894, 'lat': 48.1387127, 'lon': 11.5750114},\n",
       "  {'type': 'node', 'id': 944005895, 'lat': 48.1392711, 'lon': 11.5764849},\n",
       "  {'type': 'node', 'id': 944005897, 'lat': 48.1386945, 'lon': 11.5752661},\n",
       "  {'type': 'node', 'id': 944005920, 'lat': 48.139055, 'lon': 11.5777094},\n",
       "  {'type': 'node', 'id': 944005929, 'lat': 48.1378925, 'lon': 11.5773205},\n",
       "  {'type': 'node', 'id': 944005933, 'lat': 48.1390609, 'lon': 11.577414},\n",
       "  {'type': 'node', 'id': 944005940, 'lat': 48.1391028, 'lon': 11.5767707},\n",
       "  {'type': 'node', 'id': 944005951, 'lat': 48.138981, 'lon': 11.5751308},\n",
       "  {'type': 'node', 'id': 944005957, 'lat': 48.1379774, 'lon': 11.5770088},\n",
       "  {'type': 'node', 'id': 944005966, 'lat': 48.1379072, 'lon': 11.5769659},\n",
       "  {'type': 'node', 'id': 944005977, 'lat': 48.1377829, 'lon': 11.5771663},\n",
       "  {'type': 'node', 'id': 944005986, 'lat': 48.1387254, 'lon': 11.5747938},\n",
       "  {'type': 'node', 'id': 944005990, 'lat': 48.1392371, 'lon': 11.5766294},\n",
       "  {'type': 'node', 'id': 944005996, 'lat': 48.1369865, 'lon': 11.5767594},\n",
       "  {'type': 'node', 'id': 944006001, 'lat': 48.1389646, 'lon': 11.5752967},\n",
       "  {'type': 'node', 'id': 944006005, 'lat': 48.1392018, 'lon': 11.5770914},\n",
       "  {'type': 'node', 'id': 944006007, 'lat': 48.1394549, 'lon': 11.5775538},\n",
       "  {'type': 'node', 'id': 944006020, 'lat': 48.1390466, 'lon': 11.5775246},\n",
       "  {'type': 'node', 'id': 944006022, 'lat': 48.1375519, 'lon': 11.576717},\n",
       "  {'type': 'node', 'id': 944006032, 'lat': 48.1373995, 'lon': 11.5772113},\n",
       "  {'type': 'node', 'id': 944006033, 'lat': 48.1378224, 'lon': 11.5772776},\n",
       "  {'type': 'node', 'id': 944006036, 'lat': 48.139392, 'lon': 11.5769192},\n",
       "  {'type': 'node', 'id': 944006042, 'lat': 48.1377626, 'lon': 11.5772411},\n",
       "  {'type': 'node', 'id': 944006045, 'lat': 48.1376927, 'lon': 11.5768232},\n",
       "  {'type': 'node', 'id': 944006049, 'lat': 48.1394446, 'lon': 11.5759542},\n",
       "  {'type': 'node', 'id': 944006050, 'lat': 48.1374387, 'lon': 11.5772457},\n",
       "  {'type': 'node', 'id': 944006061, 'lat': 48.1379266, 'lon': 11.5771953},\n",
       "  {'type': 'node', 'id': 944006063, 'lat': 48.1388068, 'lon': 11.5749884},\n",
       "  {'type': 'node', 'id': 944006067, 'lat': 48.1393804, 'lon': 11.576648},\n",
       "  {'type': 'node', 'id': 944006075, 'lat': 48.1393121, 'lon': 11.5764039},\n",
       "  {'type': 'node', 'id': 944006078, 'lat': 48.1372674, 'lon': 11.576888},\n",
       "  {'type': 'node', 'id': 944006083, 'lat': 48.1391385, 'lon': 11.5765942},\n",
       "  {'type': 'node', 'id': 944006084, 'lat': 48.1388235, 'lon': 11.575099},\n",
       "  {'type': 'node', 'id': 995536674, 'lat': 48.1379957, 'lon': 11.5748409},\n",
       "  {'type': 'node', 'id': 995536678, 'lat': 48.137858, 'lon': 11.5750013},\n",
       "  {'type': 'node', 'id': 995536707, 'lat': 48.1379569, 'lon': 11.575035},\n",
       "  {'type': 'node', 'id': 995536712, 'lat': 48.1378686, 'lon': 11.5746122},\n",
       "  {'type': 'node', 'id': 995536751, 'lat': 48.1379231, 'lon': 11.5746424},\n",
       "  {'type': 'node', 'id': 995536757, 'lat': 48.1377801, 'lon': 11.5746783},\n",
       "  {'type': 'node', 'id': 995536759, 'lat': 48.1380496, 'lon': 11.5746119},\n",
       "  {'type': 'node', 'id': 995536765, 'lat': 48.1381533, 'lon': 11.574601},\n",
       "  {'type': 'node', 'id': 995536775, 'lat': 48.1378447, 'lon': 11.5747134},\n",
       "  {'type': 'node', 'id': 995536778, 'lat': 48.1380597, 'lon': 11.5745581},\n",
       "  {'type': 'node', 'id': 995536816, 'lat': 48.137713, 'lon': 11.5749668},\n",
       "  {'type': 'node', 'id': 995536841, 'lat': 48.1379832, 'lon': 11.5746649},\n",
       "  {'type': 'node', 'id': 995536853, 'lat': 48.1380525, 'lon': 11.5750779},\n",
       "  {'type': 'node', 'id': 995536858, 'lat': 48.1379458, 'lon': 11.574819},\n",
       "  {'type': 'node', 'id': 998067549, 'lat': 48.1368904, 'lon': 11.5748676},\n",
       "  {'type': 'node', 'id': 998067872, 'lat': 48.1370426, 'lon': 11.5751703},\n",
       "  {'type': 'node', 'id': 998067917, 'lat': 48.1371222, 'lon': 11.5747947},\n",
       "  {'type': 'node', 'id': 998067929, 'lat': 48.1370081, 'lon': 11.5753195},\n",
       "  {'type': 'node', 'id': 998068425, 'lat': 48.1367151, 'lon': 11.575159},\n",
       "  {'type': 'node', 'id': 998068520, 'lat': 48.1368386, 'lon': 11.5750043},\n",
       "  {'type': 'node', 'id': 998068677, 'lat': 48.1366348, 'lon': 11.5753462},\n",
       "  {'type': 'node', 'id': 998068915, 'lat': 48.1369473, 'lon': 11.5745387},\n",
       "  {'type': 'node', 'id': 998069210, 'lat': 48.1367958, 'lon': 11.5747565},\n",
       "  {'type': 'node', 'id': 998069241, 'lat': 48.1370722, 'lon': 11.5750083},\n",
       "  {'type': 'node', 'id': 998069264, 'lat': 48.1367961, 'lon': 11.5751035},\n",
       "  {'type': 'node', 'id': 1059560256, 'lat': 48.1394167, 'lon': 11.5751717},\n",
       "  {'type': 'node', 'id': 1059560530, 'lat': 48.1393053, 'lon': 11.5756205},\n",
       "  {'type': 'node', 'id': 1121737041, 'lat': 48.1373194, 'lon': 11.577842},\n",
       "  {'type': 'node', 'id': 1121737055, 'lat': 48.1391511, 'lon': 11.5753131},\n",
       "  {'type': 'node', 'id': 1121737061, 'lat': 48.1394375, 'lon': 11.5747556},\n",
       "  {'type': 'node', 'id': 1121737063, 'lat': 48.13923, 'lon': 11.5753472},\n",
       "  {'type': 'node', 'id': 1121737068, 'lat': 48.139398, 'lon': 11.5747328},\n",
       "  {'type': 'node', 'id': 1121737087, 'lat': 48.139336, 'lon': 11.576409},\n",
       "  {'type': 'node', 'id': 1121737092, 'lat': 48.1394756, 'lon': 11.575634},\n",
       "  {'type': 'node', 'id': 1121737114, 'lat': 48.1394751, 'lon': 11.5756044},\n",
       "  {'type': 'node', 'id': 1121737120, 'lat': 48.1373868, 'lon': 11.577749},\n",
       "  {'type': 'node', 'id': 1121737122, 'lat': 48.137071, 'lon': 11.5777446},\n",
       "  {'type': 'node', 'id': 1128921291, 'lat': 48.1371644, 'lon': 11.5780941},\n",
       "  {'type': 'node', 'id': 1128921317, 'lat': 48.1364981, 'lon': 11.5775822},\n",
       "  {'type': 'node', 'id': 1134251868, 'lat': 48.1376511, 'lon': 11.5778834},\n",
       "  {'type': 'node', 'id': 1158911935, 'lat': 48.1379021, 'lon': 11.5766046},\n",
       "  {'type': 'node', 'id': 1158911941, 'lat': 48.1378061, 'lon': 11.5758611},\n",
       "  {'type': 'node', 'id': 1158911942, 'lat': 48.137432, 'lon': 11.5755666},\n",
       "  {'type': 'node', 'id': 1158911965, 'lat': 48.1374478, 'lon': 11.5755644},\n",
       "  {'type': 'node', 'id': 1158911968, 'lat': 48.1376314, 'lon': 11.5757598},\n",
       "  {'type': 'node', 'id': 1158911969, 'lat': 48.1378155, 'lon': 11.575816},\n",
       "  {'type': 'node', 'id': 1158911973, 'lat': 48.137801, 'lon': 11.5755203},\n",
       "  {'type': 'node', 'id': 1158911984, 'lat': 48.1376398, 'lon': 11.5757268},\n",
       "  {'type': 'node', 'id': 1158911987, 'lat': 48.1375401, 'lon': 11.5751316},\n",
       "  {'type': 'node', 'id': 1158911991, 'lat': 48.1375922, 'lon': 11.5751196},\n",
       "  {'type': 'node', 'id': 1158911998, 'lat': 48.1378333, 'lon': 11.5755319},\n",
       "  {'type': 'node', 'id': 1158912010, 'lat': 48.1374818, 'lon': 11.5754083},\n",
       "  {'type': 'node', 'id': 1158912013, 'lat': 48.137861, 'lon': 11.5760532},\n",
       "  {'type': 'node', 'id': 1158912016, 'lat': 48.1375796, 'lon': 11.5751148},\n",
       "  {'type': 'node', 'id': 1158912068, 'lat': 48.1375551, 'lon': 11.5751214},\n",
       "  {'type': 'node', 'id': 1313292360, 'lat': 48.138904, 'lon': 11.5774001},\n",
       "  {'type': 'node', 'id': 1389800300, 'lat': 48.1385292, 'lon': 11.5775233},\n",
       "  {'type': 'node', 'id': 1389800310, 'lat': 48.1379424, 'lon': 11.5777432},\n",
       "  {'type': 'node', 'id': 1389800313, 'lat': 48.1381128, 'lon': 11.5774626},\n",
       "  {'type': 'node', 'id': 1389800344, 'lat': 48.1381344, 'lon': 11.5773506},\n",
       "  {'type': 'node', 'id': 1389800346, 'lat': 48.1379714, 'lon': 11.5775634},\n",
       "  {'type': 'node', 'id': 1389800348, 'lat': 48.1375854, 'lon': 11.5780617},\n",
       "  {'type': 'node', 'id': 1389800352, 'lat': 48.1380562, 'lon': 11.5774392},\n",
       "  {'type': 'node', 'id': 1389800360, 'lat': 48.1377526, 'lon': 11.5782029},\n",
       "  {'type': 'node', 'id': 1389800364, 'lat': 48.1379604, 'lon': 11.5776518},\n",
       "  {'type': 'node', 'id': 1389918665, 'lat': 48.1381004, 'lon': 11.5775259},\n",
       "  {'type': 'node', 'id': 1389918666, 'lat': 48.1377087, 'lon': 11.5776265},\n",
       "  {'type': 'node', 'id': 1389918667, 'lat': 48.1379904, 'lon': 11.5774795},\n",
       "  {'type': 'node', 'id': 1389918668, 'lat': 48.1378092, 'lon': 11.5775801},\n",
       "  {'type': 'node', 'id': 1389925528, 'lat': 48.1374342, 'lon': 11.5777858},\n",
       "  {'type': 'node', 'id': 1389925538, 'lat': 48.1373992, 'lon': 11.577888},\n",
       "  {'type': 'node', 'id': 1577200067, 'lat': 48.1381035, 'lon': 11.5750592},\n",
       "  {'type': 'node', 'id': 1577200082, 'lat': 48.1382141, 'lon': 11.5751303},\n",
       "  {'type': 'node', 'id': 1577200085, 'lat': 48.1382407, 'lon': 11.5746116},\n",
       "  {'type': 'node', 'id': 1577200090, 'lat': 48.1383059, 'lon': 11.5747559},\n",
       "  {'type': 'node', 'id': 1577200092, 'lat': 48.1383309, 'lon': 11.5746388},\n",
       "  {'type': 'node', 'id': 1577200110, 'lat': 48.1383345, 'lon': 11.5751874},\n",
       "  {'type': 'node', 'id': 1577200118, 'lat': 48.1383525, 'lon': 11.5749294},\n",
       "  {'type': 'node', 'id': 1577200120, 'lat': 48.1383755, 'lon': 11.5752138},\n",
       "  {'type': 'node', 'id': 1577200124, 'lat': 48.1383774, 'lon': 11.5747882},\n",
       "  {'type': 'node', 'id': 1577200126, 'lat': 48.1383802, 'lon': 11.5749409},\n",
       "  {'type': 'node', 'id': 1577200130, 'lat': 48.1383922, 'lon': 11.5747138},\n",
       "  {'type': 'node', 'id': 1577200147, 'lat': 48.138456, 'lon': 11.5745493},\n",
       "  {'type': 'node', 'id': 1577200155, 'lat': 48.1385663, 'lon': 11.5753005},\n",
       "  {'type': 'node', 'id': 1612244782, 'lat': 48.138534, 'lon': 11.5783659},\n",
       "  {'type': 'node', 'id': 1636728090, 'lat': 48.137774, 'lon': 11.5747013},\n",
       "  {'type': 'node', 'id': 1710336108, 'lat': 48.137254, 'lon': 11.5764899},\n",
       "  {'type': 'node', 'id': 1886509241, 'lat': 48.1365616, 'lon': 11.5779917},\n",
       "  {'type': 'node', 'id': 1886509242, 'lat': 48.1365213, 'lon': 11.5779652},\n",
       "  {'type': 'node', 'id': 1886509243, 'lat': 48.1365803, 'lon': 11.5777748},\n",
       "  {'type': 'node', 'id': 1886509245, 'lat': 48.1366525, 'lon': 11.5775861},\n",
       "  {'type': 'node', 'id': 1886509246, 'lat': 48.1365982, 'lon': 11.5777895},\n",
       "  {'type': 'node', 'id': 1886509249, 'lat': 48.136628, 'lon': 11.5777059},\n",
       "  {'type': 'node', 'id': 1886509250, 'lat': 48.1365982, 'lon': 11.5776809},\n",
       "  {'type': 'node', 'id': 1886509251, 'lat': 48.1365535, 'lon': 11.5780189},\n",
       "  {'type': 'node', 'id': 1886509252, 'lat': 48.1365767, 'lon': 11.5780403},\n",
       "  {'type': 'node', 'id': 1886509253, 'lat': 48.1367289, 'lon': 11.5776916},\n",
       "  {'type': 'node', 'id': 2196730199, 'lat': 48.1380103, 'lon': 11.5780349},\n",
       "  {'type': 'node', 'id': 2282298071, 'lat': 48.1368105, 'lon': 11.5747804},\n",
       "  {'type': 'node', 'id': 2282298072, 'lat': 48.1368617, 'lon': 11.5748127},\n",
       "  {'type': 'node', 'id': 2282298076, 'lat': 48.1369917, 'lon': 11.5746081},\n",
       "  {'type': 'node', 'id': 2285922407, 'lat': 48.1375017, 'lon': 11.5760866},\n",
       "  {'type': 'node', 'id': 2285922408, 'lat': 48.1375377, 'lon': 11.5760197},\n",
       "  {'type': 'node', 'id': 2285922410, 'lat': 48.1375604, 'lon': 11.5758362},\n",
       "  {'type': 'node', 'id': 2285922411, 'lat': 48.1375524, 'lon': 11.5761126},\n",
       "  {'type': 'node', 'id': 2285922412, 'lat': 48.137549, 'lon': 11.5759702},\n",
       "  {'type': 'node', 'id': 2285922413, 'lat': 48.1375698, 'lon': 11.5760362},\n",
       "  {'type': 'node', 'id': 2285922414, 'lat': 48.1375804, 'lon': 11.5759863},\n",
       "  {'type': 'node', 'id': 2285922416, 'lat': 48.1376088, 'lon': 11.575862},\n",
       "  {'type': 'node', 'id': 2285922417, 'lat': 48.1376013, 'lon': 11.5756287},\n",
       "  {'type': 'node', 'id': 2285922418, 'lat': 48.1376262, 'lon': 11.5756418},\n",
       "  {'type': 'node', 'id': 2285922420, 'lat': 48.1380212, 'lon': 11.5758781},\n",
       "  {'type': 'node', 'id': 2285922421, 'lat': 48.1380019, 'lon': 11.5759694},\n",
       "  {'type': 'node', 'id': 2285922422, 'lat': 48.1380698, 'lon': 11.5760016},\n",
       "  {'type': 'node', 'id': 2285922424, 'lat': 48.1380918, 'lon': 11.5759116},\n",
       "  {'type': 'node', 'id': 2285922425, 'lat': 48.1387638, 'lon': 11.5754068},\n",
       "  {'type': 'node', 'id': 2285922426, 'lat': 48.1388825, 'lon': 11.5754513},\n",
       "  {'type': 'node', 'id': 2285922427, 'lat': 48.1388934, 'lon': 11.5752799},\n",
       "  {'type': 'node', 'id': 2285922428, 'lat': 48.1390346, 'lon': 11.5752215},\n",
       "  {'type': 'node', 'id': 2285922432, 'lat': 48.1391686, 'lon': 11.5755429},\n",
       "  {'type': 'node', 'id': 2285922433, 'lat': 48.139158, 'lon': 11.5752403},\n",
       "  {'type': 'node', 'id': 2285922435, 'lat': 48.1391843, 'lon': 11.5754471},\n",
       "  {'type': 'node', 'id': 2285922436, 'lat': 48.1392026, 'lon': 11.5753353},\n",
       "  {'type': 'node', 'id': 2285922442, 'lat': 48.1392902, 'lon': 11.5750991},\n",
       "  {'type': 'node', 'id': 2285922443, 'lat': 48.1393511, 'lon': 11.5751338},\n",
       "  {'type': 'node', 'id': 2285922444, 'lat': 48.1393595, 'lon': 11.5754007},\n",
       "  {'type': 'node', 'id': 2327527031, 'lat': 48.1373579, 'lon': 11.5764181},\n",
       "  {'type': 'node', 'id': 2327527035, 'lat': 48.1374067, 'lon': 11.5757554},\n",
       "  {'type': 'node', 'id': 2327527045, 'lat': 48.1374166, 'lon': 11.5764491},\n",
       "  {'type': 'node', 'id': 2327527079, 'lat': 48.1376335, 'lon': 11.5751353},\n",
       "  {'type': 'node', 'id': 2327527081, 'lat': 48.1376331, 'lon': 11.5766075},\n",
       "  {'type': 'node', 'id': 2327527083, 'lat': 48.137641, 'lon': 11.5765727},\n",
       "  {'type': 'node', 'id': 2327527088, 'lat': 48.1376773, 'lon': 11.5753762},\n",
       "  {'type': 'node', 'id': 2327527090, 'lat': 48.1376742, 'lon': 11.5766284},\n",
       "  {'type': 'node', 'id': 2327527102, 'lat': 48.1377559, 'lon': 11.5764983},\n",
       "  {'type': 'node', 'id': 2327527106, 'lat': 48.1377638, 'lon': 11.5764639},\n",
       "  {'type': 'node', 'id': 2327527112, 'lat': 48.1378002, 'lon': 11.5758087},\n",
       "  {'type': 'node', 'id': 2327527119, 'lat': 48.1378527, 'lon': 11.5760933},\n",
       "  {'type': 'node', 'id': 2327527121, 'lat': 48.1378588, 'lon': 11.5761834},\n",
       "  {'type': 'node', 'id': 2327527125, 'lat': 48.1378921, 'lon': 11.5767854},\n",
       "  {'type': 'node', 'id': 2327527127, 'lat': 48.1378951, 'lon': 11.5767707},\n",
       "  {'type': 'node', 'id': 2327527131, 'lat': 48.1378955, 'lon': 11.5757893},\n",
       "  {'type': 'node', 'id': 2327527133, 'lat': 48.1379109, 'lon': 11.575241},\n",
       "  {'type': 'node', 'id': 2327527138, 'lat': 48.1379089, 'lon': 11.5757924},\n",
       "  {'type': 'node', 'id': 2327527140, 'lat': 48.1379118, 'lon': 11.5765618},\n",
       "  {'type': 'node', 'id': 2327527142, 'lat': 48.1379149, 'lon': 11.5765482},\n",
       "  {'type': 'node', 'id': 2327527152, 'lat': 48.1379468, 'lon': 11.5755469},\n",
       "  {'type': 'node', 'id': 2327527159, 'lat': 48.1379568, 'lon': 11.5755516},\n",
       "  {'type': 'node', 'id': 2327527181, 'lat': 48.1380245, 'lon': 11.5767122},\n",
       "  {'type': 'node', 'id': 2327527186, 'lat': 48.1380265, 'lon': 11.5767133},\n",
       "  {'type': 'node', 'id': 2327527214, 'lat': 48.1380755, 'lon': 11.5753037},\n",
       "  {'type': 'node', 'id': 2327527223, 'lat': 48.1381123, 'lon': 11.5763261},\n",
       "  {'type': 'node', 'id': 2327527226, 'lat': 48.1381731, 'lon': 11.5760474},\n",
       "  {'type': 'node', 'id': 2329698148, 'lat': 48.1374274, 'lon': 11.5755544},\n",
       "  {'type': 'node', 'id': 2329698149, 'lat': 48.1374281, 'lon': 11.575562},\n",
       "  {'type': 'node', 'id': 2329698150, 'lat': 48.1374305, 'lon': 11.5755483},\n",
       "  {'type': 'node', 'id': 2329698153, 'lat': 48.1374371, 'lon': 11.5755656},\n",
       "  {'type': 'node', 'id': 2329698163, 'lat': 48.1374587, 'lon': 11.5753975},\n",
       "  {'type': 'node', 'id': 2329698165, 'lat': 48.1374593, 'lon': 11.5754051},\n",
       "  {'type': 'node', 'id': 2329698166, 'lat': 48.1374618, 'lon': 11.5753915},\n",
       "  {'type': 'node', 'id': 2329698168, 'lat': 48.1374669, 'lon': 11.5753906},\n",
       "  {'type': 'node', 'id': 2329698173, 'lat': 48.137471, 'lon': 11.5753954},\n",
       "  {'type': 'node', 'id': 2329698174, 'lat': 48.1374714, 'lon': 11.5754032},\n",
       "  {'type': 'node', 'id': 2329698206, 'lat': 48.137557, 'lon': 11.575137},\n",
       "  {'type': 'node', 'id': 2329698208, 'lat': 48.1375602, 'lon': 11.5751334},\n",
       "  {'type': 'node', 'id': 2329698212, 'lat': 48.137566, 'lon': 11.5750997},\n",
       "  {'type': 'node', 'id': 2329698216, 'lat': 48.1375744, 'lon': 11.5751028},\n",
       "  {'type': 'node', 'id': 2329698218, 'lat': 48.1375902, 'lon': 11.5759435},\n",
       "  {'type': 'node', 'id': 2330734954, 'lat': 48.1372851, 'lon': 11.5762951},\n",
       "  {'type': 'node', 'id': 2330734955, 'lat': 48.1373009, 'lon': 11.5762278},\n",
       "  {'type': 'node', 'id': 2330734960, 'lat': 48.1373167, 'lon': 11.5761605},\n",
       "  {'type': 'node', 'id': 2330734969, 'lat': 48.1373226, 'lon': 11.5761353},\n",
       "  {'type': 'node', 'id': 2330734979, 'lat': 48.1373286, 'lon': 11.57611},\n",
       "  {'type': 'node', 'id': 2330734991, 'lat': 48.1373345, 'lon': 11.5760849},\n",
       "  {'type': 'node', 'id': 2330735001, 'lat': 48.1373404, 'lon': 11.5760596},\n",
       "  {'type': 'node', 'id': 2330735009, 'lat': 48.1373463, 'lon': 11.5760344},\n",
       "  {'type': 'node', 'id': 2330735019, 'lat': 48.1373522, 'lon': 11.5760091},\n",
       "  {'type': 'node', 'id': 2330735031, 'lat': 48.1373582, 'lon': 11.5759838},\n",
       "  {'type': 'node', 'id': 2330735038, 'lat': 48.1373631, 'lon': 11.5759582},\n",
       "  {'type': 'node', 'id': 2330735049, 'lat': 48.1373777, 'lon': 11.5758903},\n",
       "  {'type': 'node', 'id': 2330735058, 'lat': 48.1373923, 'lon': 11.5758224},\n",
       "  {'type': 'node', 'id': 2330735075, 'lat': 48.1374206, 'lon': 11.5756911},\n",
       "  {'type': 'node', 'id': 2330735084, 'lat': 48.1374342, 'lon': 11.5756278},\n",
       "  {'type': 'node', 'id': 2330735089, 'lat': 48.1374492, 'lon': 11.5754791},\n",
       "  {'type': 'node', 'id': 2330735094, 'lat': 48.1374964, 'lon': 11.5753391},\n",
       "  {'type': 'node', 'id': 2345352205, 'lat': 48.1385544, 'lon': 11.5775304},\n",
       "  {'type': 'node', 'id': 2345352206, 'lat': 48.1385211, 'lon': 11.5777575},\n",
       "  {'type': 'node', 'id': 2373874247, 'lat': 48.137339, 'lon': 11.5780996},\n",
       "  {'type': 'node', 'id': 2373874250, 'lat': 48.137388, 'lon': 11.5778627},\n",
       "  {'type': 'node', 'id': 2373874254, 'lat': 48.1374051, 'lon': 11.5777048},\n",
       "  {'type': 'node', 'id': 2373874256, 'lat': 48.1374221, 'lon': 11.5778215},\n",
       "  {'type': 'node', 'id': 2373874262, 'lat': 48.1374534, 'lon': 11.5775959},\n",
       "  {'type': 'node', 'id': 2498525100, 'lat': 48.138056, 'lon': 11.5770573},\n",
       "  {'type': 'node', 'id': 2498525151, 'lat': 48.138409, 'lon': 11.577577},\n",
       "  {'type': 'node', 'id': 2498525152, 'lat': 48.1384191, 'lon': 11.5775206},\n",
       "  {'type': 'node', 'id': 2498525170, 'lat': 48.1384863, 'lon': 11.5776082},\n",
       "  {'type': 'node', 'id': 2498525177, 'lat': 48.1384965, 'lon': 11.5775518},\n",
       "  {'type': 'node', 'id': 2498525179, 'lat': 48.1385001, 'lon': 11.5773925},\n",
       "  {'type': 'node', 'id': 2498525185, 'lat': 48.1385158, 'lon': 11.5772758},\n",
       "  {'type': 'node', 'id': 2498525193, 'lat': 48.1385404, 'lon': 11.57741},\n",
       "  {'type': 'node', 'id': 2498525207, 'lat': 48.1385932, 'lon': 11.577304},\n",
       "  {'type': 'node', 'id': 2498525270, 'lat': 48.1389316, 'lon': 11.5773728},\n",
       "  {'type': 'node', 'id': 2498525280, 'lat': 48.1389929, 'lon': 11.577805},\n",
       "  {'type': 'node', 'id': 2498525289, 'lat': 48.1390447, 'lon': 11.5775414},\n",
       "  {'type': 'node', 'id': 2498525303, 'lat': 48.1391125, 'lon': 11.5744328},\n",
       "  {'type': 'node', 'id': 2498525307, 'lat': 48.1391389, 'lon': 11.5755303},\n",
       "  {'type': 'node', 'id': 2498525308, 'lat': 48.1391666, 'lon': 11.5751369},\n",
       "  {'type': 'node', 'id': 2498525309, 'lat': 48.1391777, 'lon': 11.5753246},\n",
       "  {'type': 'node', 'id': 2498525310, 'lat': 48.1391825, 'lon': 11.5751394},\n",
       "  {'type': 'node', 'id': 2498525311, 'lat': 48.139209, 'lon': 11.5746781},\n",
       "  {'type': 'node', 'id': 2498525314, 'lat': 48.1392271, 'lon': 11.5744582},\n",
       "  {'type': 'node', 'id': 2498525316, 'lat': 48.1392274, 'lon': 11.5755808},\n",
       "  {'type': 'node', 'id': 2498525320, 'lat': 48.1392557, 'lon': 11.5748596},\n",
       "  {'type': 'node', 'id': 2498525323, 'lat': 48.1392873, 'lon': 11.5748739},\n",
       "  {'type': 'node', 'id': 2498525325, 'lat': 48.1393614, 'lon': 11.5745614},\n",
       "  {'type': 'node', 'id': 2498525328, 'lat': 48.1394716, 'lon': 11.5746228},\n",
       "  {'type': 'node', 'id': 2515092926, 'lat': 48.1371979, 'lon': 11.5773057},\n",
       "  {'type': 'node', 'id': 2515092929, 'lat': 48.1373646, 'lon': 11.5775069},\n",
       "  {'type': 'node', 'id': 2515092932, 'lat': 48.1374967, 'lon': 11.5776313},\n",
       "  {'type': 'node', 'id': 2515092935, 'lat': 48.1376049, 'lon': 11.5777216},\n",
       "  {'type': 'node', 'id': 2515092938, 'lat': 48.1379051, 'lon': 11.5774348},\n",
       "  {'type': 'node', 'id': 2518709189, 'lat': 48.1377104, 'lon': 11.5751646},\n",
       "  {'type': 'node', 'id': 2545257976, 'lat': 48.1380455, 'lon': 11.5781862},\n",
       "  {'type': 'node', 'id': 2545257977, 'lat': 48.1376583, 'lon': 11.5781289},\n",
       "  {'type': 'node', 'id': 2545257979, 'lat': 48.1376769, 'lon': 11.5781452},\n",
       "  {'type': 'node', 'id': 2545257981, 'lat': 48.1376839, 'lon': 11.5777941},\n",
       "  {'type': 'node', 'id': 2545257982, 'lat': 48.13754, 'lon': 11.5776667},\n",
       "  {'type': 'node', 'id': 2545257985, 'lat': 48.1373919, 'lon': 11.5778355},\n",
       "  {'type': 'node', 'id': 2545257986, 'lat': 48.1374043, 'lon': 11.577821},\n",
       "  {'type': 'node', 'id': 2545257988, 'lat': 48.1374701, 'lon': 11.5781571},\n",
       "  {'type': 'node', 'id': 2545257990, 'lat': 48.1377957, 'lon': 11.5778832},\n",
       "  {'type': 'node', 'id': 2545257991, 'lat': 48.1378966, 'lon': 11.5773054},\n",
       "  {'type': 'node', 'id': 2545257992, 'lat': 48.1379511, 'lon': 11.5771054},\n",
       "  {'type': 'node', 'id': 2545257993, 'lat': 48.1377574, 'lon': 11.577076},\n",
       "  {'type': 'node', 'id': 2545257994, 'lat': 48.1377394, 'lon': 11.5771373},\n",
       "  {'type': 'node', 'id': 2545257995, 'lat': 48.1376865, 'lon': 11.5773305},\n",
       "  {'type': 'node', 'id': 2545257996, 'lat': 48.1377302, 'lon': 11.5773618},\n",
       "  {'type': 'node', 'id': 2545257997, 'lat': 48.1378644, 'lon': 11.5774233},\n",
       "  {'type': 'node', 'id': 2545257998, 'lat': 48.1378757, 'lon': 11.5769467},\n",
       "  {'type': 'node', 'id': 2545257999, 'lat': 48.137757, 'lon': 11.5768658},\n",
       "  {'type': 'node', 'id': 2545258000, 'lat': 48.137568, 'lon': 11.5775007},\n",
       "  {'type': 'node', 'id': 2545258001, 'lat': 48.1374079, 'lon': 11.5773335},\n",
       "  {'type': 'node', 'id': 2545258002, 'lat': 48.1376062, 'lon': 11.576758},\n",
       "  {'type': 'node', 'id': 2545258004, 'lat': 48.1373191, 'lon': 11.5767539},\n",
       "  {'type': 'node', 'id': 2545258007, 'lat': 48.137495, 'lon': 11.5768865},\n",
       "  {'type': 'node', 'id': 2545258008, 'lat': 48.1374502, 'lon': 11.5766404},\n",
       "  {'type': 'node', 'id': 2545258009, 'lat': 48.1371171, 'lon': 11.5763918},\n",
       "  {'type': 'node', 'id': 2545258010, 'lat': 48.1369958, 'lon': 11.5767331},\n",
       "  {'type': 'node', 'id': 2545258014, 'lat': 48.1367959, 'lon': 11.5773148},\n",
       "  {'type': 'node', 'id': 2545258015, 'lat': 48.1367126, 'lon': 11.5774484},\n",
       "  {'type': 'node', 'id': 2545258016, 'lat': 48.1366666, 'lon': 11.5773841},\n",
       "  {'type': 'node', 'id': 2545258017, 'lat': 48.1367497, 'lon': 11.5772507},\n",
       "  {'type': 'node', 'id': 2545258020, 'lat': 48.1379508, 'lon': 11.5779837},\n",
       "  {'type': 'node', 'id': 2545258021, 'lat': 48.1380549, 'lon': 11.5780411},\n",
       "  {'type': 'node', 'id': 2545258023, 'lat': 48.1380276, 'lon': 11.5770438},\n",
       "  {'type': 'node', 'id': 2545258024, 'lat': 48.1380963, 'lon': 11.5770765},\n",
       "  {'type': 'node', 'id': 2545258025, 'lat': 48.1385527, 'lon': 11.5776264},\n",
       "  {'type': 'node', 'id': 2545258026, 'lat': 48.1385624, 'lon': 11.5782102},\n",
       "  {'type': 'node', 'id': 2545258027, 'lat': 48.1386899, 'lon': 11.5773378},\n",
       "  {'type': 'node', 'id': 2545258028, 'lat': 48.1385498, 'lon': 11.5783179},\n",
       "  {'type': 'node', 'id': 2545258029, 'lat': 48.1384824, 'lon': 11.5782884},\n",
       "  {'type': 'node', 'id': 2545258034, 'lat': 48.1388943, 'lon': 11.5774842},\n",
       "  {'type': 'node', 'id': 2545258035, 'lat': 48.1392207, 'lon': 11.5774707},\n",
       "  {'type': 'node', 'id': 2545319959, 'lat': 48.1368661, 'lon': 11.5774197},\n",
       "  {'type': 'node', 'id': 2545319965, 'lat': 48.1370132, 'lon': 11.5776512},\n",
       "  {'type': 'node', 'id': 2545319972, 'lat': 48.1372671, 'lon': 11.5780197},\n",
       "  {'type': 'node', 'id': 2545319977, 'lat': 48.137165, 'lon': 11.5778776},\n",
       "  {'type': 'node', 'id': 2545319984, 'lat': 48.1370853, 'lon': 11.5779813},\n",
       "  {'type': 'node', 'id': 2546598951, 'lat': 48.138769, 'lon': 11.5784501},\n",
       "  {'type': 'node', 'id': 2546598954, 'lat': 48.138854, 'lon': 11.5778264},\n",
       "  {'type': 'node', 'id': 2546598958, 'lat': 48.1389944, 'lon': 11.5782791},\n",
       "  {'type': 'node', 'id': 2546598968, 'lat': 48.1391211, 'lon': 11.5786475},\n",
       "  {'type': 'node', 'id': 2586658026, 'lat': 48.137829, 'lon': 11.5763096},\n",
       "  {'type': 'node', 'id': 2586658030, 'lat': 48.1379176, 'lon': 11.576354},\n",
       "  {'type': 'node', 'id': 2586658034, 'lat': 48.1379924, 'lon': 11.5763903},\n",
       "  {'type': 'node', 'id': 2586658038, 'lat': 48.1380877, 'lon': 11.5764367},\n",
       "  {'type': 'node', 'id': 2758329745, 'lat': 48.1383318, 'lon': 11.575583},\n",
       "  {'type': 'node', 'id': 2758329753, 'lat': 48.1383387, 'lon': 11.5755438},\n",
       "  {'type': 'node', 'id': 2758329758, 'lat': 48.1383568, 'lon': 11.575593},\n",
       "  {'type': 'node', 'id': 2758329771, 'lat': 48.1383637, 'lon': 11.5755537},\n",
       "  {'type': 'node', 'id': 2810072052, 'lat': 48.1390833, 'lon': 11.5747283},\n",
       "  {'type': 'node', 'id': 2810072058, 'lat': 48.1390462, 'lon': 11.5751039},\n",
       "  {'type': 'node', 'id': 2810123409, 'lat': 48.1384302, 'lon': 11.5772352},\n",
       "  {'type': 'node', 'id': 2810123410, 'lat': 48.1382067, 'lon': 11.5771289},\n",
       "  {'type': 'node', 'id': 2810123412, 'lat': 48.1387835, 'lon': 11.5783304},\n",
       "  {'type': 'node', 'id': 2810123413, 'lat': 48.1388047, 'lon': 11.5781785},\n",
       "  {'type': 'node', 'id': 2810123417, 'lat': 48.1388382, 'lon': 11.5779397},\n",
       "  {'type': 'node', 'id': 2810123421, 'lat': 48.1385199, 'lon': 11.5780252},\n",
       "  {'type': 'node', 'id': 2810123428, 'lat': 48.1365794, 'lon': 11.578219},\n",
       "  {'type': 'node', 'id': 2810123431, 'lat': 48.1369033, 'lon': 11.5784069},\n",
       "  {'type': 'node', 'id': 2810124998, 'lat': 48.1381055, 'lon': 11.5778437},\n",
       "  {'type': 'node', 'id': 2830081073, 'lat': 48.139074, 'lon': 11.5783049},\n",
       "  {'type': 'node', 'id': 2830081089, 'lat': 48.1391963, 'lon': 11.578009},\n",
       "  {'type': 'node', 'id': 2830081095, 'lat': 48.139035, 'lon': 11.5780386},\n",
       "  {'type': 'node', 'id': 2868854686, 'lat': 48.1366316, 'lon': 11.5778385},\n",
       "  {'type': 'node', 'id': 2868855104, 'lat': 48.1390368, 'lon': 11.5778211},\n",
       "  {'type': 'node', 'id': 2868855106, 'lat': 48.1390599, 'lon': 11.5778907},\n",
       "  {'type': 'node', 'id': 2876680568, 'lat': 48.1384338, 'lon': 11.5749001},\n",
       "  {'type': 'node', 'id': 2876680569, 'lat': 48.1385836, 'lon': 11.5749717},\n",
       "  {'type': 'node', 'id': 2950486564, 'lat': 48.1366514, 'lon': 11.5768807},\n",
       "  {'type': 'node', 'id': 2950486565, 'lat': 48.1366517, 'lon': 11.5768517},\n",
       "  {'type': 'node', 'id': 2950486566, 'lat': 48.1366538, 'lon': 11.5768522},\n",
       "  {'type': 'node', 'id': 2950486567, 'lat': 48.1366538, 'lon': 11.5768795},\n",
       "  {'type': 'node', 'id': 2950486568, 'lat': 48.136666, 'lon': 11.5769012},\n",
       "  {'type': 'node', 'id': 2950486569, 'lat': 48.1366663, 'lon': 11.5768305},\n",
       "  {'type': 'node', 'id': 2950486570, 'lat': 48.1366666, 'lon': 11.576899},\n",
       "  {'type': 'node', 'id': 2950486571, 'lat': 48.1366668, 'lon': 11.5768329},\n",
       "  {'type': 'node', 'id': 2950486581, 'lat': 48.1366759, 'lon': 11.576866},\n",
       "  {'type': 'node', 'id': 2950486585, 'lat': 48.1366803, 'lon': 11.5771542},\n",
       "  {'type': 'node', 'id': 2950486587, 'lat': 48.1366824, 'lon': 11.5769374},\n",
       "  {'type': 'node', 'id': 2950486590, 'lat': 48.1366849, 'lon': 11.5768991},\n",
       "  {'type': 'node', 'id': 2950486592, 'lat': 48.1366851, 'lon': 11.576833},\n",
       "  {'type': 'node', 'id': 2950486593, 'lat': 48.1366854, 'lon': 11.5769017},\n",
       "  {'type': 'node', 'id': 2950486595, 'lat': 48.1366861, 'lon': 11.5768307},\n",
       "  {'type': 'node', 'id': 2950486596, 'lat': 48.1366979, 'lon': 11.5768798},\n",
       "  {'type': 'node', 'id': 2950486597, 'lat': 48.136698, 'lon': 11.5768524},\n",
       "  {'type': 'node', 'id': 2950486598, 'lat': 48.1366999, 'lon': 11.5768812},\n",
       "  {'type': 'node', 'id': 2950486599, 'lat': 48.1367002, 'lon': 11.5768515},\n",
       "  {'type': 'node', 'id': 2950486605, 'lat': 48.1367245, 'lon': 11.576869},\n",
       "  {'type': 'node', 'id': 2950486612, 'lat': 48.1368686, 'lon': 11.5768463},\n",
       "  {'type': 'node', 'id': 2950486613, 'lat': 48.1369238, 'lon': 11.577208},\n",
       "  {'type': 'node', 'id': 2950486614, 'lat': 48.1369336, 'lon': 11.5769366},\n",
       "  {'type': 'node', 'id': 3447924924, 'lat': 48.1384243, 'lon': 11.5747247},\n",
       "  {'type': 'node', 'id': 3448546330, 'lat': 48.1366387, 'lon': 11.5753511},\n",
       "  {'type': 'node', 'id': 3448546331, 'lat': 48.1367186, 'lon': 11.5751614},\n",
       "  {'type': 'node', 'id': 3521912283, 'lat': 48.1377456, 'lon': 11.5776556},\n",
       "  {'type': 'node', 'id': 3608964556, 'lat': 48.1381495, 'lon': 11.5765112},\n",
       "  {'type': 'node', 'id': 3608964557, 'lat': 48.138158, 'lon': 11.5764682},\n",
       "  {'type': 'node', 'id': 3608964558, 'lat': 48.1382105, 'lon': 11.5765385},\n",
       "  {'type': 'node', 'id': 3608964559, 'lat': 48.1382191, 'lon': 11.5764955},\n",
       "  {'type': 'node', 'id': 3652562487, 'lat': 48.1377324, 'lon': 11.5749713},\n",
       "  {'type': 'node', 'id': 3652562492, 'lat': 48.1392144, 'lon': 11.5768292},\n",
       "  {'type': 'node', 'id': 3652562493, 'lat': 48.1392214, 'lon': 11.5768054},\n",
       "  {'type': 'node', 'id': 3652562494, 'lat': 48.1393498, 'lon': 11.5766432},\n",
       "  {'type': 'node', 'id': 3688974745, 'lat': 48.1392382, 'lon': 11.5753143},\n",
       "  {'type': 'node', 'id': 3744012267, 'lat': 48.1383514, 'lon': 11.5755488},\n",
       "  {'type': 'node', 'id': 3893571130, 'lat': 48.1379469, 'lon': 11.5779995},\n",
       "  {'type': 'node', 'id': 3893571131, 'lat': 48.1380508, 'lon': 11.5780575},\n",
       "  {'type': 'node', 'id': 3893571140, 'lat': 48.1385196, 'lon': 11.5784116},\n",
       "  {'type': 'node', 'id': 3893571142, 'lat': 48.1385606, 'lon': 11.5777769},\n",
       "  {'type': 'node', 'id': 3961270299, 'lat': 48.137959, 'lon': 11.5747489},\n",
       "  {'type': 'node', 'id': 3961270300, 'lat': 48.1379703, 'lon': 11.5747496},\n",
       "  {'type': 'node', 'id': 3961270301, 'lat': 48.1379808, 'lon': 11.5747413},\n",
       "  {'type': 'node', 'id': 3961270302, 'lat': 48.1379901, 'lon': 11.5747165},\n",
       "  {'type': 'node', 'id': 3961270303, 'lat': 48.1379913, 'lon': 11.5746678},\n",
       "  {'type': 'node', 'id': 3961270304, 'lat': 48.1379935, 'lon': 11.5746897},\n",
       "  {'type': 'node', 'id': 3961270305, 'lat': 48.1380053, 'lon': 11.5748452},\n",
       "  {'type': 'node', 'id': 4348232951, 'lat': 48.136711, 'lon': 11.5771973},\n",
       "  {'type': 'node', 'id': 4348232954, 'lat': 48.1368953, 'lon': 11.5768822},\n",
       "  {'type': 'node', 'id': 4602648464, 'lat': 48.1383445, 'lon': 11.5755881},\n",
       "  {'type': 'node', 'id': 4602648472, 'lat': 48.1376331, 'lon': 11.577312},\n",
       "  {'type': 'node', 'id': 4602648473, 'lat': 48.1376445, 'lon': 11.5772637},\n",
       "  {'type': 'node', 'id': 4602648474, 'lat': 48.1376808, 'lon': 11.5774391},\n",
       "  {'type': 'node', 'id': 4602648475, 'lat': 48.137653, 'lon': 11.5774135},\n",
       "  {'type': 'node', 'id': 4944530680, 'lat': 48.1370735, 'lon': 11.5765145},\n",
       "  {'type': 'node', 'id': 4949909526, 'lat': 48.1383566, 'lon': 11.5764428},\n",
       "  {'type': 'node', 'id': 5157560095, 'lat': 48.1393022, 'lon': 11.5751056},\n",
       "  {'type': 'node', 'id': 5727891509, 'lat': 48.1382736, 'lon': 11.5755887},\n",
       "  {'type': 'node', 'id': 6939257860, 'lat': 48.1390065, 'lon': 11.5782072},\n",
       "  {'type': 'node', 'id': 6939257861, 'lat': 48.1391673, 'lon': 11.5782149},\n",
       "  {'type': 'node', 'id': 7027262412, 'lat': 48.1393314, 'lon': 11.5781964},\n",
       "  {'type': 'node', 'id': 7027262413, 'lat': 48.1388288, 'lon': 11.578007},\n",
       "  {'type': 'node', 'id': 7027262414, 'lat': 48.1391781, 'lon': 11.5781386},\n",
       "  {'type': 'node', 'id': 7027262415, 'lat': 48.1390277, 'lon': 11.5780819},\n",
       "  {'type': 'node', 'id': 7037043110, 'lat': 48.1379449, 'lon': 11.5754781},\n",
       "  {'type': 'node', 'id': 7037043111, 'lat': 48.1379865, 'lon': 11.5752698},\n",
       "  {'type': 'node', 'id': 7037043112, 'lat': 48.1376167, 'lon': 11.5755567},\n",
       "  {'type': 'node', 'id': 7135835426, 'lat': 48.1374635, 'lon': 11.5754099},\n",
       "  {'type': 'node', 'id': 7135835427, 'lat': 48.1374349, 'lon': 11.5755475},\n",
       "  {'type': 'node', 'id': 7135835428, 'lat': 48.1374397, 'lon': 11.5755606},\n",
       "  {'type': 'node', 'id': 8003510689, 'lat': 48.1367641, 'lon': 11.5754923},\n",
       "  {'type': 'node', 'id': 8003510690, 'lat': 48.1368569, 'lon': 11.5755844},\n",
       "  {'type': 'node', 'id': 8003510691, 'lat': 48.1369071, 'lon': 11.5756248},\n",
       "  {'type': 'node', 'id': 8003510692, 'lat': 48.1367596, 'lon': 11.5752079},\n",
       "  {'type': 'node', 'id': 8003563848, 'lat': 48.1367901, 'lon': 11.5755181},\n",
       "  {'type': 'node', 'id': 8178603121, 'lat': 48.1379715, 'lon': 11.5779007},\n",
       "  {'type': 'node', 'id': 8178603122, 'lat': 48.1380754, 'lon': 11.5779586},\n",
       "  {'type': 'node', 'id': 8220452976, 'lat': 48.1378958, 'lon': 11.5779514},\n",
       "  {'type': 'node', 'id': 8220452977, 'lat': 48.1376692, 'lon': 11.5777806},\n",
       "  {'type': 'node', 'id': 8220452978, 'lat': 48.1376401, 'lon': 11.5779131},\n",
       "  {'type': 'node', 'id': 8220452979, 'lat': 48.1376138, 'lon': 11.5778933},\n",
       "  {'type': 'node', 'id': 8220452980, 'lat': 48.1376345, 'lon': 11.5778351},\n",
       "  {'type': 'node', 'id': 8220452981, 'lat': 48.1376611, 'lon': 11.5778562},\n",
       "  {'type': 'node', 'id': 8220452982, 'lat': 48.1376261, 'lon': 11.5779026},\n",
       "  {'type': 'node', 'id': 8220452983, 'lat': 48.137572, 'lon': 11.5780494},\n",
       "  {'type': 'node', 'id': 8220452984, 'lat': 48.1376462, 'lon': 11.5778444},\n",
       "  {'type': 'node', 'id': 8220727413, 'lat': 48.1367306, 'lon': 11.5768776},\n",
       "  {'type': 'node', 'id': 8220727414, 'lat': 48.1366886, 'lon': 11.5769454},\n",
       "  {'type': 'node', 'id': 9344758405, 'lat': 48.1377924, 'lon': 11.5776227},\n",
       "  {'type': 'node', 'id': 9529596596, 'lat': 48.136833, 'lon': 11.5747577},\n",
       "  {'type': 'node', 'id': 10816259012, 'lat': 48.1394392, 'lon': 11.5763168},\n",
       "  {'type': 'node', 'id': 10816259013, 'lat': 48.1392309, 'lon': 11.5762564},\n",
       "  {'type': 'node', 'id': 11862227799, 'lat': 48.1394364, 'lon': 11.5751831},\n",
       "  {'type': 'node', 'id': 11862325059, 'lat': 48.1390324, 'lon': 11.5752431},\n",
       "  {'type': 'node', 'id': 11862335233, 'lat': 48.1381089, 'lon': 11.5748109},\n",
       "  {'type': 'node', 'id': 11862335239, 'lat': 48.1378014, 'lon': 11.5746899},\n",
       "  {'type': 'node', 'id': 11862335242, 'lat': 48.137863, 'lon': 11.5746361},\n",
       "  {'type': 'node', 'id': 11900449259, 'lat': 48.1393663, 'lon': 11.5764192},\n",
       "  {'type': 'node', 'id': 11900449260, 'lat': 48.1394001, 'lon': 11.5762164},\n",
       "  {'type': 'node', 'id': 11900449261, 'lat': 48.1392621, 'lon': 11.5761465},\n",
       "  {'type': 'node', 'id': 11900537093, 'lat': 48.1384284, 'lon': 11.5764724},\n",
       "  {'type': 'node', 'id': 11900537097, 'lat': 48.1393152, 'lon': 11.5763911},\n",
       "  {'type': 'node', 'id': 11900537098, 'lat': 48.139258, 'lon': 11.5763669},\n",
       "  {'type': 'node', 'id': 11900537099, 'lat': 48.139297, 'lon': 11.5765044},\n",
       "  {'type': 'node', 'id': 11900537100, 'lat': 48.1394553, 'lon': 11.5766535},\n",
       "  {'type': 'node', 'id': 11900537101, 'lat': 48.1394542, 'lon': 11.5766652},\n",
       "  {'type': 'node', 'id': 11900537102, 'lat': 48.139481, 'lon': 11.576862},\n",
       "  {'type': 'node', 'id': 11900537103, 'lat': 48.1394746, 'lon': 11.576937},\n",
       "  {'type': 'node', 'id': 11900537104, 'lat': 48.1392861, 'lon': 11.5768236},\n",
       "  {'type': 'node', 'id': 11900537105, 'lat': 48.1393099, 'lon': 11.5769964},\n",
       "  {'type': 'node', 'id': 11900537106, 'lat': 48.1392617, 'lon': 11.576974},\n",
       "  {'type': 'node', 'id': 11900537107, 'lat': 48.1392554, 'lon': 11.5770318},\n",
       "  {'type': 'node', 'id': 11900537108, 'lat': 48.1392457, 'lon': 11.577043},\n",
       "  {'type': 'node', 'id': 11900537109, 'lat': 48.1392397, 'lon': 11.5770295},\n",
       "  {'type': 'node', 'id': 11900537110, 'lat': 48.1392139, 'lon': 11.5770217},\n",
       "  {'type': 'node', 'id': 11900537111, 'lat': 48.1391733, 'lon': 11.5770273},\n",
       "  {'type': 'node', 'id': 11900537112, 'lat': 48.1391847, 'lon': 11.5770284},\n",
       "  {'type': 'node', 'id': 11900537113, 'lat': 48.1391895, 'lon': 11.5769758},\n",
       "  {'type': 'node', 'id': 11900537114, 'lat': 48.1391805, 'lon': 11.5769743},\n",
       "  {'type': 'node', 'id': 11900537115, 'lat': 48.1390657, 'lon': 11.5769863},\n",
       "  {'type': 'node', 'id': 11927013832, 'lat': 48.1387752, 'lon': 11.5754111},\n",
       "  {'type': 'node', 'id': 11933568852, 'lat': 48.137548, 'lon': 11.5771155},\n",
       "  {'type': 'node', 'id': 11933568853, 'lat': 48.1375279, 'lon': 11.5771759},\n",
       "  {'type': 'node', 'id': 11933568854, 'lat': 48.1374102, 'lon': 11.5771873},\n",
       "  {'type': 'node', 'id': 11933568855, 'lat': 48.1374437, 'lon': 11.5772151},\n",
       "  {'type': 'node', 'id': 11933568856, 'lat': 48.1374623, 'lon': 11.5771651},\n",
       "  {'type': 'node', 'id': 11933568857, 'lat': 48.1373954, 'lon': 11.5771001},\n",
       "  {'type': 'node', 'id': 12093032370, 'lat': 48.1388511, 'lon': 11.5749973},\n",
       "  {'type': 'node', 'id': 12095855822, 'lat': 48.1383709, 'lon': 11.5749909},\n",
       "  {'type': 'node', 'id': 12095855823, 'lat': 48.1383611, 'lon': 11.5745102},\n",
       "  {'type': 'node', 'id': 12095855824, 'lat': 48.1382675, 'lon': 11.5749613},\n",
       "  {'type': 'node', 'id': 12095855825, 'lat': 48.1382486, 'lon': 11.5749528},\n",
       "  {'type': 'node', 'id': 12095855826, 'lat': 48.1382292, 'lon': 11.5746654},\n",
       "  {'type': 'node', 'id': 12095855827, 'lat': 48.1381756, 'lon': 11.5749156},\n",
       "  {'type': 'node', 'id': 12095855828, 'lat': 48.1381355, 'lon': 11.5748974},\n",
       "  {'type': 'node', 'id': 12095899158, 'lat': 48.1383424, 'lon': 11.5765198},\n",
       "  {'type': 'node', 'id': 12095899159, 'lat': 48.1383228, 'lon': 11.5766289},\n",
       "  {'type': 'node', 'id': 12095899160, 'lat': 48.138296, 'lon': 11.5766179},\n",
       "  {'type': 'node', 'id': 12095899161, 'lat': 48.138316, 'lon': 11.5765089},\n",
       "  {'type': 'node', 'id': 12095899163, 'lat': 48.1382987, 'lon': 11.5767602},\n",
       "  {'type': 'node', 'id': 12095899164, 'lat': 48.1383702, 'lon': 11.5767897},\n",
       "  {'type': 'node', 'id': 539181088, 'lat': 48.1399403, 'lon': 11.577358},\n",
       "  {'type': 'node', 'id': 622503338, 'lat': 48.1401569, 'lon': 11.5763077},\n",
       "  {'type': 'node', 'id': 944005457, 'lat': 48.1396661, 'lon': 11.5763862},\n",
       "  {'type': 'node', 'id': 944005463, 'lat': 48.1397798, 'lon': 11.5772237},\n",
       "  {'type': 'node', 'id': 944005485, 'lat': 48.1397113, 'lon': 11.577045},\n",
       "  {'type': 'node', 'id': 944005502, 'lat': 48.1398341, 'lon': 11.5761358},\n",
       "  {'type': 'node', 'id': 944005509, 'lat': 48.1396726, 'lon': 11.5773315},\n",
       "  {'type': 'node', 'id': 944005541, 'lat': 48.1398303, 'lon': 11.5769153},\n",
       "  {'type': 'node', 'id': 944005566, 'lat': 48.1399348, 'lon': 11.5764626},\n",
       "  {'type': 'node', 'id': 944005581, 'lat': 48.1395058, 'lon': 11.57666},\n",
       "  {'type': 'node', 'id': 944005584, 'lat': 48.1394845, 'lon': 11.5768219},\n",
       "  {'type': 'node', 'id': 944005585, 'lat': 48.1397382, 'lon': 11.5768458},\n",
       "  {'type': 'node', 'id': 944005626, 'lat': 48.1395279, 'lon': 11.5764462},\n",
       "  {'type': 'node', 'id': 944005650, 'lat': 48.1399635, 'lon': 11.5769392},\n",
       "  {'type': 'node', 'id': 944005669, 'lat': 48.1397887, 'lon': 11.5764719},\n",
       "  {'type': 'node', 'id': 944005681, 'lat': 48.1399086, 'lon': 11.5764497},\n",
       "  {'type': 'node', 'id': 944005697, 'lat': 48.1395524, 'lon': 11.5762876},\n",
       "  {'type': 'node', 'id': 944005709, 'lat': 48.1397605, 'lon': 11.5772233},\n",
       "  {'type': 'node', 'id': 944005744, 'lat': 48.13965, 'lon': 11.5763225},\n",
       "  {'type': 'node', 'id': 944005799, 'lat': 48.1399226, 'lon': 11.577356},\n",
       "  {'type': 'node', 'id': 944005807, 'lat': 48.1396251, 'lon': 11.5766943},\n",
       "  {'type': 'node', 'id': 944005879, 'lat': 48.1395983, 'lon': 11.5768969},\n",
       "  {'type': 'node', 'id': 944005884, 'lat': 48.1398366, 'lon': 11.5768807},\n",
       "  {'type': 'node', 'id': 944005918, 'lat': 48.1395935, 'lon': 11.5760322},\n",
       "  {'type': 'node', 'id': 944005921, 'lat': 48.1398122, 'lon': 11.5770261},\n",
       "  {'type': 'node', 'id': 944005930, 'lat': 48.1401207, 'lon': 11.5765293},\n",
       "  {'type': 'node', 'id': 944005939, 'lat': 48.139667, 'lon': 11.5761611},\n",
       "  {'type': 'node', 'id': 944005953, 'lat': 48.1395404, 'lon': 11.5773351},\n",
       "  {'type': 'node', 'id': 944005965, 'lat': 48.1397798, 'lon': 11.5770584},\n",
       "  {'type': 'node', 'id': 944005976, 'lat': 48.1399819, 'lon': 11.5762149},\n",
       "  {'type': 'node', 'id': 944006010, 'lat': 48.1395375, 'lon': 11.5764564},\n",
       "  {'type': 'node', 'id': 944006031, 'lat': 48.1395528, 'lon': 11.5762795},\n",
       "  {'type': 'node', 'id': 944006044, 'lat': 48.139898, 'lon': 11.5765104},\n",
       "  {'type': 'node', 'id': 944006060, 'lat': 48.1399349, 'lon': 11.577233},\n",
       "  {'type': 'node', 'id': 944006064, 'lat': 48.1395015, 'lon': 11.5766881},\n",
       "  {'type': 'node', 'id': 1059560113, 'lat': 48.1403684, 'lon': 11.574883},\n",
       "  {'type': 'node', 'id': 1059560116, 'lat': 48.1398009, 'lon': 11.5749299},\n",
       "  {'type': 'node', 'id': 1059560119, 'lat': 48.139484, 'lon': 11.5755559},\n",
       "  {'type': 'node', 'id': 1059560124, 'lat': 48.1400801, 'lon': 11.574973},\n",
       "  {'type': 'node', 'id': 1059560160, 'lat': 48.1404212, 'lon': 11.5759612},\n",
       "  {'type': 'node', 'id': 1059560182, 'lat': 48.1404157, 'lon': 11.5749148},\n",
       "  {'type': 'node', 'id': 1059560224, 'lat': 48.1399553, 'lon': 11.575245},\n",
       "  {'type': 'node', 'id': 1059560233, 'lat': 48.1400791, 'lon': 11.5760221},\n",
       "  {'type': 'node', 'id': 1059560248, 'lat': 48.1397096, 'lon': 11.5751967},\n",
       "  {'type': 'node', 'id': 1059560253, 'lat': 48.1403609, 'lon': 11.5750962},\n",
       "  {'type': 'node', 'id': 1059560274, 'lat': 48.1396171, 'lon': 11.5755388},\n",
       "  {'type': 'node', 'id': 1059560287, 'lat': 48.1396544, 'lon': 11.5754088},\n",
       "  {'type': 'node', 'id': 1059560297, 'lat': 48.1397408, 'lon': 11.5745761},\n",
       "  {'type': 'node', 'id': 1059560327, 'lat': 48.1406214, 'lon': 11.5753156},\n",
       "  {'type': 'node', 'id': 1059560343, 'lat': 48.1398291, 'lon': 11.5748238},\n",
       "  {'type': 'node', 'id': 1059560348, 'lat': 48.140138, 'lon': 11.5750057},\n",
       "  {'type': 'node', 'id': 1059560352, 'lat': 48.1397571, 'lon': 11.5745866},\n",
       "  {'type': 'node', 'id': 1059560357, 'lat': 48.1401088, 'lon': 11.5752119},\n",
       "  {'type': 'node', 'id': 1059560405, 'lat': 48.1407675, 'lon': 11.574845},\n",
       "  {'type': 'node', 'id': 1059560412, 'lat': 48.1400284, 'lon': 11.5759925},\n",
       "  {'type': 'node', 'id': 1059560431, 'lat': 48.1401358, 'lon': 11.575842},\n",
       "  {'type': 'node', 'id': 1059560435, 'lat': 48.1397408, 'lon': 11.5750848},\n",
       "  {'type': 'node', 'id': 1059560439, 'lat': 48.1401091, 'lon': 11.5751115},\n",
       "  {'type': 'node', 'id': 1059560478, 'lat': 48.1405547, 'lon': 11.5755307},\n",
       "  {'type': 'node', 'id': 1059560488, 'lat': 48.1398957, 'lon': 11.5754466},\n",
       "  {'type': 'node', 'id': 1059560495, 'lat': 48.1399671, 'lon': 11.5757412},\n",
       "  {'type': 'node', 'id': 1059560508, 'lat': 48.1402018, 'lon': 11.5748758},\n",
       "  {'type': 'node', 'id': 1059560518, 'lat': 48.1402606, 'lon': 11.5754284},\n",
       "  {'type': 'node', 'id': 1059560551, 'lat': 48.1400315, 'lon': 11.5757792},\n",
       "  {'type': 'node', 'id': 1059560558, 'lat': 48.1396254, 'lon': 11.5750145},\n",
       "  {'type': 'node', 'id': 1059560562, 'lat': 48.1401139, 'lon': 11.5748229},\n",
       "  {'type': 'node', 'id': 1059560581, 'lat': 48.1397977, 'lon': 11.5754925},\n",
       "  {'type': 'node', 'id': 1059560582, 'lat': 48.1401438, 'lon': 11.5748387},\n",
       "  {'type': 'node', 'id': 1059560603, 'lat': 48.1406553, 'lon': 11.5752065},\n",
       "  {'type': 'node', 'id': 1059560604, 'lat': 48.1404417, 'lon': 11.5746248},\n",
       "  {'type': 'node', 'id': 1059560617, 'lat': 48.1399665, 'lon': 11.5752012},\n",
       "  {'type': 'node', 'id': 1059560618, 'lat': 48.1400117, 'lon': 11.57476},\n",
       "  {'type': 'node', 'id': 1059560622, 'lat': 48.1397832, 'lon': 11.5758724},\n",
       "  {'type': 'node', 'id': 1059560634, 'lat': 48.1397638, 'lon': 11.5756228},\n",
       "  {'type': 'node', 'id': 1059560650, 'lat': 48.1405813, 'lon': 11.5763079},\n",
       "  {'type': 'node', 'id': 1059560671, 'lat': 48.1395243, 'lon': 11.5757355},\n",
       "  {'type': 'node', 'id': 1059560675, 'lat': 48.1400095, 'lon': 11.5750522},\n",
       "  {'type': 'node', 'id': 1059560705, 'lat': 48.1401559, 'lon': 11.575364},\n",
       "  {'type': 'node', 'id': 1059560712, 'lat': 48.1399463, 'lon': 11.5754762},\n",
       "  {'type': 'node', 'id': 1059560725, 'lat': 48.139912, 'lon': 11.5759282},\n",
       "  {'type': 'node', 'id': 1059560731, 'lat': 48.1398741, 'lon': 11.5751776},\n",
       "  {'type': 'node', 'id': 1059560747, 'lat': 48.1399849, 'lon': 11.5751408},\n",
       "  {'type': 'node', 'id': 1059560754, 'lat': 48.1400787, 'lon': 11.57532},\n",
       "  {'type': 'node', 'id': 1059560762, 'lat': 48.1398195, 'lon': 11.5748603},\n",
       "  {'type': 'node', 'id': 1059560780, 'lat': 48.1405089, 'lon': 11.5756784},\n",
       "  {'type': 'node', 'id': 1059560793, 'lat': 48.1399996, 'lon': 11.5752713},\n",
       "  {'type': 'node', 'id': 1059560802, 'lat': 48.139885, 'lon': 11.5756941},\n",
       "  {'type': 'node', 'id': 1059560830, 'lat': 48.1398473, 'lon': 11.5752809},\n",
       "  {'type': 'node', 'id': 1059560831, 'lat': 48.1401595, 'lon': 11.5747659},\n",
       "  {'type': 'node', 'id': 1059560846, 'lat': 48.1401725, 'lon': 11.5749703},\n",
       "  {'type': 'node', 'id': 1059560862, 'lat': 48.1396905, 'lon': 11.5747653},\n",
       "  {'type': 'node', 'id': 1059560885, 'lat': 48.1401422, 'lon': 11.5747211},\n",
       "  {'type': 'node', 'id': 1059560900, 'lat': 48.1398386, 'lon': 11.5756664},\n",
       "  {'type': 'node', 'id': 1059560944, 'lat': 48.1406378, 'lon': 11.5760986},\n",
       "  {'type': 'node', 'id': 1080582499, 'lat': 48.1399942, 'lon': 11.5767229},\n",
       "  {'type': 'node', 'id': 1080582508, 'lat': 48.1400331, 'lon': 11.5770966},\n",
       "  {'type': 'node', 'id': 1080582517, 'lat': 48.1399283, 'lon': 11.5767799},\n",
       "  {'type': 'node', 'id': 1080582648, 'lat': 48.1399827, 'lon': 11.5770905},\n",
       "  {'type': 'node', 'id': 1080582782, 'lat': 48.1400608, 'lon': 11.5769355},\n",
       "  {'type': 'node', 'id': 1080582827, 'lat': 48.1400059, 'lon': 11.5773655},\n",
       "  {'type': 'node', 'id': 1080582857, 'lat': 48.1399028, 'lon': 11.5767055},\n",
       "  {'type': 'node', 'id': 1080582872, 'lat': 48.1399371, 'lon': 11.5767118},\n",
       "  {'type': 'node', 'id': 1080582910, 'lat': 48.1400866, 'lon': 11.5767532},\n",
       "  {'type': 'node', 'id': 1080582943, 'lat': 48.1398662, 'lon': 11.5766925},\n",
       "  {'type': 'node', 'id': 1080582966, 'lat': 48.1399806, 'lon': 11.5767951},\n",
       "  {'type': 'node', 'id': 1080583021, 'lat': 48.1398949, 'lon': 11.5765299},\n",
       "  {'type': 'node', 'id': 1080583040, 'lat': 48.1399973, 'lon': 11.5769459},\n",
       "  {'type': 'node', 'id': 1080583055, 'lat': 48.1400063, 'lon': 11.5769189},\n",
       "  {'type': 'node', 'id': 1080583105, 'lat': 48.1399286, 'lon': 11.5765419},\n",
       "  {'type': 'node', 'id': 1080583117, 'lat': 48.1399051, 'lon': 11.5769286},\n",
       "  {'type': 'node', 'id': 1121737088, 'lat': 48.1395655, 'lon': 11.5767063},\n",
       "  {'type': 'node', 'id': 1121737090, 'lat': 48.13957, 'lon': 11.5766771},\n",
       "  {'type': 'node', 'id': 1121737112, 'lat': 48.1394816, 'lon': 11.5756669},\n",
       "  {'type': 'node', 'id': 1121737116, 'lat': 48.1394972, 'lon': 11.5757075},\n",
       "  {'type': 'node', 'id': 2214481297, 'lat': 48.1397977, 'lon': 11.5764053},\n",
       "  {'type': 'node', 'id': 2285922446, 'lat': 48.1395941, 'lon': 11.5746047},\n",
       "  {'type': 'node', 'id': 2285922449, 'lat': 48.1396938, 'lon': 11.5771745},\n",
       "  {'type': 'node', 'id': 2285922451, 'lat': 48.1397599, 'lon': 11.5773389},\n",
       "  {'type': 'node', 'id': 2498525330, 'lat': 48.1395745, 'lon': 11.5746811},\n",
       "  {'type': 'node', 'id': 2699063552, 'lat': 48.1397638, 'lon': 11.5766563},\n",
       "  {'type': 'node', 'id': 2699063554, 'lat': 48.1398203, 'lon': 11.5749419},\n",
       "  {'type': 'node', 'id': 2699063556, 'lat': 48.13985, 'lon': 11.574835},\n",
       "  {'type': 'node', 'id': 2830215514, 'lat': 48.1398969, 'lon': 11.5773533},\n",
       "  {'type': 'node', 'id': 2830215556, 'lat': 48.1399844, 'lon': 11.577363},\n",
       "  {'type': 'node', 'id': 3652562495, 'lat': 48.1396438, 'lon': 11.5763788},\n",
       "  {'type': 'node', 'id': 3652562496, 'lat': 48.1399064, 'lon': 11.5764594},\n",
       "  {'type': 'node', 'id': 3652562497, 'lat': 48.1400359, 'lon': 11.5762436},\n",
       "  {'type': 'node', 'id': 3689034551, 'lat': 48.1394866, 'lon': 11.5756855},\n",
       "  {'type': 'node', 'id': 3689034593, 'lat': 48.1403708, 'lon': 11.5761884},\n",
       "  {'type': 'node', 'id': 3720343410, 'lat': 48.1400288, 'lon': 11.5771393},\n",
       "  {'type': 'node', 'id': 3890230577, 'lat': 48.1401273, 'lon': 11.5750481},\n",
       "  {'type': 'node', 'id': 3936361490, 'lat': 48.1400865, 'lon': 11.5758106},\n",
       "  {'type': 'node', 'id': 5157560097, 'lat': 48.1394915, 'lon': 11.5745455},\n",
       "  {'type': 'node', 'id': 6149588458, 'lat': 48.1397711, 'lon': 11.5751038},\n",
       "  {'type': 'node', 'id': 6149588459, 'lat': 48.1397863, 'lon': 11.5750509},\n",
       "  {'type': 'node', 'id': 6149588460, 'lat': 48.1398158, 'lon': 11.575065},\n",
       "  {'type': 'node', 'id': 6149588461, 'lat': 48.1398015, 'lon': 11.5751313},\n",
       "  {'type': 'node', 'id': 6149612641, 'lat': 48.1400784, 'lon': 11.5768113},\n",
       "  {'type': 'node', 'id': 6149612643, 'lat': 48.139995, 'lon': 11.5764842},\n",
       "  {'type': 'node', 'id': 6149612644, 'lat': 48.1399839, 'lon': 11.5769432},\n",
       "  {'type': 'node', 'id': 6149612648, 'lat': 48.14005, 'lon': 11.5767412},\n",
       "  {'type': 'node', 'id': 6149612649, 'lat': 48.139983, 'lon': 11.5767825},\n",
       "  {'type': 'node', 'id': 6149612650, 'lat': 48.1400053, 'lon': 11.5770932},\n",
       "  {'type': 'node', 'id': 6149612651, 'lat': 48.1400251, 'lon': 11.5769246},\n",
       "  {'type': 'node', 'id': 10180538988, 'lat': 48.1395054, 'lon': 11.5754738},\n",
       "  {'type': 'node', 'id': 11030763823, 'lat': 48.1405141, 'lon': 11.5760201},\n",
       "  {'type': 'node', 'id': 11900449258, 'lat': 48.1395101, 'lon': 11.5759806},\n",
       "  {'type': 'way',\n",
       "   'id': 4054817,\n",
       "   'nodes': [21486944,\n",
       "    2545258014,\n",
       "    2545258017,\n",
       "    4348232951,\n",
       "    2950486585,\n",
       "    282341977,\n",
       "    21486945,\n",
       "    8220727414,\n",
       "    2950486587,\n",
       "    2950486605,\n",
       "    8220727413,\n",
       "    21486942,\n",
       "    618914977,\n",
       "    2950486612,\n",
       "    4348232954,\n",
       "    2950486614,\n",
       "    21486943,\n",
       "    2950486613,\n",
       "    21486944]},\n",
       "  {'type': 'way',\n",
       "   'id': 23632633,\n",
       "   'nodes': [256017931,\n",
       "    5727891509,\n",
       "    2327527226,\n",
       "    2327527223,\n",
       "    2586658038,\n",
       "    2327527181,\n",
       "    2327527186,\n",
       "    256017934,\n",
       "    2327527125,\n",
       "    2327527127,\n",
       "    2327527090,\n",
       "    2327527081,\n",
       "    2327527083,\n",
       "    2327527045,\n",
       "    2327527031,\n",
       "    256017933,\n",
       "    2330734954,\n",
       "    2330734955,\n",
       "    2330734960,\n",
       "    2330734969,\n",
       "    2330734979,\n",
       "    2330734991,\n",
       "    2330735001,\n",
       "    2330735009,\n",
       "    2330735019,\n",
       "    2330735031,\n",
       "    2330735038,\n",
       "    2330735049,\n",
       "    2330735058,\n",
       "    2327527035,\n",
       "    2330735075,\n",
       "    2330735084,\n",
       "    1158911965,\n",
       "    7135835428,\n",
       "    2329698153,\n",
       "    1158911942,\n",
       "    2329698149,\n",
       "    2329698148,\n",
       "    2329698150,\n",
       "    7135835427,\n",
       "    2330735089,\n",
       "    7135835426,\n",
       "    2329698165,\n",
       "    2329698163,\n",
       "    2329698166,\n",
       "    2329698168,\n",
       "    2329698173,\n",
       "    2329698174,\n",
       "    1158912010,\n",
       "    2330735094,\n",
       "    1158911987,\n",
       "    2329698206,\n",
       "    2329698208,\n",
       "    1158912068,\n",
       "    256017932,\n",
       "    2329698212,\n",
       "    2329698216,\n",
       "    1158912016,\n",
       "    1158911991,\n",
       "    2327527079,\n",
       "    2518709189,\n",
       "    703294139,\n",
       "    2327527133,\n",
       "    7037043111,\n",
       "    2327527214,\n",
       "    256017931]},\n",
       "  {'type': 'way',\n",
       "   'id': 30608708,\n",
       "   'nodes': [338458436,\n",
       "    2545258016,\n",
       "    2545258015,\n",
       "    2545319984,\n",
       "    1128921291,\n",
       "    338458442,\n",
       "    338458445,\n",
       "    338458567,\n",
       "    2810123431,\n",
       "    2810123428,\n",
       "    663977686,\n",
       "    338458451,\n",
       "    338458455,\n",
       "    338458568,\n",
       "    1128921317,\n",
       "    338458457,\n",
       "    338458436]},\n",
       "  {'type': 'way',\n",
       "   'id': 35031257,\n",
       "   'nodes': [410874364,\n",
       "    2545319977,\n",
       "    1121737122,\n",
       "    2545319965,\n",
       "    2545319959,\n",
       "    21486944,\n",
       "    2950486613,\n",
       "    21486943,\n",
       "    2515092926,\n",
       "    410874361,\n",
       "    2515092929,\n",
       "    2373874262,\n",
       "    2373874254,\n",
       "    410874365,\n",
       "    410874369,\n",
       "    1121737041,\n",
       "    410874364]},\n",
       "  {'type': 'way',\n",
       "   'id': 35031259,\n",
       "   'nodes': [410874370, 410874373, 410874372, 410874371, 410874370]},\n",
       "  {'type': 'way',\n",
       "   'id': 35031260,\n",
       "   'nodes': [410874379,\n",
       "    2327527121,\n",
       "    2586658026,\n",
       "    410874376,\n",
       "    2327527106,\n",
       "    2327527102,\n",
       "    410874377,\n",
       "    410874378,\n",
       "    1158912013,\n",
       "    2327527119,\n",
       "    410874379]},\n",
       "  {'type': 'way',\n",
       "   'id': 35031261,\n",
       "   'nodes': [410874380,\n",
       "    2586658034,\n",
       "    410874382,\n",
       "    2327527142,\n",
       "    2327527140,\n",
       "    1158911935,\n",
       "    410874383,\n",
       "    2586658030,\n",
       "    410874381,\n",
       "    410874380]},\n",
       "  {'type': 'way',\n",
       "   'id': 35031262,\n",
       "   'nodes': [410874384,\n",
       "    2327527088,\n",
       "    410874385,\n",
       "    410874386,\n",
       "    1158911973,\n",
       "    1158911998,\n",
       "    410874390,\n",
       "    410874391,\n",
       "    7037043110,\n",
       "    410874387,\n",
       "    2327527159,\n",
       "    2327527152,\n",
       "    2327527131,\n",
       "    2327527138,\n",
       "    410874388,\n",
       "    1158911941,\n",
       "    1158911969,\n",
       "    2327527112,\n",
       "    1158911984,\n",
       "    1158911968,\n",
       "    410874389,\n",
       "    2285922418,\n",
       "    2285922417,\n",
       "    7037043112,\n",
       "    410874384]},\n",
       "  {'type': 'way',\n",
       "   'id': 78592020,\n",
       "   'nodes': [922090770, 922090767, 922090766, 922090768, 922090770]},\n",
       "  {'type': 'way',\n",
       "   'id': 80965534,\n",
       "   'nodes': [944005471,\n",
       "    2498525280,\n",
       "    2868855104,\n",
       "    944005920,\n",
       "    944005790,\n",
       "    944005880,\n",
       "    944005557,\n",
       "    944005668,\n",
       "    2498525289,\n",
       "    944006020,\n",
       "    944005933,\n",
       "    2545258035,\n",
       "    944006007,\n",
       "    7027262412,\n",
       "    944005813,\n",
       "    2546598968,\n",
       "    2546598951,\n",
       "    2810123412,\n",
       "    2810123413,\n",
       "    7027262413,\n",
       "    2810123417,\n",
       "    2546598954,\n",
       "    944005471]},\n",
       "  {'type': 'way',\n",
       "   'id': 178283541,\n",
       "   'nodes': [1886509250,\n",
       "    1886509249,\n",
       "    1886509246,\n",
       "    1886509243,\n",
       "    1886509242,\n",
       "    1886509241,\n",
       "    1886509251,\n",
       "    1886509252,\n",
       "    2868854686,\n",
       "    1886509253,\n",
       "    1886509245,\n",
       "    1886509250]},\n",
       "  {'type': 'way',\n",
       "   'id': 219431688,\n",
       "   'nodes': [2285922422, 2285922421, 2285922420, 2285922424, 2285922422]},\n",
       "  {'type': 'way',\n",
       "   'id': 219431690,\n",
       "   'nodes': [2285922416,\n",
       "    2329698218,\n",
       "    2285922414,\n",
       "    2285922412,\n",
       "    2285922408,\n",
       "    2285922413,\n",
       "    2285922411,\n",
       "    2285922407,\n",
       "    2285922410,\n",
       "    2285922416]},\n",
       "  {'type': 'way',\n",
       "   'id': 291585569,\n",
       "   'nodes': [2950486592,\n",
       "    2950486597,\n",
       "    2950486596,\n",
       "    2950486590,\n",
       "    2950486570,\n",
       "    2950486567,\n",
       "    2950486566,\n",
       "    2950486571,\n",
       "    2950486592]},\n",
       "  {'type': 'way',\n",
       "   'id': 291585572,\n",
       "   'nodes': [2950486595,\n",
       "    2950486599,\n",
       "    2950486598,\n",
       "    2950486593,\n",
       "    2950486568,\n",
       "    2950486564,\n",
       "    2950486565,\n",
       "    2950486569,\n",
       "    2950486595]},\n",
       "  {'type': 'way', 'id': 291585573, 'nodes': [2950486567, 2950486581]},\n",
       "  {'type': 'way', 'id': 291585576, 'nodes': [2950486596, 2950486581]},\n",
       "  {'type': 'way', 'id': 291585579, 'nodes': [2950486590, 2950486581]},\n",
       "  {'type': 'way', 'id': 291585580, 'nodes': [2950486597, 2950486581]},\n",
       "  {'type': 'way', 'id': 291585582, 'nodes': [2950486592, 2950486581]},\n",
       "  {'type': 'way', 'id': 291585585, 'nodes': [2950486571, 2950486581]},\n",
       "  {'type': 'way', 'id': 291585586, 'nodes': [2950486566, 2950486581]},\n",
       "  {'type': 'way', 'id': 291585587, 'nodes': [2950486570, 2950486581]},\n",
       "  {'type': 'way',\n",
       "   'id': 444984116,\n",
       "   'nodes': [2868855106,\n",
       "    2830081095,\n",
       "    7027262415,\n",
       "    6939257860,\n",
       "    2546598958,\n",
       "    2830081073,\n",
       "    944005460,\n",
       "    6939257861,\n",
       "    7027262414,\n",
       "    2830081089,\n",
       "    944005648,\n",
       "    2868855106]}]}"
      ]
     },
     "execution_count": 24,
     "metadata": {},
     "output_type": "execute_result"
    }
   ],
   "source": [
    "data"
   ]
  },
  {
   "cell_type": "code",
   "execution_count": 25,
   "metadata": {},
   "outputs": [
    {
     "data": {
      "text/plain": [
       "dict_keys(['version', 'generator', 'osm3s', 'elements'])"
      ]
     },
     "execution_count": 25,
     "metadata": {},
     "output_type": "execute_result"
    }
   ],
   "source": [
    "data.keys()"
   ]
  },
  {
   "cell_type": "code",
   "execution_count": null,
   "metadata": {},
   "outputs": [],
   "source": []
  }
 ],
 "metadata": {
  "kernelspec": {
   "display_name": "roof-analysis-dk_NSQeX-py3.12",
   "language": "python",
   "name": "python3"
  },
  "language_info": {
   "codemirror_mode": {
    "name": "ipython",
    "version": 3
   },
   "file_extension": ".py",
   "mimetype": "text/x-python",
   "name": "python",
   "nbconvert_exporter": "python",
   "pygments_lexer": "ipython3",
   "version": "3.12.7"
  }
 },
 "nbformat": 4,
 "nbformat_minor": 2
}
