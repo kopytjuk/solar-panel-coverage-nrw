{
 "cells": [
  {
   "cell_type": "code",
   "execution_count": 7,
   "metadata": {},
   "outputs": [],
   "source": [
    "import ultralytics\n",
    "from ultralytics.models"
   ]
  },
  {
   "cell_type": "code",
   "execution_count": 9,
   "metadata": {},
   "outputs": [
    {
     "data": {
      "text/plain": [
       "['ASSETS',\n",
       " 'FastSAM',\n",
       " 'NAS',\n",
       " 'RTDETR',\n",
       " 'SAM',\n",
       " 'SETTINGS',\n",
       " 'YOLO',\n",
       " 'YOLOWorld',\n",
       " '__all__',\n",
       " '__builtins__',\n",
       " '__cached__',\n",
       " '__doc__',\n",
       " '__file__',\n",
       " '__loader__',\n",
       " '__name__',\n",
       " '__package__',\n",
       " '__path__',\n",
       " '__spec__',\n",
       " '__version__',\n",
       " 'cfg',\n",
       " 'checks',\n",
       " 'data',\n",
       " 'download',\n",
       " 'engine',\n",
       " 'hub',\n",
       " 'models',\n",
       " 'nn',\n",
       " 'os',\n",
       " 'settings',\n",
       " 'utils']"
      ]
     },
     "execution_count": 9,
     "metadata": {},
     "output_type": "execute_result"
    }
   ],
   "source": [
    "dir(ultralytics)"
   ]
  },
  {
   "cell_type": "code",
   "execution_count": 6,
   "metadata": {},
   "outputs": [
    {
     "ename": "ImportError",
     "evalue": "cannot import name 'YOLOv8s' from 'ultralytics' (/Users/kopytjuk/Library/Caches/pypoetry/virtualenvs/roof-analysis-dk_NSQeX-py3.12/lib/python3.12/site-packages/ultralytics/__init__.py)",
     "output_type": "error",
     "traceback": [
      "\u001b[0;31m---------------------------------------------------------------------------\u001b[0m",
      "\u001b[0;31mImportError\u001b[0m                               Traceback (most recent call last)",
      "Cell \u001b[0;32mIn[6], line 1\u001b[0m\n\u001b[0;32m----> 1\u001b[0m \u001b[38;5;28;01mfrom\u001b[39;00m\u001b[38;5;250m \u001b[39m\u001b[38;5;21;01multralytics\u001b[39;00m\u001b[38;5;250m \u001b[39m\u001b[38;5;28;01mimport\u001b[39;00m YOLOv8s\n",
      "\u001b[0;31mImportError\u001b[0m: cannot import name 'YOLOv8s' from 'ultralytics' (/Users/kopytjuk/Library/Caches/pypoetry/virtualenvs/roof-analysis-dk_NSQeX-py3.12/lib/python3.12/site-packages/ultralytics/__init__.py)"
     ]
    }
   ],
   "source": [
    "from ultralytics import YOLOv8s"
   ]
  },
  {
   "cell_type": "code",
   "execution_count": 1,
   "metadata": {},
   "outputs": [
    {
     "ename": "NameError",
     "evalue": "name 'YOLOvv8' is not defined",
     "output_type": "error",
     "traceback": [
      "\u001b[0;31m---------------------------------------------------------------------------\u001b[0m",
      "\u001b[0;31mNameError\u001b[0m                                 Traceback (most recent call last)",
      "Cell \u001b[0;32mIn[1], line 1\u001b[0m\n\u001b[0;32m----> 1\u001b[0m model \u001b[38;5;241m=\u001b[39m \u001b[43mYOLOvv8\u001b[49m\u001b[38;5;241m.\u001b[39mfrom_pretrained(\u001b[38;5;124m\"\u001b[39m\u001b[38;5;124mfinloop/yolov8s-seg-solar-panels\u001b[39m\u001b[38;5;124m\"\u001b[39m)\n",
      "\u001b[0;31mNameError\u001b[0m: name 'YOLOvv8' is not defined"
     ]
    }
   ],
   "source": [
    "model = YOLOvv8.from_pretrained(\"finloop/yolov8s-seg-solar-panels\")"
   ]
  },
  {
   "cell_type": "code",
   "execution_count": null,
   "metadata": {},
   "outputs": [],
   "source": [
    "source = 'data/example_roof_solar.png'\n",
    "model.predict(source=source, save=True)"
   ]
  }
 ],
 "metadata": {
  "kernelspec": {
   "display_name": "roof-analysis-dk_NSQeX-py3.12",
   "language": "python",
   "name": "python3"
  },
  "language_info": {
   "codemirror_mode": {
    "name": "ipython",
    "version": 3
   },
   "file_extension": ".py",
   "mimetype": "text/x-python",
   "name": "python",
   "nbconvert_exporter": "python",
   "pygments_lexer": "ipython3",
   "version": "3.12.7"
  }
 },
 "nbformat": 4,
 "nbformat_minor": 2
}
