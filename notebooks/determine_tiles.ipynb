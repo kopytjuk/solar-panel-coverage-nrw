{
 "cells": [
  {
   "cell_type": "markdown",
   "metadata": {},
   "source": [
    "# Determine tiles\n",
    "\n",
    "Notebook used to identify the right tiles to get data for a single area (e.g. area of a village)"
   ]
  },
  {
   "cell_type": "code",
   "execution_count": 1,
   "metadata": {},
   "outputs": [],
   "source": [
    "import pandas as pd\n",
    "\n",
    "import shapely\n",
    "\n",
    "from utils import TileManager\n",
    "from utils import transform_wgs84_to_utm32N\n",
    "from utils.opengeodata_nrw import DatasetType"
   ]
  },
  {
   "cell_type": "markdown",
   "metadata": {},
   "source": [
    "## Define bounding box\n",
    "\n",
    "By providing south-west (sw) and north-east (ne) coordinates"
   ]
  },
  {
   "cell_type": "code",
   "execution_count": 2,
   "metadata": {},
   "outputs": [],
   "source": [
    "# Münster\n",
    "\n",
    "sw = 51.894032, 7.537936\n",
    "ne = 52.014068, 7.734677\n"
   ]
  },
  {
   "cell_type": "code",
   "execution_count": 3,
   "metadata": {},
   "outputs": [],
   "source": [
    "# Vlatten\n",
    "\n",
    "sw = 50.641370, 6.535203\n",
    "ne = 50.659209, 6.558460\n"
   ]
  },
  {
   "cell_type": "code",
   "execution_count": 4,
   "metadata": {},
   "outputs": [],
   "source": [
    "# Vettweiß\n",
    "\n",
    "sw = 50.729132, 6.587433\n",
    "ne = 50.749147, 6.613273\n"
   ]
  },
  {
   "cell_type": "code",
   "execution_count": 5,
   "metadata": {},
   "outputs": [],
   "source": [
    "# Titz, NRW\n",
    "\n",
    "sw = 50.998204, 6.415980\n",
    "ne = 51.014281, 6.435803\n",
    "\n"
   ]
  },
  {
   "cell_type": "code",
   "execution_count": 6,
   "metadata": {},
   "outputs": [],
   "source": [
    "sw = sw[::-1]\n",
    "sw = shapely.Point(sw)\n",
    "\n",
    "ne = ne[::-1]\n",
    "ne = shapely.Point(ne)"
   ]
  },
  {
   "cell_type": "code",
   "execution_count": 7,
   "metadata": {},
   "outputs": [],
   "source": [
    "sw_utm = transform_wgs84_to_utm32N(sw)\n",
    "ne_utm = transform_wgs84_to_utm32N(ne)"
   ]
  },
  {
   "cell_type": "code",
   "execution_count": 8,
   "metadata": {},
   "outputs": [],
   "source": [
    "tm = TileManager.from_html_extraction_result(\"/Users/kopytjuk/Code/roof-analysis/data/aerial_images.csv\", tile_type=DatasetType.AERIAL_IMAGE)"
   ]
  },
  {
   "cell_type": "code",
   "execution_count": 9,
   "metadata": {},
   "outputs": [],
   "source": [
    "tiles = tm.get_tiles_intersecting(shapely.box(sw_utm.x, sw_utm.y, ne_utm.x, ne_utm.y))"
   ]
  },
  {
   "cell_type": "code",
   "execution_count": 10,
   "metadata": {},
   "outputs": [
    {
     "name": "stdout",
     "output_type": "stream",
     "text": [
      "['318_5652_1', '318_5653_1', '318_5654_1', '319_5652_1', '319_5653_1', '319_5654_1', '320_5652_1', '320_5653_1', '320_5654_1']\n"
     ]
    }
   ],
   "source": [
    "tile_names = [tile.split('_')[2] + '_' + tile.split('_')[3] + '_' + tile.split('_')[4] for tile in tiles]\n",
    "print(tile_names)"
   ]
  },
  {
   "cell_type": "code",
   "execution_count": 11,
   "metadata": {},
   "outputs": [
    {
     "name": "stdout",
     "output_type": "stream",
     "text": [
      "(\"318_5652_1\" \"318_5653_1\" \"318_5654_1\" \"319_5652_1\" \"319_5653_1\" \"319_5654_1\" \"320_5652_1\" \"320_5653_1\" \"320_5654_1\")\n"
     ]
    }
   ],
   "source": [
    "# paste the following into the TILES=(...) in the bash script `run_full_pipeline.sh`\n",
    "print(\"(\" + \" \".join(f\"\\\"{s}\\\"\" for s in tile_names) +\")\")"
   ]
  },
  {
   "cell_type": "markdown",
   "metadata": {},
   "source": [
    "This string can be copied into `scripts/run_full_pipeline.sh` into `TILES` variable."
   ]
  },
  {
   "cell_type": "code",
   "execution_count": null,
   "metadata": {},
   "outputs": [],
   "source": []
  }
 ],
 "metadata": {
  "kernelspec": {
   "display_name": "roof-analysis-dk_NSQeX-py3.12",
   "language": "python",
   "name": "python3"
  },
  "language_info": {
   "codemirror_mode": {
    "name": "ipython",
    "version": 3
   },
   "file_extension": ".py",
   "mimetype": "text/x-python",
   "name": "python",
   "nbconvert_exporter": "python",
   "pygments_lexer": "ipython3",
   "version": "3.12.7"
  }
 },
 "nbformat": 4,
 "nbformat_minor": 2
}
